{
 "cells": [
  {
   "cell_type": "code",
   "execution_count": 1,
   "metadata": {
    "collapsed": false
   },
   "outputs": [],
   "source": [
    "from __future__ import unicode_literals\n",
    "\n",
    "import sys\n",
    "from os.path import join as pjoin\n",
    "import pandas as pd\n",
    "from pandas import DataFrame, Series\n",
    "from boltons.fileutils import mkdir_p\n",
    "\n",
    "sys.path.append('..')  # To locate camelid\n",
    "from camelid.run import CamelidEnv"
   ]
  },
  {
   "cell_type": "markdown",
   "metadata": {},
   "source": [
    "# CASRN - PubChem CID alignment workflow\n",
    "\n",
    "This is based on the earlier notebook `CML CASRN-CID alignment homework.ipynb`, and is a prototype for an almost-fully automated process.\n",
    "\n",
    "## Goal\n",
    "\n",
    "Take the output from PubChem ID Exchange conversion of all CASRNs in the CML into CIDs, and determine whether each association is acceptable to use as a more-or-less definitive mapping, or requires further resolution.\n",
    "\n",
    "This program categorizes ID associations as:\n",
    "\n",
    "- **resolved (1:1)** - 1:1 mappings\n",
    "- **resolved (1:n)** - 1:n CASRN:CID where all substances in the group share the same structural skeleton.\n",
    "- **unresolved (1:n)** - 1:n CASRN:CID mappings where there are different \n",
    "- **unresolved (n:m)** - n:m CASRN:CID mappings where n > 1.\n",
    "\n",
    "## Data source\n",
    "\n",
    "1. List of CASRN that need to be mapped onto to PubChem CIDs.\n",
    "\n",
    "2. CASRN:CID mappings output from PubChem. This dataset needs to be created by doing the following:\n",
    "    - Upload the CASRN list into [PubChem ID Exchange](https://pubchem.ncbi.nlm.nih.gov/idexchange/idexchange.cgi), with the following settings:\n",
    "        - **Input ID List: Synonyms; choose file** `base_casrn` or what have you.\n",
    "        - Operator type: Same CID\n",
    "        - **Output IDs: CIDs**\n",
    "        - Output method: Two column...\n",
    "        - Compression: Gzip\n",
    "\n",
    "    Save the resulting file, for example, in `cmlbase/data/casrn_cid.gz` and unzip it: `gzip -d casrn_cid.gz` to get a file simply called `casrn_cid`. It should be a simple tab-separated value file.\n",
    "\n",
    "3. CID:InChIKey mappings from PubChem, for the CIDs that are included in the above dataset. To get this:\n",
    "    - Create a text file containing a list of just the CIDs from the CASRN:CID mappings. This can be done by importing the list as a spreadsheet and selecting only the CID column, or by running:\n",
    "        `awk -F '\\t' '{print $2}' casrn_cid > cids`.\n",
    "    - Upload the CID list into [PubChem ID Exchange](https://pubchem.ncbi.nlm.nih.gov/idexchange/idexchange.cgi), with the following settings:\n",
    "        - **Input ID List: CIDs; choose file** `cids` or what have you.\n",
    "        - Operator type: Same CID\n",
    "        - **Output IDs: InChIKeys**\n",
    "        - Output method: Two column...\n",
    "        - Compression: Gzip\n",
    "\n",
    "    Save the resulting file, for example, in `cmlbase/data/cid_inchikey.gz` and unzip it: `gzip -d cid_inchikey.gz` to get a file simply called `cid_inchikey`. It should be a simple tab-separated value file.\n",
    "\n",
    "# Setup\n",
    "\n",
    "Create a camelid environment to store data, results, and logs. Specify path to input file."
   ]
  },
  {
   "cell_type": "code",
   "execution_count": 2,
   "metadata": {
    "collapsed": false,
    "scrolled": true
   },
   "outputs": [
    {
     "name": "stdout",
     "output_type": "stream",
     "text": [
      "2017-01-13 17:44:31,792 camelid INFO Project path: /opt/akokai/data/camelid/cmlbase\n"
     ]
    }
   ],
   "source": [
    "env = CamelidEnv(project='cmlbase')\n",
    "CASRN_CID_FILE = pjoin(env.data_path, 'casrn_cid')\n",
    "CID_INCHIKEY_FILE = pjoin(env.data_path, 'cid_inchikey')"
   ]
  },
  {
   "cell_type": "markdown",
   "metadata": {},
   "source": [
    "# Step 0. Combine data sources into a DataFrame\n",
    "\n",
    "Create a DataFrame `ids` from the CASRN:CIDs correspondences, which will be subject to further analysis.\n",
    "- Eliminate null values which result from absence of a match in PubChem ID Exchange.\n",
    "- Drop duplicates.\n",
    "- Sort by CASRN and CID (not necessary, just makes it neater)."
   ]
  },
  {
   "cell_type": "code",
   "execution_count": 3,
   "metadata": {
    "collapsed": false
   },
   "outputs": [
    {
     "name": "stdout",
     "output_type": "stream",
     "text": [
      "37336 initial CASRN:CID correspondences\n"
     ]
    },
    {
     "data": {
      "text/html": [
       "<div>\n",
       "<table border=\"1\" class=\"dataframe\">\n",
       "  <thead>\n",
       "    <tr style=\"text-align: right;\">\n",
       "      <th></th>\n",
       "      <th>CASRN</th>\n",
       "      <th>CID</th>\n",
       "    </tr>\n",
       "  </thead>\n",
       "  <tbody>\n",
       "    <tr>\n",
       "      <th>0</th>\n",
       "      <td>100-00-5</td>\n",
       "      <td>7474</td>\n",
       "    </tr>\n",
       "    <tr>\n",
       "      <th>1</th>\n",
       "      <td>100-01-6</td>\n",
       "      <td>7475</td>\n",
       "    </tr>\n",
       "    <tr>\n",
       "      <th>2</th>\n",
       "      <td>100-02-7</td>\n",
       "      <td>980</td>\n",
       "    </tr>\n",
       "    <tr>\n",
       "      <th>3</th>\n",
       "      <td>100-06-1</td>\n",
       "      <td>7476</td>\n",
       "    </tr>\n",
       "    <tr>\n",
       "      <th>4</th>\n",
       "      <td>100-07-2</td>\n",
       "      <td>7477</td>\n",
       "    </tr>\n",
       "  </tbody>\n",
       "</table>\n",
       "</div>"
      ],
      "text/plain": [
       "      CASRN   CID\n",
       "0  100-00-5  7474\n",
       "1  100-01-6  7475\n",
       "2  100-02-7   980\n",
       "3  100-06-1  7476\n",
       "4  100-07-2  7477"
      ]
     },
     "execution_count": 3,
     "metadata": {},
     "output_type": "execute_result"
    }
   ],
   "source": [
    "ids = pd.read_table(CASRN_CID_FILE, sep='\\t', names=['CASRN', 'CID'], dtype=str)\n",
    "ids = ids.dropna().drop_duplicates().sort_values(by=['CASRN', 'CID']).reset_index(drop=True)\n",
    "print(len(ids), \"initial CASRN:CID correspondences\")\n",
    "ids.head()"
   ]
  },
  {
   "cell_type": "markdown",
   "metadata": {},
   "source": [
    "## Add a status column\n",
    "\n",
    "The value of `status` will distinguish different levels of confidence in the mappings, based on the analysis below."
   ]
  },
  {
   "cell_type": "code",
   "execution_count": 4,
   "metadata": {
    "collapsed": false
   },
   "outputs": [],
   "source": [
    "ids.insert(2, 'status', None)"
   ]
  },
  {
   "cell_type": "markdown",
   "metadata": {},
   "source": [
    "## Add InChIKeys\n",
    "\n",
    "Create another DataFrame of CID:InChIKey mappings; likewise eliminate null values and drop duplicates. We will only be using this DataFrame to map InChIKeys onto the CIDs in the `ids` table."
   ]
  },
  {
   "cell_type": "code",
   "execution_count": 5,
   "metadata": {
    "collapsed": false
   },
   "outputs": [
    {
     "name": "stdout",
     "output_type": "stream",
     "text": [
      "35944 CID:InChIKey mappings\n"
     ]
    },
    {
     "data": {
      "text/html": [
       "<div>\n",
       "<table border=\"1\" class=\"dataframe\">\n",
       "  <thead>\n",
       "    <tr style=\"text-align: right;\">\n",
       "      <th></th>\n",
       "      <th>CID</th>\n",
       "      <th>inchikey</th>\n",
       "    </tr>\n",
       "  </thead>\n",
       "  <tbody>\n",
       "    <tr>\n",
       "      <th>0</th>\n",
       "      <td>80101</td>\n",
       "      <td>YAWYUSRBDMEKHZ-UHFFFAOYSA-N</td>\n",
       "    </tr>\n",
       "    <tr>\n",
       "      <th>1</th>\n",
       "      <td>8779</td>\n",
       "      <td>LQPLDXQVILYOOL-UHFFFAOYSA-I</td>\n",
       "    </tr>\n",
       "    <tr>\n",
       "      <th>2</th>\n",
       "      <td>85128</td>\n",
       "      <td>DUYCTCQXNHFCSJ-UHFFFAOYSA-N</td>\n",
       "    </tr>\n",
       "    <tr>\n",
       "      <th>3</th>\n",
       "      <td>32611</td>\n",
       "      <td>LCZVSXRMYJUNFX-UHFFFAOYSA-N</td>\n",
       "    </tr>\n",
       "    <tr>\n",
       "      <th>4</th>\n",
       "      <td>16640</td>\n",
       "      <td>KFUSXMDYOPXKKT-UHFFFAOYSA-N</td>\n",
       "    </tr>\n",
       "  </tbody>\n",
       "</table>\n",
       "</div>"
      ],
      "text/plain": [
       "     CID                     inchikey\n",
       "0  80101  YAWYUSRBDMEKHZ-UHFFFAOYSA-N\n",
       "1   8779  LQPLDXQVILYOOL-UHFFFAOYSA-I\n",
       "2  85128  DUYCTCQXNHFCSJ-UHFFFAOYSA-N\n",
       "3  32611  LCZVSXRMYJUNFX-UHFFFAOYSA-N\n",
       "4  16640  KFUSXMDYOPXKKT-UHFFFAOYSA-N"
      ]
     },
     "execution_count": 5,
     "metadata": {},
     "output_type": "execute_result"
    }
   ],
   "source": [
    "cid_inchikey = pd.read_table(CID_INCHIKEY_FILE, sep='\\t', names=['CID', 'inchikey'], dtype=str)\n",
    "cid_inchikey = cid_inchikey.dropna().drop_duplicates()\n",
    "print(len(cid_inchikey), 'CID:InChIKey mappings')\n",
    "cid_inchikey.head()"
   ]
  },
  {
   "cell_type": "markdown",
   "metadata": {},
   "source": [
    "### Map InChIKeys onto CIDs in the main DataFrame"
   ]
  },
  {
   "cell_type": "code",
   "execution_count": 6,
   "metadata": {
    "collapsed": false
   },
   "outputs": [
    {
     "name": "stdout",
     "output_type": "stream",
     "text": [
      "37336 identifier correspondences with InChIKeys\n"
     ]
    },
    {
     "data": {
      "text/html": [
       "<div>\n",
       "<table border=\"1\" class=\"dataframe\">\n",
       "  <thead>\n",
       "    <tr style=\"text-align: right;\">\n",
       "      <th></th>\n",
       "      <th>CASRN</th>\n",
       "      <th>CID</th>\n",
       "      <th>status</th>\n",
       "      <th>inchikey</th>\n",
       "    </tr>\n",
       "  </thead>\n",
       "  <tbody>\n",
       "    <tr>\n",
       "      <th>0</th>\n",
       "      <td>100-00-5</td>\n",
       "      <td>7474</td>\n",
       "      <td>None</td>\n",
       "      <td>CZGCEKJOLUNIFY-UHFFFAOYSA-N</td>\n",
       "    </tr>\n",
       "    <tr>\n",
       "      <th>1</th>\n",
       "      <td>100-01-6</td>\n",
       "      <td>7475</td>\n",
       "      <td>None</td>\n",
       "      <td>TYMLOMAKGOJONV-UHFFFAOYSA-N</td>\n",
       "    </tr>\n",
       "    <tr>\n",
       "      <th>2</th>\n",
       "      <td>100-02-7</td>\n",
       "      <td>980</td>\n",
       "      <td>None</td>\n",
       "      <td>BTJIUGUIPKRLHP-UHFFFAOYSA-N</td>\n",
       "    </tr>\n",
       "    <tr>\n",
       "      <th>3</th>\n",
       "      <td>100-06-1</td>\n",
       "      <td>7476</td>\n",
       "      <td>None</td>\n",
       "      <td>NTPLXRHDUXRPNE-UHFFFAOYSA-N</td>\n",
       "    </tr>\n",
       "    <tr>\n",
       "      <th>4</th>\n",
       "      <td>100-07-2</td>\n",
       "      <td>7477</td>\n",
       "      <td>None</td>\n",
       "      <td>MXMOTZIXVICDSD-UHFFFAOYSA-N</td>\n",
       "    </tr>\n",
       "  </tbody>\n",
       "</table>\n",
       "</div>"
      ],
      "text/plain": [
       "      CASRN   CID status                     inchikey\n",
       "0  100-00-5  7474   None  CZGCEKJOLUNIFY-UHFFFAOYSA-N\n",
       "1  100-01-6  7475   None  TYMLOMAKGOJONV-UHFFFAOYSA-N\n",
       "2  100-02-7   980   None  BTJIUGUIPKRLHP-UHFFFAOYSA-N\n",
       "3  100-06-1  7476   None  NTPLXRHDUXRPNE-UHFFFAOYSA-N\n",
       "4  100-07-2  7477   None  MXMOTZIXVICDSD-UHFFFAOYSA-N"
      ]
     },
     "execution_count": 6,
     "metadata": {},
     "output_type": "execute_result"
    }
   ],
   "source": [
    "inchikeys = cid_inchikey.iloc[:,[0,1]]\n",
    "ids = ids.merge(inchikeys, on='CID', how='inner')\n",
    "print(len(ids), \"identifier correspondences with InChIKeys\")\n",
    "ids.head()"
   ]
  },
  {
   "cell_type": "markdown",
   "metadata": {},
   "source": [
    "# Step 1. Find mappings that are already 1:1\n",
    "\n",
    "We will accept as valid all 1:1 CID:CASRN mappings output by PubChem.\n",
    "\n",
    "## Calculate degrees of mapping for each ID\n",
    "\n",
    "Determine which IDs are mapped 1:1, ..., n:m. Compute two values for each row:\n",
    "\n",
    "- For every CASRN, how many CIDs have been associated with that CASRN? Call this `n_cid_casrn`.\n",
    "- For every CID, how many CASRNs have been associated with that CID? Call this `n_casrn_cid`.\n",
    "\n",
    "Compute these values for each *unique* CASRN or CID, and then add the appropriate corresponding value to every (CASRN, CID) row in the DataFrame."
   ]
  },
  {
   "cell_type": "code",
   "execution_count": 7,
   "metadata": {
    "collapsed": false,
    "scrolled": true
   },
   "outputs": [
    {
     "data": {
      "text/html": [
       "<div>\n",
       "<table border=\"1\" class=\"dataframe\">\n",
       "  <thead>\n",
       "    <tr style=\"text-align: right;\">\n",
       "      <th></th>\n",
       "      <th>CASRN</th>\n",
       "      <th>CID</th>\n",
       "      <th>status</th>\n",
       "      <th>inchikey</th>\n",
       "      <th>n_cid_casrn</th>\n",
       "      <th>n_casrn_cid</th>\n",
       "    </tr>\n",
       "  </thead>\n",
       "  <tbody>\n",
       "    <tr>\n",
       "      <th>0</th>\n",
       "      <td>100-00-5</td>\n",
       "      <td>7474</td>\n",
       "      <td>None</td>\n",
       "      <td>CZGCEKJOLUNIFY-UHFFFAOYSA-N</td>\n",
       "      <td>1</td>\n",
       "      <td>1</td>\n",
       "    </tr>\n",
       "    <tr>\n",
       "      <th>1</th>\n",
       "      <td>100-01-6</td>\n",
       "      <td>7475</td>\n",
       "      <td>None</td>\n",
       "      <td>TYMLOMAKGOJONV-UHFFFAOYSA-N</td>\n",
       "      <td>1</td>\n",
       "      <td>1</td>\n",
       "    </tr>\n",
       "    <tr>\n",
       "      <th>2</th>\n",
       "      <td>100-02-7</td>\n",
       "      <td>980</td>\n",
       "      <td>None</td>\n",
       "      <td>BTJIUGUIPKRLHP-UHFFFAOYSA-N</td>\n",
       "      <td>1</td>\n",
       "      <td>1</td>\n",
       "    </tr>\n",
       "    <tr>\n",
       "      <th>3</th>\n",
       "      <td>100-06-1</td>\n",
       "      <td>7476</td>\n",
       "      <td>None</td>\n",
       "      <td>NTPLXRHDUXRPNE-UHFFFAOYSA-N</td>\n",
       "      <td>1</td>\n",
       "      <td>1</td>\n",
       "    </tr>\n",
       "    <tr>\n",
       "      <th>4</th>\n",
       "      <td>100-07-2</td>\n",
       "      <td>7477</td>\n",
       "      <td>None</td>\n",
       "      <td>MXMOTZIXVICDSD-UHFFFAOYSA-N</td>\n",
       "      <td>1</td>\n",
       "      <td>1</td>\n",
       "    </tr>\n",
       "  </tbody>\n",
       "</table>\n",
       "</div>"
      ],
      "text/plain": [
       "      CASRN   CID status                     inchikey  n_cid_casrn  \\\n",
       "0  100-00-5  7474   None  CZGCEKJOLUNIFY-UHFFFAOYSA-N            1   \n",
       "1  100-01-6  7475   None  TYMLOMAKGOJONV-UHFFFAOYSA-N            1   \n",
       "2  100-02-7   980   None  BTJIUGUIPKRLHP-UHFFFAOYSA-N            1   \n",
       "3  100-06-1  7476   None  NTPLXRHDUXRPNE-UHFFFAOYSA-N            1   \n",
       "4  100-07-2  7477   None  MXMOTZIXVICDSD-UHFFFAOYSA-N            1   \n",
       "\n",
       "   n_casrn_cid  \n",
       "0            1  \n",
       "1            1  \n",
       "2            1  \n",
       "3            1  \n",
       "4            1  "
      ]
     },
     "execution_count": 7,
     "metadata": {},
     "output_type": "execute_result"
    }
   ],
   "source": [
    "# Compute number of CIDs for each unique CASRN.\n",
    "n_cid_casrn = ids[['CASRN', 'CID']].groupby('CASRN').count()\n",
    "ids['n_cid_casrn'] = ids['CASRN'].apply(lambda x: n_cid_casrn.loc[x, 'CID'])\n",
    "\n",
    "# Compute number of CASRNs for each unique CID.\n",
    "n_casrn_cid = ids[['CASRN', 'CID']].groupby('CID').count()\n",
    "ids['n_casrn_cid'] = ids['CID'].apply(lambda x: n_casrn_cid.loc[x, 'CASRN'])\n",
    "\n",
    "ids.head()"
   ]
  },
  {
   "cell_type": "markdown",
   "metadata": {},
   "source": [
    "### Plot [optional]\n",
    "\n",
    "Histograms of CAS and CID degrees-of-mapping show that this dataset is predominantly 1:1 mapping."
   ]
  },
  {
   "cell_type": "code",
   "execution_count": 8,
   "metadata": {
    "collapsed": false,
    "scrolled": false
   },
   "outputs": [
    {
     "data": {
      "text/plain": [
       "array([[<matplotlib.axes._subplots.AxesSubplot object at 0x7f1e9c9c4b70>,\n",
       "        <matplotlib.axes._subplots.AxesSubplot object at 0x7f1e996a0dd8>]], dtype=object)"
      ]
     },
     "execution_count": 8,
     "metadata": {},
     "output_type": "execute_result"
    },
    {
     "data": {
      "image/png": "[encoded data removed]",
      "text/plain": [
       "<matplotlib.figure.Figure at 0x7f1e9cc5c898>"
      ]
     },
     "metadata": {},
     "output_type": "display_data"
    }
   ],
   "source": [
    "%matplotlib inline\n",
    "ids.hist(column=['n_cid_casrn', 'n_casrn_cid'])"
   ]
  },
  {
   "cell_type": "markdown",
   "metadata": {},
   "source": [
    "## Identify the 1:1 mappings"
   ]
  },
  {
   "cell_type": "code",
   "execution_count": 9,
   "metadata": {
    "collapsed": false
   },
   "outputs": [
    {
     "name": "stdout",
     "output_type": "stream",
     "text": [
      "28078 1:1 CASRN:CID mappings\n"
     ]
    },
    {
     "data": {
      "text/html": [
       "<div>\n",
       "<table border=\"1\" class=\"dataframe\">\n",
       "  <thead>\n",
       "    <tr style=\"text-align: right;\">\n",
       "      <th></th>\n",
       "      <th>CASRN</th>\n",
       "      <th>CID</th>\n",
       "      <th>status</th>\n",
       "      <th>inchikey</th>\n",
       "      <th>n_cid_casrn</th>\n",
       "      <th>n_casrn_cid</th>\n",
       "    </tr>\n",
       "  </thead>\n",
       "  <tbody>\n",
       "    <tr>\n",
       "      <th>0</th>\n",
       "      <td>100-00-5</td>\n",
       "      <td>7474</td>\n",
       "      <td>resolved (1:1)</td>\n",
       "      <td>CZGCEKJOLUNIFY-UHFFFAOYSA-N</td>\n",
       "      <td>1</td>\n",
       "      <td>1</td>\n",
       "    </tr>\n",
       "    <tr>\n",
       "      <th>1</th>\n",
       "      <td>100-01-6</td>\n",
       "      <td>7475</td>\n",
       "      <td>resolved (1:1)</td>\n",
       "      <td>TYMLOMAKGOJONV-UHFFFAOYSA-N</td>\n",
       "      <td>1</td>\n",
       "      <td>1</td>\n",
       "    </tr>\n",
       "    <tr>\n",
       "      <th>2</th>\n",
       "      <td>100-02-7</td>\n",
       "      <td>980</td>\n",
       "      <td>resolved (1:1)</td>\n",
       "      <td>BTJIUGUIPKRLHP-UHFFFAOYSA-N</td>\n",
       "      <td>1</td>\n",
       "      <td>1</td>\n",
       "    </tr>\n",
       "    <tr>\n",
       "      <th>3</th>\n",
       "      <td>100-06-1</td>\n",
       "      <td>7476</td>\n",
       "      <td>resolved (1:1)</td>\n",
       "      <td>NTPLXRHDUXRPNE-UHFFFAOYSA-N</td>\n",
       "      <td>1</td>\n",
       "      <td>1</td>\n",
       "    </tr>\n",
       "    <tr>\n",
       "      <th>4</th>\n",
       "      <td>100-07-2</td>\n",
       "      <td>7477</td>\n",
       "      <td>resolved (1:1)</td>\n",
       "      <td>MXMOTZIXVICDSD-UHFFFAOYSA-N</td>\n",
       "      <td>1</td>\n",
       "      <td>1</td>\n",
       "    </tr>\n",
       "  </tbody>\n",
       "</table>\n",
       "</div>"
      ],
      "text/plain": [
       "      CASRN   CID          status                     inchikey  n_cid_casrn  \\\n",
       "0  100-00-5  7474  resolved (1:1)  CZGCEKJOLUNIFY-UHFFFAOYSA-N            1   \n",
       "1  100-01-6  7475  resolved (1:1)  TYMLOMAKGOJONV-UHFFFAOYSA-N            1   \n",
       "2  100-02-7   980  resolved (1:1)  BTJIUGUIPKRLHP-UHFFFAOYSA-N            1   \n",
       "3  100-06-1  7476  resolved (1:1)  NTPLXRHDUXRPNE-UHFFFAOYSA-N            1   \n",
       "4  100-07-2  7477  resolved (1:1)  MXMOTZIXVICDSD-UHFFFAOYSA-N            1   \n",
       "\n",
       "   n_casrn_cid  \n",
       "0            1  \n",
       "1            1  \n",
       "2            1  \n",
       "3            1  \n",
       "4            1  "
      ]
     },
     "execution_count": 9,
     "metadata": {},
     "output_type": "execute_result"
    }
   ],
   "source": [
    "# Note: Avoiding assigning slices of DataFrames to variables\n",
    "# (except for the purpose of printing length and showing examples).\n",
    "# Keeping the analysis all inside the one DataFrame makes it easier\n",
    "# and less confusing to produce a single set of results at the end.\n",
    "\n",
    "ids.ix[(ids.n_casrn_cid == 1) & (ids.n_cid_casrn == 1), 'status'] = 'resolved (1:1)'\n",
    "\n",
    "mapped11 = ids[(ids.n_casrn_cid == 1) & (ids.n_cid_casrn == 1)]\n",
    "print(len(mapped11), '1:1 CASRN:CID mappings') \n",
    "mapped11.head()"
   ]
  },
  {
   "cell_type": "markdown",
   "metadata": {},
   "source": [
    "### Plot degrees of remaining n:m correspondences [optional]\n",
    "\n",
    "The rest of the `ids` DataFrame contains associations for which there is either more than one CID, more than one CASRN, or both. Here are histograms of CAS and CID degrees-of-mapping once we have removed 1:1 mappings."
   ]
  },
  {
   "cell_type": "code",
   "execution_count": 10,
   "metadata": {
    "collapsed": false
   },
   "outputs": [
    {
     "data": {
      "text/plain": [
       "array([[<matplotlib.axes._subplots.AxesSubplot object at 0x7f1e995a8e80>,\n",
       "        <matplotlib.axes._subplots.AxesSubplot object at 0x7f1e9950b9e8>]], dtype=object)"
      ]
     },
     "execution_count": 10,
     "metadata": {},
     "output_type": "execute_result"
    },
    {
     "data": {
      "image/png": "[encoded data removed]",
      "text/plain": [
       "<matplotlib.figure.Figure at 0x7f1e9c9dbd68>"
      ]
     },
     "metadata": {},
     "output_type": "display_data"
    }
   ],
   "source": [
    "# %matplotlib inline\n",
    "ids[(ids.n_casrn_cid > 1) | (ids.n_cid_casrn > 1)].hist(column=['n_cid_casrn', 'n_casrn_cid'])"
   ]
  },
  {
   "cell_type": "markdown",
   "metadata": {},
   "source": [
    "# Step 2. Find 1:n CASRN:CID mappings that are structually feasible\n",
    "\n",
    "### Goal\n",
    "\n",
    "Accept CASRN-CID mappings where multiple CIDs were associated to a single CASRN (i.e., none of those CIDs were associated with other CASRNs), *and* all of those CIDs represent compounds having the same structural skeleton (excluding steroisomerism, tautomerism, ionization, etc.).\n",
    "\n",
    "### Selection logic\n",
    "\n",
    "The following test to determines whether to accept a CASRN:CID correspondence:\n",
    "\n",
    "1. the number of CASRNs associated with the CID is 1 (below, `n_casrn_cid == 1`); AND\n",
    "2. the number of unique structural skeletons associated with the CASRN throughout the whole dataset is 1 (below, `n_key_casrn` == 1).\n",
    "\n",
    "### Outline of the code below\n",
    "\n",
    "- Use the pandas `groupby` and `nunique` methods to determine how many unique base structures are associated with each CASRN (via the CIDs).\n",
    "- Apply the selection logic to determine which IDs can be mapped acceptably, and which cannot.\n",
    "\n",
    "## Isolate the structural base layer from each InChIKey\n",
    "\n",
    "Create a new column containing only the first 14 characters of each InChIKey string; see the [InChI Technical FAQ](http://www.inchi-trust.org/technical-faq/) for details."
   ]
  },
  {
   "cell_type": "code",
   "execution_count": 11,
   "metadata": {
    "collapsed": false
   },
   "outputs": [
    {
     "data": {
      "text/html": [
       "<div>\n",
       "<table border=\"1\" class=\"dataframe\">\n",
       "  <thead>\n",
       "    <tr style=\"text-align: right;\">\n",
       "      <th></th>\n",
       "      <th>CASRN</th>\n",
       "      <th>CID</th>\n",
       "      <th>status</th>\n",
       "      <th>inchikey</th>\n",
       "      <th>n_cid_casrn</th>\n",
       "      <th>n_casrn_cid</th>\n",
       "      <th>key</th>\n",
       "    </tr>\n",
       "  </thead>\n",
       "  <tbody>\n",
       "    <tr>\n",
       "      <th>0</th>\n",
       "      <td>100-00-5</td>\n",
       "      <td>7474</td>\n",
       "      <td>resolved (1:1)</td>\n",
       "      <td>CZGCEKJOLUNIFY-UHFFFAOYSA-N</td>\n",
       "      <td>1</td>\n",
       "      <td>1</td>\n",
       "      <td>CZGCEKJOLUNIFY</td>\n",
       "    </tr>\n",
       "    <tr>\n",
       "      <th>1</th>\n",
       "      <td>100-01-6</td>\n",
       "      <td>7475</td>\n",
       "      <td>resolved (1:1)</td>\n",
       "      <td>TYMLOMAKGOJONV-UHFFFAOYSA-N</td>\n",
       "      <td>1</td>\n",
       "      <td>1</td>\n",
       "      <td>TYMLOMAKGOJONV</td>\n",
       "    </tr>\n",
       "    <tr>\n",
       "      <th>2</th>\n",
       "      <td>100-02-7</td>\n",
       "      <td>980</td>\n",
       "      <td>resolved (1:1)</td>\n",
       "      <td>BTJIUGUIPKRLHP-UHFFFAOYSA-N</td>\n",
       "      <td>1</td>\n",
       "      <td>1</td>\n",
       "      <td>BTJIUGUIPKRLHP</td>\n",
       "    </tr>\n",
       "    <tr>\n",
       "      <th>3</th>\n",
       "      <td>100-06-1</td>\n",
       "      <td>7476</td>\n",
       "      <td>resolved (1:1)</td>\n",
       "      <td>NTPLXRHDUXRPNE-UHFFFAOYSA-N</td>\n",
       "      <td>1</td>\n",
       "      <td>1</td>\n",
       "      <td>NTPLXRHDUXRPNE</td>\n",
       "    </tr>\n",
       "    <tr>\n",
       "      <th>4</th>\n",
       "      <td>100-07-2</td>\n",
       "      <td>7477</td>\n",
       "      <td>resolved (1:1)</td>\n",
       "      <td>MXMOTZIXVICDSD-UHFFFAOYSA-N</td>\n",
       "      <td>1</td>\n",
       "      <td>1</td>\n",
       "      <td>MXMOTZIXVICDSD</td>\n",
       "    </tr>\n",
       "  </tbody>\n",
       "</table>\n",
       "</div>"
      ],
      "text/plain": [
       "      CASRN   CID          status                     inchikey  n_cid_casrn  \\\n",
       "0  100-00-5  7474  resolved (1:1)  CZGCEKJOLUNIFY-UHFFFAOYSA-N            1   \n",
       "1  100-01-6  7475  resolved (1:1)  TYMLOMAKGOJONV-UHFFFAOYSA-N            1   \n",
       "2  100-02-7   980  resolved (1:1)  BTJIUGUIPKRLHP-UHFFFAOYSA-N            1   \n",
       "3  100-06-1  7476  resolved (1:1)  NTPLXRHDUXRPNE-UHFFFAOYSA-N            1   \n",
       "4  100-07-2  7477  resolved (1:1)  MXMOTZIXVICDSD-UHFFFAOYSA-N            1   \n",
       "\n",
       "   n_casrn_cid             key  \n",
       "0            1  CZGCEKJOLUNIFY  \n",
       "1            1  TYMLOMAKGOJONV  \n",
       "2            1  BTJIUGUIPKRLHP  \n",
       "3            1  NTPLXRHDUXRPNE  \n",
       "4            1  MXMOTZIXVICDSD  "
      ]
     },
     "execution_count": 11,
     "metadata": {},
     "output_type": "execute_result"
    }
   ],
   "source": [
    "ids['key'] = ids['inchikey'].apply(lambda x: str(x)[:14])\n",
    "ids.head()"
   ]
  },
  {
   "cell_type": "markdown",
   "metadata": {},
   "source": [
    "## Compute number of unique base structures for each group of 1:n CASRN:CIDs\n",
    "\n",
    "For every CASRN, how many unique structural skeletons have been associated with that CASRN in the dataset? Call this number `n_key_casrn`. \n",
    "\n",
    "**This must be computed using the whole dataset! (Not just for the set of 1:n associations.) Otherwise the results are meaningless.**"
   ]
  },
  {
   "cell_type": "code",
   "execution_count": 12,
   "metadata": {
    "collapsed": false,
    "scrolled": true
   },
   "outputs": [
    {
     "data": {
      "text/html": [
       "<div>\n",
       "<table border=\"1\" class=\"dataframe\">\n",
       "  <thead>\n",
       "    <tr style=\"text-align: right;\">\n",
       "      <th></th>\n",
       "      <th>CASRN</th>\n",
       "      <th>CID</th>\n",
       "      <th>status</th>\n",
       "      <th>inchikey</th>\n",
       "      <th>n_cid_casrn</th>\n",
       "      <th>n_casrn_cid</th>\n",
       "      <th>key</th>\n",
       "      <th>n_key_casrn</th>\n",
       "    </tr>\n",
       "  </thead>\n",
       "  <tbody>\n",
       "    <tr>\n",
       "      <th>0</th>\n",
       "      <td>100-00-5</td>\n",
       "      <td>7474</td>\n",
       "      <td>resolved (1:1)</td>\n",
       "      <td>CZGCEKJOLUNIFY-UHFFFAOYSA-N</td>\n",
       "      <td>1</td>\n",
       "      <td>1</td>\n",
       "      <td>CZGCEKJOLUNIFY</td>\n",
       "      <td>1</td>\n",
       "    </tr>\n",
       "    <tr>\n",
       "      <th>1</th>\n",
       "      <td>100-01-6</td>\n",
       "      <td>7475</td>\n",
       "      <td>resolved (1:1)</td>\n",
       "      <td>TYMLOMAKGOJONV-UHFFFAOYSA-N</td>\n",
       "      <td>1</td>\n",
       "      <td>1</td>\n",
       "      <td>TYMLOMAKGOJONV</td>\n",
       "      <td>1</td>\n",
       "    </tr>\n",
       "    <tr>\n",
       "      <th>2</th>\n",
       "      <td>100-02-7</td>\n",
       "      <td>980</td>\n",
       "      <td>resolved (1:1)</td>\n",
       "      <td>BTJIUGUIPKRLHP-UHFFFAOYSA-N</td>\n",
       "      <td>1</td>\n",
       "      <td>1</td>\n",
       "      <td>BTJIUGUIPKRLHP</td>\n",
       "      <td>1</td>\n",
       "    </tr>\n",
       "    <tr>\n",
       "      <th>3</th>\n",
       "      <td>100-06-1</td>\n",
       "      <td>7476</td>\n",
       "      <td>resolved (1:1)</td>\n",
       "      <td>NTPLXRHDUXRPNE-UHFFFAOYSA-N</td>\n",
       "      <td>1</td>\n",
       "      <td>1</td>\n",
       "      <td>NTPLXRHDUXRPNE</td>\n",
       "      <td>1</td>\n",
       "    </tr>\n",
       "    <tr>\n",
       "      <th>4</th>\n",
       "      <td>100-07-2</td>\n",
       "      <td>7477</td>\n",
       "      <td>resolved (1:1)</td>\n",
       "      <td>MXMOTZIXVICDSD-UHFFFAOYSA-N</td>\n",
       "      <td>1</td>\n",
       "      <td>1</td>\n",
       "      <td>MXMOTZIXVICDSD</td>\n",
       "      <td>1</td>\n",
       "    </tr>\n",
       "  </tbody>\n",
       "</table>\n",
       "</div>"
      ],
      "text/plain": [
       "      CASRN   CID          status                     inchikey  n_cid_casrn  \\\n",
       "0  100-00-5  7474  resolved (1:1)  CZGCEKJOLUNIFY-UHFFFAOYSA-N            1   \n",
       "1  100-01-6  7475  resolved (1:1)  TYMLOMAKGOJONV-UHFFFAOYSA-N            1   \n",
       "2  100-02-7   980  resolved (1:1)  BTJIUGUIPKRLHP-UHFFFAOYSA-N            1   \n",
       "3  100-06-1  7476  resolved (1:1)  NTPLXRHDUXRPNE-UHFFFAOYSA-N            1   \n",
       "4  100-07-2  7477  resolved (1:1)  MXMOTZIXVICDSD-UHFFFAOYSA-N            1   \n",
       "\n",
       "   n_casrn_cid             key  n_key_casrn  \n",
       "0            1  CZGCEKJOLUNIFY            1  \n",
       "1            1  TYMLOMAKGOJONV            1  \n",
       "2            1  BTJIUGUIPKRLHP            1  \n",
       "3            1  NTPLXRHDUXRPNE            1  \n",
       "4            1  MXMOTZIXVICDSD            1  "
      ]
     },
     "execution_count": 12,
     "metadata": {},
     "output_type": "execute_result"
    }
   ],
   "source": [
    "n_key_casrn = ids[['CASRN', 'key']].groupby('CASRN')['key'].nunique()\n",
    "ids['n_key_casrn'] = ids['CASRN'].apply(lambda x: n_key_casrn[x])\n",
    "ids.head()"
   ]
  },
  {
   "cell_type": "markdown",
   "metadata": {},
   "source": [
    "### Tell me how many 1:n associations there are in total"
   ]
  },
  {
   "cell_type": "code",
   "execution_count": 13,
   "metadata": {
    "collapsed": false,
    "scrolled": true
   },
   "outputs": [
    {
     "name": "stdout",
     "output_type": "stream",
     "text": [
      "6697 CASRN:CID associations with multiple CIDs\n"
     ]
    }
   ],
   "source": [
    "print(len(ids[(ids.n_casrn_cid == 1) & (ids.n_cid_casrn > 1)]),\n",
    "      'CASRN:CID associations with multiple CIDs')"
   ]
  },
  {
   "cell_type": "markdown",
   "metadata": {},
   "source": [
    "### Plot distribution of number of unique base-structures per CASRN in the 1:n set [optional]"
   ]
  },
  {
   "cell_type": "code",
   "execution_count": 15,
   "metadata": {
    "collapsed": false,
    "scrolled": false
   },
   "outputs": [
    {
     "data": {
      "text/plain": [
       "<matplotlib.axes._subplots.AxesSubplot at 0x7f1e98ff4320>"
      ]
     },
     "execution_count": 15,
     "metadata": {},
     "output_type": "execute_result"
    },
    {
     "data": {
      "image/png": "[encoded data removed]",
      "text/plain": [
       "<matplotlib.figure.Figure at 0x7f1e98fe39e8>"
      ]
     },
     "metadata": {},
     "output_type": "display_data"
    }
   ],
   "source": [
    "ids[(ids.n_casrn_cid == 1) & (ids.n_cid_casrn > 1)].n_key_casrn.hist()"
   ]
  },
  {
   "cell_type": "markdown",
   "metadata": {},
   "source": [
    "Drop the `key` column, which is redundant even for visual inspection."
   ]
  },
  {
   "cell_type": "code",
   "execution_count": 16,
   "metadata": {
    "collapsed": false
   },
   "outputs": [],
   "source": [
    "ids.drop('key', axis=1, inplace=True)"
   ]
  },
  {
   "cell_type": "markdown",
   "metadata": {},
   "source": [
    "## Apply the test condition to find acceptable 1:n mappings"
   ]
  },
  {
   "cell_type": "code",
   "execution_count": 17,
   "metadata": {
    "collapsed": false,
    "scrolled": true
   },
   "outputs": [
    {
     "name": "stdout",
     "output_type": "stream",
     "text": [
      "4936 1:n CASRN:CID associations sharing the same base structure per CASRN\n"
     ]
    },
    {
     "data": {
      "text/html": [
       "<div>\n",
       "<table border=\"1\" class=\"dataframe\">\n",
       "  <thead>\n",
       "    <tr style=\"text-align: right;\">\n",
       "      <th></th>\n",
       "      <th>CASRN</th>\n",
       "      <th>CID</th>\n",
       "      <th>status</th>\n",
       "      <th>inchikey</th>\n",
       "      <th>n_cid_casrn</th>\n",
       "      <th>n_casrn_cid</th>\n",
       "      <th>n_key_casrn</th>\n",
       "    </tr>\n",
       "  </thead>\n",
       "  <tbody>\n",
       "    <tr>\n",
       "      <th>81</th>\n",
       "      <td>10016-20-3</td>\n",
       "      <td>24796</td>\n",
       "      <td>resolved (1:n)</td>\n",
       "      <td>HFHDHCJBZVLPGP-JSPYPFAESA-N</td>\n",
       "      <td>6</td>\n",
       "      <td>1</td>\n",
       "      <td>1</td>\n",
       "    </tr>\n",
       "    <tr>\n",
       "      <th>82</th>\n",
       "      <td>10016-20-3</td>\n",
       "      <td>320760</td>\n",
       "      <td>resolved (1:n)</td>\n",
       "      <td>HFHDHCJBZVLPGP-UHFFFAOYSA-N</td>\n",
       "      <td>6</td>\n",
       "      <td>1</td>\n",
       "      <td>1</td>\n",
       "    </tr>\n",
       "    <tr>\n",
       "      <th>83</th>\n",
       "      <td>10016-20-3</td>\n",
       "      <td>444913</td>\n",
       "      <td>resolved (1:n)</td>\n",
       "      <td>HFHDHCJBZVLPGP-RWMJIURBSA-N</td>\n",
       "      <td>6</td>\n",
       "      <td>1</td>\n",
       "      <td>1</td>\n",
       "    </tr>\n",
       "    <tr>\n",
       "      <th>84</th>\n",
       "      <td>10016-20-3</td>\n",
       "      <td>46936256</td>\n",
       "      <td>resolved (1:n)</td>\n",
       "      <td>HFHDHCJBZVLPGP-KREQUGERSA-N</td>\n",
       "      <td>6</td>\n",
       "      <td>1</td>\n",
       "      <td>1</td>\n",
       "    </tr>\n",
       "    <tr>\n",
       "      <th>85</th>\n",
       "      <td>10016-20-3</td>\n",
       "      <td>60041304</td>\n",
       "      <td>resolved (1:n)</td>\n",
       "      <td>HFHDHCJBZVLPGP-DPHWATJASA-N</td>\n",
       "      <td>6</td>\n",
       "      <td>1</td>\n",
       "      <td>1</td>\n",
       "    </tr>\n",
       "  </tbody>\n",
       "</table>\n",
       "</div>"
      ],
      "text/plain": [
       "         CASRN       CID          status                     inchikey  \\\n",
       "81  10016-20-3     24796  resolved (1:n)  HFHDHCJBZVLPGP-JSPYPFAESA-N   \n",
       "82  10016-20-3    320760  resolved (1:n)  HFHDHCJBZVLPGP-UHFFFAOYSA-N   \n",
       "83  10016-20-3    444913  resolved (1:n)  HFHDHCJBZVLPGP-RWMJIURBSA-N   \n",
       "84  10016-20-3  46936256  resolved (1:n)  HFHDHCJBZVLPGP-KREQUGERSA-N   \n",
       "85  10016-20-3  60041304  resolved (1:n)  HFHDHCJBZVLPGP-DPHWATJASA-N   \n",
       "\n",
       "    n_cid_casrn  n_casrn_cid  n_key_casrn  \n",
       "81            6            1            1  \n",
       "82            6            1            1  \n",
       "83            6            1            1  \n",
       "84            6            1            1  \n",
       "85            6            1            1  "
      ]
     },
     "execution_count": 17,
     "metadata": {},
     "output_type": "execute_result"
    }
   ],
   "source": [
    "ids.ix[(ids.n_casrn_cid == 1) & (ids.n_cid_casrn > 1) & (ids.n_key_casrn == 1), 'status'] = 'resolved (1:n)'\n",
    "\n",
    "mapped1n = ids[(ids.n_casrn_cid == 1) & (ids.n_cid_casrn > 1) & (ids.n_key_casrn == 1)]\n",
    "print(len(mapped1n), '1:n CASRN:CID associations sharing the same base structure per CASRN')\n",
    "mapped1n.head()"
   ]
  },
  {
   "cell_type": "code",
   "execution_count": 18,
   "metadata": {
    "collapsed": false,
    "scrolled": true
   },
   "outputs": [
    {
     "name": "stdout",
     "output_type": "stream",
     "text": [
      "4936\n"
     ]
    }
   ],
   "source": [
    "df = ids[(ids.n_casrn_cid == 1) & (ids.n_cid_casrn > 1) & (ids.n_key_casrn == 1)]\n",
    "print(len(df))"
   ]
  },
  {
   "cell_type": "code",
   "execution_count": 19,
   "metadata": {
    "collapsed": false,
    "scrolled": true
   },
   "outputs": [
    {
     "name": "stdout",
     "output_type": "stream",
     "text": [
      "1761 1:n CASRN:CID associations with more than one base structure per CASRN\n"
     ]
    },
    {
     "data": {
      "text/html": [
       "<div>\n",
       "<table border=\"1\" class=\"dataframe\">\n",
       "  <thead>\n",
       "    <tr style=\"text-align: right;\">\n",
       "      <th></th>\n",
       "      <th>CASRN</th>\n",
       "      <th>CID</th>\n",
       "      <th>status</th>\n",
       "      <th>inchikey</th>\n",
       "      <th>n_cid_casrn</th>\n",
       "      <th>n_casrn_cid</th>\n",
       "      <th>n_key_casrn</th>\n",
       "    </tr>\n",
       "  </thead>\n",
       "  <tbody>\n",
       "    <tr>\n",
       "      <th>463</th>\n",
       "      <td>10127-27-2</td>\n",
       "      <td>44134500</td>\n",
       "      <td>unresolved (1:n)</td>\n",
       "      <td>WQCHYPQBLJBMMY-UHFFFAOYSA-M</td>\n",
       "      <td>2</td>\n",
       "      <td>1</td>\n",
       "      <td>2</td>\n",
       "    </tr>\n",
       "    <tr>\n",
       "      <th>464</th>\n",
       "      <td>10127-27-2</td>\n",
       "      <td>82375</td>\n",
       "      <td>unresolved (1:n)</td>\n",
       "      <td>DFUHZEIMQHFCKR-UHFFFAOYSA-J</td>\n",
       "      <td>2</td>\n",
       "      <td>1</td>\n",
       "      <td>2</td>\n",
       "    </tr>\n",
       "    <tr>\n",
       "      <th>472</th>\n",
       "      <td>10134-33-5</td>\n",
       "      <td>101813503</td>\n",
       "      <td>unresolved (1:n)</td>\n",
       "      <td>ZFTFEZINIDLJDJ-UHFFFAOYSA-K</td>\n",
       "      <td>2</td>\n",
       "      <td>1</td>\n",
       "      <td>2</td>\n",
       "    </tr>\n",
       "    <tr>\n",
       "      <th>473</th>\n",
       "      <td>10134-33-5</td>\n",
       "      <td>109374080</td>\n",
       "      <td>unresolved (1:n)</td>\n",
       "      <td>GUSKQSPAKNSQCV-PLEQCSJPSA-N</td>\n",
       "      <td>2</td>\n",
       "      <td>1</td>\n",
       "      <td>2</td>\n",
       "    </tr>\n",
       "    <tr>\n",
       "      <th>566</th>\n",
       "      <td>10197-71-4</td>\n",
       "      <td>18764219</td>\n",
       "      <td>unresolved (1:n)</td>\n",
       "      <td>IZUPJOYPPLEPGM-UHFFFAOYSA-N</td>\n",
       "      <td>4</td>\n",
       "      <td>1</td>\n",
       "      <td>3</td>\n",
       "    </tr>\n",
       "  </tbody>\n",
       "</table>\n",
       "</div>"
      ],
      "text/plain": [
       "          CASRN        CID            status                     inchikey  \\\n",
       "463  10127-27-2   44134500  unresolved (1:n)  WQCHYPQBLJBMMY-UHFFFAOYSA-M   \n",
       "464  10127-27-2      82375  unresolved (1:n)  DFUHZEIMQHFCKR-UHFFFAOYSA-J   \n",
       "472  10134-33-5  101813503  unresolved (1:n)  ZFTFEZINIDLJDJ-UHFFFAOYSA-K   \n",
       "473  10134-33-5  109374080  unresolved (1:n)  GUSKQSPAKNSQCV-PLEQCSJPSA-N   \n",
       "566  10197-71-4   18764219  unresolved (1:n)  IZUPJOYPPLEPGM-UHFFFAOYSA-N   \n",
       "\n",
       "     n_cid_casrn  n_casrn_cid  n_key_casrn  \n",
       "463            2            1            2  \n",
       "464            2            1            2  \n",
       "472            2            1            2  \n",
       "473            2            1            2  \n",
       "566            4            1            3  "
      ]
     },
     "execution_count": 19,
     "metadata": {},
     "output_type": "execute_result"
    }
   ],
   "source": [
    "ids.ix[(ids.n_casrn_cid == 1) & (ids.n_cid_casrn > 1) & (ids.n_key_casrn > 1), 'status'] = 'unresolved (1:n)'\n",
    "\n",
    "unmapped1n = ids[(ids.n_casrn_cid == 1) & (ids.n_cid_casrn > 1) & (ids.n_key_casrn > 1)]\n",
    "print(len(unmapped1n), '1:n CASRN:CID associations with more than one base structure per CASRN')\n",
    "unmapped1n.head()"
   ]
  },
  {
   "cell_type": "markdown",
   "metadata": {},
   "source": [
    "# Step 3. Identify unresolved n:m mappings"
   ]
  },
  {
   "cell_type": "code",
   "execution_count": 20,
   "metadata": {
    "collapsed": false
   },
   "outputs": [
    {
     "name": "stdout",
     "output_type": "stream",
     "text": [
      "2561 unresolved n:m CASRN:CID associations\n"
     ]
    },
    {
     "data": {
      "text/html": [
       "<div>\n",
       "<table border=\"1\" class=\"dataframe\">\n",
       "  <thead>\n",
       "    <tr style=\"text-align: right;\">\n",
       "      <th></th>\n",
       "      <th>CASRN</th>\n",
       "      <th>CID</th>\n",
       "      <th>status</th>\n",
       "      <th>inchikey</th>\n",
       "      <th>n_cid_casrn</th>\n",
       "      <th>n_casrn_cid</th>\n",
       "      <th>n_key_casrn</th>\n",
       "    </tr>\n",
       "  </thead>\n",
       "  <tbody>\n",
       "    <tr>\n",
       "      <th>27</th>\n",
       "      <td>100-41-4</td>\n",
       "      <td>7500</td>\n",
       "      <td>unresolved (n:m)</td>\n",
       "      <td>YNQLUTRBYVCPMQ-UHFFFAOYSA-N</td>\n",
       "      <td>1</td>\n",
       "      <td>4</td>\n",
       "      <td>1</td>\n",
       "    </tr>\n",
       "    <tr>\n",
       "      <th>28</th>\n",
       "      <td>27536-89-6</td>\n",
       "      <td>7500</td>\n",
       "      <td>unresolved (n:m)</td>\n",
       "      <td>YNQLUTRBYVCPMQ-UHFFFAOYSA-N</td>\n",
       "      <td>1</td>\n",
       "      <td>4</td>\n",
       "      <td>1</td>\n",
       "    </tr>\n",
       "    <tr>\n",
       "      <th>29</th>\n",
       "      <td>68908-88-3</td>\n",
       "      <td>7500</td>\n",
       "      <td>unresolved (n:m)</td>\n",
       "      <td>YNQLUTRBYVCPMQ-UHFFFAOYSA-N</td>\n",
       "      <td>1</td>\n",
       "      <td>4</td>\n",
       "      <td>1</td>\n",
       "    </tr>\n",
       "    <tr>\n",
       "      <th>30</th>\n",
       "      <td>70955-17-8</td>\n",
       "      <td>7500</td>\n",
       "      <td>unresolved (n:m)</td>\n",
       "      <td>YNQLUTRBYVCPMQ-UHFFFAOYSA-N</td>\n",
       "      <td>1</td>\n",
       "      <td>4</td>\n",
       "      <td>1</td>\n",
       "    </tr>\n",
       "    <tr>\n",
       "      <th>31</th>\n",
       "      <td>100-42-5</td>\n",
       "      <td>7501</td>\n",
       "      <td>unresolved (n:m)</td>\n",
       "      <td>PPBRXRYQALVLMV-UHFFFAOYSA-N</td>\n",
       "      <td>1</td>\n",
       "      <td>3</td>\n",
       "      <td>1</td>\n",
       "    </tr>\n",
       "  </tbody>\n",
       "</table>\n",
       "</div>"
      ],
      "text/plain": [
       "         CASRN   CID            status                     inchikey  \\\n",
       "27    100-41-4  7500  unresolved (n:m)  YNQLUTRBYVCPMQ-UHFFFAOYSA-N   \n",
       "28  27536-89-6  7500  unresolved (n:m)  YNQLUTRBYVCPMQ-UHFFFAOYSA-N   \n",
       "29  68908-88-3  7500  unresolved (n:m)  YNQLUTRBYVCPMQ-UHFFFAOYSA-N   \n",
       "30  70955-17-8  7500  unresolved (n:m)  YNQLUTRBYVCPMQ-UHFFFAOYSA-N   \n",
       "31    100-42-5  7501  unresolved (n:m)  PPBRXRYQALVLMV-UHFFFAOYSA-N   \n",
       "\n",
       "    n_cid_casrn  n_casrn_cid  n_key_casrn  \n",
       "27            1            4            1  \n",
       "28            1            4            1  \n",
       "29            1            4            1  \n",
       "30            1            4            1  \n",
       "31            1            3            1  "
      ]
     },
     "execution_count": 20,
     "metadata": {},
     "output_type": "execute_result"
    }
   ],
   "source": [
    "ids.ix[(ids.n_casrn_cid > 1), 'status'] = 'unresolved (n:m)'\n",
    "\n",
    "unmappednm = ids[(ids.n_casrn_cid > 1)]\n",
    "print(len(unmappednm), 'unresolved n:m CASRN:CID associations')\n",
    "unmappednm.head()"
   ]
  },
  {
   "cell_type": "markdown",
   "metadata": {},
   "source": [
    "# Step 3. Combine and output results\n",
    "\n",
    "Make sure that all entries have been categorized as to their `status`."
   ]
  },
  {
   "cell_type": "code",
   "execution_count": 21,
   "metadata": {
    "collapsed": false
   },
   "outputs": [],
   "source": [
    "assert True not in ids['status'].isnull().values"
   ]
  },
  {
   "cell_type": "markdown",
   "metadata": {},
   "source": [
    "Output to Excel."
   ]
  },
  {
   "cell_type": "code",
   "execution_count": 23,
   "metadata": {
    "collapsed": false,
    "scrolled": false
   },
   "outputs": [],
   "source": [
    "ids.to_excel(pjoin(env.results_path, 'CASRN_CID_mapping.xlsx'), index=False)"
   ]
  },
  {
   "cell_type": "markdown",
   "metadata": {},
   "source": [
    "Output to CSV only the CASRN, CID, and status columns."
   ]
  },
  {
   "cell_type": "code",
   "execution_count": 24,
   "metadata": {
    "collapsed": true
   },
   "outputs": [],
   "source": [
    "ids[['CASRN', 'CID', 'status']].to_csv((pjoin(env.results_path, 'CASRN_CID_mapping.csv')), index=False)"
   ]
  }
 ],
 "metadata": {
  "anaconda-cloud": {},
  "kernelspec": {
   "display_name": "Python [conda env:cmldev]",
   "language": "python",
   "name": "conda-env-cmldev-py"
  },
  "language_info": {
   "codemirror_mode": {
    "name": "ipython",
    "version": 3
   },
   "file_extension": ".py",
   "mimetype": "text/x-python",
   "name": "python",
   "nbconvert_exporter": "python",
   "pygments_lexer": "ipython3",
   "version": "3.5.2"
  }
 },
 "nbformat": 4,
 "nbformat_minor": 2
}
