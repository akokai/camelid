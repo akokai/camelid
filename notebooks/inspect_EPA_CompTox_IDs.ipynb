{
 "cells": [
  {
   "cell_type": "code",
   "execution_count": 1,
   "metadata": {
    "collapsed": false,
    "scrolled": true
   },
   "outputs": [],
   "source": [
    "import matplotlib\n",
    "%matplotlib inline\n",
    "import pandas as pd"
   ]
  },
  {
   "cell_type": "markdown",
   "metadata": {},
   "source": [
    "# Inspecting EPA CompTox identifier mappings\n",
    "\n",
    "The goal of this notebook is to understand what to expect when integrating external identifier mappings provided by EPA into the database.\n",
    "\n",
    "## Inspect DTXSID:CASRN mappings"
   ]
  },
  {
   "cell_type": "code",
   "execution_count": 2,
   "metadata": {
    "collapsed": false
   },
   "outputs": [
    {
     "name": "stdout",
     "output_type": "stream",
     "text": [
      "753398 DTXSID:CASRN mappings\n"
     ]
    }
   ],
   "source": [
    "dtx_cas = pd.read_excel('/opt/akokai/data/EPA/Dsstox_CAS_number_name.xlsx')\n",
    "cas_cols = ['casrn', 'dtxsid', 'name']\n",
    "dtx_cas.columns = cas_cols\n",
    "print(len(dtx_cas), 'DTXSID:CASRN mappings')"
   ]
  },
  {
   "cell_type": "code",
   "execution_count": 3,
   "metadata": {
    "collapsed": false
   },
   "outputs": [
    {
     "data": {
      "text/html": [
       "<div>\n",
       "<table border=\"1\" class=\"dataframe\">\n",
       "  <thead>\n",
       "    <tr style=\"text-align: right;\">\n",
       "      <th></th>\n",
       "      <th>casrn</th>\n",
       "      <th>dtxsid</th>\n",
       "      <th>name</th>\n",
       "    </tr>\n",
       "  </thead>\n",
       "  <tbody>\n",
       "    <tr>\n",
       "      <th>0</th>\n",
       "      <td>26148-68-5</td>\n",
       "      <td>DTXSID7020001</td>\n",
       "      <td>A-alpha-C</td>\n",
       "    </tr>\n",
       "    <tr>\n",
       "      <th>1</th>\n",
       "      <td>107-29-9</td>\n",
       "      <td>DTXSID2020004</td>\n",
       "      <td>Acetaldehyde oxime</td>\n",
       "    </tr>\n",
       "    <tr>\n",
       "      <th>2</th>\n",
       "      <td>60-35-5</td>\n",
       "      <td>DTXSID7020005</td>\n",
       "      <td>Acetamide</td>\n",
       "    </tr>\n",
       "    <tr>\n",
       "      <th>3</th>\n",
       "      <td>103-90-2</td>\n",
       "      <td>DTXSID2020006</td>\n",
       "      <td>Acetaminophen</td>\n",
       "    </tr>\n",
       "    <tr>\n",
       "      <th>4</th>\n",
       "      <td>968-81-0</td>\n",
       "      <td>DTXSID7020007</td>\n",
       "      <td>Acetohexamide</td>\n",
       "    </tr>\n",
       "    <tr>\n",
       "      <th>5</th>\n",
       "      <td>18523-69-8</td>\n",
       "      <td>DTXSID2020008</td>\n",
       "      <td>Acetone[4-(5-nitro-2-furyl)-2-thiazolyl] hydra...</td>\n",
       "    </tr>\n",
       "    <tr>\n",
       "      <th>6</th>\n",
       "      <td>75-05-8</td>\n",
       "      <td>DTXSID7020009</td>\n",
       "      <td>Acetonitrile</td>\n",
       "    </tr>\n",
       "    <tr>\n",
       "      <th>7</th>\n",
       "      <td>127-06-0</td>\n",
       "      <td>DTXSID6020010</td>\n",
       "      <td>Acetoxime</td>\n",
       "    </tr>\n",
       "    <tr>\n",
       "      <th>8</th>\n",
       "      <td>65734-38-5</td>\n",
       "      <td>DTXSID6020012</td>\n",
       "      <td>N'-Acetyl-4-(hydroxymethyl) phenylhydrazine</td>\n",
       "    </tr>\n",
       "    <tr>\n",
       "      <th>9</th>\n",
       "      <td>1078-38-2</td>\n",
       "      <td>DTXSID1020013</td>\n",
       "      <td>1-Acetyl-2-isonicotinoylhydrazine</td>\n",
       "    </tr>\n",
       "  </tbody>\n",
       "</table>\n",
       "</div>"
      ],
      "text/plain": [
       "        casrn         dtxsid  \\\n",
       "0  26148-68-5  DTXSID7020001   \n",
       "1    107-29-9  DTXSID2020004   \n",
       "2     60-35-5  DTXSID7020005   \n",
       "3    103-90-2  DTXSID2020006   \n",
       "4    968-81-0  DTXSID7020007   \n",
       "5  18523-69-8  DTXSID2020008   \n",
       "6     75-05-8  DTXSID7020009   \n",
       "7    127-06-0  DTXSID6020010   \n",
       "8  65734-38-5  DTXSID6020012   \n",
       "9   1078-38-2  DTXSID1020013   \n",
       "\n",
       "                                                name  \n",
       "0                                          A-alpha-C  \n",
       "1                                 Acetaldehyde oxime  \n",
       "2                                          Acetamide  \n",
       "3                                      Acetaminophen  \n",
       "4                                      Acetohexamide  \n",
       "5  Acetone[4-(5-nitro-2-furyl)-2-thiazolyl] hydra...  \n",
       "6                                       Acetonitrile  \n",
       "7                                          Acetoxime  \n",
       "8        N'-Acetyl-4-(hydroxymethyl) phenylhydrazine  \n",
       "9                  1-Acetyl-2-isonicotinoylhydrazine  "
      ]
     },
     "execution_count": 3,
     "metadata": {},
     "output_type": "execute_result"
    }
   ],
   "source": [
    "dtx_cas.head(10)"
   ]
  },
  {
   "cell_type": "markdown",
   "metadata": {},
   "source": [
    "### Check to see how many are unique, 1:1 mappings\n",
    "\n",
    "**Conclusion:** The DTXSID:CASRN mappings are all unique. It's interesting that there are more of these mappings than there are molecular structures (e.g., DTXSID:InChI) in the whole CompTox dataset."
   ]
  },
  {
   "cell_type": "code",
   "execution_count": 4,
   "metadata": {
    "collapsed": false
   },
   "outputs": [
    {
     "name": "stdout",
     "output_type": "stream",
     "text": [
      "1    753398\n",
      "Name: dtxsid, dtype: int64\n"
     ]
    },
    {
     "data": {
      "text/plain": [
       "<matplotlib.axes._subplots.AxesSubplot at 0x7fdccb3a9978>"
      ]
     },
     "execution_count": 4,
     "metadata": {},
     "output_type": "execute_result"
    },
    {
     "data": {
      "image/png": "[encoded data removed]",
      "text/plain": [
       "<matplotlib.figure.Figure at 0x7fdd1007a4a8>"
      ]
     },
     "metadata": {},
     "output_type": "display_data"
    }
   ],
   "source": [
    "f_dtx = dtx_cas.groupby('casrn')['dtxsid'].count()\n",
    "print(f_dtx.value_counts())\n",
    "f_dtx.hist()"
   ]
  },
  {
   "cell_type": "code",
   "execution_count": 5,
   "metadata": {
    "collapsed": false
   },
   "outputs": [
    {
     "name": "stdout",
     "output_type": "stream",
     "text": [
      "1    753398\n",
      "Name: casrn, dtype: int64\n"
     ]
    },
    {
     "data": {
      "text/plain": [
       "<matplotlib.axes._subplots.AxesSubplot at 0x7fdcc4371160>"
      ]
     },
     "execution_count": 5,
     "metadata": {},
     "output_type": "execute_result"
    },
    {
     "data": {
      "image/png": "[encoded data removed]",
      "text/plain": [
       "<matplotlib.figure.Figure at 0x7fdd1007a2b0>"
      ]
     },
     "metadata": {},
     "output_type": "display_data"
    }
   ],
   "source": [
    "f_cas = dtx_cas.groupby('dtxsid')['casrn'].count()\n",
    "print(f_cas.value_counts())\n",
    "f_cas.hist()"
   ]
  },
  {
   "cell_type": "markdown",
   "metadata": {},
   "source": [
    "## Inspect DTXSID:PubChem CID mappings"
   ]
  },
  {
   "cell_type": "code",
   "execution_count": 6,
   "metadata": {
    "collapsed": false,
    "scrolled": true
   },
   "outputs": [
    {
     "name": "stdout",
     "output_type": "stream",
     "text": [
      "735563 DTXSID:CID mappings\n"
     ]
    }
   ],
   "source": [
    "dtx_cid = pd.read_table('/opt/akokai/data/EPA/PubChem_DTXSID_mapping_file.txt',\n",
    "                        dtype=str, low_memory=True)\n",
    "dtx_cid.columns = ['sid', 'cid', 'dtxsid']\n",
    "print(len(dtx_cid), 'DTXSID:CID mappings')"
   ]
  },
  {
   "cell_type": "code",
   "execution_count": 7,
   "metadata": {
    "collapsed": false
   },
   "outputs": [
    {
     "data": {
      "text/html": [
       "<div>\n",
       "<table border=\"1\" class=\"dataframe\">\n",
       "  <thead>\n",
       "    <tr style=\"text-align: right;\">\n",
       "      <th></th>\n",
       "      <th>sid</th>\n",
       "      <th>cid</th>\n",
       "      <th>dtxsid</th>\n",
       "    </tr>\n",
       "  </thead>\n",
       "  <tbody>\n",
       "    <tr>\n",
       "      <th>0</th>\n",
       "      <td>316388891</td>\n",
       "      <td>20404</td>\n",
       "      <td>DTXSID30873143</td>\n",
       "    </tr>\n",
       "    <tr>\n",
       "      <th>1</th>\n",
       "      <td>316388890</td>\n",
       "      <td>10142816</td>\n",
       "      <td>DTXSID70873142</td>\n",
       "    </tr>\n",
       "    <tr>\n",
       "      <th>2</th>\n",
       "      <td>316388889</td>\n",
       "      <td>50742127</td>\n",
       "      <td>DTXSID40873139</td>\n",
       "    </tr>\n",
       "    <tr>\n",
       "      <th>3</th>\n",
       "      <td>316388888</td>\n",
       "      <td>19073841</td>\n",
       "      <td>DTXSID20873137</td>\n",
       "    </tr>\n",
       "    <tr>\n",
       "      <th>4</th>\n",
       "      <td>316388887</td>\n",
       "      <td>11505215</td>\n",
       "      <td>DTXSID00873135</td>\n",
       "    </tr>\n",
       "    <tr>\n",
       "      <th>5</th>\n",
       "      <td>316388886</td>\n",
       "      <td>25021861</td>\n",
       "      <td>DTXSID80873133</td>\n",
       "    </tr>\n",
       "    <tr>\n",
       "      <th>6</th>\n",
       "      <td>316388885</td>\n",
       "      <td>2784427</td>\n",
       "      <td>DTXSID60873131</td>\n",
       "    </tr>\n",
       "    <tr>\n",
       "      <th>7</th>\n",
       "      <td>316388884</td>\n",
       "      <td>6731</td>\n",
       "      <td>DTXSID00873130</td>\n",
       "    </tr>\n",
       "    <tr>\n",
       "      <th>8</th>\n",
       "      <td>316388883</td>\n",
       "      <td>121233001</td>\n",
       "      <td>DTXSID90873129</td>\n",
       "    </tr>\n",
       "    <tr>\n",
       "      <th>9</th>\n",
       "      <td>316388882</td>\n",
       "      <td>414251</td>\n",
       "      <td>DTXSID70873127</td>\n",
       "    </tr>\n",
       "  </tbody>\n",
       "</table>\n",
       "</div>"
      ],
      "text/plain": [
       "         sid        cid          dtxsid\n",
       "0  316388891      20404  DTXSID30873143\n",
       "1  316388890   10142816  DTXSID70873142\n",
       "2  316388889   50742127  DTXSID40873139\n",
       "3  316388888   19073841  DTXSID20873137\n",
       "4  316388887   11505215  DTXSID00873135\n",
       "5  316388886   25021861  DTXSID80873133\n",
       "6  316388885    2784427  DTXSID60873131\n",
       "7  316388884       6731  DTXSID00873130\n",
       "8  316388883  121233001  DTXSID90873129\n",
       "9  316388882     414251  DTXSID70873127"
      ]
     },
     "execution_count": 7,
     "metadata": {},
     "output_type": "execute_result"
    }
   ],
   "source": [
    "dtx_cid.head(10)"
   ]
  },
  {
   "cell_type": "code",
   "execution_count": 8,
   "metadata": {
    "collapsed": false
   },
   "outputs": [
    {
     "name": "stdout",
     "output_type": "stream",
     "text": [
      "735563 unique DTXSIDs\n",
      "718413 unique CIDs\n"
     ]
    }
   ],
   "source": [
    "print('{0} unique DTXSIDs\\n{1} unique CIDs'.format(len(dtx_cid['dtxsid'].drop_duplicates()), \n",
    "                                                   len(dtx_cid['cid'].drop_duplicates())))"
   ]
  },
  {
   "cell_type": "markdown",
   "metadata": {},
   "source": [
    "### Check to see how many are 1:1 mappings\n",
    "\n",
    "**Conclusions:**\n",
    "- There are mostly unique DTXSID:CID mappings.\n",
    "- Each DTXSID is associated with only one CID.\n",
    "- However, those associations are not all unique. Some DTXSIDs share the same CID (n:1).\n",
    "- Bottom line: As expected with DTXSID being EPS's internal unique ID, it's safe to join tables on DTXSID."
   ]
  },
  {
   "cell_type": "code",
   "execution_count": 9,
   "metadata": {
    "collapsed": false
   },
   "outputs": [
    {
     "name": "stdout",
     "output_type": "stream",
     "text": [
      "1       711348\n",
      "2         4065\n",
      "3         1456\n",
      "4          640\n",
      "5          345\n",
      "6          213\n",
      "7          135\n",
      "8           52\n",
      "9           38\n",
      "10          28\n",
      "11          16\n",
      "13          14\n",
      "14           8\n",
      "12           7\n",
      "15           6\n",
      "16           6\n",
      "23           5\n",
      "18           4\n",
      "20           4\n",
      "21           4\n",
      "22           2\n",
      "27           2\n",
      "116          1\n",
      "40           1\n",
      "59           1\n",
      "50           1\n",
      "47           1\n",
      "45           1\n",
      "44           1\n",
      "31           1\n",
      "36           1\n",
      "17           1\n",
      "30           1\n",
      "28           1\n",
      "26           1\n",
      "24           1\n",
      "2389         1\n",
      "Name: dtxsid, dtype: int64\n"
     ]
    },
    {
     "data": {
      "text/plain": [
       "<matplotlib.axes._subplots.AxesSubplot at 0x7fdcbbc6e4a8>"
      ]
     },
     "execution_count": 9,
     "metadata": {},
     "output_type": "execute_result"
    },
    {
     "data": {
      "image/png": "[encoded data removed]",
      "text/plain": [
       "<matplotlib.figure.Figure at 0x7fdd1007a320>"
      ]
     },
     "metadata": {},
     "output_type": "display_data"
    }
   ],
   "source": [
    "f_dtx2 = dtx_cid.groupby('cid')['dtxsid'].count()\n",
    "print(f_dtx2.value_counts())\n",
    "f_dtx2.hist()"
   ]
  },
  {
   "cell_type": "code",
   "execution_count": 10,
   "metadata": {
    "collapsed": false
   },
   "outputs": [
    {
     "name": "stdout",
     "output_type": "stream",
     "text": [
      "1    735563\n",
      "Name: cid, dtype: int64\n"
     ]
    },
    {
     "data": {
      "text/plain": [
       "<matplotlib.axes._subplots.AxesSubplot at 0x7fdcbbc7b048>"
      ]
     },
     "execution_count": 10,
     "metadata": {},
     "output_type": "execute_result"
    },
    {
     "data": {
      "image/png": "[encoded data removed]",
      "text/plain": [
       "<matplotlib.figure.Figure at 0x7fdcbbc2c358>"
      ]
     },
     "metadata": {},
     "output_type": "display_data"
    }
   ],
   "source": [
    "f_cid = dtx_cid.groupby('dtxsid')['cid'].count()\n",
    "print(f_cid.value_counts())\n",
    "f_cid.hist()"
   ]
  }
 ],
 "metadata": {
  "kernelspec": {
   "display_name": "Python 3",
   "language": "python",
   "name": "python3"
  },
  "language_info": {
   "codemirror_mode": {
    "name": "ipython",
    "version": 3
   },
   "file_extension": ".py",
   "mimetype": "text/x-python",
   "name": "python",
   "nbconvert_exporter": "python",
   "pygments_lexer": "ipython3",
   "version": "3.5.2"
  }
 },
 "nbformat": 4,
 "nbformat_minor": 2
}
