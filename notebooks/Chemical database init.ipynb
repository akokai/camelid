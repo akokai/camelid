{
 "cells": [
  {
   "cell_type": "markdown",
   "metadata": {},
   "source": [
    "# Chemical database initialization\n",
    "\n",
    "## Goal\n",
    "\n",
    "Bootstrap a chemical database with ~750,000 structures from the US EPA CompTox Dashboard's public dataset.\n",
    "\n",
    "Set up the database so that it can be used for substructure searching via the [RDKit PostgreSQL database cartridge](http://www.rdkit.org/docs/Cartridge.html).\n",
    "\n",
    "\n",
    "## Data source\n",
    "\n",
    "`dsstox_20160701.tsv` - *Mapping file of InChIStrings, InChIKeys and DTXSIDs for the EPA CompTox Dashboard,* [available on Figshare](https://figshare.com/articles/Mapping_file_of_InChIStrings_InChIKeys_and_DTXSIDs_for_the_EPA_CompTox_Dashboard/3578313), published 12.08.2016 by Antony Williams. \n",
    "- Date: 2016-07-01\n",
    "- License: CC0\n",
    "\n",
    "## Notes on software dependencies\n",
    "\n",
    "Requires:\n",
    "- a running instance of PostgreSQL with the RDKit cartridge installed;\n",
    "- Python packages and dependencies: rdkit, sqlalchemy, psycopg2, pandas."
   ]
  },
  {
   "cell_type": "code",
   "execution_count": 1,
   "metadata": {
    "collapsed": false
   },
   "outputs": [],
   "source": [
    "import pandas as pd\n",
    "from pandas import DataFrame, Series\n",
    "from rdkit import Chem\n",
    "from rdkit.Chem import AllChem  #, Draw\n",
    "# SQLAlchemy also needs psycopg2 installed\n",
    "from sqlalchemy import create_engine, types, Table, Column, MetaData\n",
    "from sqlalchemy.sql import select, text\n",
    "\n",
    "EPA_DATA = '/opt/akokai/data/EPA_iCSS/dsstox_20160701.tsv'"
   ]
  },
  {
   "cell_type": "markdown",
   "metadata": {},
   "source": [
    "# Generate molecules from structural IDs\n",
    "\n",
    "- Read in the list of EPA DSSTox substance IDs.\n",
    "    - Use all-lowercase column names to avoid SQL mix-ups.\n",
    "- Convert each supplied InChI into a RDKit `Mol` object.\n",
    "- Convert each `Mol` into its binary representation.\n",
    "    - The RDKit PostgreSQL database cartridge can convert binary strings back to molecules in the database.\n",
    "    - There is no `mol_from_inchi` method in the PGSQL RDKit extension.\n",
    "\n",
    "This code will need to be rewritten to properly handly 750K rows, instead of just 1K."
   ]
  },
  {
   "cell_type": "code",
   "execution_count": 10,
   "metadata": {
    "collapsed": false,
    "scrolled": false
   },
   "outputs": [
    {
     "name": "stdout",
     "output_type": "stream",
     "text": [
      "999 molecules\n"
     ]
    },
    {
     "data": {
      "text/html": [
       "<div>\n",
       "<table border=\"1\" class=\"dataframe\">\n",
       "  <thead>\n",
       "    <tr style=\"text-align: right;\">\n",
       "      <th></th>\n",
       "      <th>dtxsid</th>\n",
       "      <th>inchi</th>\n",
       "      <th>inchikey</th>\n",
       "      <th>bin</th>\n",
       "    </tr>\n",
       "  </thead>\n",
       "  <tbody>\n",
       "    <tr>\n",
       "      <th>0</th>\n",
       "      <td>DTXSID7020001</td>\n",
       "      <td>InChI=1S/C11H9N3/c12-10-6-5-8-7-3-1-2-4-9(7)13...</td>\n",
       "      <td>FJTNLJLPLJDTRM-UHFFFAOYSA-N</td>\n",
       "      <td>b'\\xef\\xbe\\xad\\xde\\x00\\x00\\x00\\x00\\x07\\x00\\x00...</td>\n",
       "    </tr>\n",
       "    <tr>\n",
       "      <th>1</th>\n",
       "      <td>DTXSID5039224</td>\n",
       "      <td>InChI=1S/C2H4O/c1-2-3/h2H,1H3</td>\n",
       "      <td>IKHGUXGNUITLKF-UHFFFAOYSA-N</td>\n",
       "      <td>b'\\xef\\xbe\\xad\\xde\\x00\\x00\\x00\\x00\\x07\\x00\\x00...</td>\n",
       "    </tr>\n",
       "    <tr>\n",
       "      <th>2</th>\n",
       "      <td>DTXSID50872971</td>\n",
       "      <td>InChI=1S/C4H8N2O/c1-3-5-6(2)4-7/h3-4H,1-2H3/b5-3+</td>\n",
       "      <td>IMAGWKUTFZRWSB-HWKANZROSA-N</td>\n",
       "      <td>b'\\xef\\xbe\\xad\\xde\\x00\\x00\\x00\\x00\\x07\\x00\\x00...</td>\n",
       "    </tr>\n",
       "    <tr>\n",
       "      <th>3</th>\n",
       "      <td>DTXSID2020004</td>\n",
       "      <td>InChI=1S/C2H5NO/c1-2-3-4/h2,4H,1H3/b3-2+</td>\n",
       "      <td>FZENGILVLUJGJX-NSCUHMNNSA-N</td>\n",
       "      <td>b'\\xef\\xbe\\xad\\xde\\x00\\x00\\x00\\x00\\x07\\x00\\x00...</td>\n",
       "    </tr>\n",
       "    <tr>\n",
       "      <th>4</th>\n",
       "      <td>DTXSID7020005</td>\n",
       "      <td>InChI=1S/C2H5NO/c1-2(3)4/h1H3,(H2,3,4)</td>\n",
       "      <td>DLFVBJFMPXGRIB-UHFFFAOYSA-N</td>\n",
       "      <td>b'\\xef\\xbe\\xad\\xde\\x00\\x00\\x00\\x00\\x07\\x00\\x00...</td>\n",
       "    </tr>\n",
       "  </tbody>\n",
       "</table>\n",
       "</div>"
      ],
      "text/plain": [
       "           dtxsid                                              inchi  \\\n",
       "0   DTXSID7020001  InChI=1S/C11H9N3/c12-10-6-5-8-7-3-1-2-4-9(7)13...   \n",
       "1   DTXSID5039224                      InChI=1S/C2H4O/c1-2-3/h2H,1H3   \n",
       "2  DTXSID50872971  InChI=1S/C4H8N2O/c1-3-5-6(2)4-7/h3-4H,1-2H3/b5-3+   \n",
       "3   DTXSID2020004           InChI=1S/C2H5NO/c1-2-3-4/h2,4H,1H3/b3-2+   \n",
       "4   DTXSID7020005             InChI=1S/C2H5NO/c1-2(3)4/h1H3,(H2,3,4)   \n",
       "\n",
       "                      inchikey  \\\n",
       "0  FJTNLJLPLJDTRM-UHFFFAOYSA-N   \n",
       "1  IKHGUXGNUITLKF-UHFFFAOYSA-N   \n",
       "2  IMAGWKUTFZRWSB-HWKANZROSA-N   \n",
       "3  FZENGILVLUJGJX-NSCUHMNNSA-N   \n",
       "4  DLFVBJFMPXGRIB-UHFFFAOYSA-N   \n",
       "\n",
       "                                                 bin  \n",
       "0  b'\\xef\\xbe\\xad\\xde\\x00\\x00\\x00\\x00\\x07\\x00\\x00...  \n",
       "1  b'\\xef\\xbe\\xad\\xde\\x00\\x00\\x00\\x00\\x07\\x00\\x00...  \n",
       "2  b'\\xef\\xbe\\xad\\xde\\x00\\x00\\x00\\x00\\x07\\x00\\x00...  \n",
       "3  b'\\xef\\xbe\\xad\\xde\\x00\\x00\\x00\\x00\\x07\\x00\\x00...  \n",
       "4  b'\\xef\\xbe\\xad\\xde\\x00\\x00\\x00\\x00\\x07\\x00\\x00...  "
      ]
     },
     "execution_count": 10,
     "metadata": {},
     "output_type": "execute_result"
    }
   ],
   "source": [
    "dtx = pd.read_table(EPA_DATA, names=['dtxsid', 'inchi', 'inchikey'], nrows=1000)\n",
    "dtx['mols'] = dtx.inchi.apply(Chem.MolFromInchi)\n",
    "dtx.dropna(inplace=True)\n",
    "print(len(dtx), 'molecules')\n",
    "dtx['bin'] = dtx.mols.apply(lambda m: m.ToBinary())\n",
    "dtx.drop('mols', axis=1, inplace=True)\n",
    "dtx.head()"
   ]
  },
  {
   "cell_type": "markdown",
   "metadata": {},
   "source": [
    "# Copy into new database table"
   ]
  },
  {
   "cell_type": "code",
   "execution_count": 3,
   "metadata": {
    "collapsed": false
   },
   "outputs": [],
   "source": [
    "conn = create_engine('postgresql://akokai@localhost/chmdata')"
   ]
  },
  {
   "cell_type": "code",
   "execution_count": 16,
   "metadata": {
    "collapsed": false
   },
   "outputs": [
    {
     "name": "stdout",
     "output_type": "stream",
     "text": [
      "DROP TABLE\r\n"
     ]
    }
   ],
   "source": [
    "# To be able to re-run the code block below, first drop the table:\n",
    "!psql chmdata -c 'drop table epa;'"
   ]
  },
  {
   "cell_type": "code",
   "execution_count": 17,
   "metadata": {
    "collapsed": true
   },
   "outputs": [],
   "source": [
    "dtypes = {'dtxsid': types.String,\n",
    "          'inchi': types.String,\n",
    "          'inchikey': types.String,\n",
    "          'bin': types.Binary}\n",
    "\n",
    "dtx.to_sql('epa', conn, if_exists='fail', index=False, chunksize=65536, dtype=dtypes)"
   ]
  },
  {
   "cell_type": "markdown",
   "metadata": {},
   "source": [
    "### Just make sure it's there...\n",
    "Can delete these cells after table creation & reflection are known to work."
   ]
  },
  {
   "cell_type": "code",
   "execution_count": 13,
   "metadata": {
    "collapsed": false
   },
   "outputs": [],
   "source": [
    "# Reflect this table in an SQLAlchemy object.\n",
    "meta_epa = MetaData()\n",
    "epa = Table('epa', meta_epa, autoload=True, autoload_with=conn)"
   ]
  },
  {
   "cell_type": "code",
   "execution_count": 14,
   "metadata": {
    "collapsed": false
   },
   "outputs": [
    {
     "data": {
      "text/plain": [
       "['dtxsid', 'inchi', 'inchikey', 'bin']"
      ]
     },
     "execution_count": 14,
     "metadata": {},
     "output_type": "execute_result"
    }
   ],
   "source": [
    "[c.name for c in epa.columns]"
   ]
  },
  {
   "cell_type": "markdown",
   "metadata": {},
   "source": [
    "# Generate `mol`-type column in the table\n",
    "\n",
    "1. Either create a new table with `(dtxsid, inchi, ..., molecule)` *or* add column `molecule` to table `epa`.\n",
    "\n",
    "2. Index the molecules using the GiST-powered RDKit extension:\n",
    "\n",
    "```\n",
    "create index molidx on epa using gist(molecule);\n",
    "```"
   ]
  },
  {
   "cell_type": "code",
   "execution_count": 18,
   "metadata": {
    "collapsed": false
   },
   "outputs": [
    {
     "data": {
      "text/plain": [
       "[('N=c1ccc2c([nH]1)[nH]c1ccccc12',),\n",
       " ('CC=O',),\n",
       " ('C/C=N/N(C)C=O',),\n",
       " ('C/C=N/O',),\n",
       " ('CC(=N)O',)]"
      ]
     },
     "execution_count": 18,
     "metadata": {},
     "output_type": "execute_result"
    }
   ],
   "source": [
    "# Test to see if mol_from_bin actually works... yes!\n",
    "cmd = text(\n",
    "    'select mol_from_pkl(bin) from epa limit 5;')\n",
    "conn.execute(cmd).fetchall()"
   ]
  },
  {
   "cell_type": "markdown",
   "metadata": {},
   "source": [
    "### 'Alter table' method\n",
    "\n",
    "Works, but maybe not desirable because:\n",
    "- the resulting table would have an unneeded column containing the binary strings, and\n",
    "- if anything goes wrong, we'd need to regenerate the whole set of `Mol` objects and binary representations again..."
   ]
  },
  {
   "cell_type": "code",
   "execution_count": 23,
   "metadata": {
    "collapsed": false
   },
   "outputs": [],
   "source": [
    "cmd = text(\n",
    "    '''alter table epa add column molecule mol;\n",
    "       update epa set molecule = mol_from_pkl(bin);''')\n",
    "res = conn.execute(cmd)"
   ]
  },
  {
   "cell_type": "code",
   "execution_count": 27,
   "metadata": {
    "collapsed": false,
    "scrolled": false
   },
   "outputs": [
    {
     "data": {
      "text/plain": [
       "[('DTXSID7020429', 'InChI=1S/C2Cl2/c3-1-2-4', 'ZMJOVJSTYLQINE-UHFFFAOYSA-N', <memory at 0x7f9627dc8948>, 'ClC#CCl'),\n",
       " ('DTXSID2020711', 'InChI=1S/ClH/h1H', 'VEXZGXHMUGYJMC-UHFFFAOYSA-N', <memory at 0x7f9627dc8b88>, 'Cl'),\n",
       " ('DTXSID4020874', 'InChI=1S/CH6N2/c1-3-2/h3H,2H2,1H3', 'HDZGCSFEDULWCS-UHFFFAOYSA-N', <memory at 0x7f9627dc8c48>, 'CNN'),\n",
       " ('DTXSID7020001', 'InChI=1S/C11H9N3/c12-10-6-5-8-7-3-1-2-4-9(7)13-11(8)14-10/h1-6H,(H3,12,13,14)', 'FJTNLJLPLJDTRM-UHFFFAOYSA-N', <memory at 0x7f9627dc8d08>, 'N=c1ccc2c([nH]1)[nH]c1ccccc12'),\n",
       " ('DTXSID5039224', 'InChI=1S/C2H4O/c1-2-3/h2H,1H3', 'IKHGUXGNUITLKF-UHFFFAOYSA-N', <memory at 0x7f9627dc8dc8>, 'CC=O')]"
      ]
     },
     "execution_count": 27,
     "metadata": {},
     "output_type": "execute_result"
    }
   ],
   "source": [
    "# Test to see if that worked... yes!\n",
    "cmd = text('select * from epa limit 5;')\n",
    "conn.execute(cmd).fetchall()"
   ]
  },
  {
   "cell_type": "markdown",
   "metadata": {},
   "source": [
    "### 'Select into' method\n",
    "\n",
    "We are creating a new table called `chem` that has only the desired columns."
   ]
  },
  {
   "cell_type": "code",
   "execution_count": 22,
   "metadata": {
    "collapsed": false
   },
   "outputs": [
    {
     "data": {
      "text/plain": [
       "[('(DTXSID7020001,\"InChI=1S/C11H9N3/c12-10-6-5-8-7-3-1-2-4-9(7)13-11(8)14-10/h1-6H,(H3,12,13,14)\",FJTNLJLPLJDTRM-UHFFFAOYSA-N,\"N=c1ccc2c([nH]1)[nH]c1ccccc12\")',),\n",
       " ('(DTXSID5039224,\"InChI=1S/C2H4O/c1-2-3/h2H,1H3\",IKHGUXGNUITLKF-UHFFFAOYSA-N,CC=O)',),\n",
       " ('(DTXSID50872971,\"InChI=1S/C4H8N2O/c1-3-5-6(2)4-7/h3-4H,1-2H3/b5-3+\",IMAGWKUTFZRWSB-HWKANZROSA-N,\"C/C=N/N(C)C=O\")',),\n",
       " ('(DTXSID2020004,\"InChI=1S/C2H5NO/c1-2-3-4/h2,4H,1H3/b3-2+\",FZENGILVLUJGJX-NSCUHMNNSA-N,C/C=N/O)',),\n",
       " ('(DTXSID7020005,\"InChI=1S/C2H5NO/c1-2(3)4/h1H3,(H2,3,4)\",DLFVBJFMPXGRIB-UHFFFAOYSA-N,\"CC(=N)O\")',)]"
      ]
     },
     "execution_count": 22,
     "metadata": {},
     "output_type": "execute_result"
    }
   ],
   "source": [
    "cmd = text(\n",
    "    '''select (dtxsid, inchi, inchikey, mol_from_pkl(bin))\n",
    "       from epa\n",
    "       limit 5;''')\n",
    "conn.execute(cmd).fetchall()"
   ]
  },
  {
   "cell_type": "code",
   "execution_count": 50,
   "metadata": {
    "collapsed": false
   },
   "outputs": [
    {
     "name": "stdout",
     "output_type": "stream",
     "text": [
      "DROP TABLE\r\n"
     ]
    }
   ],
   "source": [
    "# To be able to re-run the code block below, first drop the table:\n",
    "!psql chmdata -c 'drop table chem;'"
   ]
  },
  {
   "cell_type": "code",
   "execution_count": 52,
   "metadata": {
    "collapsed": false
   },
   "outputs": [],
   "source": [
    "cmd = text(\n",
    "    '''create table chem\n",
    "       as select dtxsid, inchi, inchikey, mol_from_pkl(bin) molecule from epa;''')\n",
    "res = conn.execute(cmd)"
   ]
  },
  {
   "cell_type": "code",
   "execution_count": 53,
   "metadata": {
    "collapsed": false,
    "scrolled": true
   },
   "outputs": [
    {
     "data": {
      "text/plain": [
       "[('DTXSID7020001', 'InChI=1S/C11H9N3/c12-10-6-5-8-7-3-1-2-4-9(7)13-11(8)14-10/h1-6H,(H3,12,13,14)', 'FJTNLJLPLJDTRM-UHFFFAOYSA-N', 'N=c1ccc2c([nH]1)[nH]c1ccccc12'),\n",
       " ('DTXSID5039224', 'InChI=1S/C2H4O/c1-2-3/h2H,1H3', 'IKHGUXGNUITLKF-UHFFFAOYSA-N', 'CC=O'),\n",
       " ('DTXSID50872971', 'InChI=1S/C4H8N2O/c1-3-5-6(2)4-7/h3-4H,1-2H3/b5-3+', 'IMAGWKUTFZRWSB-HWKANZROSA-N', 'C/C=N/N(C)C=O'),\n",
       " ('DTXSID2020004', 'InChI=1S/C2H5NO/c1-2-3-4/h2,4H,1H3/b3-2+', 'FZENGILVLUJGJX-NSCUHMNNSA-N', 'C/C=N/O'),\n",
       " ('DTXSID7020005', 'InChI=1S/C2H5NO/c1-2(3)4/h1H3,(H2,3,4)', 'DLFVBJFMPXGRIB-UHFFFAOYSA-N', 'CC(=N)O')]"
      ]
     },
     "execution_count": 53,
     "metadata": {},
     "output_type": "execute_result"
    }
   ],
   "source": [
    "# Test to see if that worked... YES!\n",
    "cmd = text('select * from chem limit 5;')\n",
    "conn.execute(cmd).fetchall()"
   ]
  },
  {
   "cell_type": "code",
   "execution_count": 54,
   "metadata": {
    "collapsed": false
   },
   "outputs": [
    {
     "name": "stderr",
     "output_type": "stream",
     "text": [
      "/opt/akokai/anaconda/envs/cmldev/lib/python3.5/site-packages/sqlalchemy/dialects/postgresql/base.py:2439: SAWarning: Did not recognize type 'mol' of column 'molecule'\n",
      "  (attype, name))\n"
     ]
    },
    {
     "data": {
      "text/plain": [
       "['dtxsid', 'inchi', 'inchikey', 'molecule']"
      ]
     },
     "execution_count": 54,
     "metadata": {},
     "output_type": "execute_result"
    }
   ],
   "source": [
    "# Check to see column names.\n",
    "meta_chem = MetaData()\n",
    "chem = Table('chem', meta_chem, autoload=True, autoload_with=conn)\n",
    "[c.name for c in chem.columns]"
   ]
  },
  {
   "cell_type": "code",
   "execution_count": 55,
   "metadata": {
    "collapsed": true
   },
   "outputs": [],
   "source": [
    "# Hopefully this works if it produces no errors...\n",
    "cmd = text('create index molidx on chem using gist(molecule);')\n",
    "res = conn.execute(cmd)"
   ]
  }
 ],
 "metadata": {
  "anaconda-cloud": {},
  "kernelspec": {
   "display_name": "Python [conda env:cmldev]",
   "language": "python",
   "name": "conda-env-cmldev-py"
  },
  "language_info": {
   "codemirror_mode": {
    "name": "ipython",
    "version": 3
   },
   "file_extension": ".py",
   "mimetype": "text/x-python",
   "name": "python",
   "nbconvert_exporter": "python",
   "pygments_lexer": "ipython3",
   "version": "3.5.2"
  }
 },
 "nbformat": 4,
 "nbformat_minor": 1
}
