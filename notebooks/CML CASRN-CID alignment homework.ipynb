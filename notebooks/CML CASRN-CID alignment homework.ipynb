{
 "cells": [
  {
   "cell_type": "code",
   "execution_count": 1,
   "metadata": {
    "collapsed": false
   },
   "outputs": [],
   "source": [
    "from __future__ import unicode_literals\n",
    "\n",
    "import os\n",
    "from os.path import join as pjoin\n",
    "import pandas as pd\n",
    "from pandas import DataFrame, Series\n",
    "from boltons.fileutils import mkdir_p\n",
    "\n",
    "DATA_PATH = pjoin(os.getenv('CAMELID_HOME'), 'cas2cid', 'data')\n",
    "MD_RESULTS = pjoin(DATA_PATH, 'CASRN-CID MD analysis 2014-04-20.csv')\n",
    "CID_INCHIKEY = pjoin(DATA_PATH, 'CID-InChIKey 2014-04-20.csv')\n",
    "RESULTS_PATH = pjoin(os.getenv('CAMELID_HOME'), 'cas2cid', 'results')\n",
    "mkdir_p(RESULTS_PATH)"
   ]
  },
  {
   "cell_type": "markdown",
   "metadata": {},
   "source": [
    "# CML CASRN - PubChem CID alignment process (homework)\n",
    "\n",
    "## Goal\n",
    "\n",
    "Take the output from PubChem ID Exchange conversion of all CASRNs in the CML into CIDs, and determine whether each association is OK to import into the CML or requires further resolution.\n",
    "\n",
    "Secondary goal: reproduce, as an automatable process in Python/pandas, Michel's spreadsheet-based processing that is already done.\n",
    "\n",
    "## Data source\n",
    "\n",
    "A copy of [the spreadsheet](https://drive.google.com/open?id=1F60y2Fqchb1hy0Iu-RzUVMwaAxHnm982D_ZYBAVwiRE) in which Michel did the processing. I will start with the output from the ID Exchange, a list of CASRN - CID associations and the InChIKey corresponding to each CID. Since I don't have the actual output from 2014-04-20, I manually extracted CASRN-CID associations (first two columns of the \"CASRN->CID\" worksheet) and CID-InChIKey mappings (first two columns of \"CID->InChIKey\" worksheet) from that spreadsheet. I will merge these as needed.\n",
    "\n",
    "\n",
    "## Assumptions about the dataset\n",
    "\n",
    "I assume that (CASRN, CID) associations are not repeated, and that each unique CID is only associated with one InChIKey. These both are confirmed below.\n",
    "\n",
    "\n",
    "# Step 1. Find mappings that are already 1:1\n",
    "\n",
    "We will accept as valid all 1:1 CID:CASRN mappings output by PubChem.\n",
    "\n",
    "First load the data and make sure it's sane."
   ]
  },
  {
   "cell_type": "code",
   "execution_count": 2,
   "metadata": {
    "collapsed": false
   },
   "outputs": [
    {
     "name": "stdout",
     "output_type": "stream",
     "text": [
      "25357 identifier correspondences\n",
      "25357 CID-InChIKey mappings\n",
      "25357 identifier correspondences with InChIKeys\n"
     ]
    },
    {
     "data": {
      "text/html": [
       "<div>\n",
       "<table border=\"1\" class=\"dataframe\">\n",
       "  <thead>\n",
       "    <tr style=\"text-align: right;\">\n",
       "      <th></th>\n",
       "      <th>CASRN</th>\n",
       "      <th>CID</th>\n",
       "      <th>InChIKey</th>\n",
       "    </tr>\n",
       "  </thead>\n",
       "  <tbody>\n",
       "    <tr>\n",
       "      <th>0</th>\n",
       "      <td>100-00-5</td>\n",
       "      <td>7474</td>\n",
       "      <td>CZGCEKJOLUNIFY-UHFFFAOYSA-N</td>\n",
       "    </tr>\n",
       "    <tr>\n",
       "      <th>1</th>\n",
       "      <td>100-01-6</td>\n",
       "      <td>7475</td>\n",
       "      <td>TYMLOMAKGOJONV-UHFFFAOYSA-N</td>\n",
       "    </tr>\n",
       "    <tr>\n",
       "      <th>2</th>\n",
       "      <td>100-02-7</td>\n",
       "      <td>980</td>\n",
       "      <td>BTJIUGUIPKRLHP-UHFFFAOYSA-N</td>\n",
       "    </tr>\n",
       "    <tr>\n",
       "      <th>3</th>\n",
       "      <td>100-06-1</td>\n",
       "      <td>7476</td>\n",
       "      <td>NTPLXRHDUXRPNE-UHFFFAOYSA-N</td>\n",
       "    </tr>\n",
       "    <tr>\n",
       "      <th>4</th>\n",
       "      <td>100-07-2</td>\n",
       "      <td>7477</td>\n",
       "      <td>MXMOTZIXVICDSD-UHFFFAOYSA-N</td>\n",
       "    </tr>\n",
       "    <tr>\n",
       "      <th>5</th>\n",
       "      <td>100-09-4</td>\n",
       "      <td>7478</td>\n",
       "      <td>ZEYHEAKUIGZSGI-UHFFFAOYSA-N</td>\n",
       "    </tr>\n",
       "    <tr>\n",
       "      <th>6</th>\n",
       "      <td>100-10-7</td>\n",
       "      <td>7479</td>\n",
       "      <td>BGNGWHSBYQYVRX-UHFFFAOYSA-N</td>\n",
       "    </tr>\n",
       "    <tr>\n",
       "      <th>7</th>\n",
       "      <td>100-11-8</td>\n",
       "      <td>66011</td>\n",
       "      <td>VOLRSQPSJGXRNJ-UHFFFAOYSA-N</td>\n",
       "    </tr>\n",
       "    <tr>\n",
       "      <th>8</th>\n",
       "      <td>100-12-9</td>\n",
       "      <td>7480</td>\n",
       "      <td>RESTWAHJFMZUIZ-UHFFFAOYSA-N</td>\n",
       "    </tr>\n",
       "    <tr>\n",
       "      <th>9</th>\n",
       "      <td>100-14-1</td>\n",
       "      <td>7482</td>\n",
       "      <td>KGCNHWXDPDPSBV-UHFFFAOYSA-N</td>\n",
       "    </tr>\n",
       "  </tbody>\n",
       "</table>\n",
       "</div>"
      ],
      "text/plain": [
       "      CASRN    CID                     InChIKey\n",
       "0  100-00-5   7474  CZGCEKJOLUNIFY-UHFFFAOYSA-N\n",
       "1  100-01-6   7475  TYMLOMAKGOJONV-UHFFFAOYSA-N\n",
       "2  100-02-7    980  BTJIUGUIPKRLHP-UHFFFAOYSA-N\n",
       "3  100-06-1   7476  NTPLXRHDUXRPNE-UHFFFAOYSA-N\n",
       "4  100-07-2   7477  MXMOTZIXVICDSD-UHFFFAOYSA-N\n",
       "5  100-09-4   7478  ZEYHEAKUIGZSGI-UHFFFAOYSA-N\n",
       "6  100-10-7   7479  BGNGWHSBYQYVRX-UHFFFAOYSA-N\n",
       "7  100-11-8  66011  VOLRSQPSJGXRNJ-UHFFFAOYSA-N\n",
       "8  100-12-9   7480  RESTWAHJFMZUIZ-UHFFFAOYSA-N\n",
       "9  100-14-1   7482  KGCNHWXDPDPSBV-UHFFFAOYSA-N"
      ]
     },
     "execution_count": 2,
     "metadata": {},
     "output_type": "execute_result"
    }
   ],
   "source": [
    "mdata = pd.read_csv(MD_RESULTS)\n",
    "ids = mdata.iloc[:,[0,1]]\n",
    "q = len(ids)\n",
    "print(q, \"identifier correspondences\")\n",
    "\n",
    "# Check first assumption\n",
    "assert len(ids.drop_duplicates()) == len(ids)\n",
    "\n",
    "inchikeys = pd.read_csv(CID_INCHIKEY)\n",
    "inchikeys = inchikeys.iloc[:,[0,1]]\n",
    "print(len(inchikeys), \"CID-InChIKey mappings\")\n",
    "\n",
    "# Check second assumption\n",
    "assert len(inchikeys.drop_duplicates()) == len(inchikeys.drop_duplicates(subset='CID'))\n",
    "\n",
    "ids = ids.merge(inchikeys, on='CID', how='inner', sort=True).drop_duplicates()\n",
    "print(len(ids), \"identifier correspondences with InChIKeys\")\n",
    "# Can't have any extra or missing rows.\n",
    "assert len(ids) == q\n",
    "# Can't have any missing values, or something is wrong.\n",
    "assert all(ids.notnull())\n",
    "\n",
    "# Make sure it is sorted by CASRN then by CID.\n",
    "ids.sort_values(by=['CASRN', 'CID'], inplace=True)\n",
    "ids.reset_index(drop=True, inplace=True)\n",
    "\n",
    "ids.head(10)"
   ]
  },
  {
   "cell_type": "markdown",
   "metadata": {},
   "source": [
    "## Calculate degrees of mapping for each ID\n",
    "\n",
    "Determine which IDs are mapped 1:1, ..., n:m. Not sure what the correct terminology is, but anyway, we need to compute two values for each row:\n",
    "\n",
    "- For every CASRN, how many CIDs have been associated with that CASRN? I'll call this `n_cid_casrn`.\n",
    "- For every CID, how many CASRNs have been associated with that CID? I'll call this `n_casrn_cid`.\n",
    "\n",
    "I compute these values for each *unique* CASRN or CID, and then add the appropriate corresponding value to every (CASRN, CID) row in the DataFrame."
   ]
  },
  {
   "cell_type": "code",
   "execution_count": 3,
   "metadata": {
    "collapsed": false,
    "scrolled": true
   },
   "outputs": [
    {
     "data": {
      "text/html": [
       "<div>\n",
       "<table border=\"1\" class=\"dataframe\">\n",
       "  <thead>\n",
       "    <tr style=\"text-align: right;\">\n",
       "      <th></th>\n",
       "      <th>CASRN</th>\n",
       "      <th>CID</th>\n",
       "      <th>InChIKey</th>\n",
       "      <th>n_cid_casrn</th>\n",
       "      <th>n_casrn_cid</th>\n",
       "    </tr>\n",
       "  </thead>\n",
       "  <tbody>\n",
       "    <tr>\n",
       "      <th>0</th>\n",
       "      <td>100-00-5</td>\n",
       "      <td>7474</td>\n",
       "      <td>CZGCEKJOLUNIFY-UHFFFAOYSA-N</td>\n",
       "      <td>1</td>\n",
       "      <td>1</td>\n",
       "    </tr>\n",
       "    <tr>\n",
       "      <th>1</th>\n",
       "      <td>100-01-6</td>\n",
       "      <td>7475</td>\n",
       "      <td>TYMLOMAKGOJONV-UHFFFAOYSA-N</td>\n",
       "      <td>1</td>\n",
       "      <td>1</td>\n",
       "    </tr>\n",
       "    <tr>\n",
       "      <th>2</th>\n",
       "      <td>100-02-7</td>\n",
       "      <td>980</td>\n",
       "      <td>BTJIUGUIPKRLHP-UHFFFAOYSA-N</td>\n",
       "      <td>1</td>\n",
       "      <td>1</td>\n",
       "    </tr>\n",
       "    <tr>\n",
       "      <th>3</th>\n",
       "      <td>100-06-1</td>\n",
       "      <td>7476</td>\n",
       "      <td>NTPLXRHDUXRPNE-UHFFFAOYSA-N</td>\n",
       "      <td>1</td>\n",
       "      <td>1</td>\n",
       "    </tr>\n",
       "    <tr>\n",
       "      <th>4</th>\n",
       "      <td>100-07-2</td>\n",
       "      <td>7477</td>\n",
       "      <td>MXMOTZIXVICDSD-UHFFFAOYSA-N</td>\n",
       "      <td>1</td>\n",
       "      <td>1</td>\n",
       "    </tr>\n",
       "  </tbody>\n",
       "</table>\n",
       "</div>"
      ],
      "text/plain": [
       "      CASRN   CID                     InChIKey  n_cid_casrn  n_casrn_cid\n",
       "0  100-00-5  7474  CZGCEKJOLUNIFY-UHFFFAOYSA-N            1            1\n",
       "1  100-01-6  7475  TYMLOMAKGOJONV-UHFFFAOYSA-N            1            1\n",
       "2  100-02-7   980  BTJIUGUIPKRLHP-UHFFFAOYSA-N            1            1\n",
       "3  100-06-1  7476  NTPLXRHDUXRPNE-UHFFFAOYSA-N            1            1\n",
       "4  100-07-2  7477  MXMOTZIXVICDSD-UHFFFAOYSA-N            1            1"
      ]
     },
     "execution_count": 3,
     "metadata": {},
     "output_type": "execute_result"
    }
   ],
   "source": [
    "# Compute number of CIDs for each unique CASRN.\n",
    "n_cid_casrn = ids[['CASRN', 'CID']].groupby('CASRN').count()\n",
    "ids['n_cid_casrn'] = ids['CASRN'].apply(lambda x: n_cid_casrn.loc[x, 'CID'])\n",
    "\n",
    "# Compute number of CASRNs for each unique CID.\n",
    "n_casrn_cid = ids[['CASRN', 'CID']].groupby('CID').count()\n",
    "ids['n_casrn_cid'] = ids['CID'].apply(lambda x: n_casrn_cid.loc[x, 'CASRN'])\n",
    "\n",
    "ids.head()"
   ]
  },
  {
   "cell_type": "markdown",
   "metadata": {},
   "source": [
    "### Plot\n",
    "\n",
    "Histograms of CAS and CID degrees-of-mapping show that this dataset is predominantly 1:1 mapping."
   ]
  },
  {
   "cell_type": "code",
   "execution_count": 4,
   "metadata": {
    "collapsed": false,
    "scrolled": false
   },
   "outputs": [
    {
     "data": {
      "text/plain": [
       "array([[<matplotlib.axes._subplots.AxesSubplot object at 0x7f9c93cea128>,\n",
       "        <matplotlib.axes._subplots.AxesSubplot object at 0x7f9c93c4b3c8>]], dtype=object)"
      ]
     },
     "execution_count": 4,
     "metadata": {},
     "output_type": "execute_result"
    },
    {
     "data": {
      "image/png": "[encoded data removed]",
      "text/plain": [
       "<matplotlib.figure.Figure at 0x7f9c94f12d30>"
      ]
     },
     "metadata": {},
     "output_type": "display_data"
    }
   ],
   "source": [
    "%matplotlib inline\n",
    "ids.hist(column=['n_cid_casrn', 'n_casrn_cid'])"
   ]
  },
  {
   "cell_type": "markdown",
   "metadata": {},
   "source": [
    "## Separate the 1:1 mappings\n",
    "\n",
    "We now have the first set of 1:1 correspondences."
   ]
  },
  {
   "cell_type": "code",
   "execution_count": 5,
   "metadata": {
    "collapsed": false,
    "scrolled": true
   },
   "outputs": [
    {
     "name": "stdout",
     "output_type": "stream",
     "text": [
      "18729 1:1 CASRN-CID mappings\n"
     ]
    },
    {
     "data": {
      "text/html": [
       "<div>\n",
       "<table border=\"1\" class=\"dataframe\">\n",
       "  <thead>\n",
       "    <tr style=\"text-align: right;\">\n",
       "      <th></th>\n",
       "      <th>CASRN</th>\n",
       "      <th>CID</th>\n",
       "      <th>InChIKey</th>\n",
       "      <th>n_cid_casrn</th>\n",
       "      <th>n_casrn_cid</th>\n",
       "    </tr>\n",
       "  </thead>\n",
       "  <tbody>\n",
       "    <tr>\n",
       "      <th>0</th>\n",
       "      <td>100-00-5</td>\n",
       "      <td>7474</td>\n",
       "      <td>CZGCEKJOLUNIFY-UHFFFAOYSA-N</td>\n",
       "      <td>1</td>\n",
       "      <td>1</td>\n",
       "    </tr>\n",
       "    <tr>\n",
       "      <th>1</th>\n",
       "      <td>100-01-6</td>\n",
       "      <td>7475</td>\n",
       "      <td>TYMLOMAKGOJONV-UHFFFAOYSA-N</td>\n",
       "      <td>1</td>\n",
       "      <td>1</td>\n",
       "    </tr>\n",
       "    <tr>\n",
       "      <th>2</th>\n",
       "      <td>100-02-7</td>\n",
       "      <td>980</td>\n",
       "      <td>BTJIUGUIPKRLHP-UHFFFAOYSA-N</td>\n",
       "      <td>1</td>\n",
       "      <td>1</td>\n",
       "    </tr>\n",
       "    <tr>\n",
       "      <th>3</th>\n",
       "      <td>100-06-1</td>\n",
       "      <td>7476</td>\n",
       "      <td>NTPLXRHDUXRPNE-UHFFFAOYSA-N</td>\n",
       "      <td>1</td>\n",
       "      <td>1</td>\n",
       "    </tr>\n",
       "    <tr>\n",
       "      <th>4</th>\n",
       "      <td>100-07-2</td>\n",
       "      <td>7477</td>\n",
       "      <td>MXMOTZIXVICDSD-UHFFFAOYSA-N</td>\n",
       "      <td>1</td>\n",
       "      <td>1</td>\n",
       "    </tr>\n",
       "  </tbody>\n",
       "</table>\n",
       "</div>"
      ],
      "text/plain": [
       "      CASRN   CID                     InChIKey  n_cid_casrn  n_casrn_cid\n",
       "0  100-00-5  7474  CZGCEKJOLUNIFY-UHFFFAOYSA-N            1            1\n",
       "1  100-01-6  7475  TYMLOMAKGOJONV-UHFFFAOYSA-N            1            1\n",
       "2  100-02-7   980  BTJIUGUIPKRLHP-UHFFFAOYSA-N            1            1\n",
       "3  100-06-1  7476  NTPLXRHDUXRPNE-UHFFFAOYSA-N            1            1\n",
       "4  100-07-2  7477  MXMOTZIXVICDSD-UHFFFAOYSA-N            1            1"
      ]
     },
     "execution_count": 5,
     "metadata": {},
     "output_type": "execute_result"
    }
   ],
   "source": [
    "mapped_11 = ids[(ids.n_casrn_cid == 1) & (ids.n_cid_casrn == 1)]\n",
    "print(len(mapped_11), '1:1 CASRN-CID mappings')\n",
    "mapped_11.head()"
   ]
  },
  {
   "cell_type": "markdown",
   "metadata": {},
   "source": [
    "### Plot degrees of remaining n:m correspondences\n",
    "\n",
    "The rest of the `ids` DataFrame contains associations for which there is either more than one CID, more than one CASRN, or both. Here are histograms of CAS and CID degrees-of-mapping once we have removed 1:1 mappings."
   ]
  },
  {
   "cell_type": "code",
   "execution_count": 6,
   "metadata": {
    "collapsed": false
   },
   "outputs": [
    {
     "data": {
      "text/plain": [
       "array([[<matplotlib.axes._subplots.AxesSubplot object at 0x7f9c94f125f8>,\n",
       "        <matplotlib.axes._subplots.AxesSubplot object at 0x7f9c9399f2b0>]], dtype=object)"
      ]
     },
     "execution_count": 6,
     "metadata": {},
     "output_type": "execute_result"
    },
    {
     "data": {
      "image/png": "[encoded data removed]",
      "text/plain": [
       "<matplotlib.figure.Figure at 0x7f9c93c7ccc0>"
      ]
     },
     "metadata": {},
     "output_type": "display_data"
    }
   ],
   "source": [
    "# %matplotlib inline\n",
    "ids[(ids.n_casrn_cid > 1) | (ids.n_cid_casrn > 1)].hist(column=['n_cid_casrn', 'n_casrn_cid'])"
   ]
  },
  {
   "cell_type": "markdown",
   "metadata": {},
   "source": [
    "# Step 2. Find 1:n CASRN:CID mappings that are structually feasible\n",
    "\n",
    "### Goal\n",
    "\n",
    "Accept CASRN-CID mappings where multiple CIDs were associated to a single CASRN (i.e., none of those CIDs were associated with other CASRNs), *and* all of those CIDs represent compounds having the same structural skeleton (excluding steroisomerism, tautomerism, ionization, etc.).\n",
    "\n",
    "Michel's notes: \"if this CID is associated with only one CASRN AND any other CIDs associated with this CASRN have the same InChIKey, then import.\"\n",
    "\n",
    "### Selection logic\n",
    "\n",
    "In Michel's spreadsheet the following test to determines whether to accept a correspondence:\n",
    "\n",
    "1. the number of CASRNs associated with the CID is 1; AND\n",
    "2. the number of CIDS associated with the CASRN == the number of occurrences of the structural skeleton associated with the CASRN throughout the whole dataset.\n",
    "\n",
    "I will use a different logical operation for the second part of the test than Michel did, just because it makes more intuitive sense to me and is a simpler operation in pandas:\n",
    "\n",
    "1. the number of CASRNs associated with the CID is 1 (below, `n_casrn_cid == 1`); AND\n",
    "2. the number of unique structural skeletons associated with the CASRN throughout the whole dataset is 1 (below, `n_key_casrn` == 1).\n",
    "\n",
    "**I will try both and check whether they're equivalent.**"
   ]
  },
  {
   "cell_type": "code",
   "execution_count": 7,
   "metadata": {
    "collapsed": true
   },
   "outputs": [],
   "source": [
    "# Needed for both approaches: isolate the structural base layer from each InChIKey.\n",
    "ids['key'] = ids['InChIKey'].apply(lambda x: str(x)[:14])"
   ]
  },
  {
   "cell_type": "markdown",
   "metadata": {},
   "source": [
    "## Step 2, Spreadsheet approach\n",
    "\n",
    "This is what is done in the spreadsheet... I think!\n",
    "\n",
    "- Compute the number of CASRNs associated with the CID is 1 (`n_casrn_cid == 1`, already done)\n",
    "- Compute the number of CIDS associated with the CASRN (`n_cid_casrn`, already done)\n",
    "- Compute the number of times the CASRN and the base structure key occur together (i.e., \"instances of CAS-InChIKey\", which I will call `f_key_casrn`)\n",
    "    - **This must be computed using the whole dataset! (Not just for the set of 1:n associations.) Otherwise the results are bogus.**\n",
    "- Test condition: An association is OK if `n_casrn_cid == 1` AND `n_cid_casrn == f_key_casrn`."
   ]
  },
  {
   "cell_type": "code",
   "execution_count": 8,
   "metadata": {
    "collapsed": false
   },
   "outputs": [
    {
     "data": {
      "text/html": [
       "<div>\n",
       "<table border=\"1\" class=\"dataframe\">\n",
       "  <thead>\n",
       "    <tr style=\"text-align: right;\">\n",
       "      <th></th>\n",
       "      <th>CASRN</th>\n",
       "      <th>CID</th>\n",
       "      <th>InChIKey</th>\n",
       "      <th>n_cid_casrn</th>\n",
       "      <th>n_casrn_cid</th>\n",
       "      <th>key</th>\n",
       "      <th>f_key_casrn</th>\n",
       "    </tr>\n",
       "  </thead>\n",
       "  <tbody>\n",
       "    <tr>\n",
       "      <th>0</th>\n",
       "      <td>100-00-5</td>\n",
       "      <td>7474</td>\n",
       "      <td>CZGCEKJOLUNIFY-UHFFFAOYSA-N</td>\n",
       "      <td>1</td>\n",
       "      <td>1</td>\n",
       "      <td>CZGCEKJOLUNIFY</td>\n",
       "      <td>1</td>\n",
       "    </tr>\n",
       "    <tr>\n",
       "      <th>1</th>\n",
       "      <td>100-01-6</td>\n",
       "      <td>7475</td>\n",
       "      <td>TYMLOMAKGOJONV-UHFFFAOYSA-N</td>\n",
       "      <td>1</td>\n",
       "      <td>1</td>\n",
       "      <td>TYMLOMAKGOJONV</td>\n",
       "      <td>1</td>\n",
       "    </tr>\n",
       "    <tr>\n",
       "      <th>2</th>\n",
       "      <td>100-02-7</td>\n",
       "      <td>980</td>\n",
       "      <td>BTJIUGUIPKRLHP-UHFFFAOYSA-N</td>\n",
       "      <td>1</td>\n",
       "      <td>1</td>\n",
       "      <td>BTJIUGUIPKRLHP</td>\n",
       "      <td>1</td>\n",
       "    </tr>\n",
       "    <tr>\n",
       "      <th>3</th>\n",
       "      <td>100-06-1</td>\n",
       "      <td>7476</td>\n",
       "      <td>NTPLXRHDUXRPNE-UHFFFAOYSA-N</td>\n",
       "      <td>1</td>\n",
       "      <td>1</td>\n",
       "      <td>NTPLXRHDUXRPNE</td>\n",
       "      <td>1</td>\n",
       "    </tr>\n",
       "    <tr>\n",
       "      <th>4</th>\n",
       "      <td>100-07-2</td>\n",
       "      <td>7477</td>\n",
       "      <td>MXMOTZIXVICDSD-UHFFFAOYSA-N</td>\n",
       "      <td>1</td>\n",
       "      <td>1</td>\n",
       "      <td>MXMOTZIXVICDSD</td>\n",
       "      <td>1</td>\n",
       "    </tr>\n",
       "  </tbody>\n",
       "</table>\n",
       "</div>"
      ],
      "text/plain": [
       "      CASRN   CID                     InChIKey  n_cid_casrn  n_casrn_cid  \\\n",
       "0  100-00-5  7474  CZGCEKJOLUNIFY-UHFFFAOYSA-N            1            1   \n",
       "1  100-01-6  7475  TYMLOMAKGOJONV-UHFFFAOYSA-N            1            1   \n",
       "2  100-02-7   980  BTJIUGUIPKRLHP-UHFFFAOYSA-N            1            1   \n",
       "3  100-06-1  7476  NTPLXRHDUXRPNE-UHFFFAOYSA-N            1            1   \n",
       "4  100-07-2  7477  MXMOTZIXVICDSD-UHFFFAOYSA-N            1            1   \n",
       "\n",
       "              key  f_key_casrn  \n",
       "0  CZGCEKJOLUNIFY            1  \n",
       "1  TYMLOMAKGOJONV            1  \n",
       "2  BTJIUGUIPKRLHP            1  \n",
       "3  NTPLXRHDUXRPNE            1  \n",
       "4  MXMOTZIXVICDSD            1  "
      ]
     },
     "execution_count": 8,
     "metadata": {},
     "output_type": "execute_result"
    }
   ],
   "source": [
    "# This is a hack to compute \"instances of CAS-InChIKey\".\n",
    "ids['caskey'] = ids.CASRN.astype(str) + ids.key.astype(str)\n",
    "counts = ids['caskey'].reset_index().groupby('caskey').count()\n",
    "ids['f_key_casrn'] = ids['caskey'].apply(lambda x: counts['index'][x])\n",
    "ids.drop('caskey', axis=1).sort_values(by='CASRN').head()"
   ]
  },
  {
   "cell_type": "markdown",
   "metadata": {},
   "source": [
    "## Apply the test condition"
   ]
  },
  {
   "cell_type": "code",
   "execution_count": 9,
   "metadata": {
    "collapsed": false
   },
   "outputs": [
    {
     "name": "stdout",
     "output_type": "stream",
     "text": [
      "4528 CASRN-CID associations with multiple CIDs\n",
      "Compare-counts method: 3364 bulk import\n",
      "Compare-counts method: 1164 resolve later\n"
     ]
    }
   ],
   "source": [
    "alt1n = ids[(ids.n_casrn_cid == 1) & (ids.n_cid_casrn > 1)].copy()\n",
    "print(len(alt1n), 'CASRN-CID associations with multiple CIDs')\n",
    "\n",
    "alt_mapped_1n = alt1n[alt1n['n_cid_casrn'] == alt1n['f_key_casrn']]  #.copy().drop('key', axis=1)\n",
    "alt_unmapped_1n = alt1n[alt1n['n_cid_casrn'] != alt1n['f_key_casrn']]  #.copy().drop('key', axis=1)\n",
    "\n",
    "print('Compare-counts method:', len(alt_mapped_1n), 'bulk import')\n",
    "print('Compare-counts method:', len(alt_unmapped_1n), 'resolve later')"
   ]
  },
  {
   "cell_type": "markdown",
   "metadata": {},
   "source": [
    "## Step 2, Groupby/count-unique method\n",
    "\n",
    "### Outline of the code below\n",
    "\n",
    "- Create a new DataFrame that contains all identifier correspondences where one CASRN maps to multiple CID.\n",
    "- Split off the first 14 characters of each InChIKey (i.e. a hash of the connectivity layer of the InChI) to use as a proxy identifier for structural skeletons.\n",
    "- Use the pandas `groupby` and `nunique` methods to determine how many unique base structures are associated with each CASRN (via the CIDs).\n",
    "- Apply the selection logic to determine which IDs can be mapped acceptably, and which cannot.\n",
    "\n",
    "We'll see if we get the same answer as the spreadsheet method."
   ]
  },
  {
   "cell_type": "markdown",
   "metadata": {},
   "source": [
    "## Compute degree of structural mapping for each set of 1:n CASRN:CIDs\n",
    "\n",
    "For every CASRN, how many unique structural skeletons have been associated with that CASRN in the dataset? I'll call this `n_key_casrn`. \n",
    "\n",
    "**This must be computed using the whole dataset! (Not just for the set of 1:n associations.) Otherwise the results are bogus.**"
   ]
  },
  {
   "cell_type": "code",
   "execution_count": 10,
   "metadata": {
    "collapsed": false,
    "scrolled": false
   },
   "outputs": [],
   "source": [
    "n_key_casrn = ids[['CASRN', 'key']].groupby('CASRN')['key'].nunique()\n",
    "ids['n_key_casrn'] = ids['CASRN'].apply(lambda x: n_key_casrn[x])"
   ]
  },
  {
   "cell_type": "markdown",
   "metadata": {},
   "source": [
    "## Apply the test condition to find acceptable 1:n mappings"
   ]
  },
  {
   "cell_type": "code",
   "execution_count": 11,
   "metadata": {
    "collapsed": false
   },
   "outputs": [
    {
     "name": "stdout",
     "output_type": "stream",
     "text": [
      "4528 CASRN-CID associations with multiple CIDs\n",
      "3364 1:n CASRN:CID associations all sharing the same base structure\n"
     ]
    },
    {
     "data": {
      "text/html": [
       "<div>\n",
       "<table border=\"1\" class=\"dataframe\">\n",
       "  <thead>\n",
       "    <tr style=\"text-align: right;\">\n",
       "      <th></th>\n",
       "      <th>CASRN</th>\n",
       "      <th>CID</th>\n",
       "      <th>InChIKey</th>\n",
       "      <th>n_cid_casrn</th>\n",
       "      <th>n_casrn_cid</th>\n",
       "      <th>key</th>\n",
       "      <th>caskey</th>\n",
       "      <th>f_key_casrn</th>\n",
       "      <th>n_key_casrn</th>\n",
       "    </tr>\n",
       "  </thead>\n",
       "  <tbody>\n",
       "    <tr>\n",
       "      <th>44</th>\n",
       "      <td>100-59-4</td>\n",
       "      <td>7513</td>\n",
       "      <td>IWCVDCOJSPWGRW-UHFFFAOYSA-M</td>\n",
       "      <td>2</td>\n",
       "      <td>1</td>\n",
       "      <td>IWCVDCOJSPWGRW</td>\n",
       "      <td>100-59-4IWCVDCOJSPWGRW</td>\n",
       "      <td>2</td>\n",
       "      <td>1</td>\n",
       "    </tr>\n",
       "    <tr>\n",
       "      <th>45</th>\n",
       "      <td>100-59-4</td>\n",
       "      <td>6093176</td>\n",
       "      <td>IWCVDCOJSPWGRW-UHFFFAOYSA-M</td>\n",
       "      <td>2</td>\n",
       "      <td>1</td>\n",
       "      <td>IWCVDCOJSPWGRW</td>\n",
       "      <td>100-59-4IWCVDCOJSPWGRW</td>\n",
       "      <td>2</td>\n",
       "      <td>1</td>\n",
       "    </tr>\n",
       "    <tr>\n",
       "      <th>73</th>\n",
       "      <td>10016-20-3</td>\n",
       "      <td>24796</td>\n",
       "      <td>HFHDHCJBZVLPGP-JSPYPFAESA-N</td>\n",
       "      <td>4</td>\n",
       "      <td>1</td>\n",
       "      <td>HFHDHCJBZVLPGP</td>\n",
       "      <td>10016-20-3HFHDHCJBZVLPGP</td>\n",
       "      <td>4</td>\n",
       "      <td>1</td>\n",
       "    </tr>\n",
       "    <tr>\n",
       "      <th>74</th>\n",
       "      <td>10016-20-3</td>\n",
       "      <td>320760</td>\n",
       "      <td>HFHDHCJBZVLPGP-UHFFFAOYSA-N</td>\n",
       "      <td>4</td>\n",
       "      <td>1</td>\n",
       "      <td>HFHDHCJBZVLPGP</td>\n",
       "      <td>10016-20-3HFHDHCJBZVLPGP</td>\n",
       "      <td>4</td>\n",
       "      <td>1</td>\n",
       "    </tr>\n",
       "    <tr>\n",
       "      <th>75</th>\n",
       "      <td>10016-20-3</td>\n",
       "      <td>444913</td>\n",
       "      <td>HFHDHCJBZVLPGP-RWMJIURBSA-N</td>\n",
       "      <td>4</td>\n",
       "      <td>1</td>\n",
       "      <td>HFHDHCJBZVLPGP</td>\n",
       "      <td>10016-20-3HFHDHCJBZVLPGP</td>\n",
       "      <td>4</td>\n",
       "      <td>1</td>\n",
       "    </tr>\n",
       "  </tbody>\n",
       "</table>\n",
       "</div>"
      ],
      "text/plain": [
       "         CASRN      CID                     InChIKey  n_cid_casrn  \\\n",
       "44    100-59-4     7513  IWCVDCOJSPWGRW-UHFFFAOYSA-M            2   \n",
       "45    100-59-4  6093176  IWCVDCOJSPWGRW-UHFFFAOYSA-M            2   \n",
       "73  10016-20-3    24796  HFHDHCJBZVLPGP-JSPYPFAESA-N            4   \n",
       "74  10016-20-3   320760  HFHDHCJBZVLPGP-UHFFFAOYSA-N            4   \n",
       "75  10016-20-3   444913  HFHDHCJBZVLPGP-RWMJIURBSA-N            4   \n",
       "\n",
       "    n_casrn_cid             key                    caskey  f_key_casrn  \\\n",
       "44            1  IWCVDCOJSPWGRW    100-59-4IWCVDCOJSPWGRW            2   \n",
       "45            1  IWCVDCOJSPWGRW    100-59-4IWCVDCOJSPWGRW            2   \n",
       "73            1  HFHDHCJBZVLPGP  10016-20-3HFHDHCJBZVLPGP            4   \n",
       "74            1  HFHDHCJBZVLPGP  10016-20-3HFHDHCJBZVLPGP            4   \n",
       "75            1  HFHDHCJBZVLPGP  10016-20-3HFHDHCJBZVLPGP            4   \n",
       "\n",
       "    n_key_casrn  \n",
       "44            1  \n",
       "45            1  \n",
       "73            1  \n",
       "74            1  \n",
       "75            1  "
      ]
     },
     "execution_count": 11,
     "metadata": {},
     "output_type": "execute_result"
    }
   ],
   "source": [
    "df1n = ids[(ids.n_casrn_cid == 1) & (ids.n_cid_casrn > 1)].copy()\n",
    "print(len(df1n), 'CASRN-CID associations with multiple CIDs')\n",
    "mapped_1n = df1n[df1n['n_key_casrn'] == 1]  #.copy().drop('key', axis=1)\n",
    "print(len(mapped_1n), '1:n CASRN:CID associations all sharing the same base structure')\n",
    "mapped_1n.head()"
   ]
  },
  {
   "cell_type": "code",
   "execution_count": 12,
   "metadata": {
    "collapsed": false,
    "scrolled": true
   },
   "outputs": [
    {
     "name": "stdout",
     "output_type": "stream",
     "text": [
      "1164 1:n CASRN:CID associations with more than one base structure\n"
     ]
    },
    {
     "data": {
      "text/html": [
       "<div>\n",
       "<table border=\"1\" class=\"dataframe\">\n",
       "  <thead>\n",
       "    <tr style=\"text-align: right;\">\n",
       "      <th></th>\n",
       "      <th>CASRN</th>\n",
       "      <th>CID</th>\n",
       "      <th>InChIKey</th>\n",
       "      <th>n_cid_casrn</th>\n",
       "      <th>n_casrn_cid</th>\n",
       "      <th>key</th>\n",
       "      <th>caskey</th>\n",
       "      <th>f_key_casrn</th>\n",
       "      <th>n_key_casrn</th>\n",
       "    </tr>\n",
       "  </thead>\n",
       "  <tbody>\n",
       "    <tr>\n",
       "      <th>387</th>\n",
       "      <td>10190-68-8</td>\n",
       "      <td>25037</td>\n",
       "      <td>WLDNGJFRVWQASY-UHFFFAOYSA-L</td>\n",
       "      <td>3</td>\n",
       "      <td>1</td>\n",
       "      <td>WLDNGJFRVWQASY</td>\n",
       "      <td>10190-68-8WLDNGJFRVWQASY</td>\n",
       "      <td>1</td>\n",
       "      <td>3</td>\n",
       "    </tr>\n",
       "    <tr>\n",
       "      <th>388</th>\n",
       "      <td>10190-68-8</td>\n",
       "      <td>25038</td>\n",
       "      <td>JEPNNQGUMUZZHF-UHFFFAOYSA-N</td>\n",
       "      <td>3</td>\n",
       "      <td>1</td>\n",
       "      <td>JEPNNQGUMUZZHF</td>\n",
       "      <td>10190-68-8JEPNNQGUMUZZHF</td>\n",
       "      <td>1</td>\n",
       "      <td>3</td>\n",
       "    </tr>\n",
       "    <tr>\n",
       "      <th>389</th>\n",
       "      <td>10190-68-8</td>\n",
       "      <td>54607659</td>\n",
       "      <td>YWBRZBKWNIBDDD-UHFFFAOYSA-N</td>\n",
       "      <td>3</td>\n",
       "      <td>1</td>\n",
       "      <td>YWBRZBKWNIBDDD</td>\n",
       "      <td>10190-68-8YWBRZBKWNIBDDD</td>\n",
       "      <td>1</td>\n",
       "      <td>3</td>\n",
       "    </tr>\n",
       "    <tr>\n",
       "      <th>409</th>\n",
       "      <td>10197-71-4</td>\n",
       "      <td>18764219</td>\n",
       "      <td>IZUPJOYPPLEPGM-UHFFFAOYSA-N</td>\n",
       "      <td>3</td>\n",
       "      <td>1</td>\n",
       "      <td>IZUPJOYPPLEPGM</td>\n",
       "      <td>10197-71-4IZUPJOYPPLEPGM</td>\n",
       "      <td>2</td>\n",
       "      <td>2</td>\n",
       "    </tr>\n",
       "    <tr>\n",
       "      <th>410</th>\n",
       "      <td>10197-71-4</td>\n",
       "      <td>23668795</td>\n",
       "      <td>IZUPJOYPPLEPGM-UHFFFAOYSA-M</td>\n",
       "      <td>3</td>\n",
       "      <td>1</td>\n",
       "      <td>IZUPJOYPPLEPGM</td>\n",
       "      <td>10197-71-4IZUPJOYPPLEPGM</td>\n",
       "      <td>2</td>\n",
       "      <td>2</td>\n",
       "    </tr>\n",
       "  </tbody>\n",
       "</table>\n",
       "</div>"
      ],
      "text/plain": [
       "          CASRN       CID                     InChIKey  n_cid_casrn  \\\n",
       "387  10190-68-8     25037  WLDNGJFRVWQASY-UHFFFAOYSA-L            3   \n",
       "388  10190-68-8     25038  JEPNNQGUMUZZHF-UHFFFAOYSA-N            3   \n",
       "389  10190-68-8  54607659  YWBRZBKWNIBDDD-UHFFFAOYSA-N            3   \n",
       "409  10197-71-4  18764219  IZUPJOYPPLEPGM-UHFFFAOYSA-N            3   \n",
       "410  10197-71-4  23668795  IZUPJOYPPLEPGM-UHFFFAOYSA-M            3   \n",
       "\n",
       "     n_casrn_cid             key                    caskey  f_key_casrn  \\\n",
       "387            1  WLDNGJFRVWQASY  10190-68-8WLDNGJFRVWQASY            1   \n",
       "388            1  JEPNNQGUMUZZHF  10190-68-8JEPNNQGUMUZZHF            1   \n",
       "389            1  YWBRZBKWNIBDDD  10190-68-8YWBRZBKWNIBDDD            1   \n",
       "409            1  IZUPJOYPPLEPGM  10197-71-4IZUPJOYPPLEPGM            2   \n",
       "410            1  IZUPJOYPPLEPGM  10197-71-4IZUPJOYPPLEPGM            2   \n",
       "\n",
       "     n_key_casrn  \n",
       "387            3  \n",
       "388            3  \n",
       "389            3  \n",
       "409            2  \n",
       "410            2  "
      ]
     },
     "execution_count": 12,
     "metadata": {},
     "output_type": "execute_result"
    }
   ],
   "source": [
    "unmapped_1n = df1n[df1n['n_key_casrn'] > 1]#  .copy().drop('key', axis=1)\n",
    "print(len(unmapped_1n), '1:n CASRN:CID associations with more than one base structure')\n",
    "unmapped_1n.head()"
   ]
  },
  {
   "cell_type": "markdown",
   "metadata": {},
   "source": [
    "### Plot distribution of number of unique base-structures per CASRN in the 1:n set"
   ]
  },
  {
   "cell_type": "code",
   "execution_count": 13,
   "metadata": {
    "collapsed": false
   },
   "outputs": [
    {
     "data": {
      "text/plain": [
       "<matplotlib.axes._subplots.AxesSubplot at 0x7f9c938ca128>"
      ]
     },
     "execution_count": 13,
     "metadata": {},
     "output_type": "execute_result"
    },
    {
     "data": {
      "image/png": "[encoded data removed]",
      "text/plain": [
       "<matplotlib.figure.Figure at 0x7f9c93976fd0>"
      ]
     },
     "metadata": {},
     "output_type": "display_data"
    }
   ],
   "source": [
    "df1n.n_key_casrn.hist()"
   ]
  },
  {
   "cell_type": "markdown",
   "metadata": {},
   "source": [
    "### Summarize results of this method for 1:n mappings"
   ]
  },
  {
   "cell_type": "code",
   "execution_count": 14,
   "metadata": {
    "collapsed": false
   },
   "outputs": [
    {
     "name": "stdout",
     "output_type": "stream",
     "text": [
      "Groupby/count-unique method: 3364 bulk import\n",
      "Groupby/count-unique method: 1164 resolve later\n"
     ]
    }
   ],
   "source": [
    "print('Groupby/count-unique method:', len(mapped_1n), 'bulk import')\n",
    "print('Groupby/count-unique method:', len(unmapped_1n), 'resolve later')"
   ]
  },
  {
   "cell_type": "markdown",
   "metadata": {},
   "source": [
    "# Step 3 (end of automated workflow)\n",
    "\n",
    "Combine DataFrames of successfully mapped IDs into one, and unmapped IDs (for further, non-automated resolution) into another."
   ]
  },
  {
   "cell_type": "code",
   "execution_count": 15,
   "metadata": {
    "collapsed": false,
    "scrolled": false
   },
   "outputs": [
    {
     "data": {
      "text/html": [
       "<div>\n",
       "<table border=\"1\" class=\"dataframe\">\n",
       "  <thead>\n",
       "    <tr style=\"text-align: right;\">\n",
       "      <th></th>\n",
       "      <th>CASRN</th>\n",
       "      <th>CID</th>\n",
       "      <th>n_cid_casrn</th>\n",
       "      <th>n_casrn_cid</th>\n",
       "      <th>status</th>\n",
       "    </tr>\n",
       "  </thead>\n",
       "  <tbody>\n",
       "    <tr>\n",
       "      <th>25352</th>\n",
       "      <td>999-40-6</td>\n",
       "      <td>5352162</td>\n",
       "      <td>2</td>\n",
       "      <td>1</td>\n",
       "      <td>bulk import</td>\n",
       "    </tr>\n",
       "    <tr>\n",
       "      <th>25353</th>\n",
       "      <td>999-61-1</td>\n",
       "      <td>61249</td>\n",
       "      <td>1</td>\n",
       "      <td>1</td>\n",
       "      <td>bulk import</td>\n",
       "    </tr>\n",
       "    <tr>\n",
       "      <th>25354</th>\n",
       "      <td>999-78-0</td>\n",
       "      <td>136786</td>\n",
       "      <td>1</td>\n",
       "      <td>1</td>\n",
       "      <td>bulk import</td>\n",
       "    </tr>\n",
       "    <tr>\n",
       "      <th>25355</th>\n",
       "      <td>999-81-5</td>\n",
       "      <td>13836</td>\n",
       "      <td>1</td>\n",
       "      <td>1</td>\n",
       "      <td>bulk import</td>\n",
       "    </tr>\n",
       "    <tr>\n",
       "      <th>25356</th>\n",
       "      <td>999-97-3</td>\n",
       "      <td>13838</td>\n",
       "      <td>1</td>\n",
       "      <td>1</td>\n",
       "      <td>bulk import</td>\n",
       "    </tr>\n",
       "  </tbody>\n",
       "</table>\n",
       "</div>"
      ],
      "text/plain": [
       "          CASRN      CID  n_cid_casrn  n_casrn_cid       status\n",
       "25352  999-40-6  5352162            2            1  bulk import\n",
       "25353  999-61-1    61249            1            1  bulk import\n",
       "25354  999-78-0   136786            1            1  bulk import\n",
       "25355  999-81-5    13836            1            1  bulk import\n",
       "25356  999-97-3    13838            1            1  bulk import"
      ]
     },
     "execution_count": 15,
     "metadata": {},
     "output_type": "execute_result"
    }
   ],
   "source": [
    "# Reassign this to include all new columns that we added since...\n",
    "mapped_11 = ids[(ids.n_casrn_cid == 1) & (ids.n_cid_casrn == 1)]\n",
    "\n",
    "mapped = pd.concat([mapped_11, mapped_1n], ignore_index=True)\n",
    "# Set a 'status' column, mainly for comparison to existing results.\n",
    "mapped['status'] = 'bulk import'\n",
    "\n",
    "unmapped = pd.concat([unmapped_1n, ids[ids.n_casrn_cid > 1]], ignore_index=True)\n",
    "unmapped['status'] = 'resolve later'  # Add 'status' column for check.\n",
    "\n",
    "# Make sure we didn't lose or gain any rows of data throughout this process. \n",
    "assert len(mapped) + len(unmapped) == len(ids)\n",
    "\n",
    "# Create a version for export and manual inspection.\n",
    "results_ex = pd.concat([mapped, unmapped], ignore_index=True)\n",
    "results_ex = results_ex[['CASRN', 'CID', 'InChIKey', 'n_cid_casrn', 'n_casrn_cid', 'status']]\n",
    "results_ex.sort_values(by=['CASRN', 'CID'], inplace=True)\n",
    "results_ex.reset_index(drop=True, inplace=True)\n",
    "\n",
    "# Create a version for comparison: eliminate columns not able to compare.\n",
    "results = results_ex.drop('InChIKey', axis=1)\n",
    "\n",
    "results.tail()"
   ]
  },
  {
   "cell_type": "code",
   "execution_count": 16,
   "metadata": {
    "collapsed": false
   },
   "outputs": [
    {
     "data": {
      "text/html": [
       "<div>\n",
       "<table border=\"1\" class=\"dataframe\">\n",
       "  <thead>\n",
       "    <tr style=\"text-align: right;\">\n",
       "      <th></th>\n",
       "      <th>CASRN</th>\n",
       "      <th>CID</th>\n",
       "      <th>n_cid_casrn</th>\n",
       "      <th>n_casrn_cid</th>\n",
       "      <th>status</th>\n",
       "    </tr>\n",
       "  </thead>\n",
       "  <tbody>\n",
       "    <tr>\n",
       "      <th>25352</th>\n",
       "      <td>999-40-6</td>\n",
       "      <td>5352162</td>\n",
       "      <td>2</td>\n",
       "      <td>1</td>\n",
       "      <td>bulk import</td>\n",
       "    </tr>\n",
       "    <tr>\n",
       "      <th>25353</th>\n",
       "      <td>999-61-1</td>\n",
       "      <td>61249</td>\n",
       "      <td>1</td>\n",
       "      <td>1</td>\n",
       "      <td>bulk import</td>\n",
       "    </tr>\n",
       "    <tr>\n",
       "      <th>25354</th>\n",
       "      <td>999-78-0</td>\n",
       "      <td>136786</td>\n",
       "      <td>1</td>\n",
       "      <td>1</td>\n",
       "      <td>bulk import</td>\n",
       "    </tr>\n",
       "    <tr>\n",
       "      <th>25355</th>\n",
       "      <td>999-81-5</td>\n",
       "      <td>13836</td>\n",
       "      <td>1</td>\n",
       "      <td>1</td>\n",
       "      <td>bulk import</td>\n",
       "    </tr>\n",
       "    <tr>\n",
       "      <th>25356</th>\n",
       "      <td>999-97-3</td>\n",
       "      <td>13838</td>\n",
       "      <td>1</td>\n",
       "      <td>1</td>\n",
       "      <td>bulk import</td>\n",
       "    </tr>\n",
       "  </tbody>\n",
       "</table>\n",
       "</div>"
      ],
      "text/plain": [
       "          CASRN      CID  n_cid_casrn  n_casrn_cid       status\n",
       "25352  999-40-6  5352162            2            1  bulk import\n",
       "25353  999-61-1    61249            1            1  bulk import\n",
       "25354  999-78-0   136786            1            1  bulk import\n",
       "25355  999-81-5    13836            1            1  bulk import\n",
       "25356  999-97-3    13838            1            1  bulk import"
      ]
     },
     "execution_count": 16,
     "metadata": {},
     "output_type": "execute_result"
    }
   ],
   "source": [
    "alt_mapped = pd.concat([alt_mapped_1n, mapped_11], ignore_index=True)\n",
    "alt_mapped['status'] = 'bulk import'\n",
    "\n",
    "alt_unmapped = pd.concat([alt_unmapped_1n, ids[ids.n_casrn_cid > 1]], ignore_index=True)\n",
    "alt_unmapped['status'] = 'resolve later'\n",
    "\n",
    "assert len(alt_mapped) + len(alt_unmapped) == len(ids)\n",
    "\n",
    "alt_results = pd.concat([alt_mapped, alt_unmapped], ignore_index=True)\n",
    "alt_results = alt_results[['CASRN', 'CID', 'n_cid_casrn', 'n_casrn_cid', 'status']]\n",
    "alt_results.sort_values(by=['CASRN', 'CID'], inplace=True)\n",
    "alt_results.reset_index(drop=True, inplace=True)\n",
    "\n",
    "alt_results.tail()"
   ]
  },
  {
   "cell_type": "markdown",
   "metadata": {},
   "source": [
    "# Step 4: Check results \n",
    "\n",
    "The methodology for checking if results are the same is as follows: make an elementwise comparison of two DataFrames that should be the same, e.g., `results_A == results_B`, and then call the `all()` method on the resulting boolean DataFrame. If this evaluates to `True` for all columns in the dataset, then they are all the same.\n",
    "\n",
    "## Compare different 1:n methods against each other "
   ]
  },
  {
   "cell_type": "code",
   "execution_count": 17,
   "metadata": {
    "collapsed": false,
    "scrolled": true
   },
   "outputs": [
    {
     "name": "stdout",
     "output_type": "stream",
     "text": [
      "Groupby/count-unique method TOTAL: 22093 bulk import,  3264 resolve later\n",
      "Compare-counts method TOTAL:       22093 bulk import,  3264 resolve later\n"
     ]
    }
   ],
   "source": [
    "print('Groupby/count-unique method TOTAL: {0:>5} bulk import, {1:>5} resolve later'.format(len(mapped), len(unmapped)))\n",
    "print('Compare-counts method TOTAL: {0:>11} bulk import, {1:>5} resolve later'.format(len(alt_mapped), len(alt_unmapped)))"
   ]
  },
  {
   "cell_type": "code",
   "execution_count": 18,
   "metadata": {
    "collapsed": false
   },
   "outputs": [
    {
     "data": {
      "text/plain": [
       "CASRN          True\n",
       "CID            True\n",
       "n_cid_casrn    True\n",
       "n_casrn_cid    True\n",
       "status         True\n",
       "dtype: bool"
      ]
     },
     "execution_count": 18,
     "metadata": {},
     "output_type": "execute_result"
    }
   ],
   "source": [
    "methods_check = results == alt_results\n",
    "methods_check.all()"
   ]
  },
  {
   "cell_type": "markdown",
   "metadata": {},
   "source": [
    "## Compare against the spreadsheet\n",
    "\n",
    "We already have loaded up the whole \"CASRN->CID\" worksheet, which I previously exported as a standalone CSV file. Now take the important columns to compare elementwise against the DataFrames above."
   ]
  },
  {
   "cell_type": "code",
   "execution_count": 19,
   "metadata": {
    "collapsed": false
   },
   "outputs": [],
   "source": [
    "md = mdata.iloc[:,[0,1,2,3,10]].sort_values(by=['CASRN', 'CID'])\n",
    "md.reset_index(drop=True, inplace=True)\n",
    "\n",
    "# Rename the columns\n",
    "md.columns = ['CASRN', 'CID', 'n_cid_casrn', 'n_casrn_cid', 'status']\n",
    "\n",
    "# Make sure we have the same total number of correspondences:\n",
    "assert len(md) == len(ids)"
   ]
  },
  {
   "cell_type": "code",
   "execution_count": 20,
   "metadata": {
    "collapsed": false,
    "scrolled": true
   },
   "outputs": [
    {
     "data": {
      "text/plain": [
       "CASRN          True\n",
       "CID            True\n",
       "n_cid_casrn    True\n",
       "n_casrn_cid    True\n",
       "status         True\n",
       "dtype: bool"
      ]
     },
     "execution_count": 20,
     "metadata": {},
     "output_type": "execute_result"
    }
   ],
   "source": [
    "md_check = results == md\n",
    "md_check.all()"
   ]
  },
  {
   "cell_type": "code",
   "execution_count": 21,
   "metadata": {
    "collapsed": false,
    "scrolled": true
   },
   "outputs": [
    {
     "data": {
      "text/plain": [
       "CASRN          True\n",
       "CID            True\n",
       "n_cid_casrn    True\n",
       "n_casrn_cid    True\n",
       "status         True\n",
       "dtype: bool"
      ]
     },
     "execution_count": 21,
     "metadata": {},
     "output_type": "execute_result"
    }
   ],
   "source": [
    "alt_md_check = alt_results == md\n",
    "alt_md_check.all()"
   ]
  },
  {
   "cell_type": "markdown",
   "metadata": {},
   "source": [
    "# Analysis\n",
    "\n",
    "The **pandas \"groupby/count-unique\" method** produced the same results as **the spreadsheet** and **the \"compare-counts\" method** (which reproduces the spreadsheet exactly), provided that the data processing operations are done in the right order.\n",
    "\n",
    "# The final export"
   ]
  },
  {
   "cell_type": "code",
   "execution_count": 22,
   "metadata": {
    "collapsed": false,
    "scrolled": true
   },
   "outputs": [],
   "source": [
    "results_ex.to_excel(pjoin(RESULTS_PATH, 'CASRN-CID-pandas.xlsx'))"
   ]
  }
 ],
 "metadata": {
  "anaconda-cloud": {},
  "kernelspec": {
   "display_name": "Python [conda env:cmldev]",
   "language": "python",
   "name": "conda-env-cmldev-py"
  },
  "language_info": {
   "codemirror_mode": {
    "name": "ipython",
    "version": 3
   },
   "file_extension": ".py",
   "mimetype": "text/x-python",
   "name": "python",
   "nbconvert_exporter": "python",
   "pygments_lexer": "ipython3",
   "version": "3.5.2"
  }
 },
 "nbformat": 4,
 "nbformat_minor": 2
}
