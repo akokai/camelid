{
 "cells": [
  {
   "cell_type": "code",
   "execution_count": 1,
   "metadata": {
    "collapsed": false
   },
   "outputs": [],
   "source": [
    "import os\n",
    "import sys\n",
    "sys.path.append('..')  # To locate camelid\n",
    "\n",
    "from sqlalchemy import create_engine, types\n",
    "from sqlalchemy.sql import text\n",
    "\n",
    "from camelid.run import CamelidEnv"
   ]
  },
  {
   "cell_type": "markdown",
   "metadata": {
    "collapsed": true
   },
   "source": [
    "# Initialize database for linking chemical identifiers\n",
    "\n",
    "\n",
    "## Environment and paths\n",
    "\n",
    "**Make sure these correspond to the arrangement of your system.**"
   ]
  },
  {
   "cell_type": "code",
   "execution_count": 2,
   "metadata": {
    "collapsed": false
   },
   "outputs": [
    {
     "name": "stdout",
     "output_type": "stream",
     "text": [
      "2017-01-13 15:27:15,023 camelid INFO Project path: /opt/akokai/data/camelid/cmlbase\n"
     ]
    }
   ],
   "source": [
    "# We will generate output & logs, and look for other input files, \n",
    "# in the directories defined by this camelid environment. \n",
    "# See camelid docs for how CamelidEnv works.\n",
    "env = CamelidEnv(project='cmlbase')\n",
    "\n",
    "# File containing list of CASRNs + names to use as base library\n",
    "CML_PATH = os.path.join(env.data_path, 'base_casrn.csv')\n",
    "\n",
    "# Database connection. I use a separate database for ID wrangling operations.\n",
    "conn = create_engine('postgresql://akokai@localhost/cmlbase')"
   ]
  },
  {
   "cell_type": "markdown",
   "metadata": {},
   "source": [
    "### Pre-processing of PubChem CID Synonyms\n",
    "\n",
    "The `CID-Synonym-filtered` file has tab-separated values, but many of those values contain weird characters that SQL doesn't like. The fields are not quoted or escaped in any way. Therefore we have to do that ourselves. Run the `awk` script provided to create a new file `CID-Synonym-filtered-quoted`..."
   ]
  },
  {
   "cell_type": "code",
   "execution_count": null,
   "metadata": {
    "collapsed": true
   },
   "outputs": [],
   "source": [
    "# !awk -f ../scripts/quotefields /PATH/TO/CID-Synonym-Filtered > /PATH/TO/CID-Synonym-filtered-quoted"
   ]
  },
  {
   "cell_type": "markdown",
   "metadata": {},
   "source": [
    "Now tell us where that file is:"
   ]
  },
  {
   "cell_type": "code",
   "execution_count": 3,
   "metadata": {
    "collapsed": true
   },
   "outputs": [],
   "source": [
    "PUBCHEM_SYN_PATH = '/opt/akokai/data/PubChem/CID-Synonym-filtered-quoted'"
   ]
  },
  {
   "cell_type": "markdown",
   "metadata": {},
   "source": [
    "## Create table of all CASRNs and names in base library\n",
    "\n",
    "\"Base library\" refers to a dataset that you are trying to link with other datasets. Your own chemical database, for example."
   ]
  },
  {
   "cell_type": "code",
   "execution_count": null,
   "metadata": {
    "collapsed": true
   },
   "outputs": [],
   "source": [
    "# !psql cmlbase -c 'drop table cml;'"
   ]
  },
  {
   "cell_type": "code",
   "execution_count": 13,
   "metadata": {
    "collapsed": false
   },
   "outputs": [
    {
     "name": "stdout",
     "output_type": "stream",
     "text": [
      "45416 rows created in table cid_syn (PubChem synonyms)\n"
     ]
    }
   ],
   "source": [
    "cmd = text('''\n",
    "create table cml (casrn text, name text);\n",
    "copy cid_syn from '{}'\n",
    "    with (format csv, header, delimiter ',',\n",
    "          quote '\"', escape '\\\\');'''.format(CML_PATH)\n",
    "          )\n",
    "res = conn.execute(cmd)\n",
    "# File has 45417 lines including header.\n",
    "print(res.rowcount, 'rows created in table cid_syn (PubChem synonyms)')"
   ]
  },
  {
   "cell_type": "markdown",
   "metadata": {},
   "source": [
    "Create table of CASRNs, Names, DTXSIDs from US EPA CompTox Chemistry Dashboard. ..."
   ]
  },
  {
   "cell_type": "markdown",
   "metadata": {},
   "source": [
    "## Perform CASRN-CID mapping via PubChem identifier exchange\n",
    "\n",
    "This operation is currently modeled in the notebook `CASRN-CID alignment workflow.ipynb`.\n",
    "- **TODO:** Convert that notebook into noninteractive script.\n",
    "- For now, use the output of that notebook as the source for a database table.\n",
    "\n",
    "*Note:* To convert the CSV of CASRNs/names into a text file of non-quoted CASRNs only, run this command:\n",
    "\n",
    "`awk -F ',' '{print $1}' PATH/TO/base_casrn_name.csv | sed 's/\"//g' > PATH/TO/base_casrn`"
   ]
  },
  {
   "cell_type": "markdown",
   "metadata": {},
   "source": [
    "## Create table of *all* PubChem CIDs and synonyms"
   ]
  },
  {
   "cell_type": "code",
   "execution_count": null,
   "metadata": {
    "collapsed": false
   },
   "outputs": [],
   "source": [
    "# !psql cmlbase -c 'drop table cid_syn;'"
   ]
  },
  {
   "cell_type": "code",
   "execution_count": 8,
   "metadata": {
    "collapsed": false
   },
   "outputs": [
    {
     "name": "stdout",
     "output_type": "stream",
     "text": [
      "142967516 rows created in table pubchem_synonyms\n"
     ]
    }
   ],
   "source": [
    "cmd = text('''\n",
    "create table pubchem_synonyms (cid text, synonym text);\n",
    "copy cid_syn from '{}'\n",
    "    with (format csv, header, delimiter '\\t',\n",
    "          quote '\"', escape '\"');'''.format(PUBCHEM_SYN_PATH)\n",
    "          )\n",
    "res = conn.execute(cmd)\n",
    "# File has 142967517 lines including header.\n",
    "print(res.rowcount, 'rows created in table pubchem_synonyms')"
   ]
  }
 ],
 "metadata": {
  "anaconda-cloud": {},
  "kernelspec": {
   "display_name": "Python [conda env:cmldev]",
   "language": "python",
   "name": "conda-env-cmldev-py"
  },
  "language_info": {
   "codemirror_mode": {
    "name": "ipython",
    "version": 3
   },
   "file_extension": ".py",
   "mimetype": "text/x-python",
   "name": "python",
   "nbconvert_exporter": "python",
   "pygments_lexer": "ipython3",
   "version": "3.5.2"
  }
 },
 "nbformat": 4,
 "nbformat_minor": 2
}
