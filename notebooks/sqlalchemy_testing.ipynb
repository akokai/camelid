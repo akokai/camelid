{
 "cells": [
  {
   "cell_type": "markdown",
   "metadata": {},
   "source": [
    "# Structure queries with SQLAlchemy?\n",
    "\n",
    "Test use of SQLAlchemy expression constructs instead of raw SQL for molecular queries."
   ]
  },
  {
   "cell_type": "code",
   "execution_count": 9,
   "metadata": {
    "collapsed": true
   },
   "outputs": [],
   "source": [
    "import pandas as pd\n",
    "from pandas import DataFrame\n",
    "\n",
    "from rdkit import Chem, rdBase\n",
    "from rdkit.Chem import AllChem, Draw, rdqueries, rdMolDescriptors\n",
    "from rdkit.Chem.Draw import IPythonConsole\n",
    "\n",
    "import sqlalchemy\n",
    "from sqlalchemy import create_engine, Table, MetaData\n",
    "from sqlalchemy.sql import select, text"
   ]
  },
  {
   "cell_type": "code",
   "execution_count": 2,
   "metadata": {
    "collapsed": false
   },
   "outputs": [],
   "source": [
    "conn = create_engine('postgresql://akokai@localhost/chmdata1')"
   ]
  },
  {
   "cell_type": "markdown",
   "metadata": {},
   "source": [
    "SQLAlchemy does not recognize `rdkit:Mol` data type."
   ]
  },
  {
   "cell_type": "code",
   "execution_count": 3,
   "metadata": {
    "collapsed": false
   },
   "outputs": [
    {
     "name": "stderr",
     "output_type": "stream",
     "text": [
      "/opt/akokai/anaconda/envs/cmldev/lib/python3.5/site-packages/sqlalchemy/dialects/postgresql/base.py:2517: SAWarning: Did not recognize type 'mol' of column 'molecule'\n",
      "  (attype, name))\n"
     ]
    }
   ],
   "source": [
    "meta = MetaData(conn)\n",
    "# meta.reflect()  # This would load metadata for all tables\n",
    "\n",
    "# Load metadata for just the table on which we will make queries\n",
    "# (Should wrap in try/except)\n",
    "cpds = Table('cpds', meta, autoload=True)"
   ]
  },
  {
   "cell_type": "code",
   "execution_count": 4,
   "metadata": {
    "collapsed": false
   },
   "outputs": [
    {
     "data": {
      "text/plain": [
       "[('dtxsid', Column('dtxsid', VARCHAR(), table=<cpds>)),\n",
       " ('cid', Column('cid', TEXT(), table=<cpds>)),\n",
       " ('casrn', Column('casrn', VARCHAR(), table=<cpds>)),\n",
       " ('name', Column('name', VARCHAR(), table=<cpds>)),\n",
       " ('inchikey', Column('inchikey', VARCHAR(), table=<cpds>)),\n",
       " ('inchi', Column('inchi', VARCHAR(), table=<cpds>)),\n",
       " ('molecule', Column('molecule', NullType(), table=<cpds>))]"
      ]
     },
     "execution_count": 4,
     "metadata": {},
     "output_type": "execute_result"
    }
   ],
   "source": [
    "cpds.columns.items()"
   ]
  },
  {
   "cell_type": "code",
   "execution_count": 8,
   "metadata": {
    "collapsed": false
   },
   "outputs": [
    {
     "name": "stdout",
     "output_type": "stream",
     "text": [
      "cpds.molecule\n",
      "molecule\n"
     ]
    }
   ],
   "source": [
    "print(cpds.columns.molecule)\n",
    "print(cpds.columns.molecule.key)"
   ]
  },
  {
   "cell_type": "code",
   "execution_count": 13,
   "metadata": {
    "collapsed": false,
    "scrolled": true
   },
   "outputs": [
    {
     "name": "stdout",
     "output_type": "stream",
     "text": [
      "[('DTXSID9021764', '4', '78-96-6', '1-Amino-2-propanol', 'HXKKHQJGJAFBHI-UHFFFAOYSA-N', 'InChI=1S/C3H9NO/c1-3(5)2-4/h3,5H,2,4H2,1H3', 'CC(O)CN')]\n"
     ]
    }
   ],
   "source": [
    "que = select([cpds]).where(cpds.c.cid == '4')\n",
    "res = conn.execute(que)\n",
    "ret = res.fetchall()\n",
    "res.close()\n",
    "print(ret)"
   ]
  },
  {
   "cell_type": "markdown",
   "metadata": {},
   "source": [
    "# Use custom `@>` operator: 💯\n",
    "\n",
    "Search for phenol structures."
   ]
  },
  {
   "cell_type": "code",
   "execution_count": 18,
   "metadata": {
    "collapsed": false
   },
   "outputs": [
    {
     "name": "stdout",
     "output_type": "stream",
     "text": [
      "SELECT cpds.dtxsid, cpds.cid, cpds.casrn, cpds.name, cpds.inchikey, cpds.inchi, cpds.molecule \n",
      "FROM cpds \n",
      "WHERE cpds.molecule @> %(molecule_1)s \n",
      " LIMIT %(param_1)s\n"
     ]
    }
   ],
   "source": [
    "smiles = 'c1(O)ccccc1'\n",
    "que = select([cpds]).where(cpds.c.molecule.op('@>')(smiles)).limit(5)\n",
    "print(str(que))"
   ]
  },
  {
   "cell_type": "code",
   "execution_count": 20,
   "metadata": {
    "collapsed": false
   },
   "outputs": [
    {
     "name": "stdout",
     "output_type": "stream",
     "text": [
      "5 rows\n"
     ]
    },
    {
     "data": {
      "text/html": [
       "<div>\n",
       "<table border=\"1\" class=\"dataframe\">\n",
       "  <thead>\n",
       "    <tr style=\"text-align: right;\">\n",
       "      <th></th>\n",
       "      <th>0</th>\n",
       "      <th>1</th>\n",
       "      <th>2</th>\n",
       "      <th>3</th>\n",
       "      <th>4</th>\n",
       "      <th>5</th>\n",
       "      <th>6</th>\n",
       "    </tr>\n",
       "  </thead>\n",
       "  <tbody>\n",
       "    <tr>\n",
       "      <th>0</th>\n",
       "      <td>DTXSID20734279</td>\n",
       "      <td>61751165</td>\n",
       "      <td>823226-19-3</td>\n",
       "      <td>1-(4-Chlorobutoxy)-4-(methanesulfonyl)benzene</td>\n",
       "      <td>HFYRLRUSFGDXMF-UHFFFAOYSA-N</td>\n",
       "      <td>InChI=1S/C11H15ClO3S/c1-16(13,14)11-6-4-10(5-7...</td>\n",
       "      <td>CS(=O)(=O)c1ccc(OCCCCCl)cc1</td>\n",
       "    </tr>\n",
       "    <tr>\n",
       "      <th>1</th>\n",
       "      <td>DTXSID60735689</td>\n",
       "      <td>66743914</td>\n",
       "      <td>889362-82-7</td>\n",
       "      <td>3-tert-Butoxy-5-fluoroaniline</td>\n",
       "      <td>HMCDSAJLOQMLLW-UHFFFAOYSA-N</td>\n",
       "      <td>InChI=1S/C10H14FNO/c1-10(2,3)13-9-5-7(11)4-8(1...</td>\n",
       "      <td>CC(C)(C)Oc1cc(N)cc(F)c1</td>\n",
       "    </tr>\n",
       "    <tr>\n",
       "      <th>2</th>\n",
       "      <td>DTXSID90746526</td>\n",
       "      <td>None</td>\n",
       "      <td>109738-21-8</td>\n",
       "      <td>Oxovanadium(2+) 2,9,16,23-tetraphenoxy-20,27,2...</td>\n",
       "      <td>QLJKMZISJZORJD-UHFFFAOYSA-N</td>\n",
       "      <td>InChI=1S/C56H38N8O4.O.V/c1-5-13-33(14-6-1)65-3...</td>\n",
       "      <td>[O].[V+2].c1ccc(Oc2ccc3c4[n-]c([nH]c5[nH]c([nH...</td>\n",
       "    </tr>\n",
       "    <tr>\n",
       "      <th>3</th>\n",
       "      <td>DTXSID90746566</td>\n",
       "      <td>None</td>\n",
       "      <td>155773-71-0</td>\n",
       "      <td>Nickel(2+) 1,4,8,11,15,18,22,25-octabutoxy-20,...</td>\n",
       "      <td>JGHRWXPBSMJGCS-UHFFFAOYSA-N</td>\n",
       "      <td>InChI=1S/C64H86N8O8.Ni/c1-9-17-33-73-41-25-26-...</td>\n",
       "      <td>CCCCOc1ccc(OCCCC)c2c3[n-]c([nH]c4[nH]c([nH]c5[...</td>\n",
       "    </tr>\n",
       "    <tr>\n",
       "      <th>4</th>\n",
       "      <td>DTXSID50746567</td>\n",
       "      <td>71311452</td>\n",
       "      <td>149820-65-5</td>\n",
       "      <td>(8xi,9R)-6'-Methoxy-9-[(6-{[(4beta,9R)-6'-meth...</td>\n",
       "      <td>SWKRDCRSJPRVNF-RMMANSCUSA-N</td>\n",
       "      <td>InChI=1S/C56H60N6O4/c1-5-35-33-61-27-23-39(35)...</td>\n",
       "      <td>CCC1CN2CC[C@@H]1CC2[C@H](Oc1nc(-c2ccccc2)nc(O[...</td>\n",
       "    </tr>\n",
       "  </tbody>\n",
       "</table>\n",
       "</div>"
      ],
      "text/plain": [
       "                0         1            2  \\\n",
       "0  DTXSID20734279  61751165  823226-19-3   \n",
       "1  DTXSID60735689  66743914  889362-82-7   \n",
       "2  DTXSID90746526      None  109738-21-8   \n",
       "3  DTXSID90746566      None  155773-71-0   \n",
       "4  DTXSID50746567  71311452  149820-65-5   \n",
       "\n",
       "                                                   3  \\\n",
       "0      1-(4-Chlorobutoxy)-4-(methanesulfonyl)benzene   \n",
       "1                      3-tert-Butoxy-5-fluoroaniline   \n",
       "2  Oxovanadium(2+) 2,9,16,23-tetraphenoxy-20,27,2...   \n",
       "3  Nickel(2+) 1,4,8,11,15,18,22,25-octabutoxy-20,...   \n",
       "4  (8xi,9R)-6'-Methoxy-9-[(6-{[(4beta,9R)-6'-meth...   \n",
       "\n",
       "                             4  \\\n",
       "0  HFYRLRUSFGDXMF-UHFFFAOYSA-N   \n",
       "1  HMCDSAJLOQMLLW-UHFFFAOYSA-N   \n",
       "2  QLJKMZISJZORJD-UHFFFAOYSA-N   \n",
       "3  JGHRWXPBSMJGCS-UHFFFAOYSA-N   \n",
       "4  SWKRDCRSJPRVNF-RMMANSCUSA-N   \n",
       "\n",
       "                                                   5  \\\n",
       "0  InChI=1S/C11H15ClO3S/c1-16(13,14)11-6-4-10(5-7...   \n",
       "1  InChI=1S/C10H14FNO/c1-10(2,3)13-9-5-7(11)4-8(1...   \n",
       "2  InChI=1S/C56H38N8O4.O.V/c1-5-13-33(14-6-1)65-3...   \n",
       "3  InChI=1S/C64H86N8O8.Ni/c1-9-17-33-73-41-25-26-...   \n",
       "4  InChI=1S/C56H60N6O4/c1-5-35-33-61-27-23-39(35)...   \n",
       "\n",
       "                                                   6  \n",
       "0                        CS(=O)(=O)c1ccc(OCCCCCl)cc1  \n",
       "1                            CC(C)(C)Oc1cc(N)cc(F)c1  \n",
       "2  [O].[V+2].c1ccc(Oc2ccc3c4[n-]c([nH]c5[nH]c([nH...  \n",
       "3  CCCCOc1ccc(OCCCC)c2c3[n-]c([nH]c4[nH]c([nH]c5[...  \n",
       "4  CCC1CN2CC[C@@H]1CC2[C@H](Oc1nc(-c2ccccc2)nc(O[...  "
      ]
     },
     "execution_count": 20,
     "metadata": {},
     "output_type": "execute_result"
    }
   ],
   "source": [
    "res = conn.execute(que)\n",
    "print(res.rowcount, 'rows')\n",
    "df = DataFrame(res.fetchall())\n",
    "res.close()\n",
    "df"
   ]
  },
  {
   "cell_type": "markdown",
   "metadata": {},
   "source": [
    "# Use `qmol` type in query: ✔ (using `text`)\n",
    "\n",
    "Search for phenyl without adjusting query (matches bezene with 1+ substituent)."
   ]
  },
  {
   "cell_type": "code",
   "execution_count": 14,
   "metadata": {
    "collapsed": false
   },
   "outputs": [
    {
     "name": "stdout",
     "output_type": "stream",
     "text": [
      "SELECT cpds.dtxsid, cpds.cid, cpds.casrn, cpds.name, cpds.inchikey, cpds.inchi, cpds.molecule \n",
      "FROM cpds \n",
      "WHERE cpds.molecule @> 'c1ccccc1-*'::qmol \n",
      " LIMIT %(param_1)s\n",
      "5\n"
     ]
    },
    {
     "data": {
      "text/html": [
       "<div>\n",
       "<table border=\"1\" class=\"dataframe\">\n",
       "  <thead>\n",
       "    <tr style=\"text-align: right;\">\n",
       "      <th></th>\n",
       "      <th>0</th>\n",
       "      <th>1</th>\n",
       "      <th>2</th>\n",
       "      <th>3</th>\n",
       "      <th>4</th>\n",
       "      <th>5</th>\n",
       "      <th>6</th>\n",
       "    </tr>\n",
       "  </thead>\n",
       "  <tbody>\n",
       "    <tr>\n",
       "      <th>0</th>\n",
       "      <td>DTXSID20734279</td>\n",
       "      <td>61751165</td>\n",
       "      <td>823226-19-3</td>\n",
       "      <td>1-(4-Chlorobutoxy)-4-(methanesulfonyl)benzene</td>\n",
       "      <td>HFYRLRUSFGDXMF-UHFFFAOYSA-N</td>\n",
       "      <td>InChI=1S/C11H15ClO3S/c1-16(13,14)11-6-4-10(5-7...</td>\n",
       "      <td>CS(=O)(=O)c1ccc(OCCCCCl)cc1</td>\n",
       "    </tr>\n",
       "    <tr>\n",
       "      <th>1</th>\n",
       "      <td>DTXSID60735689</td>\n",
       "      <td>66743914</td>\n",
       "      <td>889362-82-7</td>\n",
       "      <td>3-tert-Butoxy-5-fluoroaniline</td>\n",
       "      <td>HMCDSAJLOQMLLW-UHFFFAOYSA-N</td>\n",
       "      <td>InChI=1S/C10H14FNO/c1-10(2,3)13-9-5-7(11)4-8(1...</td>\n",
       "      <td>CC(C)(C)Oc1cc(N)cc(F)c1</td>\n",
       "    </tr>\n",
       "    <tr>\n",
       "      <th>2</th>\n",
       "      <td>DTXSID70735791</td>\n",
       "      <td>66796542</td>\n",
       "      <td>51303-72-1</td>\n",
       "      <td>(2-Fluoroethanesulfonyl)benzene</td>\n",
       "      <td>KSSCPGBAPDVQEE-UHFFFAOYSA-N</td>\n",
       "      <td>InChI=1S/C8H9FO2S/c9-6-7-12(10,11)8-4-2-1-3-5-...</td>\n",
       "      <td>O=S(=O)(CCF)c1ccccc1</td>\n",
       "    </tr>\n",
       "    <tr>\n",
       "      <th>3</th>\n",
       "      <td>DTXSID60735780</td>\n",
       "      <td>66788907</td>\n",
       "      <td>140449-09-8</td>\n",
       "      <td>[(Iodomethanesulfonyl)methyl]benzene</td>\n",
       "      <td>JDWWZZSCTWOKAG-UHFFFAOYSA-N</td>\n",
       "      <td>InChI=1S/C8H9IO2S/c9-7-12(10,11)6-8-4-2-1-3-5-...</td>\n",
       "      <td>O=S(=O)(CI)Cc1ccccc1</td>\n",
       "    </tr>\n",
       "    <tr>\n",
       "      <th>4</th>\n",
       "      <td>DTXSID80746499</td>\n",
       "      <td>None</td>\n",
       "      <td>39001-65-5</td>\n",
       "      <td>Zinc 2,9,16,23-tetra-tert-butyl-20,27,29,31-te...</td>\n",
       "      <td>ABEFKSDOXYFJAU-UHFFFAOYSA-N</td>\n",
       "      <td>InChI=1S/C48H54N8.Zn/c1-45(2,3)25-13-17-29-33(...</td>\n",
       "      <td>CC(C)(C)c1ccc2c3[n-]c([nH]c4[nH]c([nH]c5[n-]c(...</td>\n",
       "    </tr>\n",
       "  </tbody>\n",
       "</table>\n",
       "</div>"
      ],
      "text/plain": [
       "                0         1            2  \\\n",
       "0  DTXSID20734279  61751165  823226-19-3   \n",
       "1  DTXSID60735689  66743914  889362-82-7   \n",
       "2  DTXSID70735791  66796542   51303-72-1   \n",
       "3  DTXSID60735780  66788907  140449-09-8   \n",
       "4  DTXSID80746499      None   39001-65-5   \n",
       "\n",
       "                                                   3  \\\n",
       "0      1-(4-Chlorobutoxy)-4-(methanesulfonyl)benzene   \n",
       "1                      3-tert-Butoxy-5-fluoroaniline   \n",
       "2                    (2-Fluoroethanesulfonyl)benzene   \n",
       "3               [(Iodomethanesulfonyl)methyl]benzene   \n",
       "4  Zinc 2,9,16,23-tetra-tert-butyl-20,27,29,31-te...   \n",
       "\n",
       "                             4  \\\n",
       "0  HFYRLRUSFGDXMF-UHFFFAOYSA-N   \n",
       "1  HMCDSAJLOQMLLW-UHFFFAOYSA-N   \n",
       "2  KSSCPGBAPDVQEE-UHFFFAOYSA-N   \n",
       "3  JDWWZZSCTWOKAG-UHFFFAOYSA-N   \n",
       "4  ABEFKSDOXYFJAU-UHFFFAOYSA-N   \n",
       "\n",
       "                                                   5  \\\n",
       "0  InChI=1S/C11H15ClO3S/c1-16(13,14)11-6-4-10(5-7...   \n",
       "1  InChI=1S/C10H14FNO/c1-10(2,3)13-9-5-7(11)4-8(1...   \n",
       "2  InChI=1S/C8H9FO2S/c9-6-7-12(10,11)8-4-2-1-3-5-...   \n",
       "3  InChI=1S/C8H9IO2S/c9-7-12(10,11)6-8-4-2-1-3-5-...   \n",
       "4  InChI=1S/C48H54N8.Zn/c1-45(2,3)25-13-17-29-33(...   \n",
       "\n",
       "                                                   6  \n",
       "0                        CS(=O)(=O)c1ccc(OCCCCCl)cc1  \n",
       "1                            CC(C)(C)Oc1cc(N)cc(F)c1  \n",
       "2                               O=S(=O)(CCF)c1ccccc1  \n",
       "3                               O=S(=O)(CI)Cc1ccccc1  \n",
       "4  CC(C)(C)c1ccc2c3[n-]c([nH]c4[nH]c([nH]c5[n-]c(...  "
      ]
     },
     "execution_count": 14,
     "metadata": {},
     "output_type": "execute_result"
    }
   ],
   "source": [
    "molcol = cpds.columns.molecule\n",
    "smarts = 'c1ccccc1-*'\n",
    "que = select([cpds]).where(text(\"{0} @> '{1}'::qmol\".format(molcol, smarts))).limit(5)\n",
    "print(str(que))\n",
    "res = conn.execute(que)\n",
    "print(res.rowcount)\n",
    "df = DataFrame(res.fetchall())\n",
    "res.close()\n",
    "df"
   ]
  },
  {
   "cell_type": "markdown",
   "metadata": {},
   "source": [
    "# Combine RDKit query adjustments with SQLAlchemy queries\n",
    "\n",
    "Search for phenyl and adjust query to match only for one substituent."
   ]
  },
  {
   "cell_type": "code",
   "execution_count": 16,
   "metadata": {
    "collapsed": false
   },
   "outputs": [
    {
     "name": "stdout",
     "output_type": "stream",
     "text": [
      "SELECT cpds.dtxsid, cpds.cid, cpds.casrn, cpds.name, cpds.inchikey, cpds.inchi, cpds.molecule \n",
      "FROM cpds \n",
      "WHERE cpds.molecule @> '[c&D2]1:,-[c&D2]:,-[c&D2]:,-[c&D2]:,-[c&D2]:,-[c&D3]:,-1-*'::qmol \n",
      " LIMIT %(param_1)s\n",
      "5\n"
     ]
    },
    {
     "data": {
      "text/html": [
       "<div>\n",
       "<table border=\"1\" class=\"dataframe\">\n",
       "  <thead>\n",
       "    <tr style=\"text-align: right;\">\n",
       "      <th></th>\n",
       "      <th>0</th>\n",
       "      <th>1</th>\n",
       "      <th>2</th>\n",
       "      <th>3</th>\n",
       "      <th>4</th>\n",
       "      <th>5</th>\n",
       "      <th>6</th>\n",
       "    </tr>\n",
       "  </thead>\n",
       "  <tbody>\n",
       "    <tr>\n",
       "      <th>0</th>\n",
       "      <td>DTXSID70735791</td>\n",
       "      <td>66796542</td>\n",
       "      <td>51303-72-1</td>\n",
       "      <td>(2-Fluoroethanesulfonyl)benzene</td>\n",
       "      <td>KSSCPGBAPDVQEE-UHFFFAOYSA-N</td>\n",
       "      <td>InChI=1S/C8H9FO2S/c9-6-7-12(10,11)8-4-2-1-3-5-...</td>\n",
       "      <td>O=S(=O)(CCF)c1ccccc1</td>\n",
       "    </tr>\n",
       "    <tr>\n",
       "      <th>1</th>\n",
       "      <td>DTXSID60735780</td>\n",
       "      <td>66788907</td>\n",
       "      <td>140449-09-8</td>\n",
       "      <td>[(Iodomethanesulfonyl)methyl]benzene</td>\n",
       "      <td>JDWWZZSCTWOKAG-UHFFFAOYSA-N</td>\n",
       "      <td>InChI=1S/C8H9IO2S/c9-7-12(10,11)6-8-4-2-1-3-5-...</td>\n",
       "      <td>O=S(=O)(CI)Cc1ccccc1</td>\n",
       "    </tr>\n",
       "    <tr>\n",
       "      <th>2</th>\n",
       "      <td>DTXSID90746526</td>\n",
       "      <td>None</td>\n",
       "      <td>109738-21-8</td>\n",
       "      <td>Oxovanadium(2+) 2,9,16,23-tetraphenoxy-20,27,2...</td>\n",
       "      <td>QLJKMZISJZORJD-UHFFFAOYSA-N</td>\n",
       "      <td>InChI=1S/C56H38N8O4.O.V/c1-5-13-33(14-6-1)65-3...</td>\n",
       "      <td>[O].[V+2].c1ccc(Oc2ccc3c4[n-]c([nH]c5[nH]c([nH...</td>\n",
       "    </tr>\n",
       "    <tr>\n",
       "      <th>3</th>\n",
       "      <td>DTXSID30746505</td>\n",
       "      <td>71311253</td>\n",
       "      <td>167093-23-4</td>\n",
       "      <td>PUBCHEM_71311253</td>\n",
       "      <td>JWPNATQHLXEGSZ-UHFFFAOYSA-M</td>\n",
       "      <td>InChI=1S/C56H38N8S4.Al.ClH/c1-5-17-33(18-6-1)6...</td>\n",
       "      <td>[Al+3].[Cl-].c1ccc(Sc2cccc3c4[n-]c([nH]c5[nH]c...</td>\n",
       "    </tr>\n",
       "    <tr>\n",
       "      <th>4</th>\n",
       "      <td>DTXSID50746567</td>\n",
       "      <td>71311452</td>\n",
       "      <td>149820-65-5</td>\n",
       "      <td>(8xi,9R)-6'-Methoxy-9-[(6-{[(4beta,9R)-6'-meth...</td>\n",
       "      <td>SWKRDCRSJPRVNF-RMMANSCUSA-N</td>\n",
       "      <td>InChI=1S/C56H60N6O4/c1-5-35-33-61-27-23-39(35)...</td>\n",
       "      <td>CCC1CN2CC[C@@H]1CC2[C@H](Oc1nc(-c2ccccc2)nc(O[...</td>\n",
       "    </tr>\n",
       "  </tbody>\n",
       "</table>\n",
       "</div>"
      ],
      "text/plain": [
       "                0         1            2  \\\n",
       "0  DTXSID70735791  66796542   51303-72-1   \n",
       "1  DTXSID60735780  66788907  140449-09-8   \n",
       "2  DTXSID90746526      None  109738-21-8   \n",
       "3  DTXSID30746505  71311253  167093-23-4   \n",
       "4  DTXSID50746567  71311452  149820-65-5   \n",
       "\n",
       "                                                   3  \\\n",
       "0                    (2-Fluoroethanesulfonyl)benzene   \n",
       "1               [(Iodomethanesulfonyl)methyl]benzene   \n",
       "2  Oxovanadium(2+) 2,9,16,23-tetraphenoxy-20,27,2...   \n",
       "3                                   PUBCHEM_71311253   \n",
       "4  (8xi,9R)-6'-Methoxy-9-[(6-{[(4beta,9R)-6'-meth...   \n",
       "\n",
       "                             4  \\\n",
       "0  KSSCPGBAPDVQEE-UHFFFAOYSA-N   \n",
       "1  JDWWZZSCTWOKAG-UHFFFAOYSA-N   \n",
       "2  QLJKMZISJZORJD-UHFFFAOYSA-N   \n",
       "3  JWPNATQHLXEGSZ-UHFFFAOYSA-M   \n",
       "4  SWKRDCRSJPRVNF-RMMANSCUSA-N   \n",
       "\n",
       "                                                   5  \\\n",
       "0  InChI=1S/C8H9FO2S/c9-6-7-12(10,11)8-4-2-1-3-5-...   \n",
       "1  InChI=1S/C8H9IO2S/c9-7-12(10,11)6-8-4-2-1-3-5-...   \n",
       "2  InChI=1S/C56H38N8O4.O.V/c1-5-13-33(14-6-1)65-3...   \n",
       "3  InChI=1S/C56H38N8S4.Al.ClH/c1-5-17-33(18-6-1)6...   \n",
       "4  InChI=1S/C56H60N6O4/c1-5-35-33-61-27-23-39(35)...   \n",
       "\n",
       "                                                   6  \n",
       "0                               O=S(=O)(CCF)c1ccccc1  \n",
       "1                               O=S(=O)(CI)Cc1ccccc1  \n",
       "2  [O].[V+2].c1ccc(Oc2ccc3c4[n-]c([nH]c5[nH]c([nH...  \n",
       "3  [Al+3].[Cl-].c1ccc(Sc2cccc3c4[n-]c([nH]c5[nH]c...  \n",
       "4  CCC1CN2CC[C@@H]1CC2[C@H](Oc1nc(-c2ccccc2)nc(O[...  "
      ]
     },
     "execution_count": 16,
     "metadata": {},
     "output_type": "execute_result"
    }
   ],
   "source": [
    "smarts = 'c1ccccc1-[*]'\n",
    "qmol = Chem.AdjustQueryProperties(Chem.MolFromSmarts(smarts))\n",
    "molcol = cpds.columns.molecule\n",
    "smarts_adj = Chem.MolToSmarts(qmol)\n",
    "que = select([cpds]).where(text(\"{0} @> '{1}'::qmol\".format(molcol, smarts_adj))).limit(5)\n",
    "print(str(que))\n",
    "res = conn.execute(que)\n",
    "print(res.rowcount)\n",
    "df = DataFrame(res.fetchall())\n",
    "res.close()\n",
    "df"
   ]
  },
  {
   "cell_type": "code",
   "execution_count": null,
   "metadata": {
    "collapsed": true
   },
   "outputs": [],
   "source": []
  }
 ],
 "metadata": {
  "kernelspec": {
   "display_name": "Python 3",
   "language": "python",
   "name": "python3"
  },
  "language_info": {
   "codemirror_mode": {
    "name": "ipython",
    "version": 3
   },
   "file_extension": ".py",
   "mimetype": "text/x-python",
   "name": "python",
   "nbconvert_exporter": "python",
   "pygments_lexer": "ipython3",
   "version": "3.5.2"
  }
 },
 "nbformat": 4,
 "nbformat_minor": 2
}
