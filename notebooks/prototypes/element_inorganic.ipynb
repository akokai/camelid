{
 "cells": [
  {
   "cell_type": "markdown",
   "metadata": {
    "deletable": true,
    "editable": true
   },
   "source": [
    "# Prototype queries: Compounds of [element], inorganic\n",
    "\n",
    "Try a few different methods.\n",
    "\n",
    "This is an experiment to determine what kind of query will give the most meaningful results. We are interested in:\n",
    "\n",
    "- How many compounds are returned?\n",
    "- What kinds of compounds? Do they match our idea of the definition of the group?\n",
    "\n",
    "Therefore, for the purpose of this experiment, we only retrieve CIDs and output HTML summaries with graphics from PubChem.\n",
    "\n",
    "\n",
    "## Setup"
   ]
  },
  {
   "cell_type": "code",
   "execution_count": null,
   "metadata": {
    "collapsed": false,
    "deletable": true,
    "editable": true
   },
   "outputs": [],
   "source": [
    "import os\n",
    "import sys\n",
    "# import pandas as pd\n",
    "# from pandas import DataFrame\n",
    "\n",
    "import rdkit\n",
    "from rdkit import Chem\n",
    "\n",
    "import sqlalchemy\n",
    "from sqlalchemy import create_engine, Table, MetaData\n",
    "from sqlalchemy.sql import select, text, and_, or_, not_\n",
    "\n",
    "sys.path.append('../..')\n",
    "from camelid.env import CamelidEnv\n",
    "from camelid.cmgroup import CMGroup, collect_to_json\n",
    "from camelid.query import get_query_results, substructure_query, substruct_exclude_query\n",
    "from camelid.hypertext import cids_to_html, directory"
   ]
  },
  {
   "cell_type": "code",
   "execution_count": null,
   "metadata": {
    "collapsed": false,
    "deletable": true,
    "editable": true
   },
   "outputs": [],
   "source": [
    "env = CamelidEnv('test')  # For output file management\n",
    "\n",
    "# Database connection & metadata\n",
    "eng = create_engine('postgresql://akokai@localhost/chmdata')\n",
    "con = eng.connect()\n",
    "meta = MetaData(con)\n",
    "\n",
    "# Remember the cpds table and its molecule column,\n",
    "# to help keep query-generating code concise:\n",
    "cpds = Table('cpds', meta, autoload=True)\n",
    "mol = cpds.c.molecule"
   ]
  },
  {
   "cell_type": "markdown",
   "metadata": {
    "deletable": true,
    "editable": true
   },
   "source": [
    "### Set of elements of interest\n",
    "\n",
    "These are all the elements having an \"[X] compounds, inorganic\" group among our current CMGs."
   ]
  },
  {
   "cell_type": "code",
   "execution_count": null,
   "metadata": {
    "collapsed": true,
    "deletable": true,
    "editable": true
   },
   "outputs": [],
   "source": [
    "elems_inorg = [\n",
    "    'As',\n",
    "    'Cd',\n",
    "    'Pb',\n",
    "    'Sb',\n",
    "    'Ni',\n",
    "    'Au',\n",
    "    'Be',\n",
    "    'Rh',\n",
    "    'Se',\n",
    "    'Sn',\n",
    "    'V',\n",
    "    'U',\n",
    "]"
   ]
  },
  {
   "cell_type": "markdown",
   "metadata": {
    "deletable": true,
    "editable": true
   },
   "source": [
    "### Store results..."
   ]
  },
  {
   "cell_type": "code",
   "execution_count": null,
   "metadata": {
    "collapsed": true,
    "deletable": true,
    "editable": true
   },
   "outputs": [],
   "source": [
    "cmgs = []"
   ]
  },
  {
   "cell_type": "markdown",
   "metadata": {
    "deletable": true,
    "editable": true
   },
   "source": [
    "### Define function to get CIDs out of query result"
   ]
  },
  {
   "cell_type": "code",
   "execution_count": null,
   "metadata": {
    "collapsed": true,
    "deletable": true,
    "editable": true
   },
   "outputs": [],
   "source": [
    "def result_cids(df):\n",
    "    cids = df['cid'].dropna()\n",
    "    return cids"
   ]
  },
  {
   "cell_type": "markdown",
   "metadata": {
    "deletable": true,
    "editable": true
   },
   "source": [
    "## SMARTS substructure [element], with SQL clause excluding [organics]\n",
    "\n",
    "The question is **how to specify what \"organic\" patterns to exclude.**\n",
    "\n",
    "### Try a number of different exclude patterns"
   ]
  },
  {
   "cell_type": "code",
   "execution_count": null,
   "metadata": {
    "collapsed": false,
    "deletable": true,
    "editable": true
   },
   "outputs": [],
   "source": [
    "exclude_patterns = {\n",
    "    'three_c': '[C,c].[C,c].[C,c]',\n",
    "    'two_c': '[C,c].[C,c]',\n",
    "    'ch_bonds': '[C!H0,c!H0]',\n",
    "    'carbon': '[C,c]'\n",
    "}"
   ]
  },
  {
   "cell_type": "markdown",
   "metadata": {
    "deletable": true,
    "editable": true
   },
   "source": [
    "### Execute SQL queries"
   ]
  },
  {
   "cell_type": "code",
   "execution_count": null,
   "metadata": {
    "collapsed": false,
    "deletable": true,
    "editable": true,
    "scrolled": false
   },
   "outputs": [],
   "source": [
    "for pat in exclude_patterns.keys():\n",
    "\n",
    "    for elem in elems_inorg:\n",
    "\n",
    "        # Set up parameters for a CMG:\n",
    "        elem_smarts = '[{}]'.format(elem)\n",
    "        id_ = elem + '_{}'.format(pat)\n",
    "\n",
    "        params = {  # a minimal set\n",
    "            'cmg_id': id_,\n",
    "            'structure_type': 'SMARTS',\n",
    "            'name': '{0} compounds, inorganic (excluding {1})'.format(elem, pat)\n",
    "        }\n",
    "\n",
    "        cmg = CMGroup(params, env)\n",
    "\n",
    "        # Generate the query, save it as text, and execute it\n",
    "        que = substruct_exclude_query(elem_smarts, exclude_patterns[pat], mol, [cpds.c.cid])\n",
    "        sql_txt = str(que.compile(compile_kwargs={'literal_binds': True}))\n",
    "        result = get_query_results(que, con)\n",
    "\n",
    "        # Get the CIDs\n",
    "        cids = result_cids(result)\n",
    "\n",
    "        # Add summary of results to CMG\n",
    "        summ = {'sql': sql_txt, '# results': len(result), '# cids': len(cids)}\n",
    "        cmg.add_info(summ)\n",
    "\n",
    "        # Output HTML page for results\n",
    "        html_file = '{}.html'.format(os.path.join(cmg.results_path, cmg.cmg_id))\n",
    "        cids_to_html(cids, html_file, title=cmg.name, info=cmg.info)\n",
    "\n",
    "        # Save the CMG\n",
    "        cmgs.append(cmg)"
   ]
  },
  {
   "cell_type": "markdown",
   "metadata": {
    "deletable": true,
    "editable": true
   },
   "source": [
    "## Single-clause SMARTS substructure\n",
    "\n",
    "I don't know how to specify SMARTS for \"contains this element and not *any* carbon *anywhere*\".\n",
    "\n",
    "Instead, **experimenting with identifying \"inorganic\" forms of carbon (carbonate, CO, CN...):**"
   ]
  },
  {
   "cell_type": "code",
   "execution_count": null,
   "metadata": {
    "collapsed": true,
    "deletable": true,
    "editable": true
   },
   "outputs": [],
   "source": [
    "smarts_strings = {\n",
    "    'inorg_c': '[{0};!$([{0}]-[C,c])].[CH0;!$(C~C[H])]'\n",
    "}"
   ]
  },
  {
   "cell_type": "code",
   "execution_count": null,
   "metadata": {
    "collapsed": false,
    "deletable": true,
    "editable": true
   },
   "outputs": [],
   "source": [
    "for pat in smarts_strings.keys():\n",
    "\n",
    "    for elem in elems_inorg:\n",
    "\n",
    "        # Set up parameters for a CMG:\n",
    "        elem_smarts = smarts_strings[pat].format(elem)\n",
    "        id_ = elem + '_{}'.format(pat)\n",
    "\n",
    "        params = {  # a minimal set\n",
    "            'cmg_id': id_,\n",
    "            'structure_type': 'SMARTS',\n",
    "            'name': '{0} compounds, inorganic carbon ({1})'.format(elem, pat)\n",
    "        }\n",
    "\n",
    "        cmg = CMGroup(params, env)\n",
    "\n",
    "        # Generate the query, save it as text, and execute it\n",
    "        que = substructure_query(elem_smarts, mol, [cpds.c.cid])\n",
    "        sql_txt = str(que.compile(compile_kwargs={'literal_binds': True}))\n",
    "        result = get_query_results(que, con)\n",
    "\n",
    "        # Get the CIDs\n",
    "        cids = result_cids(result)\n",
    "\n",
    "        # Add summary of results to CMG\n",
    "        summ = {'sql': sql_txt, '# results': len(result), '# cids': len(cids)}\n",
    "        cmg.add_info(summ)\n",
    "\n",
    "        # Output HTML page for results\n",
    "        html_file = '{}.html'.format(os.path.join(cmg.results_path, cmg.cmg_id))\n",
    "        cids_to_html(cids, html_file, title=cmg.name, info=cmg.info)\n",
    "\n",
    "        # Save the CMG\n",
    "        cmgs.append(cmg)"
   ]
  },
  {
   "cell_type": "markdown",
   "metadata": {
    "deletable": true,
    "editable": true
   },
   "source": [
    "## Dump all CMG objects to JSON"
   ]
  },
  {
   "cell_type": "code",
   "execution_count": null,
   "metadata": {
    "collapsed": false,
    "deletable": true,
    "editable": true
   },
   "outputs": [],
   "source": [
    "collect_to_json(cmgs, os.path.join(env.results_path, 'inorganic.json'))"
   ]
  },
  {
   "cell_type": "markdown",
   "metadata": {
    "deletable": true,
    "editable": true
   },
   "source": [
    "## Create HTML directory of all CMGs"
   ]
  },
  {
   "cell_type": "code",
   "execution_count": null,
   "metadata": {
    "collapsed": true,
    "deletable": true,
    "editable": true
   },
   "outputs": [],
   "source": [
    "directory(cmgs, env)"
   ]
  }
 ],
 "metadata": {
  "kernelspec": {
   "display_name": "Python 3",
   "language": "python",
   "name": "python3"
  },
  "language_info": {
   "codemirror_mode": {
    "name": "ipython",
    "version": 3
   },
   "file_extension": ".py",
   "mimetype": "text/x-python",
   "name": "python",
   "nbconvert_exporter": "python",
   "pygments_lexer": "ipython3",
   "version": "3.5.3"
  }
 },
 "nbformat": 4,
 "nbformat_minor": 2
}
