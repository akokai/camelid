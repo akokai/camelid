{
 "cells": [
  {
   "cell_type": "markdown",
   "metadata": {
    "deletable": true,
    "editable": true
   },
   "source": [
    "# Prototype queries: Compounds of [element], inorganic"
   ]
  },
  {
   "cell_type": "code",
   "execution_count": null,
   "metadata": {
    "collapsed": false,
    "deletable": true,
    "editable": true
   },
   "outputs": [],
   "source": [
    "from itertools import islice\n",
    "import os\n",
    "import sys\n",
    "\n",
    "import rdkit\n",
    "from rdkit import Chem\n",
    "\n",
    "import sqlalchemy\n",
    "from sqlalchemy import create_engine, Table, MetaData\n",
    "\n",
    "sys.path.append('../..')\n",
    "from camelid.env import CamelidEnv\n",
    "from camelid.cmgroup import CMGroup, collect_to_json\n",
    "from camelid.googlesheet import SheetManager\n",
    "from camelid.hypertext import cids_to_html, directory\n",
    "from camelid.query import get_query_results, substructure_query, get_element_inorganic"
   ]
  },
  {
   "cell_type": "markdown",
   "metadata": {},
   "source": [
    "## Setup environment, Google access credentials, etc."
   ]
  },
  {
   "cell_type": "code",
   "execution_count": null,
   "metadata": {
    "collapsed": false,
    "deletable": true,
    "editable": true
   },
   "outputs": [],
   "source": [
    "env = CamelidEnv('inorganic')\n",
    "config = env.read_config()\n",
    "\n",
    "# Google Sheets\n",
    "sheet = SheetManager(config['title'],\n",
    "                     'inorganic',\n",
    "                     config['key_file'])\n",
    "\n",
    "# Database connection & metadata\n",
    "eng = create_engine(config['database_url'])\n",
    "con = eng.connect()\n",
    "meta = MetaData(con)\n",
    "\n",
    "# Identify the table and columns used for DB queries\n",
    "cpds = Table('cpds', meta, autoload=True)\n",
    "mol = cpds.c.molecule"
   ]
  },
  {
   "cell_type": "markdown",
   "metadata": {
    "deletable": true,
    "editable": true
   },
   "source": [
    "### Get compound group parameters from the Google Sheet\n",
    "\n",
    "There is a worksheet containing all the groups that are \"[Element] compounds, inorganic\"."
   ]
  },
  {
   "cell_type": "code",
   "execution_count": null,
   "metadata": {
    "collapsed": false,
    "deletable": true,
    "editable": true
   },
   "outputs": [],
   "source": [
    "cmgs = list(islice(sheet.get_cmgs(env), None))"
   ]
  },
  {
   "cell_type": "markdown",
   "metadata": {
    "deletable": true,
    "editable": true
   },
   "source": [
    "## Define function to do the proper query"
   ]
  },
  {
   "cell_type": "code",
   "execution_count": null,
   "metadata": {
    "collapsed": true,
    "deletable": true,
    "editable": true
   },
   "outputs": [],
   "source": [
    "def result_cids(df):\n",
    "    cids = df['cid'].dropna()\n",
    "    return cids"
   ]
  },
  {
   "cell_type": "markdown",
   "metadata": {
    "deletable": true,
    "editable": true
   },
   "source": [
    "## Execute SQL queries and update `CMGroup` info\n",
    "\n",
    "**Group population strategy:** Search for all compounds of an element but exclude compounds that contain certain patterns which make them \"not inorganic\". The `get_element_inorganic` function used here currently excludes C-C bonds *and* C-H bonds.\n",
    "\n",
    "- This is documented in the query function's docstring, which can be used as part of the program output."
   ]
  },
  {
   "cell_type": "code",
   "execution_count": null,
   "metadata": {
    "collapsed": false
   },
   "outputs": [],
   "source": [
    "for cmg in cmgs:\n",
    "    # Generate the query, get its textual form (for documentation), and execute it\n",
    "    que = get_element_inorganic(cmg.structure, mol, [cpds.c.cid])\n",
    "    sql_txt = str(que.compile(compile_kwargs={'literal_binds': True}))\n",
    "    result = get_query_results(que, con)\n",
    "\n",
    "    # Get the CIDs\n",
    "    cids = result_cids(result)\n",
    "\n",
    "    # Add method documentation and summary of results to CMG\n",
    "    summ = {'sql': sql_txt,\n",
    "            'method_doc': get_element_inorganic.__doc__,\n",
    "            '# results': len(result),\n",
    "            '# cids': len(cids)}\n",
    "    cmg.add_info(summ)\n",
    "\n",
    "    # Output HTML page for results\n",
    "    html_file = '{}.html'.format(os.path.join(cmg.results_path, cmg.cmg_id))\n",
    "    cids_to_html(cids, html_file, title=cmg.name, info=cmg.info)"
   ]
  },
  {
   "cell_type": "markdown",
   "metadata": {
    "deletable": true,
    "editable": true
   },
   "source": [
    "## Dump all CMG objects to JSON"
   ]
  },
  {
   "cell_type": "code",
   "execution_count": null,
   "metadata": {
    "collapsed": false,
    "deletable": true,
    "editable": true
   },
   "outputs": [],
   "source": [
    "collect_to_json(cmgs, env)"
   ]
  },
  {
   "cell_type": "markdown",
   "metadata": {
    "deletable": true,
    "editable": true
   },
   "source": [
    "## Create HTML directory of all CMGs"
   ]
  },
  {
   "cell_type": "code",
   "execution_count": null,
   "metadata": {
    "collapsed": true,
    "deletable": true,
    "editable": true
   },
   "outputs": [],
   "source": [
    "directory(cmgs, env, formats=['json'])"
   ]
  },
  {
   "cell_type": "markdown",
   "metadata": {},
   "source": [
    "# Why are some organics still there?\n",
    "\n",
    "Tackle this next..."
   ]
  },
  {
   "cell_type": "code",
   "execution_count": null,
   "metadata": {
    "collapsed": true
   },
   "outputs": [],
   "source": [
    "contains_phenyl = Chem.MolFromInchi('InChI=1S/4C6F5.Sn/c4*7-2-1-3(8)5(10)6(11)4(2)9;')"
   ]
  },
  {
   "cell_type": "code",
   "execution_count": null,
   "metadata": {
    "collapsed": false
   },
   "outputs": [],
   "source": [
    "contains_phenyl.HasSubstructMatch(Chem.MolFromSmarts('[C,c]~[C,c]'))"
   ]
  }
 ],
 "metadata": {
  "kernelspec": {
   "display_name": "Python 3",
   "language": "python",
   "name": "python3"
  },
  "language_info": {
   "codemirror_mode": {
    "name": "ipython",
    "version": 3
   },
   "file_extension": ".py",
   "mimetype": "text/x-python",
   "name": "python",
   "nbconvert_exporter": "python",
   "pygments_lexer": "ipython3",
   "version": "3.5.3"
  }
 },
 "nbformat": 4,
 "nbformat_minor": 2
}
