{
 "cells": [
  {
   "cell_type": "markdown",
   "metadata": {},
   "source": [
    "# Prototype queries: Compounds of [element], inorganic\n",
    "\n",
    "Try two different methods:\n",
    "\n",
    "1. SMARTS\n",
    "2. SQL using two SMILES queries linked with `and not`\n",
    "\n",
    "This is an experiment to determine what kind of query will give the most meaningful results. We are interested in:\n",
    "\n",
    "- How many compounds are returned?\n",
    "- What kinds of compounds? Do they match our idea of the definition of the group?\n",
    "\n",
    "Therefore, for the purpose of this experiment, we only retriev CIDs and output HTML summaries with graphics from PubChem.\n",
    "\n",
    "\n",
    "## Setup"
   ]
  },
  {
   "cell_type": "code",
   "execution_count": null,
   "metadata": {
    "collapsed": false
   },
   "outputs": [],
   "source": [
    "import os\n",
    "import sys\n",
    "import pandas as pd\n",
    "from pandas import DataFrame\n",
    "\n",
    "from rdkit import Chem, rdBase\n",
    "from rdkit.Chem import AllChem, Draw, rdqueries, rdMolDescriptors\n",
    "from rdkit.Chem.Draw import IPythonConsole\n",
    "\n",
    "import sqlalchemy\n",
    "from sqlalchemy import create_engine, Table, MetaData\n",
    "from sqlalchemy.sql import select, text, and_, or_, not_\n",
    "\n",
    "sys.path.append('../..')  # to find camelid package\n",
    "from camelid.env import CamelidEnv\n",
    "from camelid.hypertext import cids_to_html"
   ]
  },
  {
   "cell_type": "code",
   "execution_count": null,
   "metadata": {
    "collapsed": false
   },
   "outputs": [],
   "source": [
    "env = CamelidEnv('test')  # For output file management\n",
    "\n",
    "# Database connection & metadata\n",
    "conn = create_engine('postgresql://akokai@localhost/chmdata')\n",
    "meta = MetaData(conn)\n",
    "cpds = Table('cpds', meta, autoload=True)\n",
    "# Remember molecule column, to help keep query-generating code concise:\n",
    "mol = cpds.c.molecule"
   ]
  },
  {
   "cell_type": "markdown",
   "metadata": {},
   "source": [
    "## Set of elements of interest"
   ]
  },
  {
   "cell_type": "code",
   "execution_count": null,
   "metadata": {
    "collapsed": true
   },
   "outputs": [],
   "source": [
    "elems_inorg = [\n",
    "    'As',\n",
    "    'Cd',\n",
    "    'Pb',\n",
    "    'Sb',\n",
    "    'Ni',\n",
    "    'Au',\n",
    "    'Be',\n",
    "    'Rh',\n",
    "    'Se',\n",
    "    'Sn',\n",
    "    'V',\n",
    "    'U',\n",
    "]"
   ]
  },
  {
   "cell_type": "markdown",
   "metadata": {},
   "source": [
    "## Store results of all queries for later analysis"
   ]
  },
  {
   "cell_type": "code",
   "execution_count": null,
   "metadata": {
    "collapsed": true
   },
   "outputs": [],
   "source": [
    "results = {elem: dict() for elem in elems_inorg}"
   ]
  },
  {
   "cell_type": "markdown",
   "metadata": {},
   "source": [
    "# SMARTS way\n",
    "\n",
    "## Define a SMARTS query constructor function"
   ]
  },
  {
   "cell_type": "code",
   "execution_count": null,
   "metadata": {
    "collapsed": true
   },
   "outputs": [],
   "source": [
    "def smarts_query(elem, mol):\n",
    "    # Note: not necessary to .bindparams() in this line -- can simply execute(que, s=elem)\n",
    "    # -- but this helps generate string versions of the query for documentation.\n",
    "    where_clause = mol.op('@>')(text(':s ::qmol').bindparams(s=elem))\n",
    "    que = select([cpds.c.cid]).where(where_clause)\n",
    "    return que"
   ]
  },
  {
   "cell_type": "markdown",
   "metadata": {},
   "source": [
    "## Execute inorganics queries using SMARTS"
   ]
  },
  {
   "cell_type": "code",
   "execution_count": null,
   "metadata": {
    "collapsed": false
   },
   "outputs": [],
   "source": [
    "for elem in elems_inorg:\n",
    "    smarts = '[{}].[!C;!c]'.format(elem)\n",
    "    que = smarts_query(smarts, mol)\n",
    "    res = conn.execute(que)\n",
    "    cids = [row[0] for row in res.fetchall() if row[0] is not None]\n",
    "\n",
    "    # Add results to our collection...\n",
    "    results[elem]['smarts'] = cids\n",
    "\n",
    "    # Prepare HTML output\n",
    "    title = '{} compounds, inorganic, SMARTS query'.format(elem)\n",
    "    notes = '{0} results, {1} CIDs: '.format(res.rowcount, len(cids))\n",
    "    notes += str(que.compile(compile_kwargs={'literal_binds': True}))\n",
    "    html_file = os.path.join(env.results_path, elem + '_smarts.html')\n",
    "    cids_to_html(cids, html_file, title=title, notes=notes)"
   ]
  },
  {
   "cell_type": "markdown",
   "metadata": {},
   "source": [
    "# SQL way\n",
    "\n",
    "Since this kind of query breaks the schema of \"everything is a substructure search, just add SMILES/SMARTS\", let's define a function to take care of the whole search operation.\n",
    "\n",
    "\n",
    "## Define a function for specific kind of query\n",
    "\n",
    "This will be a function specifically to **find all compounds containing an element, which do not also contain C.**\n",
    "\n",
    "For simplicity, bundling up all the I/O operations together with the query. This is not how it should actually be implemented."
   ]
  },
  {
   "cell_type": "code",
   "execution_count": null,
   "metadata": {
    "collapsed": true
   },
   "outputs": [],
   "source": [
    "def get_element_cpds_no_carbon(elem, mol, conn):\n",
    "    # if this were an actual function, mol and conn should be parameters\n",
    "    # SQL: ... WHERE %s @> '[%e]' and not %s @> '[C]'\n",
    "    smiles = '[{}]'.format(elem)\n",
    "    que = select([cpds.c.cid])\n",
    "    que = que.where(and_(mol.op('@>')(smiles),\n",
    "                         not_(mol.op('@>')('[C]'))))\n",
    "    res = conn.execute(que)\n",
    "    cids = [row[0] for row in res.fetchall() if row[0] is not None]\n",
    "    title = '{} compounds, inorganic, SQL query'.format(elem)\n",
    "    notes = '{0} CIDs, {1} results from:\\n'.format(len(cids),\n",
    "                                                   res.rowcount)\n",
    "    notes += str(que.compile(compile_kwargs={'literal_binds': True}))\n",
    "    html_file = os.path.join(env.results_path, elem + '_sql.html')\n",
    "    cids_to_html(cids, html_file, title=title, notes=notes)\n",
    "    return cids"
   ]
  },
  {
   "cell_type": "markdown",
   "metadata": {},
   "source": [
    "## Execute SQL queries"
   ]
  },
  {
   "cell_type": "code",
   "execution_count": null,
   "metadata": {
    "collapsed": false
   },
   "outputs": [],
   "source": [
    "for elem in elems_inorg:\n",
    "    cids = get_element_cpds_no_carbon(elem, mol, conn)\n",
    "    results[elem]['sql'] = cids"
   ]
  },
  {
   "cell_type": "markdown",
   "metadata": {},
   "source": [
    "# Dump all search results to JSON for further inspection"
   ]
  },
  {
   "cell_type": "code",
   "execution_count": null,
   "metadata": {
    "collapsed": false
   },
   "outputs": [],
   "source": [
    "import json\n",
    "\n",
    "with open(os.path.join(env.results_path, 'inorganic.json'), 'w') as fp:\n",
    "    json.dump(results, fp)"
   ]
  }
 ],
 "metadata": {
  "kernelspec": {
   "display_name": "Python 3",
   "language": "python",
   "name": "python3"
  },
  "language_info": {
   "codemirror_mode": {
    "name": "ipython",
    "version": 3
   },
   "file_extension": ".py",
   "mimetype": "text/x-python",
   "name": "python",
   "nbconvert_exporter": "python",
   "pygments_lexer": "ipython3",
   "version": "3.5.3"
  }
 },
 "nbformat": 4,
 "nbformat_minor": 2
}
