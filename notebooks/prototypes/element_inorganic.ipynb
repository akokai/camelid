{
 "cells": [
  {
   "cell_type": "markdown",
   "metadata": {
    "deletable": true,
    "editable": true
   },
   "source": [
    "# Prototype queries: Compounds of [element], inorganic\n",
    "\n",
    "Try a few different methods.\n",
    "\n",
    "This is an experiment to determine what kind of query will give the most meaningful results. We are interested in:\n",
    "\n",
    "- How many compounds are returned?\n",
    "- What kinds of compounds? Do they match our idea of the definition of the group?\n",
    "\n",
    "Therefore, for the purpose of this experiment, we only retrieve CIDs and output HTML summaries with graphics from PubChem.\n",
    "\n",
    "\n",
    "## Setup"
   ]
  },
  {
   "cell_type": "code",
   "execution_count": 1,
   "metadata": {
    "collapsed": false,
    "deletable": true,
    "editable": true
   },
   "outputs": [],
   "source": [
    "import os\n",
    "import sys\n",
    "import pandas as pd\n",
    "from pandas import DataFrame\n",
    "\n",
    "import rdkit\n",
    "from rdkit import Chem, rdBase\n",
    "from rdkit.Chem import AllChem, Draw, rdqueries, rdMolDescriptors\n",
    "from rdkit.Chem.Draw import IPythonConsole\n",
    "\n",
    "import sqlalchemy\n",
    "from sqlalchemy import create_engine, Table, MetaData\n",
    "from sqlalchemy.sql import select, text, and_, or_, not_\n",
    "\n",
    "sys.path.append('../..')\n",
    "from camelid.env import CamelidEnv\n",
    "from camelid.cmgroup import CMGroup\n",
    "from camelid.query import get_query_results, substructure_query, substruct_exclude_query\n",
    "from camelid.hypertext import cids_to_html"
   ]
  },
  {
   "cell_type": "code",
   "execution_count": 2,
   "metadata": {
    "collapsed": false,
    "deletable": true,
    "editable": true
   },
   "outputs": [
    {
     "name": "stdout",
     "output_type": "stream",
     "text": [
      "2017-03-17 17:20:11,655 camelid.env WARNING No database URL given: CamelidEnv('/opt/akokai/data/camelid', 'test', None)\n",
      "2017-03-17 17:20:11,659 camelid.env INFO Project path: /opt/akokai/data/camelid/test\n"
     ]
    },
    {
     "name": "stderr",
     "output_type": "stream",
     "text": [
      "/opt/akokai/anaconda/envs/cmldev/lib/python3.5/site-packages/sqlalchemy/dialects/postgresql/base.py:2526: SAWarning: Did not recognize type 'mol' of column 'molecule'\n",
      "  (attype, name))\n"
     ]
    }
   ],
   "source": [
    "env = CamelidEnv('test')  # For output file management\n",
    "\n",
    "# Database connection & metadata\n",
    "con = create_engine('postgresql://akokai@localhost/chmdata')\n",
    "meta = MetaData(conn)\n",
    "cpds = Table('cpds', meta, autoload=True)\n",
    "# Remember molecule column, to help keep query-generating code concise:\n",
    "mol = cpds.c.molecule"
   ]
  },
  {
   "cell_type": "markdown",
   "metadata": {
    "deletable": true,
    "editable": true
   },
   "source": [
    "### Set of elements of interest"
   ]
  },
  {
   "cell_type": "code",
   "execution_count": 3,
   "metadata": {
    "collapsed": true,
    "deletable": true,
    "editable": true
   },
   "outputs": [],
   "source": [
    "elems_inorg = [\n",
    "    'As',\n",
    "    'Cd',\n",
    "    'Pb',\n",
    "    'Sb',\n",
    "    'Ni',\n",
    "    'Au',\n",
    "    'Be',\n",
    "    'Rh',\n",
    "    'Se',\n",
    "    'Sn',\n",
    "    'V',\n",
    "    'U',\n",
    "]"
   ]
  },
  {
   "cell_type": "markdown",
   "metadata": {
    "deletable": true,
    "editable": true
   },
   "source": [
    "### Store results..."
   ]
  },
  {
   "cell_type": "code",
   "execution_count": 4,
   "metadata": {
    "collapsed": true,
    "deletable": true,
    "editable": true
   },
   "outputs": [],
   "source": [
    "cmgs = []"
   ]
  },
  {
   "cell_type": "markdown",
   "metadata": {
    "deletable": true,
    "editable": true
   },
   "source": [
    "## SMARTS substructure [element], with SQL clause excluding [organics]\n",
    "\n",
    "The question is **how to specify what \"organic\" patterns to exclude.** Try a number of different exclude patterns:"
   ]
  },
  {
   "cell_type": "code",
   "execution_count": 6,
   "metadata": {
    "collapsed": false
   },
   "outputs": [],
   "source": [
    "exclude_patterns = {\n",
    "    'three_c': Chem.MolFromSmarts('[C,c].[C,c].[C,c]'),\n",
    "    'two_c': Chem.MolFromSmarts('[C,c].[C,c]'),\n",
    "    'ch_bonds': Chem.MolFromSmarts('[C!H0,c!H0]'),\n",
    "    'carbon': Chem.MolFromSmarts('[C,c]')\n",
    "}"
   ]
  },
  {
   "cell_type": "markdown",
   "metadata": {},
   "source": [
    "### Execute SQL queries"
   ]
  },
  {
   "cell_type": "code",
   "execution_count": 3,
   "metadata": {
    "collapsed": true
   },
   "outputs": [],
   "source": [
    "def result_cids(df):\n",
    "    cids = df['cid'].dropna()\n",
    "    return cids"
   ]
  },
  {
   "cell_type": "code",
   "execution_count": 7,
   "metadata": {
    "collapsed": false,
    "deletable": true,
    "editable": true
   },
   "outputs": [
    {
     "ename": "NameError",
     "evalue": "name 'cids' is not defined",
     "output_type": "error",
     "traceback": [
      "\u001b[0;31m---------------------------------------------------------------------------\u001b[0m",
      "\u001b[0;31mNameError\u001b[0m                                 Traceback (most recent call last)",
      "\u001b[0;32m<ipython-input-7-5efdeda27636>\u001b[0m in \u001b[0;36m<module>\u001b[0;34m()\u001b[0m\n\u001b[1;32m     11\u001b[0m         \u001b[0mnotes\u001b[0m \u001b[0;34m+=\u001b[0m \u001b[0mres\u001b[0m\u001b[0;34m[\u001b[0m\u001b[0;34m'sql'\u001b[0m\u001b[0;34m]\u001b[0m\u001b[0;34m\u001b[0m\u001b[0m\n\u001b[1;32m     12\u001b[0m         \u001b[0mhtml_file\u001b[0m \u001b[0;34m=\u001b[0m \u001b[0mos\u001b[0m\u001b[0;34m.\u001b[0m\u001b[0mpath\u001b[0m\u001b[0;34m.\u001b[0m\u001b[0mjoin\u001b[0m\u001b[0;34m(\u001b[0m\u001b[0menv\u001b[0m\u001b[0;34m.\u001b[0m\u001b[0mresults_path\u001b[0m\u001b[0;34m,\u001b[0m \u001b[0melem\u001b[0m \u001b[0;34m+\u001b[0m \u001b[0;34m'_{}.html'\u001b[0m\u001b[0;34m.\u001b[0m\u001b[0mformat\u001b[0m\u001b[0;34m(\u001b[0m\u001b[0mexc\u001b[0m\u001b[0;34m)\u001b[0m\u001b[0;34m)\u001b[0m\u001b[0;34m\u001b[0m\u001b[0m\n\u001b[0;32m---> 13\u001b[0;31m         \u001b[0mcids_to_html\u001b[0m\u001b[0;34m(\u001b[0m\u001b[0mcids\u001b[0m\u001b[0;34m,\u001b[0m \u001b[0mhtml_file\u001b[0m\u001b[0;34m,\u001b[0m \u001b[0mtitle\u001b[0m\u001b[0;34m=\u001b[0m\u001b[0mtitle\u001b[0m\u001b[0;34m,\u001b[0m \u001b[0mnotes\u001b[0m\u001b[0;34m=\u001b[0m\u001b[0mnotes\u001b[0m\u001b[0;34m)\u001b[0m\u001b[0;34m\u001b[0m\u001b[0m\n\u001b[0m",
      "\u001b[0;31mNameError\u001b[0m: name 'cids' is not defined"
     ]
    }
   ],
   "source": [
    "for pat in exclude_patterns.keys():\n",
    "\n",
    "    for elem in elems_inorg:\n",
    "        \n",
    "        elem_smarts = '[{}]'.format(elem)\n",
    "        query = substruct_exclude_query(elem_smarts, exclude_patterns[pat], mol, con)\n",
    "        \n",
    "        # Minimally use CMGroup to organize data\n",
    "\n",
    "        id_ = elem + '_{}.html'.format(pat)\n",
    "        sql_ = str(que.compile(compile_kwargs={'literal_binds': True}))\n",
    "        params = {'cmg_id': id_,\n",
    "          'structure_type': 'SMARTS',\n",
    "          'name': '{0} compounds, inorganic (excluding {1})'.format(elem, pat)\n",
    "         }\n",
    "        cmg = CMGroup(params, env)\n",
    "\n",
    "        # Do the query\n",
    "        result = get_query_results(query)\n",
    "\n",
    "        # Create summary of results...\n",
    "        cids = result_cids(result)\n",
    "\n",
    "        # Add results to our collection for JSON export\n",
    "        results[elem][pat] = summ\n",
    "\n",
    "        'notes' = '{0} results, {1} CIDs from: {2}'.format(len(result), summ['n_cids'])\n",
    "\n",
    "        # Output HTML\n",
    "        html_file = os.path.join(cmg.results_path, id_)\n",
    "        cids_to_html(summ['cids'],\n",
    "                     html_file,\n",
    "                     title=params['name'],\n",
    "                     notes=notes)"
   ]
  },
  {
   "cell_type": "markdown",
   "metadata": {
    "deletable": true,
    "editable": true
   },
   "source": [
    "## Single-clause SMARTS substructure\n",
    "\n",
    "Don't know how to specify SMARTS for \"contains this element and not *any* carbon *anywhere\".\n",
    "\n",
    "Instead experimenting with identifying \"inorganic\" forms of carbon (carbonate, CO, CN...)."
   ]
  },
  {
   "cell_type": "code",
   "execution_count": null,
   "metadata": {
    "collapsed": false,
    "deletable": true,
    "editable": true
   },
   "outputs": [],
   "source": [
    "\n",
    "def get_smarts_results(elem, pattern, mol, conn):\n",
    "    smarts = pattern.format(elem)\n",
    "    que = smarts_query(qmol, mol, [cpds])\n",
    "    res = conn.execute(que)\n",
    "    cids = [row[0] for row in res.fetchall() if row[0] is not None]\n",
    "    ret = {'sql': str(que.compile(compile_kwargs={'literal_binds': True})),\n",
    "           'rowcount': res.rowcount,\n",
    "           'cids': cids,\n",
    "           'n_cids': len(cids)}\n",
    "    return ret\n",
    "\n",
    "\n",
    "\n",
    "smarts_strings = {\n",
    "    'inorg_c': '[{0};!$([{0}]-[C,c])].[CH0;!$(C~C[H])]'\n",
    "}\n",
    "\n",
    "\n",
    "for exp in smarts_strings.keys():\n",
    "    for elem in elems_inorg:\n",
    "        res = get_smarts_results(elem, smarts_strings[exp], mol, conn, exp)\n",
    "        \n",
    "        # Add results to our collection\n",
    "        results[elem][exp] = res\n",
    "\n",
    "        # Output HTML\n",
    "        title = '{0} compounds, inorganic: SMARTS {1}'.format(elem, exp)\n",
    "        notes = '{0} results, {1} CIDs: '.format(res['rowcount'], len(cids))\n",
    "        notes += res['sql']\n",
    "        html_file = os.path.join(env.results_path, elem + '_{}.html'.format(exp))\n",
    "        cids_to_html(res['cids'], html_file, title=title, notes=notes)"
   ]
  },
  {
   "cell_type": "markdown",
   "metadata": {
    "deletable": true,
    "editable": true
   },
   "source": [
    "## Dump all search results to JSON for further inspection"
   ]
  },
  {
   "cell_type": "code",
   "execution_count": null,
   "metadata": {
    "collapsed": false,
    "deletable": true,
    "editable": true
   },
   "outputs": [],
   "source": [
    "import json\n",
    "\n",
    "with open(os.path.join(env.results_path, 'inorganic.json'), 'w') as fp:\n",
    "    json.dump(results, fp)"
   ]
  }
 ],
 "metadata": {
  "kernelspec": {
   "display_name": "Python 3",
   "language": "python",
   "name": "python3"
  },
  "language_info": {
   "codemirror_mode": {
    "name": "ipython",
    "version": 3
   },
   "file_extension": ".py",
   "mimetype": "text/x-python",
   "name": "python",
   "nbconvert_exporter": "python",
   "pygments_lexer": "ipython3",
   "version": "3.5.3"
  }
 },
 "nbformat": 4,
 "nbformat_minor": 2
}
