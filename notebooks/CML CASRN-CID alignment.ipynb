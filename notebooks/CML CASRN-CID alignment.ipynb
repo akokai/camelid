{
 "cells": [
  {
   "cell_type": "code",
   "execution_count": 1,
   "metadata": {
    "collapsed": false
   },
   "outputs": [],
   "source": [
    "from __future__ import unicode_literals\n",
    "\n",
    "import os\n",
    "from os.path import join as pjoin\n",
    "import pandas as pd\n",
    "from pandas import DataFrame, Series\n",
    "from boltons.fileutils import mkdir_p\n",
    "\n",
    "DATA_PATH = pjoin(os.getenv('CAMELID_HOME'), 'cas2cid', 'data')\n",
    "MD_RESULTS = pjoin(DATA_PATH, 'CASRN-CID MD analysis 2014-04-20.csv')\n",
    "CID_INCHIKEY = pjoin(DATA_PATH, 'CID-InChIKey 2014-04-20.csv')\n",
    "RESULTS_PATH = pjoin(os.getenv('CAMELID_HOME'), 'cas2cid', 'results')\n",
    "mkdir_p(RESULTS_PATH)"
   ]
  },
  {
   "cell_type": "markdown",
   "metadata": {},
   "source": [
    "# CML CASRN - PubChem CID alignment process\n",
    "\n",
    "## Goal\n",
    "\n",
    "Take the output from PubChem ID Exchange conversion of all CASRNs in the CML into CIDs, and determine whether each association is OK to import into the CML or requires further resolution.\n",
    "\n",
    "Secondary goal: reproduce, as an automatable process in Python, Michel's spreadsheet-based processing that is already done.\n",
    "\n",
    "## Data source\n",
    "\n",
    "A copy of [the spreadsheet](https://drive.google.com/open?id=1F60y2Fqchb1hy0Iu-RzUVMwaAxHnm982D_ZYBAVwiRE) in which Michel did the processing. I will start with the output from the ID Exchange, a list of CASRN - CID associations and the InChIKey corresponding to each CID. Since I don't have the actual output from 2014-04-20, I manually extracted CASRN-CID associations (first two columns of the \"CASRN->CID\" worksheet) and CID-InChIKey mappings (first two columns of \"CID->InChIKey\" worksheet) from that spreadsheet. I will merge these as needed.\n",
    "\n",
    "\n",
    "## Assumptions about the dataset\n",
    "\n",
    "I assume that (CASRN, CID) associations are not repeated, and that each unique CID is only associated with one InChIKey. These both are confirmed below.\n",
    "\n",
    "\n",
    "# Step 1. Find mappings that are already 1:1\n",
    "\n",
    "We will accept as valid all 1:1 CID:CASRN mappings output by PubChem.\n",
    "\n",
    "First load the data and make sure it's sane."
   ]
  },
  {
   "cell_type": "code",
   "execution_count": 2,
   "metadata": {
    "collapsed": false
   },
   "outputs": [
    {
     "name": "stdout",
     "output_type": "stream",
     "text": [
      "25357 identifier correspondences\n",
      "25357 CID-InChIKey mappings\n",
      "25357 identifier correspondences with InChIKeys\n"
     ]
    },
    {
     "data": {
      "text/html": [
       "<div>\n",
       "<table border=\"1\" class=\"dataframe\">\n",
       "  <thead>\n",
       "    <tr style=\"text-align: right;\">\n",
       "      <th></th>\n",
       "      <th>CASRN</th>\n",
       "      <th>CID</th>\n",
       "      <th>InChIKey</th>\n",
       "    </tr>\n",
       "  </thead>\n",
       "  <tbody>\n",
       "    <tr>\n",
       "      <th>0</th>\n",
       "      <td>100-00-5</td>\n",
       "      <td>7474</td>\n",
       "      <td>CZGCEKJOLUNIFY-UHFFFAOYSA-N</td>\n",
       "    </tr>\n",
       "    <tr>\n",
       "      <th>1</th>\n",
       "      <td>100-01-6</td>\n",
       "      <td>7475</td>\n",
       "      <td>TYMLOMAKGOJONV-UHFFFAOYSA-N</td>\n",
       "    </tr>\n",
       "    <tr>\n",
       "      <th>2</th>\n",
       "      <td>100-02-7</td>\n",
       "      <td>980</td>\n",
       "      <td>BTJIUGUIPKRLHP-UHFFFAOYSA-N</td>\n",
       "    </tr>\n",
       "    <tr>\n",
       "      <th>3</th>\n",
       "      <td>100-06-1</td>\n",
       "      <td>7476</td>\n",
       "      <td>NTPLXRHDUXRPNE-UHFFFAOYSA-N</td>\n",
       "    </tr>\n",
       "    <tr>\n",
       "      <th>4</th>\n",
       "      <td>100-07-2</td>\n",
       "      <td>7477</td>\n",
       "      <td>MXMOTZIXVICDSD-UHFFFAOYSA-N</td>\n",
       "    </tr>\n",
       "    <tr>\n",
       "      <th>5</th>\n",
       "      <td>100-09-4</td>\n",
       "      <td>7478</td>\n",
       "      <td>ZEYHEAKUIGZSGI-UHFFFAOYSA-N</td>\n",
       "    </tr>\n",
       "    <tr>\n",
       "      <th>6</th>\n",
       "      <td>100-10-7</td>\n",
       "      <td>7479</td>\n",
       "      <td>BGNGWHSBYQYVRX-UHFFFAOYSA-N</td>\n",
       "    </tr>\n",
       "    <tr>\n",
       "      <th>7</th>\n",
       "      <td>100-11-8</td>\n",
       "      <td>66011</td>\n",
       "      <td>VOLRSQPSJGXRNJ-UHFFFAOYSA-N</td>\n",
       "    </tr>\n",
       "    <tr>\n",
       "      <th>8</th>\n",
       "      <td>100-12-9</td>\n",
       "      <td>7480</td>\n",
       "      <td>RESTWAHJFMZUIZ-UHFFFAOYSA-N</td>\n",
       "    </tr>\n",
       "    <tr>\n",
       "      <th>9</th>\n",
       "      <td>100-14-1</td>\n",
       "      <td>7482</td>\n",
       "      <td>KGCNHWXDPDPSBV-UHFFFAOYSA-N</td>\n",
       "    </tr>\n",
       "  </tbody>\n",
       "</table>\n",
       "</div>"
      ],
      "text/plain": [
       "      CASRN    CID                     InChIKey\n",
       "0  100-00-5   7474  CZGCEKJOLUNIFY-UHFFFAOYSA-N\n",
       "1  100-01-6   7475  TYMLOMAKGOJONV-UHFFFAOYSA-N\n",
       "2  100-02-7    980  BTJIUGUIPKRLHP-UHFFFAOYSA-N\n",
       "3  100-06-1   7476  NTPLXRHDUXRPNE-UHFFFAOYSA-N\n",
       "4  100-07-2   7477  MXMOTZIXVICDSD-UHFFFAOYSA-N\n",
       "5  100-09-4   7478  ZEYHEAKUIGZSGI-UHFFFAOYSA-N\n",
       "6  100-10-7   7479  BGNGWHSBYQYVRX-UHFFFAOYSA-N\n",
       "7  100-11-8  66011  VOLRSQPSJGXRNJ-UHFFFAOYSA-N\n",
       "8  100-12-9   7480  RESTWAHJFMZUIZ-UHFFFAOYSA-N\n",
       "9  100-14-1   7482  KGCNHWXDPDPSBV-UHFFFAOYSA-N"
      ]
     },
     "execution_count": 2,
     "metadata": {},
     "output_type": "execute_result"
    }
   ],
   "source": [
    "mdata = pd.read_csv(MD_RESULTS)\n",
    "ids = mdata.iloc[:,[0,1]]\n",
    "q = len(ids)\n",
    "print(q, \"identifier correspondences\")\n",
    "\n",
    "# Check first assumption\n",
    "assert len(ids.drop_duplicates()) == len(ids)\n",
    "\n",
    "inchikeys = pd.read_csv(CID_INCHIKEY)\n",
    "inchikeys = inchikeys.iloc[:,[0,1]]\n",
    "print(len(inchikeys), \"CID-InChIKey mappings\")\n",
    "\n",
    "# Check second assumption\n",
    "assert len(inchikeys.drop_duplicates()) == len(inchikeys.drop_duplicates(subset='CID'))\n",
    "\n",
    "ids = ids.merge(inchikeys, on='CID', how='inner', sort=True).drop_duplicates()\n",
    "print(len(ids), \"identifier correspondences with InChIKeys\")\n",
    "# Can't have any extra or missing rows.\n",
    "assert len(ids) == q\n",
    "# Can't have any missing values, or something is wrong.\n",
    "assert all(ids.notnull())\n",
    "\n",
    "# Make sure it is sorted by CASRN then by CID.\n",
    "ids.sort_values(by=['CASRN', 'CID'], inplace=True)\n",
    "ids.reset_index(drop=True, inplace=True)\n",
    "\n",
    "ids.head(10)"
   ]
  },
  {
   "cell_type": "markdown",
   "metadata": {},
   "source": [
    "## Calculate degrees of mapping for each ID\n",
    "\n",
    "Determine which IDs are mapped 1:1, ..., n:m. Not sure what the correct terminology is, but anyway, we need to compute two values for each row:\n",
    "\n",
    "- For every CASRN, how many CIDs have been associated with that CASRN? I'll call this `n_cid_casrn`.\n",
    "- For every CID, how many CASRNs have been associated with that CID? I'll call this `n_casrn_cid`.\n",
    "\n",
    "I compute these values for each *unique* CASRN or CID, and then add the appropriate corresponding value to every (CASRN, CID) row in the DataFrame."
   ]
  },
  {
   "cell_type": "code",
   "execution_count": 3,
   "metadata": {
    "collapsed": false,
    "scrolled": true
   },
   "outputs": [
    {
     "data": {
      "text/html": [
       "<div>\n",
       "<table border=\"1\" class=\"dataframe\">\n",
       "  <thead>\n",
       "    <tr style=\"text-align: right;\">\n",
       "      <th></th>\n",
       "      <th>CASRN</th>\n",
       "      <th>CID</th>\n",
       "      <th>InChIKey</th>\n",
       "      <th>n_cid_casrn</th>\n",
       "      <th>n_casrn_cid</th>\n",
       "    </tr>\n",
       "  </thead>\n",
       "  <tbody>\n",
       "    <tr>\n",
       "      <th>0</th>\n",
       "      <td>100-00-5</td>\n",
       "      <td>7474</td>\n",
       "      <td>CZGCEKJOLUNIFY-UHFFFAOYSA-N</td>\n",
       "      <td>1</td>\n",
       "      <td>1</td>\n",
       "    </tr>\n",
       "    <tr>\n",
       "      <th>1</th>\n",
       "      <td>100-01-6</td>\n",
       "      <td>7475</td>\n",
       "      <td>TYMLOMAKGOJONV-UHFFFAOYSA-N</td>\n",
       "      <td>1</td>\n",
       "      <td>1</td>\n",
       "    </tr>\n",
       "    <tr>\n",
       "      <th>2</th>\n",
       "      <td>100-02-7</td>\n",
       "      <td>980</td>\n",
       "      <td>BTJIUGUIPKRLHP-UHFFFAOYSA-N</td>\n",
       "      <td>1</td>\n",
       "      <td>1</td>\n",
       "    </tr>\n",
       "    <tr>\n",
       "      <th>3</th>\n",
       "      <td>100-06-1</td>\n",
       "      <td>7476</td>\n",
       "      <td>NTPLXRHDUXRPNE-UHFFFAOYSA-N</td>\n",
       "      <td>1</td>\n",
       "      <td>1</td>\n",
       "    </tr>\n",
       "    <tr>\n",
       "      <th>4</th>\n",
       "      <td>100-07-2</td>\n",
       "      <td>7477</td>\n",
       "      <td>MXMOTZIXVICDSD-UHFFFAOYSA-N</td>\n",
       "      <td>1</td>\n",
       "      <td>1</td>\n",
       "    </tr>\n",
       "  </tbody>\n",
       "</table>\n",
       "</div>"
      ],
      "text/plain": [
       "      CASRN   CID                     InChIKey  n_cid_casrn  n_casrn_cid\n",
       "0  100-00-5  7474  CZGCEKJOLUNIFY-UHFFFAOYSA-N            1            1\n",
       "1  100-01-6  7475  TYMLOMAKGOJONV-UHFFFAOYSA-N            1            1\n",
       "2  100-02-7   980  BTJIUGUIPKRLHP-UHFFFAOYSA-N            1            1\n",
       "3  100-06-1  7476  NTPLXRHDUXRPNE-UHFFFAOYSA-N            1            1\n",
       "4  100-07-2  7477  MXMOTZIXVICDSD-UHFFFAOYSA-N            1            1"
      ]
     },
     "execution_count": 3,
     "metadata": {},
     "output_type": "execute_result"
    }
   ],
   "source": [
    "# Compute number of CIDs for each unique CASRN.\n",
    "n_cid_casrn = ids[['CASRN', 'CID']].groupby('CASRN').count()\n",
    "ids['n_cid_casrn'] = ids['CASRN'].apply(lambda x: n_cid_casrn.loc[x, 'CID'])\n",
    "\n",
    "# Compute number of CASRNs for each unique CID.\n",
    "n_casrn_cid = ids[['CASRN', 'CID']].groupby('CID').count()\n",
    "ids['n_casrn_cid'] = ids['CID'].apply(lambda x: n_casrn_cid.loc[x, 'CASRN'])\n",
    "\n",
    "ids.head()"
   ]
  },
  {
   "cell_type": "markdown",
   "metadata": {},
   "source": [
    "### Plot\n",
    "\n",
    "Histograms of CAS and CID degrees-of-mapping show that this dataset is predominantly 1:1 mapping."
   ]
  },
  {
   "cell_type": "code",
   "execution_count": 4,
   "metadata": {
    "collapsed": false,
    "scrolled": false
   },
   "outputs": [
    {
     "data": {
      "text/plain": [
       "array([[<matplotlib.axes._subplots.AxesSubplot object at 0x7f553b2140f0>,\n",
       "        <matplotlib.axes._subplots.AxesSubplot object at 0x7f553b171390>]], dtype=object)"
      ]
     },
     "execution_count": 4,
     "metadata": {},
     "output_type": "execute_result"
    },
    {
     "data": {
      "image/png": "[encoded data removed]",
      "text/plain": [
       "<matplotlib.figure.Figure at 0x7f553b239f98>"
      ]
     },
     "metadata": {},
     "output_type": "display_data"
    }
   ],
   "source": [
    "%matplotlib inline\n",
    "ids.hist(column=['n_cid_casrn', 'n_casrn_cid'])"
   ]
  },
  {
   "cell_type": "markdown",
   "metadata": {},
   "source": [
    "## Separate the 1:1 mappings\n",
    "\n",
    "We now have the first set of 1:1 correspondences."
   ]
  },
  {
   "cell_type": "code",
   "execution_count": 5,
   "metadata": {
    "collapsed": false,
    "scrolled": true
   },
   "outputs": [
    {
     "name": "stdout",
     "output_type": "stream",
     "text": [
      "18729 1:1 CASRN-CID mappings\n"
     ]
    },
    {
     "data": {
      "text/html": [
       "<div>\n",
       "<table border=\"1\" class=\"dataframe\">\n",
       "  <thead>\n",
       "    <tr style=\"text-align: right;\">\n",
       "      <th></th>\n",
       "      <th>CASRN</th>\n",
       "      <th>CID</th>\n",
       "      <th>InChIKey</th>\n",
       "      <th>n_cid_casrn</th>\n",
       "      <th>n_casrn_cid</th>\n",
       "    </tr>\n",
       "  </thead>\n",
       "  <tbody>\n",
       "    <tr>\n",
       "      <th>0</th>\n",
       "      <td>100-00-5</td>\n",
       "      <td>7474</td>\n",
       "      <td>CZGCEKJOLUNIFY-UHFFFAOYSA-N</td>\n",
       "      <td>1</td>\n",
       "      <td>1</td>\n",
       "    </tr>\n",
       "    <tr>\n",
       "      <th>1</th>\n",
       "      <td>100-01-6</td>\n",
       "      <td>7475</td>\n",
       "      <td>TYMLOMAKGOJONV-UHFFFAOYSA-N</td>\n",
       "      <td>1</td>\n",
       "      <td>1</td>\n",
       "    </tr>\n",
       "    <tr>\n",
       "      <th>2</th>\n",
       "      <td>100-02-7</td>\n",
       "      <td>980</td>\n",
       "      <td>BTJIUGUIPKRLHP-UHFFFAOYSA-N</td>\n",
       "      <td>1</td>\n",
       "      <td>1</td>\n",
       "    </tr>\n",
       "    <tr>\n",
       "      <th>3</th>\n",
       "      <td>100-06-1</td>\n",
       "      <td>7476</td>\n",
       "      <td>NTPLXRHDUXRPNE-UHFFFAOYSA-N</td>\n",
       "      <td>1</td>\n",
       "      <td>1</td>\n",
       "    </tr>\n",
       "    <tr>\n",
       "      <th>4</th>\n",
       "      <td>100-07-2</td>\n",
       "      <td>7477</td>\n",
       "      <td>MXMOTZIXVICDSD-UHFFFAOYSA-N</td>\n",
       "      <td>1</td>\n",
       "      <td>1</td>\n",
       "    </tr>\n",
       "  </tbody>\n",
       "</table>\n",
       "</div>"
      ],
      "text/plain": [
       "      CASRN   CID                     InChIKey  n_cid_casrn  n_casrn_cid\n",
       "0  100-00-5  7474  CZGCEKJOLUNIFY-UHFFFAOYSA-N            1            1\n",
       "1  100-01-6  7475  TYMLOMAKGOJONV-UHFFFAOYSA-N            1            1\n",
       "2  100-02-7   980  BTJIUGUIPKRLHP-UHFFFAOYSA-N            1            1\n",
       "3  100-06-1  7476  NTPLXRHDUXRPNE-UHFFFAOYSA-N            1            1\n",
       "4  100-07-2  7477  MXMOTZIXVICDSD-UHFFFAOYSA-N            1            1"
      ]
     },
     "execution_count": 5,
     "metadata": {},
     "output_type": "execute_result"
    }
   ],
   "source": [
    "mapped_11 = ids[(ids.n_casrn_cid == 1) & (ids.n_cid_casrn == 1)]\n",
    "print(len(mapped_11), '1:1 CASRN-CID mappings')\n",
    "mapped_11.head()"
   ]
  },
  {
   "cell_type": "markdown",
   "metadata": {},
   "source": [
    "## Plot degrees of remaining n:m correspondences\n",
    "\n",
    "The rest of the `ids` DataFrame contains associations for which there is either more than one CID, more than one CASRN, or both. Here are histograms of CAS and CID degrees-of-mapping once we have removed 1:1 mappings."
   ]
  },
  {
   "cell_type": "code",
   "execution_count": 6,
   "metadata": {
    "collapsed": false
   },
   "outputs": [
    {
     "data": {
      "text/plain": [
       "array([[<matplotlib.axes._subplots.AxesSubplot object at 0x7f553b17cda0>,\n",
       "        <matplotlib.axes._subplots.AxesSubplot object at 0x7f553aec62b0>]], dtype=object)"
      ]
     },
     "execution_count": 6,
     "metadata": {},
     "output_type": "execute_result"
    },
    {
     "data": {
      "image/png": "[encoded data removed]",
      "text/plain": [
       "<matplotlib.figure.Figure at 0x7f553b1a2d68>"
      ]
     },
     "metadata": {},
     "output_type": "display_data"
    }
   ],
   "source": [
    "# %matplotlib inline\n",
    "ids[(ids.n_casrn_cid > 1) | (ids.n_cid_casrn > 1)].hist(column=['n_cid_casrn', 'n_casrn_cid'])"
   ]
  },
  {
   "cell_type": "markdown",
   "metadata": {},
   "source": [
    "# Step 2. Find 1:n CASRN:CID mappings that are structually feasible\n",
    "\n",
    "### Goal\n",
    "\n",
    "Accept CASRN-CID mappings where multiple CIDs were associated to a single CASRN (i.e., none of those CIDs were associated with other CASRNs), *and* all of those CIDs represent compounds having the same structural skeleton (excluding steroisomerism, tautomerism, ionization, etc.).\n",
    "\n",
    "Michel's notes: \"if this CID is associated with only one CASRN AND any other CIDs associated with this CASRN have the same InChIKey, then import.\"\n",
    "\n",
    "### Selection logic\n",
    "\n",
    "In Michel's spreadsheet the following test to determines whether to accept a correspondence:\n",
    "\n",
    "1. the number of CASRNs associated with the CID is 1; AND\n",
    "2. the number of CIDS associated with the CASRN == the number of occurrences of the structural skeleton associated with the CASRN.\n",
    "\n",
    "I will use a different logical operation for the second part of the test than Michel did:\n",
    "\n",
    "1. the number of CASRNs associated with the CID is 1 (below, `n_casrn_cid == 1`); AND\n",
    "2. the number of *unique* structural skeletons associated with the CASRN is 1 (below, `n_key_casrn` == 1).\n",
    "\n",
    "**I will try both check whether they're equivalent.**\n",
    "\n",
    "\n",
    "### InChIKeys\n",
    "\n",
    "Isolate the structural base layer from each InChIKey... In principle, we don't need to do this operation (or the ones that follow) on *all* of the dataset, just the rows that we want to investigate as 1:n mappings. However, in this notebook I want to be able to easily compare entire DataFrames at the end, so I will do all operations on the whole `ids` DataFrame."
   ]
  },
  {
   "cell_type": "code",
   "execution_count": 7,
   "metadata": {
    "collapsed": true
   },
   "outputs": [],
   "source": [
    "ids['key'] = ids['InChIKey'].apply(lambda x: str(x)[:14])"
   ]
  },
  {
   "cell_type": "markdown",
   "metadata": {},
   "source": [
    "## Step 2, Spreadsheet approach\n",
    "\n",
    "This is what is done in the spreadsheet... I think!\n",
    "\n",
    "- Compute the number of CASRNs associated with the CID is 1 (`n_casrn_cid == 1`, already done)\n",
    "- Compute the number of CIDS associated with the CASRN (`n_cid_casrn`, already done)\n",
    "- Compute the number of times the CASRN and the base structure key occur together (i.e., \"instances of CAS-InChIKey\", which I will call `f_key_casrn`)\n",
    "- **Test condition**: An association is OK if `n_casrn_cid == 1` AND `n_cid_casrn == f_key_casrn`."
   ]
  },
  {
   "cell_type": "code",
   "execution_count": 8,
   "metadata": {
    "collapsed": false
   },
   "outputs": [
    {
     "name": "stdout",
     "output_type": "stream",
     "text": [
      "4528 CASRN-CID associations with multiple CIDs\n"
     ]
    },
    {
     "data": {
      "text/html": [
       "<div>\n",
       "<table border=\"1\" class=\"dataframe\">\n",
       "  <thead>\n",
       "    <tr style=\"text-align: right;\">\n",
       "      <th></th>\n",
       "      <th>CASRN</th>\n",
       "      <th>CID</th>\n",
       "      <th>InChIKey</th>\n",
       "      <th>n_cid_casrn</th>\n",
       "      <th>n_casrn_cid</th>\n",
       "      <th>key</th>\n",
       "      <th>f_key_casrn</th>\n",
       "    </tr>\n",
       "  </thead>\n",
       "  <tbody>\n",
       "    <tr>\n",
       "      <th>44</th>\n",
       "      <td>100-59-4</td>\n",
       "      <td>7513</td>\n",
       "      <td>IWCVDCOJSPWGRW-UHFFFAOYSA-M</td>\n",
       "      <td>2</td>\n",
       "      <td>1</td>\n",
       "      <td>IWCVDCOJSPWGRW</td>\n",
       "      <td>2</td>\n",
       "    </tr>\n",
       "    <tr>\n",
       "      <th>45</th>\n",
       "      <td>100-59-4</td>\n",
       "      <td>6093176</td>\n",
       "      <td>IWCVDCOJSPWGRW-UHFFFAOYSA-M</td>\n",
       "      <td>2</td>\n",
       "      <td>1</td>\n",
       "      <td>IWCVDCOJSPWGRW</td>\n",
       "      <td>2</td>\n",
       "    </tr>\n",
       "    <tr>\n",
       "      <th>73</th>\n",
       "      <td>10016-20-3</td>\n",
       "      <td>24796</td>\n",
       "      <td>HFHDHCJBZVLPGP-JSPYPFAESA-N</td>\n",
       "      <td>4</td>\n",
       "      <td>1</td>\n",
       "      <td>HFHDHCJBZVLPGP</td>\n",
       "      <td>4</td>\n",
       "    </tr>\n",
       "    <tr>\n",
       "      <th>74</th>\n",
       "      <td>10016-20-3</td>\n",
       "      <td>320760</td>\n",
       "      <td>HFHDHCJBZVLPGP-UHFFFAOYSA-N</td>\n",
       "      <td>4</td>\n",
       "      <td>1</td>\n",
       "      <td>HFHDHCJBZVLPGP</td>\n",
       "      <td>4</td>\n",
       "    </tr>\n",
       "    <tr>\n",
       "      <th>75</th>\n",
       "      <td>10016-20-3</td>\n",
       "      <td>444913</td>\n",
       "      <td>HFHDHCJBZVLPGP-RWMJIURBSA-N</td>\n",
       "      <td>4</td>\n",
       "      <td>1</td>\n",
       "      <td>HFHDHCJBZVLPGP</td>\n",
       "      <td>4</td>\n",
       "    </tr>\n",
       "  </tbody>\n",
       "</table>\n",
       "</div>"
      ],
      "text/plain": [
       "         CASRN      CID                     InChIKey  n_cid_casrn  \\\n",
       "44    100-59-4     7513  IWCVDCOJSPWGRW-UHFFFAOYSA-M            2   \n",
       "45    100-59-4  6093176  IWCVDCOJSPWGRW-UHFFFAOYSA-M            2   \n",
       "73  10016-20-3    24796  HFHDHCJBZVLPGP-JSPYPFAESA-N            4   \n",
       "74  10016-20-3   320760  HFHDHCJBZVLPGP-UHFFFAOYSA-N            4   \n",
       "75  10016-20-3   444913  HFHDHCJBZVLPGP-RWMJIURBSA-N            4   \n",
       "\n",
       "    n_casrn_cid             key  f_key_casrn  \n",
       "44            1  IWCVDCOJSPWGRW            2  \n",
       "45            1  IWCVDCOJSPWGRW            2  \n",
       "73            1  HFHDHCJBZVLPGP            4  \n",
       "74            1  HFHDHCJBZVLPGP            4  \n",
       "75            1  HFHDHCJBZVLPGP            4  "
      ]
     },
     "execution_count": 8,
     "metadata": {},
     "output_type": "execute_result"
    }
   ],
   "source": [
    "alt1n = ids[(ids.n_casrn_cid == 1) & (ids.n_cid_casrn > 1)].copy()\n",
    "print(len(alt1n), 'CASRN-CID associations with multiple CIDs')\n",
    "\n",
    "# This is a hack to compute \"instances of CAS-InChIKey\".\n",
    "alt1n['caskey'] = alt1n.CASRN.astype(str) + alt1n.key.astype(str)\n",
    "counts = alt1n['caskey'].reset_index().groupby('caskey').count()\n",
    "alt1n['f_key_casrn'] = alt1n['caskey'].apply(lambda x: counts['index'][x])\n",
    "alt1n.drop('caskey', axis=1).sort_values(by='CASRN').head()"
   ]
  },
  {
   "cell_type": "markdown",
   "metadata": {},
   "source": [
    "## Apply the test condition"
   ]
  },
  {
   "cell_type": "code",
   "execution_count": 9,
   "metadata": {
    "collapsed": false
   },
   "outputs": [
    {
     "name": "stdout",
     "output_type": "stream",
     "text": [
      "Compare-counts method: 3002 bulk import\n",
      "Compare-counts method: 1526 resolve later\n"
     ]
    }
   ],
   "source": [
    "alt_mapped_1n = alt1n[alt1n['n_cid_casrn'] == alt1n['f_key_casrn']]  #.copy().drop('key', axis=1)\n",
    "alt_unmapped_1n = alt1n[alt1n['n_cid_casrn'] != alt1n['f_key_casrn']]  #.copy().drop('key', axis=1)\n",
    "\n",
    "print('Compare-counts method:', len(alt_mapped_1n), 'bulk import')\n",
    "print('Compare-counts method:', len(alt_unmapped_1n), 'resolve later')"
   ]
  },
  {
   "cell_type": "markdown",
   "metadata": {},
   "source": [
    "## Step 2, Groupby/count-unique method\n",
    "\n",
    "### Outline of the code below\n",
    "\n",
    "- Create a new DataFrame that contains all identifier correspondences where one CASRN maps to multiple CID.\n",
    "- Split off the first 14 characters of each InChIKey (i.e. a hash of the connectivity layer of the InChI) to use as a proxy identifier for structural skeletons.\n",
    "- Use the pandas `groupby` and `nunique` methods to determine how many unique base structures are associated with each CASRN (via the CIDs). We'll see if we get the same answer.\n",
    "- Apply the selection logic to determine which "
   ]
  },
  {
   "cell_type": "code",
   "execution_count": 10,
   "metadata": {
    "collapsed": false,
    "scrolled": true
   },
   "outputs": [
    {
     "name": "stdout",
     "output_type": "stream",
     "text": [
      "4528 CASRN-CID associations with multiple CIDs\n"
     ]
    },
    {
     "data": {
      "text/html": [
       "<div>\n",
       "<table border=\"1\" class=\"dataframe\">\n",
       "  <thead>\n",
       "    <tr style=\"text-align: right;\">\n",
       "      <th></th>\n",
       "      <th>CASRN</th>\n",
       "      <th>CID</th>\n",
       "      <th>InChIKey</th>\n",
       "      <th>n_cid_casrn</th>\n",
       "      <th>n_casrn_cid</th>\n",
       "      <th>key</th>\n",
       "    </tr>\n",
       "  </thead>\n",
       "  <tbody>\n",
       "    <tr>\n",
       "      <th>44</th>\n",
       "      <td>100-59-4</td>\n",
       "      <td>7513</td>\n",
       "      <td>IWCVDCOJSPWGRW-UHFFFAOYSA-M</td>\n",
       "      <td>2</td>\n",
       "      <td>1</td>\n",
       "      <td>IWCVDCOJSPWGRW</td>\n",
       "    </tr>\n",
       "    <tr>\n",
       "      <th>45</th>\n",
       "      <td>100-59-4</td>\n",
       "      <td>6093176</td>\n",
       "      <td>IWCVDCOJSPWGRW-UHFFFAOYSA-M</td>\n",
       "      <td>2</td>\n",
       "      <td>1</td>\n",
       "      <td>IWCVDCOJSPWGRW</td>\n",
       "    </tr>\n",
       "    <tr>\n",
       "      <th>73</th>\n",
       "      <td>10016-20-3</td>\n",
       "      <td>24796</td>\n",
       "      <td>HFHDHCJBZVLPGP-JSPYPFAESA-N</td>\n",
       "      <td>4</td>\n",
       "      <td>1</td>\n",
       "      <td>HFHDHCJBZVLPGP</td>\n",
       "    </tr>\n",
       "    <tr>\n",
       "      <th>74</th>\n",
       "      <td>10016-20-3</td>\n",
       "      <td>320760</td>\n",
       "      <td>HFHDHCJBZVLPGP-UHFFFAOYSA-N</td>\n",
       "      <td>4</td>\n",
       "      <td>1</td>\n",
       "      <td>HFHDHCJBZVLPGP</td>\n",
       "    </tr>\n",
       "    <tr>\n",
       "      <th>75</th>\n",
       "      <td>10016-20-3</td>\n",
       "      <td>444913</td>\n",
       "      <td>HFHDHCJBZVLPGP-RWMJIURBSA-N</td>\n",
       "      <td>4</td>\n",
       "      <td>1</td>\n",
       "      <td>HFHDHCJBZVLPGP</td>\n",
       "    </tr>\n",
       "  </tbody>\n",
       "</table>\n",
       "</div>"
      ],
      "text/plain": [
       "         CASRN      CID                     InChIKey  n_cid_casrn  \\\n",
       "44    100-59-4     7513  IWCVDCOJSPWGRW-UHFFFAOYSA-M            2   \n",
       "45    100-59-4  6093176  IWCVDCOJSPWGRW-UHFFFAOYSA-M            2   \n",
       "73  10016-20-3    24796  HFHDHCJBZVLPGP-JSPYPFAESA-N            4   \n",
       "74  10016-20-3   320760  HFHDHCJBZVLPGP-UHFFFAOYSA-N            4   \n",
       "75  10016-20-3   444913  HFHDHCJBZVLPGP-RWMJIURBSA-N            4   \n",
       "\n",
       "    n_casrn_cid             key  \n",
       "44            1  IWCVDCOJSPWGRW  \n",
       "45            1  IWCVDCOJSPWGRW  \n",
       "73            1  HFHDHCJBZVLPGP  \n",
       "74            1  HFHDHCJBZVLPGP  \n",
       "75            1  HFHDHCJBZVLPGP  "
      ]
     },
     "execution_count": 10,
     "metadata": {},
     "output_type": "execute_result"
    }
   ],
   "source": [
    "df1n = ids[(ids.n_casrn_cid == 1) & (ids.n_cid_casrn > 1)].copy()\n",
    "print(len(df1n), 'CASRN-CID associations with multiple CIDs')\n",
    "df1n.sort_values(by='CASRN').head()"
   ]
  },
  {
   "cell_type": "markdown",
   "metadata": {},
   "source": [
    "## Compute degree of structural mapping for each set of 1:n CASRN:CIDs\n",
    "\n",
    "For every CASRN, how many unique structural skeletons have been associated with that CASRN in the dataset? I'll call this `n_key_casrn`. Computing this just for the set of 1:n associations, not for the whole dataset."
   ]
  },
  {
   "cell_type": "code",
   "execution_count": 11,
   "metadata": {
    "collapsed": false,
    "scrolled": false
   },
   "outputs": [
    {
     "name": "stdout",
     "output_type": "stream",
     "text": [
      "1701 unique CASRNs in 1:n associations\n",
      "1358 unique CASRNs in 1:n associations all sharing the same base structure\n"
     ]
    },
    {
     "data": {
      "text/plain": [
       "<matplotlib.axes._subplots.AxesSubplot at 0x7f553adeb048>"
      ]
     },
     "execution_count": 11,
     "metadata": {},
     "output_type": "execute_result"
    },
    {
     "data": {
      "image/png": "[encoded data removed]",
      "text/plain": [
       "<matplotlib.figure.Figure at 0x7f553ae08550>"
      ]
     },
     "metadata": {},
     "output_type": "display_data"
    }
   ],
   "source": [
    "n_key_casrn = df1n[['CASRN', 'key']].groupby('CASRN')['key'].nunique()\n",
    "print(len(n_key_casrn), 'unique CASRNs in 1:n associations')\n",
    "print(len(n_key_casrn[n_key_casrn == 1]), 'unique CASRNs in 1:n associations all sharing the same base structure')\n",
    "n_key_casrn.hist()"
   ]
  },
  {
   "cell_type": "code",
   "execution_count": 12,
   "metadata": {
    "collapsed": false,
    "scrolled": false
   },
   "outputs": [
    {
     "data": {
      "text/html": [
       "<div>\n",
       "<table border=\"1\" class=\"dataframe\">\n",
       "  <thead>\n",
       "    <tr style=\"text-align: right;\">\n",
       "      <th></th>\n",
       "      <th>CASRN</th>\n",
       "      <th>CID</th>\n",
       "      <th>InChIKey</th>\n",
       "      <th>n_cid_casrn</th>\n",
       "      <th>n_casrn_cid</th>\n",
       "      <th>key</th>\n",
       "      <th>n_key_casrn</th>\n",
       "    </tr>\n",
       "  </thead>\n",
       "  <tbody>\n",
       "    <tr>\n",
       "      <th>25244</th>\n",
       "      <td>989-38-8</td>\n",
       "      <td>13806</td>\n",
       "      <td>VYXSBFYARXAAKO-UHFFFAOYSA-N</td>\n",
       "      <td>3</td>\n",
       "      <td>1</td>\n",
       "      <td>VYXSBFYARXAAKO</td>\n",
       "      <td>2</td>\n",
       "    </tr>\n",
       "    <tr>\n",
       "      <th>25245</th>\n",
       "      <td>989-38-8</td>\n",
       "      <td>13807</td>\n",
       "      <td>IWWWBRIIGAXLCJ-UHFFFAOYSA-N</td>\n",
       "      <td>3</td>\n",
       "      <td>1</td>\n",
       "      <td>IWWWBRIIGAXLCJ</td>\n",
       "      <td>2</td>\n",
       "    </tr>\n",
       "    <tr>\n",
       "      <th>25246</th>\n",
       "      <td>989-38-8</td>\n",
       "      <td>235227</td>\n",
       "      <td>VYXSBFYARXAAKO-UHFFFAOYSA-N</td>\n",
       "      <td>3</td>\n",
       "      <td>1</td>\n",
       "      <td>VYXSBFYARXAAKO</td>\n",
       "      <td>2</td>\n",
       "    </tr>\n",
       "    <tr>\n",
       "      <th>25319</th>\n",
       "      <td>994-36-5</td>\n",
       "      <td>6335613</td>\n",
       "      <td>OQUFOZNPBIIJTN-UHFFFAOYSA-N</td>\n",
       "      <td>2</td>\n",
       "      <td>1</td>\n",
       "      <td>OQUFOZNPBIIJTN</td>\n",
       "      <td>2</td>\n",
       "    </tr>\n",
       "    <tr>\n",
       "      <th>25320</th>\n",
       "      <td>994-36-5</td>\n",
       "      <td>23666341</td>\n",
       "      <td>HWPKGOGLCKPRLZ-UHFFFAOYSA-M</td>\n",
       "      <td>2</td>\n",
       "      <td>1</td>\n",
       "      <td>HWPKGOGLCKPRLZ</td>\n",
       "      <td>2</td>\n",
       "    </tr>\n",
       "    <tr>\n",
       "      <th>25333</th>\n",
       "      <td>99705-50-7</td>\n",
       "      <td>280810</td>\n",
       "      <td>QQGVWMIRCZEUBB-UHFFFAOYSA-N</td>\n",
       "      <td>3</td>\n",
       "      <td>1</td>\n",
       "      <td>QQGVWMIRCZEUBB</td>\n",
       "      <td>1</td>\n",
       "    </tr>\n",
       "    <tr>\n",
       "      <th>25334</th>\n",
       "      <td>99705-50-7</td>\n",
       "      <td>5382090</td>\n",
       "      <td>QQGVWMIRCZEUBB-MLPAPPSSSA-N</td>\n",
       "      <td>3</td>\n",
       "      <td>1</td>\n",
       "      <td>QQGVWMIRCZEUBB</td>\n",
       "      <td>1</td>\n",
       "    </tr>\n",
       "    <tr>\n",
       "      <th>25335</th>\n",
       "      <td>99705-50-7</td>\n",
       "      <td>5708816</td>\n",
       "      <td>QQGVWMIRCZEUBB-AWNIVKPZSA-N</td>\n",
       "      <td>3</td>\n",
       "      <td>1</td>\n",
       "      <td>QQGVWMIRCZEUBB</td>\n",
       "      <td>1</td>\n",
       "    </tr>\n",
       "    <tr>\n",
       "      <th>25336</th>\n",
       "      <td>99770-02-2</td>\n",
       "      <td>175849</td>\n",
       "      <td>DVVVAOYJBXAQNQ-INBSTMBBSA-N</td>\n",
       "      <td>3</td>\n",
       "      <td>1</td>\n",
       "      <td>DVVVAOYJBXAQNQ</td>\n",
       "      <td>1</td>\n",
       "    </tr>\n",
       "    <tr>\n",
       "      <th>25337</th>\n",
       "      <td>99770-02-2</td>\n",
       "      <td>53462976</td>\n",
       "      <td>DVVVAOYJBXAQNQ-UHFFFAOYSA-N</td>\n",
       "      <td>3</td>\n",
       "      <td>1</td>\n",
       "      <td>DVVVAOYJBXAQNQ</td>\n",
       "      <td>1</td>\n",
       "    </tr>\n",
       "    <tr>\n",
       "      <th>25338</th>\n",
       "      <td>99770-02-2</td>\n",
       "      <td>71430895</td>\n",
       "      <td>DVVVAOYJBXAQNQ-DELHXLGUSA-N</td>\n",
       "      <td>3</td>\n",
       "      <td>1</td>\n",
       "      <td>DVVVAOYJBXAQNQ</td>\n",
       "      <td>1</td>\n",
       "    </tr>\n",
       "    <tr>\n",
       "      <th>25348</th>\n",
       "      <td>999-21-3</td>\n",
       "      <td>76050</td>\n",
       "      <td>ZPOLOEWJWXZUSP-UHFFFAOYSA-N</td>\n",
       "      <td>3</td>\n",
       "      <td>1</td>\n",
       "      <td>ZPOLOEWJWXZUSP</td>\n",
       "      <td>1</td>\n",
       "    </tr>\n",
       "    <tr>\n",
       "      <th>25349</th>\n",
       "      <td>999-21-3</td>\n",
       "      <td>5354266</td>\n",
       "      <td>ZPOLOEWJWXZUSP-WAYWQWQTSA-N</td>\n",
       "      <td>3</td>\n",
       "      <td>1</td>\n",
       "      <td>ZPOLOEWJWXZUSP</td>\n",
       "      <td>1</td>\n",
       "    </tr>\n",
       "    <tr>\n",
       "      <th>25350</th>\n",
       "      <td>999-21-3</td>\n",
       "      <td>5355330</td>\n",
       "      <td>ZPOLOEWJWXZUSP-AATRIKPKSA-N</td>\n",
       "      <td>3</td>\n",
       "      <td>1</td>\n",
       "      <td>ZPOLOEWJWXZUSP</td>\n",
       "      <td>1</td>\n",
       "    </tr>\n",
       "    <tr>\n",
       "      <th>25352</th>\n",
       "      <td>999-40-6</td>\n",
       "      <td>5352162</td>\n",
       "      <td>ZSBOMYJPSRFZAL-RAXLEYEMSA-N</td>\n",
       "      <td>2</td>\n",
       "      <td>1</td>\n",
       "      <td>ZSBOMYJPSRFZAL</td>\n",
       "      <td>1</td>\n",
       "    </tr>\n",
       "  </tbody>\n",
       "</table>\n",
       "</div>"
      ],
      "text/plain": [
       "            CASRN       CID                     InChIKey  n_cid_casrn  \\\n",
       "25244    989-38-8     13806  VYXSBFYARXAAKO-UHFFFAOYSA-N            3   \n",
       "25245    989-38-8     13807  IWWWBRIIGAXLCJ-UHFFFAOYSA-N            3   \n",
       "25246    989-38-8    235227  VYXSBFYARXAAKO-UHFFFAOYSA-N            3   \n",
       "25319    994-36-5   6335613  OQUFOZNPBIIJTN-UHFFFAOYSA-N            2   \n",
       "25320    994-36-5  23666341  HWPKGOGLCKPRLZ-UHFFFAOYSA-M            2   \n",
       "25333  99705-50-7    280810  QQGVWMIRCZEUBB-UHFFFAOYSA-N            3   \n",
       "25334  99705-50-7   5382090  QQGVWMIRCZEUBB-MLPAPPSSSA-N            3   \n",
       "25335  99705-50-7   5708816  QQGVWMIRCZEUBB-AWNIVKPZSA-N            3   \n",
       "25336  99770-02-2    175849  DVVVAOYJBXAQNQ-INBSTMBBSA-N            3   \n",
       "25337  99770-02-2  53462976  DVVVAOYJBXAQNQ-UHFFFAOYSA-N            3   \n",
       "25338  99770-02-2  71430895  DVVVAOYJBXAQNQ-DELHXLGUSA-N            3   \n",
       "25348    999-21-3     76050  ZPOLOEWJWXZUSP-UHFFFAOYSA-N            3   \n",
       "25349    999-21-3   5354266  ZPOLOEWJWXZUSP-WAYWQWQTSA-N            3   \n",
       "25350    999-21-3   5355330  ZPOLOEWJWXZUSP-AATRIKPKSA-N            3   \n",
       "25352    999-40-6   5352162  ZSBOMYJPSRFZAL-RAXLEYEMSA-N            2   \n",
       "\n",
       "       n_casrn_cid             key  n_key_casrn  \n",
       "25244            1  VYXSBFYARXAAKO            2  \n",
       "25245            1  IWWWBRIIGAXLCJ            2  \n",
       "25246            1  VYXSBFYARXAAKO            2  \n",
       "25319            1  OQUFOZNPBIIJTN            2  \n",
       "25320            1  HWPKGOGLCKPRLZ            2  \n",
       "25333            1  QQGVWMIRCZEUBB            1  \n",
       "25334            1  QQGVWMIRCZEUBB            1  \n",
       "25335            1  QQGVWMIRCZEUBB            1  \n",
       "25336            1  DVVVAOYJBXAQNQ            1  \n",
       "25337            1  DVVVAOYJBXAQNQ            1  \n",
       "25338            1  DVVVAOYJBXAQNQ            1  \n",
       "25348            1  ZPOLOEWJWXZUSP            1  \n",
       "25349            1  ZPOLOEWJWXZUSP            1  \n",
       "25350            1  ZPOLOEWJWXZUSP            1  \n",
       "25352            1  ZSBOMYJPSRFZAL            1  "
      ]
     },
     "execution_count": 12,
     "metadata": {},
     "output_type": "execute_result"
    }
   ],
   "source": [
    "df1n['n_key_casrn'] = df1n['CASRN'].apply(lambda x: n_key_casrn[x])\n",
    "df1n.tail(15)"
   ]
  },
  {
   "cell_type": "markdown",
   "metadata": {},
   "source": [
    "## Apply the test condition to find acceptable 1:n mappings"
   ]
  },
  {
   "cell_type": "code",
   "execution_count": 13,
   "metadata": {
    "collapsed": false
   },
   "outputs": [
    {
     "name": "stdout",
     "output_type": "stream",
     "text": [
      "3438 1:n CASRN:CID associations all sharing the same base structure\n"
     ]
    },
    {
     "data": {
      "text/html": [
       "<div>\n",
       "<table border=\"1\" class=\"dataframe\">\n",
       "  <thead>\n",
       "    <tr style=\"text-align: right;\">\n",
       "      <th></th>\n",
       "      <th>CASRN</th>\n",
       "      <th>CID</th>\n",
       "      <th>InChIKey</th>\n",
       "      <th>n_cid_casrn</th>\n",
       "      <th>n_casrn_cid</th>\n",
       "      <th>key</th>\n",
       "      <th>n_key_casrn</th>\n",
       "    </tr>\n",
       "  </thead>\n",
       "  <tbody>\n",
       "    <tr>\n",
       "      <th>44</th>\n",
       "      <td>100-59-4</td>\n",
       "      <td>7513</td>\n",
       "      <td>IWCVDCOJSPWGRW-UHFFFAOYSA-M</td>\n",
       "      <td>2</td>\n",
       "      <td>1</td>\n",
       "      <td>IWCVDCOJSPWGRW</td>\n",
       "      <td>1</td>\n",
       "    </tr>\n",
       "    <tr>\n",
       "      <th>45</th>\n",
       "      <td>100-59-4</td>\n",
       "      <td>6093176</td>\n",
       "      <td>IWCVDCOJSPWGRW-UHFFFAOYSA-M</td>\n",
       "      <td>2</td>\n",
       "      <td>1</td>\n",
       "      <td>IWCVDCOJSPWGRW</td>\n",
       "      <td>1</td>\n",
       "    </tr>\n",
       "    <tr>\n",
       "      <th>73</th>\n",
       "      <td>10016-20-3</td>\n",
       "      <td>24796</td>\n",
       "      <td>HFHDHCJBZVLPGP-JSPYPFAESA-N</td>\n",
       "      <td>4</td>\n",
       "      <td>1</td>\n",
       "      <td>HFHDHCJBZVLPGP</td>\n",
       "      <td>1</td>\n",
       "    </tr>\n",
       "    <tr>\n",
       "      <th>74</th>\n",
       "      <td>10016-20-3</td>\n",
       "      <td>320760</td>\n",
       "      <td>HFHDHCJBZVLPGP-UHFFFAOYSA-N</td>\n",
       "      <td>4</td>\n",
       "      <td>1</td>\n",
       "      <td>HFHDHCJBZVLPGP</td>\n",
       "      <td>1</td>\n",
       "    </tr>\n",
       "    <tr>\n",
       "      <th>75</th>\n",
       "      <td>10016-20-3</td>\n",
       "      <td>444913</td>\n",
       "      <td>HFHDHCJBZVLPGP-RWMJIURBSA-N</td>\n",
       "      <td>4</td>\n",
       "      <td>1</td>\n",
       "      <td>HFHDHCJBZVLPGP</td>\n",
       "      <td>1</td>\n",
       "    </tr>\n",
       "  </tbody>\n",
       "</table>\n",
       "</div>"
      ],
      "text/plain": [
       "         CASRN      CID                     InChIKey  n_cid_casrn  \\\n",
       "44    100-59-4     7513  IWCVDCOJSPWGRW-UHFFFAOYSA-M            2   \n",
       "45    100-59-4  6093176  IWCVDCOJSPWGRW-UHFFFAOYSA-M            2   \n",
       "73  10016-20-3    24796  HFHDHCJBZVLPGP-JSPYPFAESA-N            4   \n",
       "74  10016-20-3   320760  HFHDHCJBZVLPGP-UHFFFAOYSA-N            4   \n",
       "75  10016-20-3   444913  HFHDHCJBZVLPGP-RWMJIURBSA-N            4   \n",
       "\n",
       "    n_casrn_cid             key  n_key_casrn  \n",
       "44            1  IWCVDCOJSPWGRW            1  \n",
       "45            1  IWCVDCOJSPWGRW            1  \n",
       "73            1  HFHDHCJBZVLPGP            1  \n",
       "74            1  HFHDHCJBZVLPGP            1  \n",
       "75            1  HFHDHCJBZVLPGP            1  "
      ]
     },
     "execution_count": 13,
     "metadata": {},
     "output_type": "execute_result"
    }
   ],
   "source": [
    "mapped_1n = df1n[df1n['n_key_casrn'] == 1]  #.copy().drop('key', axis=1)\n",
    "print(len(mapped_1n), '1:n CASRN:CID associations all sharing the same base structure')\n",
    "mapped_1n.head()"
   ]
  },
  {
   "cell_type": "code",
   "execution_count": 14,
   "metadata": {
    "collapsed": false,
    "scrolled": true
   },
   "outputs": [
    {
     "name": "stdout",
     "output_type": "stream",
     "text": [
      "1090 1:n CASRN:CID associations with more than one base structure\n"
     ]
    },
    {
     "data": {
      "text/html": [
       "<div>\n",
       "<table border=\"1\" class=\"dataframe\">\n",
       "  <thead>\n",
       "    <tr style=\"text-align: right;\">\n",
       "      <th></th>\n",
       "      <th>CASRN</th>\n",
       "      <th>CID</th>\n",
       "      <th>InChIKey</th>\n",
       "      <th>n_cid_casrn</th>\n",
       "      <th>n_casrn_cid</th>\n",
       "      <th>key</th>\n",
       "      <th>n_key_casrn</th>\n",
       "    </tr>\n",
       "  </thead>\n",
       "  <tbody>\n",
       "    <tr>\n",
       "      <th>387</th>\n",
       "      <td>10190-68-8</td>\n",
       "      <td>25037</td>\n",
       "      <td>WLDNGJFRVWQASY-UHFFFAOYSA-L</td>\n",
       "      <td>3</td>\n",
       "      <td>1</td>\n",
       "      <td>WLDNGJFRVWQASY</td>\n",
       "      <td>3</td>\n",
       "    </tr>\n",
       "    <tr>\n",
       "      <th>388</th>\n",
       "      <td>10190-68-8</td>\n",
       "      <td>25038</td>\n",
       "      <td>JEPNNQGUMUZZHF-UHFFFAOYSA-N</td>\n",
       "      <td>3</td>\n",
       "      <td>1</td>\n",
       "      <td>JEPNNQGUMUZZHF</td>\n",
       "      <td>3</td>\n",
       "    </tr>\n",
       "    <tr>\n",
       "      <th>389</th>\n",
       "      <td>10190-68-8</td>\n",
       "      <td>54607659</td>\n",
       "      <td>YWBRZBKWNIBDDD-UHFFFAOYSA-N</td>\n",
       "      <td>3</td>\n",
       "      <td>1</td>\n",
       "      <td>YWBRZBKWNIBDDD</td>\n",
       "      <td>3</td>\n",
       "    </tr>\n",
       "    <tr>\n",
       "      <th>431</th>\n",
       "      <td>102-54-5</td>\n",
       "      <td>7611</td>\n",
       "      <td>KTWOOEGAPBSYNW-UHFFFAOYSA-N</td>\n",
       "      <td>4</td>\n",
       "      <td>1</td>\n",
       "      <td>KTWOOEGAPBSYNW</td>\n",
       "      <td>2</td>\n",
       "    </tr>\n",
       "    <tr>\n",
       "      <th>432</th>\n",
       "      <td>102-54-5</td>\n",
       "      <td>504306</td>\n",
       "      <td>KTWOOEGAPBSYNW-UHFFFAOYSA-N</td>\n",
       "      <td>4</td>\n",
       "      <td>1</td>\n",
       "      <td>KTWOOEGAPBSYNW</td>\n",
       "      <td>2</td>\n",
       "    </tr>\n",
       "  </tbody>\n",
       "</table>\n",
       "</div>"
      ],
      "text/plain": [
       "          CASRN       CID                     InChIKey  n_cid_casrn  \\\n",
       "387  10190-68-8     25037  WLDNGJFRVWQASY-UHFFFAOYSA-L            3   \n",
       "388  10190-68-8     25038  JEPNNQGUMUZZHF-UHFFFAOYSA-N            3   \n",
       "389  10190-68-8  54607659  YWBRZBKWNIBDDD-UHFFFAOYSA-N            3   \n",
       "431    102-54-5      7611  KTWOOEGAPBSYNW-UHFFFAOYSA-N            4   \n",
       "432    102-54-5    504306  KTWOOEGAPBSYNW-UHFFFAOYSA-N            4   \n",
       "\n",
       "     n_casrn_cid             key  n_key_casrn  \n",
       "387            1  WLDNGJFRVWQASY            3  \n",
       "388            1  JEPNNQGUMUZZHF            3  \n",
       "389            1  YWBRZBKWNIBDDD            3  \n",
       "431            1  KTWOOEGAPBSYNW            2  \n",
       "432            1  KTWOOEGAPBSYNW            2  "
      ]
     },
     "execution_count": 14,
     "metadata": {},
     "output_type": "execute_result"
    }
   ],
   "source": [
    "unmapped_1n = df1n[df1n['n_key_casrn'] > 1]#  .copy().drop('key', axis=1)\n",
    "print(len(unmapped_1n), '1:n CASRN:CID associations with more than one base structure')\n",
    "unmapped_1n.head()"
   ]
  },
  {
   "cell_type": "markdown",
   "metadata": {},
   "source": [
    "### Summarize results of this method for 1:n mappings"
   ]
  },
  {
   "cell_type": "code",
   "execution_count": 15,
   "metadata": {
    "collapsed": false
   },
   "outputs": [
    {
     "name": "stdout",
     "output_type": "stream",
     "text": [
      "Groupby/count-unique method: 3438 bulk import\n",
      "Groupby/count-unique method: 1090 resolve later\n"
     ]
    }
   ],
   "source": [
    "print('Groupby/count-unique method:', len(mapped_1n), 'bulk import')\n",
    "print('Groupby/count-unique method:', len(unmapped_1n), 'resolve later')"
   ]
  },
  {
   "cell_type": "markdown",
   "metadata": {},
   "source": [
    "# Step 3 (end of automated workflow)\n",
    "\n",
    "Combine DataFrames of successfully mapped IDs into one, and unmapped IDs (for further, non-automated resolution) into another."
   ]
  },
  {
   "cell_type": "code",
   "execution_count": 16,
   "metadata": {
    "collapsed": false,
    "scrolled": false
   },
   "outputs": [
    {
     "data": {
      "text/html": [
       "<div>\n",
       "<table border=\"1\" class=\"dataframe\">\n",
       "  <thead>\n",
       "    <tr style=\"text-align: right;\">\n",
       "      <th></th>\n",
       "      <th>CASRN</th>\n",
       "      <th>CID</th>\n",
       "      <th>n_cid_casrn</th>\n",
       "      <th>n_casrn_cid</th>\n",
       "      <th>status</th>\n",
       "    </tr>\n",
       "  </thead>\n",
       "  <tbody>\n",
       "    <tr>\n",
       "      <th>25352</th>\n",
       "      <td>999-40-6</td>\n",
       "      <td>5352162</td>\n",
       "      <td>2</td>\n",
       "      <td>1</td>\n",
       "      <td>bulk import</td>\n",
       "    </tr>\n",
       "    <tr>\n",
       "      <th>25353</th>\n",
       "      <td>999-61-1</td>\n",
       "      <td>61249</td>\n",
       "      <td>1</td>\n",
       "      <td>1</td>\n",
       "      <td>bulk import</td>\n",
       "    </tr>\n",
       "    <tr>\n",
       "      <th>25354</th>\n",
       "      <td>999-78-0</td>\n",
       "      <td>136786</td>\n",
       "      <td>1</td>\n",
       "      <td>1</td>\n",
       "      <td>bulk import</td>\n",
       "    </tr>\n",
       "    <tr>\n",
       "      <th>25355</th>\n",
       "      <td>999-81-5</td>\n",
       "      <td>13836</td>\n",
       "      <td>1</td>\n",
       "      <td>1</td>\n",
       "      <td>bulk import</td>\n",
       "    </tr>\n",
       "    <tr>\n",
       "      <th>25356</th>\n",
       "      <td>999-97-3</td>\n",
       "      <td>13838</td>\n",
       "      <td>1</td>\n",
       "      <td>1</td>\n",
       "      <td>bulk import</td>\n",
       "    </tr>\n",
       "  </tbody>\n",
       "</table>\n",
       "</div>"
      ],
      "text/plain": [
       "          CASRN      CID  n_cid_casrn  n_casrn_cid       status\n",
       "25352  999-40-6  5352162            2            1  bulk import\n",
       "25353  999-61-1    61249            1            1  bulk import\n",
       "25354  999-78-0   136786            1            1  bulk import\n",
       "25355  999-81-5    13836            1            1  bulk import\n",
       "25356  999-97-3    13838            1            1  bulk import"
      ]
     },
     "execution_count": 16,
     "metadata": {},
     "output_type": "execute_result"
    }
   ],
   "source": [
    "# Reassign this to include all new columns that we added since...\n",
    "mapped_11 = ids[(ids.n_casrn_cid == 1) & (ids.n_cid_casrn == 1)]\n",
    "\n",
    "mapped = pd.concat([mapped_11, mapped_1n], ignore_index=True)\n",
    "# Set a 'status' column, mainly for comparison to existing results.\n",
    "mapped['status'] = 'bulk import'\n",
    "\n",
    "unmapped = pd.concat([unmapped_1n, ids[ids.n_casrn_cid > 1]], ignore_index=True)\n",
    "unmapped['status'] = 'resolve later'  # Add 'status' column for check.\n",
    "\n",
    "# Make sure we didn't lose or gain any rows of data throughout this process. \n",
    "assert len(mapped) + len(unmapped) == len(ids)\n",
    "\n",
    "# Create a version for export and manual inspection.\n",
    "results_ex = pd.concat([mapped, unmapped], ignore_index=True)\n",
    "results_ex = results_ex[['CASRN', 'CID', 'InChIKey', 'n_cid_casrn', 'n_casrn_cid', 'status']]\n",
    "results_ex.sort_values(by=['CASRN', 'CID'], inplace=True)\n",
    "results_ex.reset_index(drop=True, inplace=True)\n",
    "\n",
    "# Create a version for comparison: eliminate columns not able to compare.\n",
    "results = results_ex[['CASRN', 'CID', 'n_cid_casrn', 'n_casrn_cid', 'status']].copy()\n",
    "\n",
    "results.tail()"
   ]
  },
  {
   "cell_type": "code",
   "execution_count": 17,
   "metadata": {
    "collapsed": false
   },
   "outputs": [
    {
     "data": {
      "text/html": [
       "<div>\n",
       "<table border=\"1\" class=\"dataframe\">\n",
       "  <thead>\n",
       "    <tr style=\"text-align: right;\">\n",
       "      <th></th>\n",
       "      <th>CASRN</th>\n",
       "      <th>CID</th>\n",
       "      <th>n_cid_casrn</th>\n",
       "      <th>n_casrn_cid</th>\n",
       "      <th>status</th>\n",
       "    </tr>\n",
       "  </thead>\n",
       "  <tbody>\n",
       "    <tr>\n",
       "      <th>25352</th>\n",
       "      <td>999-40-6</td>\n",
       "      <td>5352162</td>\n",
       "      <td>2</td>\n",
       "      <td>1</td>\n",
       "      <td>resolve later</td>\n",
       "    </tr>\n",
       "    <tr>\n",
       "      <th>25353</th>\n",
       "      <td>999-61-1</td>\n",
       "      <td>61249</td>\n",
       "      <td>1</td>\n",
       "      <td>1</td>\n",
       "      <td>bulk import</td>\n",
       "    </tr>\n",
       "    <tr>\n",
       "      <th>25354</th>\n",
       "      <td>999-78-0</td>\n",
       "      <td>136786</td>\n",
       "      <td>1</td>\n",
       "      <td>1</td>\n",
       "      <td>bulk import</td>\n",
       "    </tr>\n",
       "    <tr>\n",
       "      <th>25355</th>\n",
       "      <td>999-81-5</td>\n",
       "      <td>13836</td>\n",
       "      <td>1</td>\n",
       "      <td>1</td>\n",
       "      <td>bulk import</td>\n",
       "    </tr>\n",
       "    <tr>\n",
       "      <th>25356</th>\n",
       "      <td>999-97-3</td>\n",
       "      <td>13838</td>\n",
       "      <td>1</td>\n",
       "      <td>1</td>\n",
       "      <td>bulk import</td>\n",
       "    </tr>\n",
       "  </tbody>\n",
       "</table>\n",
       "</div>"
      ],
      "text/plain": [
       "          CASRN      CID  n_cid_casrn  n_casrn_cid         status\n",
       "25352  999-40-6  5352162            2            1  resolve later\n",
       "25353  999-61-1    61249            1            1    bulk import\n",
       "25354  999-78-0   136786            1            1    bulk import\n",
       "25355  999-81-5    13836            1            1    bulk import\n",
       "25356  999-97-3    13838            1            1    bulk import"
      ]
     },
     "execution_count": 17,
     "metadata": {},
     "output_type": "execute_result"
    }
   ],
   "source": [
    "alt_mapped = pd.concat([alt_mapped_1n, mapped_11], ignore_index=True)\n",
    "alt_mapped['status'] = 'bulk import'\n",
    "\n",
    "alt_unmapped = pd.concat([alt_unmapped_1n, ids[ids.n_casrn_cid > 1]], ignore_index=True)\n",
    "alt_unmapped['status'] = 'resolve later'\n",
    "\n",
    "assert len(alt_mapped) + len(alt_unmapped) == len(ids)\n",
    "\n",
    "alt_results = pd.concat([alt_mapped, alt_unmapped], ignore_index=True)\n",
    "alt_results = alt_results[['CASRN', 'CID', 'n_cid_casrn', 'n_casrn_cid', 'status']]\n",
    "alt_results.sort_values(by=['CASRN', 'CID'], inplace=True)\n",
    "alt_results.reset_index(drop=True, inplace=True)\n",
    "\n",
    "alt_results.tail()"
   ]
  },
  {
   "cell_type": "markdown",
   "metadata": {},
   "source": [
    "# Step 4: Check results \n",
    "\n",
    "## Compare different 1:n methods against each other \n",
    "\n",
    "As we already know from the counts above, they are not the same."
   ]
  },
  {
   "cell_type": "code",
   "execution_count": 18,
   "metadata": {
    "collapsed": false,
    "scrolled": true
   },
   "outputs": [
    {
     "name": "stdout",
     "output_type": "stream",
     "text": [
      "Groupby/count-unique method TOTAL: 22167 bulk import,  3190 resolve later\n",
      "Compare-counts method TOTAL:       21731 bulk import,  3626 resolve later\n"
     ]
    }
   ],
   "source": [
    "print('Groupby/count-unique method TOTAL: {0:>5} bulk import, {1:>5} resolve later'.format(len(mapped), len(unmapped)))\n",
    "print('Compare-counts method TOTAL: {0:>11} bulk import, {1:>5} resolve later'.format(len(alt_mapped), len(alt_unmapped)))"
   ]
  },
  {
   "cell_type": "code",
   "execution_count": 19,
   "metadata": {
    "collapsed": false
   },
   "outputs": [
    {
     "data": {
      "text/plain": [
       "CASRN           True\n",
       "CID             True\n",
       "n_cid_casrn     True\n",
       "n_casrn_cid     True\n",
       "status         False\n",
       "dtype: bool"
      ]
     },
     "execution_count": 19,
     "metadata": {},
     "output_type": "execute_result"
    }
   ],
   "source": [
    "methods_check = results == alt_results\n",
    "methods_check.all()"
   ]
  },
  {
   "cell_type": "code",
   "execution_count": 20,
   "metadata": {
    "collapsed": false
   },
   "outputs": [
    {
     "name": "stdout",
     "output_type": "stream",
     "text": [
      "Intersection: 21731\n",
      "Difference: 436\n",
      "True\n"
     ]
    }
   ],
   "source": [
    "mapped_set = set(mapped[['CASRN', 'CID']].apply(tuple, axis=1))\n",
    "alt_mapped_set = set(alt_mapped[['CASRN', 'CID']].apply(tuple, axis=1))\n",
    "\n",
    "print('Intersection:', len(mapped_set & alt_mapped_set))\n",
    "print('Difference:', len(mapped_set ^ alt_mapped_set))\n",
    "print(mapped_set >= alt_mapped_set)"
   ]
  },
  {
   "cell_type": "code",
   "execution_count": 21,
   "metadata": {
    "collapsed": false,
    "scrolled": true
   },
   "outputs": [
    {
     "name": "stdout",
     "output_type": "stream",
     "text": [
      "Intersection: 3190\n",
      "Difference: 436\n",
      "True\n"
     ]
    }
   ],
   "source": [
    "unmapped_set = set(unmapped[['CASRN', 'CID']].apply(tuple, axis=1))\n",
    "alt_unmapped_set = set(alt_unmapped[['CASRN', 'CID']].apply(tuple, axis=1))\n",
    "\n",
    "print('Intersection:', len(unmapped_set & alt_unmapped_set))\n",
    "print('Difference:', len(unmapped_set ^ alt_unmapped_set))\n",
    "print(unmapped_set <= alt_unmapped_set)"
   ]
  },
  {
   "cell_type": "markdown",
   "metadata": {},
   "source": [
    "## Compare against the spreadsheet\n",
    "\n",
    "We already have loaded up the whole \"CASRN->CID\" worksheet, which I previously exported as a standalone CSV file. Now take the important columns to compare elementwise against the DataFrames above."
   ]
  },
  {
   "cell_type": "code",
   "execution_count": 22,
   "metadata": {
    "collapsed": false
   },
   "outputs": [
    {
     "name": "stdout",
     "output_type": "stream",
     "text": [
      "25357\n"
     ]
    },
    {
     "data": {
      "text/html": [
       "<div>\n",
       "<table border=\"1\" class=\"dataframe\">\n",
       "  <thead>\n",
       "    <tr style=\"text-align: right;\">\n",
       "      <th></th>\n",
       "      <th>CASRN</th>\n",
       "      <th>CID</th>\n",
       "      <th>n_cid_casrn</th>\n",
       "      <th>n_casrn_cid</th>\n",
       "      <th>status</th>\n",
       "    </tr>\n",
       "  </thead>\n",
       "  <tbody>\n",
       "    <tr>\n",
       "      <th>25352</th>\n",
       "      <td>999-40-6</td>\n",
       "      <td>5352162</td>\n",
       "      <td>2</td>\n",
       "      <td>1</td>\n",
       "      <td>bulk import</td>\n",
       "    </tr>\n",
       "    <tr>\n",
       "      <th>25353</th>\n",
       "      <td>999-61-1</td>\n",
       "      <td>61249</td>\n",
       "      <td>1</td>\n",
       "      <td>1</td>\n",
       "      <td>bulk import</td>\n",
       "    </tr>\n",
       "    <tr>\n",
       "      <th>25354</th>\n",
       "      <td>999-78-0</td>\n",
       "      <td>136786</td>\n",
       "      <td>1</td>\n",
       "      <td>1</td>\n",
       "      <td>bulk import</td>\n",
       "    </tr>\n",
       "    <tr>\n",
       "      <th>25355</th>\n",
       "      <td>999-81-5</td>\n",
       "      <td>13836</td>\n",
       "      <td>1</td>\n",
       "      <td>1</td>\n",
       "      <td>bulk import</td>\n",
       "    </tr>\n",
       "    <tr>\n",
       "      <th>25356</th>\n",
       "      <td>999-97-3</td>\n",
       "      <td>13838</td>\n",
       "      <td>1</td>\n",
       "      <td>1</td>\n",
       "      <td>bulk import</td>\n",
       "    </tr>\n",
       "  </tbody>\n",
       "</table>\n",
       "</div>"
      ],
      "text/plain": [
       "          CASRN      CID  n_cid_casrn  n_casrn_cid       status\n",
       "25352  999-40-6  5352162            2            1  bulk import\n",
       "25353  999-61-1    61249            1            1  bulk import\n",
       "25354  999-78-0   136786            1            1  bulk import\n",
       "25355  999-81-5    13836            1            1  bulk import\n",
       "25356  999-97-3    13838            1            1  bulk import"
      ]
     },
     "execution_count": 22,
     "metadata": {},
     "output_type": "execute_result"
    }
   ],
   "source": [
    "md = mdata.iloc[:,[0,1,2,3,10]].sort_values(by=['CASRN', 'CID'])\n",
    "md.reset_index(drop=True, inplace=True)\n",
    "\n",
    "# Rename the columns\n",
    "md.columns = ['CASRN', 'CID', 'n_cid_casrn', 'n_casrn_cid', 'status']\n",
    "\n",
    "# Make sure we have the same total number of correspondences:\n",
    "assert len(md) == len(ids)\n",
    "print(len(md))\n",
    "\n",
    "md.tail()"
   ]
  },
  {
   "cell_type": "code",
   "execution_count": 23,
   "metadata": {
    "collapsed": false
   },
   "outputs": [
    {
     "name": "stdout",
     "output_type": "stream",
     "text": [
      "Groupby/count-unique TOTAL:  22167 bulk import,  3190 resolve later\n",
      "Compare-counts method TOTAL: 21731 bulk import,  3626 resolve later\n",
      "Spreadsheet TOTAL:           22093 bulk import,  3264 resolve later\n"
     ]
    }
   ],
   "source": [
    "print('Groupby/count-unique TOTAL: {0:>6} bulk import, {1:>5} resolve later'.format(len(mapped), len(unmapped)))\n",
    "print('Compare-counts method TOTAL: {0:>5} bulk import, {1:>5} resolve later'.format(len(alt_mapped), len(alt_unmapped)))\n",
    "print('Spreadsheet TOTAL: {0:>15} bulk import, {1:>5} resolve later'.format(len(md[md.status == 'bulk import']), len(md[md.status == 'resolve later'])))"
   ]
  },
  {
   "cell_type": "code",
   "execution_count": 24,
   "metadata": {
    "collapsed": false,
    "scrolled": true
   },
   "outputs": [
    {
     "data": {
      "text/plain": [
       "CASRN           True\n",
       "CID             True\n",
       "n_cid_casrn     True\n",
       "n_casrn_cid     True\n",
       "status         False\n",
       "dtype: bool"
      ]
     },
     "execution_count": 24,
     "metadata": {},
     "output_type": "execute_result"
    }
   ],
   "source": [
    "md_check = results == md\n",
    "md_check.all()"
   ]
  },
  {
   "cell_type": "code",
   "execution_count": 25,
   "metadata": {
    "collapsed": false,
    "scrolled": true
   },
   "outputs": [
    {
     "data": {
      "text/plain": [
       "CASRN           True\n",
       "CID             True\n",
       "n_cid_casrn     True\n",
       "n_casrn_cid     True\n",
       "status         False\n",
       "dtype: bool"
      ]
     },
     "execution_count": 25,
     "metadata": {},
     "output_type": "execute_result"
    }
   ],
   "source": [
    "alt_md_check = alt_results == md\n",
    "alt_md_check.all()"
   ]
  },
  {
   "cell_type": "code",
   "execution_count": 26,
   "metadata": {
    "collapsed": false
   },
   "outputs": [
    {
     "name": "stdout",
     "output_type": "stream",
     "text": [
      "MAPPED\n",
      "Versus compare-counts: intersection 21731, difference 362\n",
      "Versus groupby/nunique: intersection 22093, difference 74\n",
      "\n",
      "NOT MAPPED\n",
      "Versus compare-counts: intersection 3264, difference 362\n",
      "Versus groupby/nunique: intersection 3190, difference 74\n"
     ]
    }
   ],
   "source": [
    "md_mapped_set = set(md[md['status'] == 'bulk import'][['CASRN', 'CID']].apply(tuple, axis=1))\n",
    "\n",
    "print('MAPPED')\n",
    "print('Versus compare-counts: intersection {}, difference {}'.format(len(alt_mapped_set & md_mapped_set), len(alt_mapped_set ^ md_mapped_set)))\n",
    "print('Versus groupby/nunique: intersection {}, difference {}'.format(len(mapped_set & md_mapped_set), len(mapped_set ^ md_mapped_set)))\n",
    "\n",
    "md_unmapped_set = set(md[md['status'] == 'resolve later'][['CASRN', 'CID']].apply(tuple, axis=1))\n",
    "\n",
    "print('\\nNOT MAPPED')\n",
    "print('Versus compare-counts: intersection {}, difference {}'.format(len(alt_unmapped_set & md_unmapped_set), len(alt_unmapped_set ^ md_unmapped_set)))\n",
    "print('Versus groupby/nunique: intersection {}, difference {}'.format(len(unmapped_set & md_unmapped_set), len(unmapped_set ^ md_unmapped_set)))"
   ]
  },
  {
   "cell_type": "code",
   "execution_count": 27,
   "metadata": {
    "collapsed": false
   },
   "outputs": [
    {
     "name": "stdout",
     "output_type": "stream",
     "text": [
      "True\n",
      "True\n"
     ]
    }
   ],
   "source": [
    "print(md_mapped_set <= mapped_set)\n",
    "print(md_unmapped_set >= unmapped_set)"
   ]
  },
  {
   "cell_type": "markdown",
   "metadata": {},
   "source": [
    "# Analysis\n",
    "\n",
    "- The **pandas \"groupby/count-unique\" method** resolved all of the same ID mappings as the **spreadsheet**, plus 74 more (a superset). \n",
    "- The pandas \"groupby/count-unique\" method resolved all the same ID mappings as the \"compare-counts\" method (meant to reproduce the spreadsheet) *plus* 436 more (a superset).\n",
    "    - I don't know why I couldn't exactly reproduce the spreadsheet using the \"compare-counts\" method. It should have worked, but it's also not critical to get to the bottom of this.\n",
    "\n",
    "**Let's create a new sheet comparing the original spreadsheet to the groupby results:**"
   ]
  },
  {
   "cell_type": "code",
   "execution_count": 28,
   "metadata": {
    "collapsed": false
   },
   "outputs": [
    {
     "data": {
      "text/html": [
       "<div>\n",
       "<table border=\"1\" class=\"dataframe\">\n",
       "  <thead>\n",
       "    <tr style=\"text-align: right;\">\n",
       "      <th></th>\n",
       "      <th>CASRN</th>\n",
       "      <th>CID</th>\n",
       "      <th>InChIKey</th>\n",
       "      <th>n_cid_casrn</th>\n",
       "      <th>n_casrn_cid</th>\n",
       "      <th>status_AK</th>\n",
       "      <th>status_MD</th>\n",
       "    </tr>\n",
       "  </thead>\n",
       "  <tbody>\n",
       "    <tr>\n",
       "      <th>27</th>\n",
       "      <td>100-41-4</td>\n",
       "      <td>7500</td>\n",
       "      <td>YNQLUTRBYVCPMQ-UHFFFAOYSA-N</td>\n",
       "      <td>1</td>\n",
       "      <td>4</td>\n",
       "      <td>resolve later</td>\n",
       "      <td>resolve later</td>\n",
       "    </tr>\n",
       "    <tr>\n",
       "      <th>28</th>\n",
       "      <td>100-42-5</td>\n",
       "      <td>7501</td>\n",
       "      <td>PPBRXRYQALVLMV-UHFFFAOYSA-N</td>\n",
       "      <td>1</td>\n",
       "      <td>3</td>\n",
       "      <td>resolve later</td>\n",
       "      <td>resolve later</td>\n",
       "    </tr>\n",
       "    <tr>\n",
       "      <th>77</th>\n",
       "      <td>10017-11-5</td>\n",
       "      <td>82291</td>\n",
       "      <td>MLGWTHRHHANFCC-UHFFFAOYSA-N</td>\n",
       "      <td>1</td>\n",
       "      <td>2</td>\n",
       "      <td>resolve later</td>\n",
       "      <td>resolve later</td>\n",
       "    </tr>\n",
       "    <tr>\n",
       "      <th>90</th>\n",
       "      <td>100231-74-1</td>\n",
       "      <td>10889</td>\n",
       "      <td>PXDJXZJSCPSGGI-UHFFFAOYSA-N</td>\n",
       "      <td>1</td>\n",
       "      <td>2</td>\n",
       "      <td>resolve later</td>\n",
       "      <td>resolve later</td>\n",
       "    </tr>\n",
       "    <tr>\n",
       "      <th>102</th>\n",
       "      <td>10025-73-7</td>\n",
       "      <td>6452300</td>\n",
       "      <td>QSWDMMVNRMROPK-UHFFFAOYSA-K</td>\n",
       "      <td>1</td>\n",
       "      <td>2</td>\n",
       "      <td>resolve later</td>\n",
       "      <td>resolve later</td>\n",
       "    </tr>\n",
       "  </tbody>\n",
       "</table>\n",
       "</div>"
      ],
      "text/plain": [
       "           CASRN      CID                     InChIKey  n_cid_casrn  \\\n",
       "27      100-41-4     7500  YNQLUTRBYVCPMQ-UHFFFAOYSA-N            1   \n",
       "28      100-42-5     7501  PPBRXRYQALVLMV-UHFFFAOYSA-N            1   \n",
       "77    10017-11-5    82291  MLGWTHRHHANFCC-UHFFFAOYSA-N            1   \n",
       "90   100231-74-1    10889  PXDJXZJSCPSGGI-UHFFFAOYSA-N            1   \n",
       "102   10025-73-7  6452300  QSWDMMVNRMROPK-UHFFFAOYSA-K            1   \n",
       "\n",
       "     n_casrn_cid      status_AK      status_MD  \n",
       "27             4  resolve later  resolve later  \n",
       "28             3  resolve later  resolve later  \n",
       "77             2  resolve later  resolve later  \n",
       "90             2  resolve later  resolve later  \n",
       "102            2  resolve later  resolve later  "
      ]
     },
     "execution_count": 28,
     "metadata": {},
     "output_type": "execute_result"
    }
   ],
   "source": [
    "md.columns = list(md.columns[:-1]) + ['status_MD']\n",
    "results_ex.columns = list(results_ex.columns[:-1]) + ['status_AK']\n",
    "export = pd.merge(results_ex, md)\n",
    "\n",
    "assert len(export) == len(ids)\n",
    "\n",
    "export.sort_values(by=['status_MD', 'status_AK'], ascending=False, inplace=True)\n",
    "export.head()"
   ]
  },
  {
   "cell_type": "markdown",
   "metadata": {},
   "source": [
    "**...and a separate sheet just showing where the results differ:**"
   ]
  },
  {
   "cell_type": "code",
   "execution_count": 29,
   "metadata": {
    "collapsed": true
   },
   "outputs": [],
   "source": [
    "export_diff = export[export.status_AK != export.status_MD]\n",
    "assert len(export_diff) == len(mapped_set ^ md_mapped_set)"
   ]
  },
  {
   "cell_type": "code",
   "execution_count": 30,
   "metadata": {
    "collapsed": true
   },
   "outputs": [],
   "source": [
    "export.to_excel(pjoin(RESULTS_PATH, 'CASRN-CID methods comparison.xlsx'))\n",
    "export_diff.to_excel(pjoin(RESULTS_PATH, 'CASRN-CID methods diff.xlsx'))"
   ]
  }
 ],
 "metadata": {
  "anaconda-cloud": {},
  "kernelspec": {
   "display_name": "Python [conda env:cmldev]",
   "language": "python",
   "name": "conda-env-cmldev-py"
  },
  "language_info": {
   "codemirror_mode": {
    "name": "ipython",
    "version": 3
   },
   "file_extension": ".py",
   "mimetype": "text/x-python",
   "name": "python",
   "nbconvert_exporter": "python",
   "pygments_lexer": "ipython3",
   "version": "3.5.2"
  }
 },
 "nbformat": 4,
 "nbformat_minor": 2
}
