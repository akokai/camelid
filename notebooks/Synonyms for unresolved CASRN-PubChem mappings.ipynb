{
 "cells": [
  {
   "cell_type": "code",
   "execution_count": null,
   "metadata": {
    "collapsed": true
   },
   "outputs": [],
   "source": [
    "import (sys, os, re)\n",
    "sys.path.append('..')  # To locate camelid\n",
    "\n",
    "import pandas as pd\n",
    "from pandas import DataFrame\n",
    "from sqlalchemy import create_engine, types\n",
    "from sqlalchemy.sql import text\n",
    "\n",
    "from camelid.run import CamelidEnv\n",
    "# TODO:\n",
    "# from camelid.ids import cas_to_cid"
   ]
  },
  {
   "cell_type": "code",
   "execution_count": null,
   "metadata": {
    "collapsed": true
   },
   "outputs": [],
   "source": [
    "env = CamelidEnv(project='syn1701')\n",
    "conn = create_engine('postgresql://akokai@localhost/cmlbase')"
   ]
  },
  {
   "cell_type": "code",
   "execution_count": null,
   "metadata": {
    "collapsed": true
   },
   "outputs": [],
   "source": [
    "# !psql cmlbase -c 'drop table unres2016;'"
   ]
  },
  {
   "cell_type": "code",
   "execution_count": null,
   "metadata": {
    "collapsed": true
   },
   "outputs": [],
   "source": [
    "cmd = text('''\n",
    "create table unres2016 (casrn text, cid text, name text);\n",
    "copy unres2016 from '/opt/akokai/data/camelid/syn1701/data/unresolved.tsv'\n",
    "    with (format text, delimiter '\\t', header);\n",
    "''')\n",
    "res = conn.execute(cmd)\n",
    "print(res.rowcount)"
   ]
  },
  {
   "cell_type": "code",
   "execution_count": null,
   "metadata": {
    "collapsed": true
   },
   "outputs": [],
   "source": []
  }
 ],
 "metadata": {
  "kernelspec": {
   "display_name": "Python [conda env:cmldev]",
   "language": "python",
   "name": "conda-env-cmldev-py"
  },
  "language_info": {
   "codemirror_mode": {
    "name": "ipython",
    "version": 3
   },
   "file_extension": ".py",
   "mimetype": "text/x-python",
   "name": "python",
   "nbconvert_exporter": "python",
   "pygments_lexer": "ipython3",
   "version": "3.5.2"
  }
 },
 "nbformat": 4,
 "nbformat_minor": 2
}
