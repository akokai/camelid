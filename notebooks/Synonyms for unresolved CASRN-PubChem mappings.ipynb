{
 "cells": [
  {
   "cell_type": "code",
   "execution_count": 1,
   "metadata": {
    "collapsed": true
   },
   "outputs": [],
   "source": [
    "import sys\n",
    "from os.path import join as pjoin\n",
    "\n",
    "import pandas as pd\n",
    "from pandas import DataFrame\n",
    "from sqlalchemy import create_engine, types\n",
    "from sqlalchemy.sql import text\n",
    "\n",
    "sys.path.append('..')\n",
    "from camelid.run import CamelidEnv\n",
    "from camelid.synutils import select_name"
   ]
  },
  {
   "cell_type": "code",
   "execution_count": 2,
   "metadata": {
    "collapsed": false
   },
   "outputs": [
    {
     "name": "stdout",
     "output_type": "stream",
     "text": [
      "2017-01-13 19:04:00,104 camelid INFO Project path: /opt/akokai/data/camelid/syn1701\n"
     ]
    }
   ],
   "source": [
    "env = CamelidEnv(project='syn1701')\n",
    "UNRES_IDS = pjoin(env.data_path, 'unresolved.tsv')\n",
    "conn = create_engine('postgresql://akokai@localhost/cmlbase')"
   ]
  },
  {
   "cell_type": "markdown",
   "metadata": {},
   "source": [
    "# Retrieve & attempt to select best synonyms for unresolved CASRN:CID mappings\n",
    "\n",
    "These are all 1:n CASRN:CID mappings where the *n* CIDs had different structural skeletons according to the InChI base layer."
   ]
  },
  {
   "cell_type": "code",
   "execution_count": 6,
   "metadata": {
    "collapsed": false,
    "scrolled": true
   },
   "outputs": [
    {
     "name": "stdout",
     "output_type": "stream",
     "text": [
      "1164 CASRN:CID mappings for 395 unique CASRNs.\n"
     ]
    },
    {
     "data": {
      "text/html": [
       "<div>\n",
       "<table border=\"1\" class=\"dataframe\">\n",
       "  <thead>\n",
       "    <tr style=\"text-align: right;\">\n",
       "      <th></th>\n",
       "      <th>casrn</th>\n",
       "      <th>cid</th>\n",
       "      <th>name</th>\n",
       "    </tr>\n",
       "  </thead>\n",
       "  <tbody>\n",
       "    <tr>\n",
       "      <th>0</th>\n",
       "      <td>10402-16-1</td>\n",
       "      <td>6433548</td>\n",
       "      <td>(Z)-9-OCTADECENOIC ACID, COPPER SALT</td>\n",
       "    </tr>\n",
       "    <tr>\n",
       "      <th>1</th>\n",
       "      <td>10402-16-1</td>\n",
       "      <td>22833310</td>\n",
       "      <td>(Z)-9-OCTADECENOIC ACID, COPPER SALT</td>\n",
       "    </tr>\n",
       "    <tr>\n",
       "      <th>2</th>\n",
       "      <td>104098-49-9</td>\n",
       "      <td>3083549</td>\n",
       "      <td>CADRE</td>\n",
       "    </tr>\n",
       "    <tr>\n",
       "      <th>3</th>\n",
       "      <td>1119-34-2</td>\n",
       "      <td>66250</td>\n",
       "      <td>L-(+)-ARGININE MONOHYDROCHLORIDE</td>\n",
       "    </tr>\n",
       "    <tr>\n",
       "      <th>4</th>\n",
       "      <td>117-92-0</td>\n",
       "      <td>5377942</td>\n",
       "      <td>Quinolinium, 2-[2-[4-(dimethylamino)phenyl]eth...</td>\n",
       "    </tr>\n",
       "    <tr>\n",
       "      <th>5</th>\n",
       "      <td>117-92-0</td>\n",
       "      <td>5702759</td>\n",
       "      <td>Quinolinium, 2-[2-[4-(dimethylamino)phenyl]eth...</td>\n",
       "    </tr>\n",
       "    <tr>\n",
       "      <th>6</th>\n",
       "      <td>1191-80-6</td>\n",
       "      <td>14495</td>\n",
       "      <td>mercury dioleate</td>\n",
       "    </tr>\n",
       "    <tr>\n",
       "      <th>7</th>\n",
       "      <td>1191-80-6</td>\n",
       "      <td>57346983</td>\n",
       "      <td>mercury dioleate</td>\n",
       "    </tr>\n",
       "    <tr>\n",
       "      <th>8</th>\n",
       "      <td>127-85-5</td>\n",
       "      <td>14700088</td>\n",
       "      <td>Arsonic acid, (4-aminophenyl)-, monosodium salt</td>\n",
       "    </tr>\n",
       "    <tr>\n",
       "      <th>9</th>\n",
       "      <td>127-85-5</td>\n",
       "      <td>23670523</td>\n",
       "      <td>Arsonic acid, (4-aminophenyl)-, monosodium salt</td>\n",
       "    </tr>\n",
       "  </tbody>\n",
       "</table>\n",
       "</div>"
      ],
      "text/plain": [
       "         casrn       cid                                               name\n",
       "0   10402-16-1   6433548               (Z)-9-OCTADECENOIC ACID, COPPER SALT\n",
       "1   10402-16-1  22833310               (Z)-9-OCTADECENOIC ACID, COPPER SALT\n",
       "2  104098-49-9   3083549                                              CADRE\n",
       "3    1119-34-2     66250                   L-(+)-ARGININE MONOHYDROCHLORIDE\n",
       "4     117-92-0   5377942  Quinolinium, 2-[2-[4-(dimethylamino)phenyl]eth...\n",
       "5     117-92-0   5702759  Quinolinium, 2-[2-[4-(dimethylamino)phenyl]eth...\n",
       "6    1191-80-6     14495                                   mercury dioleate\n",
       "7    1191-80-6  57346983                                   mercury dioleate\n",
       "8     127-85-5  14700088    Arsonic acid, (4-aminophenyl)-, monosodium salt\n",
       "9     127-85-5  23670523    Arsonic acid, (4-aminophenyl)-, monosodium salt"
      ]
     },
     "execution_count": 6,
     "metadata": {},
     "output_type": "execute_result"
    }
   ],
   "source": [
    "unres = pd.read_table(UNRES_IDS)\n",
    "unres.columns = ['casrn', 'cid', 'name']\n",
    "print('{0} CASRN:CID mappings for {1} unique CASRNs.'.format(len(unres), unres.casrn.nunique()))\n",
    "unres.head(10)"
   ]
  },
  {
   "cell_type": "markdown",
   "metadata": {},
   "source": [
    "### Import the table of unresolved IDs to SQL database"
   ]
  },
  {
   "cell_type": "code",
   "execution_count": 7,
   "metadata": {
    "collapsed": true
   },
   "outputs": [],
   "source": [
    "dtypes = dict(zip(unres.columns, 3*[types.String]))\n",
    "unres.to_sql('unres', conn, if_exists='replace', index=False, dtype=dtypes)"
   ]
  },
  {
   "cell_type": "markdown",
   "metadata": {},
   "source": [
    "## Retrieve all PubChem synonyms matching unresolved CIDs\n",
    "\n",
    "By means of a SQL query on the *very large* table of PubChem CID synonyms."
   ]
  },
  {
   "cell_type": "code",
   "execution_count": 9,
   "metadata": {
    "collapsed": false
   },
   "outputs": [
    {
     "name": "stdout",
     "output_type": "stream",
     "text": [
      "31570 synonyms in PubChem matching these CIDs\n"
     ]
    },
    {
     "data": {
      "text/html": [
       "<div>\n",
       "<table border=\"1\" class=\"dataframe\">\n",
       "  <thead>\n",
       "    <tr style=\"text-align: right;\">\n",
       "      <th></th>\n",
       "      <th>casrn</th>\n",
       "      <th>cid</th>\n",
       "      <th>name</th>\n",
       "      <th>synonym</th>\n",
       "    </tr>\n",
       "  </thead>\n",
       "  <tbody>\n",
       "    <tr>\n",
       "      <th>0</th>\n",
       "      <td>12244-57-4</td>\n",
       "      <td>22318</td>\n",
       "      <td>Butanedioic acid, mercapto-, monogold(1+) sodi...</td>\n",
       "      <td>62696-00-8</td>\n",
       "    </tr>\n",
       "    <tr>\n",
       "      <th>1</th>\n",
       "      <td>12244-57-4</td>\n",
       "      <td>22318</td>\n",
       "      <td>Butanedioic acid, mercapto-, monogold(1+) sodi...</td>\n",
       "      <td>62695-99-2</td>\n",
       "    </tr>\n",
       "    <tr>\n",
       "      <th>2</th>\n",
       "      <td>12244-57-4</td>\n",
       "      <td>22318</td>\n",
       "      <td>Butanedioic acid, mercapto-, monogold(1+) sodi...</td>\n",
       "      <td>554-42-7</td>\n",
       "    </tr>\n",
       "    <tr>\n",
       "      <th>3</th>\n",
       "      <td>12244-57-4</td>\n",
       "      <td>22318</td>\n",
       "      <td>Butanedioic acid, mercapto-, monogold(1+) sodi...</td>\n",
       "      <td>3845-05-4</td>\n",
       "    </tr>\n",
       "    <tr>\n",
       "      <th>4</th>\n",
       "      <td>12244-57-4</td>\n",
       "      <td>22318</td>\n",
       "      <td>Butanedioic acid, mercapto-, monogold(1+) sodi...</td>\n",
       "      <td>3829-87-6</td>\n",
       "    </tr>\n",
       "  </tbody>\n",
       "</table>\n",
       "</div>"
      ],
      "text/plain": [
       "        casrn    cid                                               name  \\\n",
       "0  12244-57-4  22318  Butanedioic acid, mercapto-, monogold(1+) sodi...   \n",
       "1  12244-57-4  22318  Butanedioic acid, mercapto-, monogold(1+) sodi...   \n",
       "2  12244-57-4  22318  Butanedioic acid, mercapto-, monogold(1+) sodi...   \n",
       "3  12244-57-4  22318  Butanedioic acid, mercapto-, monogold(1+) sodi...   \n",
       "4  12244-57-4  22318  Butanedioic acid, mercapto-, monogold(1+) sodi...   \n",
       "\n",
       "      synonym  \n",
       "0  62696-00-8  \n",
       "1  62695-99-2  \n",
       "2    554-42-7  \n",
       "3   3845-05-4  \n",
       "4   3829-87-6  "
      ]
     },
     "execution_count": 9,
     "metadata": {},
     "output_type": "execute_result"
    }
   ],
   "source": [
    "cmd = text('''\n",
    "select unres.casrn, unres.cid, unres.name, pubchem_synonyms.synonym\n",
    "from unres, pubchem_synonyms\n",
    "where unres.cid = pubchem_synonyms.cid;'''\n",
    "          )\n",
    "res = conn.execute(cmd)\n",
    "syns = DataFrame(res.fetchall(), columns=['casrn', 'cid', 'name', 'synonym'])\n",
    "print(len(syns), 'synonyms in PubChem matching these CIDs')\n",
    "syns.head(5)"
   ]
  },
  {
   "cell_type": "markdown",
   "metadata": {},
   "source": [
    "## Discard non-human-readable synonyms\n",
    "\n",
    "Filter out PubChem synonyms that are likely to be names using `camelid.synutils.select_name()`."
   ]
  },
  {
   "cell_type": "code",
   "execution_count": 10,
   "metadata": {
    "collapsed": false,
    "scrolled": true
   },
   "outputs": [
    {
     "name": "stdout",
     "output_type": "stream",
     "text": [
      "16308 synonyms that might be names\n"
     ]
    },
    {
     "data": {
      "text/html": [
       "<div>\n",
       "<table border=\"1\" class=\"dataframe\">\n",
       "  <thead>\n",
       "    <tr style=\"text-align: right;\">\n",
       "      <th></th>\n",
       "      <th>casrn</th>\n",
       "      <th>cid</th>\n",
       "      <th>name</th>\n",
       "      <th>synonym</th>\n",
       "    </tr>\n",
       "  </thead>\n",
       "  <tbody>\n",
       "    <tr>\n",
       "      <th>12</th>\n",
       "      <td>12244-57-4</td>\n",
       "      <td>22318</td>\n",
       "      <td>Butanedioic acid, mercapto-, monogold(1+) sodi...</td>\n",
       "      <td>[(1,2-dicarboxyethyl)thio]gold disodium salt</td>\n",
       "    </tr>\n",
       "    <tr>\n",
       "      <th>16</th>\n",
       "      <td>12244-57-4</td>\n",
       "      <td>22318</td>\n",
       "      <td>Butanedioic acid, mercapto-, monogold(1+) sodi...</td>\n",
       "      <td>disodium thiomalato-S-aurate(I)</td>\n",
       "    </tr>\n",
       "    <tr>\n",
       "      <th>17</th>\n",
       "      <td>12244-57-4</td>\n",
       "      <td>22318</td>\n",
       "      <td>Butanedioic acid, mercapto-, monogold(1+) sodi...</td>\n",
       "      <td>disodium thiomalato-S-gold(I)</td>\n",
       "    </tr>\n",
       "    <tr>\n",
       "      <th>18</th>\n",
       "      <td>12244-57-4</td>\n",
       "      <td>22318</td>\n",
       "      <td>Butanedioic acid, mercapto-, monogold(1+) sodi...</td>\n",
       "      <td>Mercaptobutanedioic Acid Monogold(1+) Sodium Salt</td>\n",
       "    </tr>\n",
       "    <tr>\n",
       "      <th>20</th>\n",
       "      <td>12244-57-4</td>\n",
       "      <td>22318</td>\n",
       "      <td>Butanedioic acid, mercapto-, monogold(1+) sodi...</td>\n",
       "      <td>sodium aurum(I) thiomalate</td>\n",
       "    </tr>\n",
       "  </tbody>\n",
       "</table>\n",
       "</div>"
      ],
      "text/plain": [
       "         casrn    cid                                               name  \\\n",
       "12  12244-57-4  22318  Butanedioic acid, mercapto-, monogold(1+) sodi...   \n",
       "16  12244-57-4  22318  Butanedioic acid, mercapto-, monogold(1+) sodi...   \n",
       "17  12244-57-4  22318  Butanedioic acid, mercapto-, monogold(1+) sodi...   \n",
       "18  12244-57-4  22318  Butanedioic acid, mercapto-, monogold(1+) sodi...   \n",
       "20  12244-57-4  22318  Butanedioic acid, mercapto-, monogold(1+) sodi...   \n",
       "\n",
       "                                              synonym  \n",
       "12       [(1,2-dicarboxyethyl)thio]gold disodium salt  \n",
       "16                    disodium thiomalato-S-aurate(I)  \n",
       "17                      disodium thiomalato-S-gold(I)  \n",
       "18  Mercaptobutanedioic Acid Monogold(1+) Sodium Salt  \n",
       "20                         sodium aurum(I) thiomalate  "
      ]
     },
     "execution_count": 10,
     "metadata": {},
     "output_type": "execute_result"
    }
   ],
   "source": [
    "syns['isname'] = syns.synonym.apply(select_name)\n",
    "syns = syns.ix[syns.isname]\n",
    "print(len(syns), 'synonyms that might be names')\n",
    "syns.drop('isname', axis=1, inplace=True)\n",
    "syns.head(5)"
   ]
  },
  {
   "cell_type": "markdown",
   "metadata": {},
   "source": [
    "## Identify synonyms that appear to be consistent with the given name\n",
    "\n",
    "One problem here is that we don't know which CID necessarily belongs to each CASRN, but we do know the name that (we think) belongs to that CASRN. And we know the synonyms associated with the CID. If we can find a match between our 'known' name and the synonyms for one CID (and perhpas not another), we might actually be making the correct CASRN:CID association as well as getting synonyms.\n",
    "\n",
    "First, create a series that relates each unique CID to a list of its PubChem synonyms"
   ]
  },
  {
   "cell_type": "code",
   "execution_count": 11,
   "metadata": {
    "collapsed": false,
    "scrolled": true
   },
   "outputs": [
    {
     "data": {
      "text/plain": [
       "cid\n",
       "10103751       [Copper(II) thiocyanate, Copper Dithiocyanate]\n",
       "10121702                 [(Cymene)ruthenium dichloride dimer]\n",
       "10176839    [acetic acid; (5R,6S)-6-amino-2,2-dimethyl-1,3...\n",
       "10176840    [(5R)-2,2-Dimethyl-6beta-amino-1,3-dioxepane-5...\n",
       "101932      [1,1'-DIETHYL-2,2'-CYANINE IODIDE,99%, Quinoli...\n",
       "Name: synonym, dtype: object"
      ]
     },
     "execution_count": 11,
     "metadata": {},
     "output_type": "execute_result"
    }
   ],
   "source": [
    "listed = syns.groupby('cid')['synonym'].apply(lambda x: list (x))\n",
    "listed.head()"
   ]
  },
  {
   "cell_type": "markdown",
   "metadata": {},
   "source": [
    "Now we can check if the given (CML) name is included in PubChem synonyns for any CID. For example:"
   ]
  },
  {
   "cell_type": "code",
   "execution_count": 12,
   "metadata": {
    "collapsed": false,
    "scrolled": true
   },
   "outputs": [
    {
     "data": {
      "text/plain": [
       "True"
      ]
     },
     "execution_count": 12,
     "metadata": {},
     "output_type": "execute_result"
    }
   ],
   "source": [
    "'Butanedioic acid, mercapto-, monogold(1+) sodium salt' in listed.loc['22318']"
   ]
  },
  {
   "cell_type": "markdown",
   "metadata": {},
   "source": [
    "### Do this for each CID"
   ]
  },
  {
   "cell_type": "code",
   "execution_count": 13,
   "metadata": {
    "collapsed": false
   },
   "outputs": [
    {
     "data": {
      "text/html": [
       "<div>\n",
       "<table border=\"1\" class=\"dataframe\">\n",
       "  <thead>\n",
       "    <tr style=\"text-align: right;\">\n",
       "      <th></th>\n",
       "      <th>casrn</th>\n",
       "      <th>cid</th>\n",
       "      <th>name</th>\n",
       "      <th>synonym</th>\n",
       "      <th>name_consistent</th>\n",
       "    </tr>\n",
       "  </thead>\n",
       "  <tbody>\n",
       "    <tr>\n",
       "      <th>12</th>\n",
       "      <td>12244-57-4</td>\n",
       "      <td>22318</td>\n",
       "      <td>Butanedioic acid, mercapto-, monogold(1+) sodi...</td>\n",
       "      <td>[(1,2-dicarboxyethyl)thio]gold disodium salt</td>\n",
       "      <td>True</td>\n",
       "    </tr>\n",
       "    <tr>\n",
       "      <th>16</th>\n",
       "      <td>12244-57-4</td>\n",
       "      <td>22318</td>\n",
       "      <td>Butanedioic acid, mercapto-, monogold(1+) sodi...</td>\n",
       "      <td>disodium thiomalato-S-aurate(I)</td>\n",
       "      <td>True</td>\n",
       "    </tr>\n",
       "    <tr>\n",
       "      <th>17</th>\n",
       "      <td>12244-57-4</td>\n",
       "      <td>22318</td>\n",
       "      <td>Butanedioic acid, mercapto-, monogold(1+) sodi...</td>\n",
       "      <td>disodium thiomalato-S-gold(I)</td>\n",
       "      <td>True</td>\n",
       "    </tr>\n",
       "    <tr>\n",
       "      <th>18</th>\n",
       "      <td>12244-57-4</td>\n",
       "      <td>22318</td>\n",
       "      <td>Butanedioic acid, mercapto-, monogold(1+) sodi...</td>\n",
       "      <td>Mercaptobutanedioic Acid Monogold(1+) Sodium Salt</td>\n",
       "      <td>True</td>\n",
       "    </tr>\n",
       "    <tr>\n",
       "      <th>20</th>\n",
       "      <td>12244-57-4</td>\n",
       "      <td>22318</td>\n",
       "      <td>Butanedioic acid, mercapto-, monogold(1+) sodi...</td>\n",
       "      <td>sodium aurum(I) thiomalate</td>\n",
       "      <td>True</td>\n",
       "    </tr>\n",
       "  </tbody>\n",
       "</table>\n",
       "</div>"
      ],
      "text/plain": [
       "         casrn    cid                                               name  \\\n",
       "12  12244-57-4  22318  Butanedioic acid, mercapto-, monogold(1+) sodi...   \n",
       "16  12244-57-4  22318  Butanedioic acid, mercapto-, monogold(1+) sodi...   \n",
       "17  12244-57-4  22318  Butanedioic acid, mercapto-, monogold(1+) sodi...   \n",
       "18  12244-57-4  22318  Butanedioic acid, mercapto-, monogold(1+) sodi...   \n",
       "20  12244-57-4  22318  Butanedioic acid, mercapto-, monogold(1+) sodi...   \n",
       "\n",
       "                                              synonym name_consistent  \n",
       "12       [(1,2-dicarboxyethyl)thio]gold disodium salt            True  \n",
       "16                    disodium thiomalato-S-aurate(I)            True  \n",
       "17                      disodium thiomalato-S-gold(I)            True  \n",
       "18  Mercaptobutanedioic Acid Monogold(1+) Sodium Salt            True  \n",
       "20                         sodium aurum(I) thiomalate            True  "
      ]
     },
     "execution_count": 13,
     "metadata": {},
     "output_type": "execute_result"
    }
   ],
   "source": [
    "syns['name_consistent'] = syns.apply(lambda x: x['name'] in listed.loc[x['cid']], axis=1)\n",
    "syns.head(5)"
   ]
  },
  {
   "cell_type": "code",
   "execution_count": 14,
   "metadata": {
    "collapsed": false
   },
   "outputs": [
    {
     "data": {
      "text/plain": [
       "False    12551\n",
       "True      3757\n",
       "Name: name_consistent, dtype: int64"
      ]
     },
     "execution_count": 14,
     "metadata": {},
     "output_type": "execute_result"
    }
   ],
   "source": [
    "syns.name_consistent.value_counts()"
   ]
  },
  {
   "cell_type": "code",
   "execution_count": 15,
   "metadata": {
    "collapsed": false
   },
   "outputs": [
    {
     "name": "stdout",
     "output_type": "stream",
     "text": [
      "393 total CASRNs in input list\n",
      "100 total CASRNs with self-consistent names\n"
     ]
    }
   ],
   "source": [
    "print(syns.casrn.nunique(), 'total CASRNs in input list')\n",
    "print(syns[syns.name_consistent].casrn.nunique(), 'total CASRNs with self-consistent names')"
   ]
  },
  {
   "cell_type": "code",
   "execution_count": 16,
   "metadata": {
    "collapsed": true
   },
   "outputs": [],
   "source": [
    "syns.to_excel(pjoin(env.results_path, 'unres2016_synonyms.xlsx'), index=False)"
   ]
  }
 ],
 "metadata": {
  "anaconda-cloud": {},
  "kernelspec": {
   "display_name": "Python [conda env:cmldev]",
   "language": "python",
   "name": "conda-env-cmldev-py"
  },
  "language_info": {
   "codemirror_mode": {
    "name": "ipython",
    "version": 3
   },
   "file_extension": ".py",
   "mimetype": "text/x-python",
   "name": "python",
   "nbconvert_exporter": "python",
   "pygments_lexer": "ipython3",
   "version": "3.5.2"
  }
 },
 "nbformat": 4,
 "nbformat_minor": 2
}
