{
 "cells": [
  {
   "cell_type": "markdown",
   "metadata": {},
   "source": [
    "# Chemical database initialization 1: Structures\n",
    "\n",
    "## Goal\n",
    "\n",
    "Bootstrap a chemical database with ~700,000 structures from the US EPA CompTox Dashboard's public dataset.\n",
    "\n",
    "Set up the database so that it can be used for substructure searching via the [RDKit PostgreSQL database cartridge](http://www.rdkit.org/docs/Cartridge.html).\n",
    "\n",
    "\n",
    "## Data source\n",
    "\n",
    "`dsstox_20160701.tsv` - *Mapping file of InChIStrings, InChIKeys and DTXSIDs for the EPA CompTox Dashboard,* [available on Figshare](https://figshare.com/articles/Mapping_file_of_InChIStrings_InChIKeys_and_DTXSIDs_for_the_EPA_CompTox_Dashboard/3578313), published 12.08.2016 by Antony Williams. \n",
    "- Date: 2016-07-01\n",
    "- License: CC0\n",
    "- Columns: DTXSID (US EPA internal ID), InChI, InChIKey\n",
    "\n",
    "\n",
    "## Notes on software dependencies\n",
    "\n",
    "Requires:\n",
    "- a running instance of PostgreSQL with the RDKit cartridge installed;\n",
    "- Python packages and dependencies: rdkit, sqlalchemy, psycopg2, pandas."
   ]
  },
  {
   "cell_type": "code",
   "execution_count": 1,
   "metadata": {
    "collapsed": false
   },
   "outputs": [],
   "source": [
    "import pandas as pd\n",
    "import csv\n",
    "from pandas import DataFrame, Series\n",
    "from rdkit import Chem\n",
    "from rdkit.Chem import AllChem\n",
    "from sqlalchemy import create_engine, types\n",
    "from sqlalchemy.sql import text"
   ]
  },
  {
   "cell_type": "markdown",
   "metadata": {},
   "source": [
    "## Generate database table of structural representations\n",
    "\n",
    "- Taking the list of EPA InChI(Key)s and DSSTox substance IDs, convert each InChI into a RDKit `Mol` object. Then convert each `Mol` into its binary representation.\n",
    "- Create a big table in PostgreSQL that adds a binary molecule-object column to the original EPA dataset. In other words, a table with columns `(dtxsid, inchi, inchikey, bin)`.\n",
    "  - This is a necessary intermediate step because there is no `mol_from_inchi` method in the PGSQL RDKit extension, but there is a `mol_from_pkl` that builds molecules out of binary representations. Otherwise we could go straight from InChI to molecules in the SQL table.\n",
    "  - The 720K rows seems to be too much to process in memory all at once, so I am going through the file lazily in chunks.\n",
    "\n",
    "### Notes\n",
    "- Use all-lowercase column names to avoid SQL mix-ups.\n",
    "- RDKit will fail to create many of the molecules from InChI because of very specific errors. The number of molecules we have in the end will probably be less than 700K."
   ]
  },
  {
   "cell_type": "code",
   "execution_count": 2,
   "metadata": {
    "collapsed": true
   },
   "outputs": [],
   "source": [
    "DTX_DATA = '/opt/akokai/data/EPA/dsstox-20160701.tsv'"
   ]
  },
  {
   "cell_type": "code",
   "execution_count": 3,
   "metadata": {
    "collapsed": false
   },
   "outputs": [
    {
     "name": "stdout",
     "output_type": "stream",
     "text": [
      "DSSTOX dataset length: 719996 /opt/akokai/data/EPA/dsstox-20160701.tsv\r\n"
     ]
    }
   ],
   "source": [
    "!echo \"DSSTOX dataset length: $(wc -l /opt/akokai/data/EPA/dsstox-20160701.tsv)\""
   ]
  },
  {
   "cell_type": "code",
   "execution_count": 4,
   "metadata": {
    "collapsed": false
   },
   "outputs": [
    {
     "name": "stdout",
     "output_type": "stream",
     "text": [
      "DROP TABLE\r\n"
     ]
    }
   ],
   "source": [
    "# To be able to re-run this code from scratch, first drop the table if it already exists:\n",
    "!psql chmdata -c 'drop table dtx;'"
   ]
  },
  {
   "cell_type": "code",
   "execution_count": 4,
   "metadata": {
    "collapsed": false
   },
   "outputs": [],
   "source": [
    "conn = create_engine('postgresql://akokai@localhost/chmdata')"
   ]
  },
  {
   "cell_type": "markdown",
   "metadata": {},
   "source": [
    "This will take a while..."
   ]
  },
  {
   "cell_type": "code",
   "execution_count": 6,
   "metadata": {
    "collapsed": false
   },
   "outputs": [
    {
     "name": "stdout",
     "output_type": "stream",
     "text": [
      "9996 molecules created, 4 errors\n",
      "9985 molecules created, 15 errors\n",
      "9994 molecules created, 6 errors\n",
      "9995 molecules created, 5 errors\n",
      "9995 molecules created, 5 errors\n",
      "9993 molecules created, 7 errors\n",
      "9997 molecules created, 3 errors\n",
      "9989 molecules created, 11 errors\n",
      "9996 molecules created, 4 errors\n",
      "9993 molecules created, 7 errors\n",
      "9989 molecules created, 11 errors\n",
      "9993 molecules created, 7 errors\n",
      "9992 molecules created, 8 errors\n",
      "9988 molecules created, 12 errors\n",
      "10000 molecules created, 0 errors\n",
      "10000 molecules created, 0 errors\n",
      "9998 molecules created, 2 errors\n",
      "9996 molecules created, 4 errors\n",
      "9994 molecules created, 6 errors\n",
      "9993 molecules created, 7 errors\n",
      "9998 molecules created, 2 errors\n",
      "10000 molecules created, 0 errors\n",
      "10000 molecules created, 0 errors\n",
      "10000 molecules created, 0 errors\n",
      "10000 molecules created, 0 errors\n",
      "9999 molecules created, 1 errors\n",
      "9998 molecules created, 2 errors\n",
      "9996 molecules created, 4 errors\n",
      "9990 molecules created, 10 errors\n",
      "9998 molecules created, 2 errors\n",
      "9998 molecules created, 2 errors\n",
      "9992 molecules created, 8 errors\n",
      "9996 molecules created, 4 errors\n",
      "9995 molecules created, 5 errors\n",
      "9992 molecules created, 8 errors\n",
      "9998 molecules created, 2 errors\n",
      "9998 molecules created, 2 errors\n",
      "9997 molecules created, 3 errors\n",
      "9994 molecules created, 6 errors\n",
      "10000 molecules created, 0 errors\n",
      "9995 molecules created, 5 errors\n",
      "9996 molecules created, 4 errors\n",
      "10000 molecules created, 0 errors\n",
      "9993 molecules created, 7 errors\n",
      "9995 molecules created, 5 errors\n",
      "9998 molecules created, 2 errors\n",
      "9999 molecules created, 1 errors\n",
      "9997 molecules created, 3 errors\n",
      "9998 molecules created, 2 errors\n",
      "9986 molecules created, 14 errors\n",
      "9999 molecules created, 1 errors\n",
      "9999 molecules created, 1 errors\n",
      "9996 molecules created, 4 errors\n",
      "10000 molecules created, 0 errors\n",
      "10000 molecules created, 0 errors\n",
      "9995 molecules created, 5 errors\n",
      "9993 molecules created, 7 errors\n",
      "9998 molecules created, 2 errors\n",
      "9991 molecules created, 9 errors\n",
      "10000 molecules created, 0 errors\n",
      "9991 molecules created, 9 errors\n",
      "9994 molecules created, 6 errors\n",
      "9989 molecules created, 11 errors\n",
      "9987 molecules created, 13 errors\n",
      "9987 molecules created, 13 errors\n",
      "9995 molecules created, 5 errors\n",
      "9992 molecules created, 8 errors\n",
      "9990 molecules created, 10 errors\n",
      "9991 molecules created, 9 errors\n",
      "9992 molecules created, 8 errors\n",
      "9991 molecules created, 9 errors\n",
      "9990 molecules created, 10 errors\n",
      "Total: 719632 molecules created, 364 errors\n"
     ]
    }
   ],
   "source": [
    "dtypes = {'dtxsid': types.String,\n",
    "          'inchi': types.String,\n",
    "          'inchikey': types.String,\n",
    "          'bin': types.Binary}\n",
    "\n",
    "ninput = 719996\n",
    "ncreated = 0\n",
    "chunk = 10000\n",
    "\n",
    "dtx = pd.read_table(DTX_DATA, names=['dtxsid', 'inchi', 'inchikey'],\n",
    "                    chunksize=chunk, low_memory=True)\n",
    "\n",
    "\n",
    "for df in dtx:\n",
    "    df['mol'] = df.inchi.apply(Chem.MolFromInchi)\n",
    "    df.dropna(inplace=True)\n",
    "    n = len(df)\n",
    "    ncreated += n\n",
    "    print('{0} molecules created, {1} errors'.format(n, chunk - n))\n",
    "    df['bin'] = df.mol.apply(lambda m: m.ToBinary())\n",
    "    df.drop('mol', axis=1, inplace=True)\n",
    "    df.to_sql('dtx', conn, if_exists='append', index=False, chunksize=65536, dtype=dtypes)\n",
    "\n",
    "print('Total: {0} molecules created, {1} errors'.format(ncreated, ninput - ncreated))"
   ]
  },
  {
   "cell_type": "markdown",
   "metadata": {},
   "source": [
    "## Generate `mol`-type column and index structures\n",
    "\n",
    "Create a new table with columns `(dtxsid, inchi, inchikey, molecule)` where the last column contains RDKit `mol`-type structures. Index the table on the structures using the GiST-powered RDKit extension. (This is what enables substructure searching in SQL.)"
   ]
  },
  {
   "cell_type": "code",
   "execution_count": 7,
   "metadata": {
    "collapsed": false
   },
   "outputs": [
    {
     "name": "stdout",
     "output_type": "stream",
     "text": [
      "DROP TABLE\r\n"
     ]
    }
   ],
   "source": [
    "# To be able to re-run the code below, first drop the table:\n",
    "!psql chmdata -c 'drop table chem;'"
   ]
  },
  {
   "cell_type": "code",
   "execution_count": 8,
   "metadata": {
    "collapsed": false
   },
   "outputs": [
    {
     "name": "stdout",
     "output_type": "stream",
     "text": [
      "719632\n"
     ]
    }
   ],
   "source": [
    "cmd = text(\n",
    "    '''create table chem\n",
    "       as select dtxsid, inchi, inchikey, mol_from_pkl(bin) molecule from dtx;''')\n",
    "res = conn.execute(cmd)\n",
    "print(res.rowcount)"
   ]
  },
  {
   "cell_type": "markdown",
   "metadata": {},
   "source": [
    "### Check results"
   ]
  },
  {
   "cell_type": "code",
   "execution_count": 9,
   "metadata": {
    "collapsed": false
   },
   "outputs": [],
   "source": [
    "assert res.rowcount == ncreated"
   ]
  },
  {
   "cell_type": "code",
   "execution_count": 5,
   "metadata": {
    "collapsed": false,
    "scrolled": true
   },
   "outputs": [
    {
     "data": {
      "text/plain": [
       "[('DTXSID7020001', 'InChI=1S/C11H9N3/c12-10-6-5-8-7-3-1-2-4-9(7)13-11(8)14-10/h1-6H,(H3,12,13,14)', 'FJTNLJLPLJDTRM-UHFFFAOYSA-N', 'N=c1ccc2c([nH]1)[nH]c1ccccc12'),\n",
       " ('DTXSID5039224', 'InChI=1S/C2H4O/c1-2-3/h2H,1H3', 'IKHGUXGNUITLKF-UHFFFAOYSA-N', 'CC=O'),\n",
       " ('DTXSID50872971', 'InChI=1S/C4H8N2O/c1-3-5-6(2)4-7/h3-4H,1-2H3/b5-3+', 'IMAGWKUTFZRWSB-HWKANZROSA-N', 'C/C=N/N(C)C=O'),\n",
       " ('DTXSID2020004', 'InChI=1S/C2H5NO/c1-2-3-4/h2,4H,1H3/b3-2+', 'FZENGILVLUJGJX-NSCUHMNNSA-N', 'C/C=N/O'),\n",
       " ('DTXSID7020005', 'InChI=1S/C2H5NO/c1-2(3)4/h1H3,(H2,3,4)', 'DLFVBJFMPXGRIB-UHFFFAOYSA-N', 'CC(=N)O')]"
      ]
     },
     "execution_count": 5,
     "metadata": {},
     "output_type": "execute_result"
    }
   ],
   "source": [
    "# Check that the table contains expected data... \n",
    "cmd = text('select * from chem limit 5;')\n",
    "conn.execute(cmd).fetchall()"
   ]
  },
  {
   "cell_type": "markdown",
   "metadata": {},
   "source": [
    "### Create the index\n",
    "\n",
    "It takes a while..."
   ]
  },
  {
   "cell_type": "code",
   "execution_count": 11,
   "metadata": {
    "collapsed": false
   },
   "outputs": [],
   "source": [
    "cmd = text('create index molidx on chem using gist(molecule);')\n",
    "res = conn.execute(cmd)"
   ]
  }
 ],
 "metadata": {
  "anaconda-cloud": {},
  "kernelspec": {
   "display_name": "Python [conda env:cmldev]",
   "language": "python",
   "name": "conda-env-cmldev-py"
  },
  "language_info": {
   "codemirror_mode": {
    "name": "ipython",
    "version": 3
   },
   "file_extension": ".py",
   "mimetype": "text/x-python",
   "name": "python",
   "nbconvert_exporter": "python",
   "pygments_lexer": "ipython3",
   "version": "3.5.2"
  }
 },
 "nbformat": 4,
 "nbformat_minor": 1
}
