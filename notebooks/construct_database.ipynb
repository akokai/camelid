{
 "cells": [
  {
   "cell_type": "markdown",
   "metadata": {},
   "source": [
    "# Chemical database initialization\n",
    "\n",
    "### Goal\n",
    "\n",
    "Bootstrap a chemical database with ~720,000 structures from the US EPA CompTox Dashboard's public dataset.\n",
    "\n",
    "Set up the database so that it can be used for substructure searching via the [RDKit PostgreSQL database cartridge](http://www.rdkit.org/docs/Cartridge.html). Also include CASRNs and PubChem CIDs as much as possible.\n",
    "\n",
    "\n",
    "### Data sources\n",
    "\n",
    "`dsstox_20160701.tsv`\n",
    "  - Downloaded from: https://comptox.epa.gov/dashboard/downloads (zip filename: DSSTox_Mapping_20160701.zip)\n",
    "  - Date: 2016-07-01 (file generated); 2016-12-14 (posted on EPA website)\n",
    "  - Accessed: 2017-01-05\n",
    "  - \"The DSSTOX mapping file contains mappings between the DSSTox substance identifier (DTXSID) and the associated InChI String and InChI Key.\"\n",
    "\n",
    "`Dsstox_CAS_number_name.xlsx`\n",
    "  - Downloaded from: https://comptox.epa.gov/dashboard/downloads\n",
    "  - Date: 2016-11-14\n",
    "  - Accessed: 2017-01-05\n",
    "  - \"The DSSTox Identifiers file is in Excel format and includes the CAS Number, DSSTox substance identifier (DTXSID) and the Preferred Name.\"\n",
    "\n",
    "`PubChem_DTXSID_mapping_file.txt`\n",
    "  - Downloaded from: https://comptox.epa.gov/dashboard/downloads\n",
    "  - Date: 2016-11-14\n",
    "  - Accessed: 2017-01-05\n",
    "  - \"The DSSTox to PubChem Identifiers mapping file is in TXT format and includes the PubChem SID, PubChem CID and DSSTox substance identifier (DTXSID).\"\n",
    "\n",
    "\n",
    "### Notes on software dependencies\n",
    "\n",
    "Requires:\n",
    "\n",
    "- A running instance of PostgreSQL and an empty database instantiated with the RDKit extension activated ([instructions](https://github.com/rdkit/rdkit/blob/master/Docs/Book/Install.md));\n",
    "- A `commongroups` environment containing a configuration file (see docs, TBD);\n",
    "- Python packages and dependencies: commongroups, rdkit, sqlalchemy, psycopg2, pandas.\n",
    "\n",
    "## Imports & environment"
   ]
  },
  {
   "cell_type": "code",
   "execution_count": 1,
   "metadata": {},
   "outputs": [],
   "source": [
    "import sys\n",
    "from os.path import join as pjoin\n",
    "\n",
    "import pandas as pd\n",
    "from pandas import DataFrame\n",
    "\n",
    "from rdkit import Chem\n",
    "from rdkit.Chem import AllChem\n",
    "\n",
    "from sqlalchemy import create_engine, MetaData, Table, Column, types\n",
    "from sqlalchemy.sql import text\n",
    "\n",
    "sys.path.append('..')\n",
    "from commongroups.env import CommonEnv"
   ]
  },
  {
   "cell_type": "markdown",
   "metadata": {},
   "source": [
    "### Database connection and file locations\n",
    "\n",
    "Read config variables from a `commongroups` environment."
   ]
  },
  {
   "cell_type": "code",
   "execution_count": 2,
   "metadata": {},
   "outputs": [
    {
     "name": "stdout",
     "output_type": "stream",
     "text": [
      "2017-04-10 18:15:37,396 commongroups.env INFO Project path: /opt/akokai/data/cmg/setup\n"
     ]
    }
   ],
   "source": [
    "env = CommonEnv('setup')  # Or whatever local environment exists...\n",
    "cfg = env.get_config()\n",
    "con = create_engine(cfg['database_url'])\n",
    "\n",
    "DATA_PATH = cfg['data_sources_path']\n",
    "\n",
    "DTX_STRUCT = pjoin(DATA_PATH, 'dsstox_20160701.tsv')\n",
    "DTX_CASRNS = pjoin(DATA_PATH, 'Dsstox_CAS_number_name.xlsx')\n",
    "DTX_CIDS = pjoin(DATA_PATH, 'PubChem_DTXSID_mapping_file.txt')"
   ]
  },
  {
   "cell_type": "markdown",
   "metadata": {},
   "source": [
    "## Create database tables"
   ]
  },
  {
   "cell_type": "code",
   "execution_count": 3,
   "metadata": {
    "scrolled": false
   },
   "outputs": [],
   "source": [
    "create_tables = text(\n",
    "    \"\"\"\n",
    "    CREATE TABLE dsstox (\n",
    "        dtxsid text PRIMARY KEY,\n",
    "        inchi text NOT NULL,\n",
    "        inchikey text NOT NULL,\n",
    "        bin bytea NOT NULL\n",
    "    );\n",
    "\n",
    "    CREATE TABLE dtx_casrn (\n",
    "        casrn text,\n",
    "        dtxsid text REFERENCES dsstox,\n",
    "        name text,\n",
    "        PRIMARY KEY (dtxsid, casrn)\n",
    "    );\n",
    "\n",
    "    CREATE TABLE dtx_cid (\n",
    "        cid text,\n",
    "        dtxsid text REFERENCES dsstox,\n",
    "        PRIMARY KEY (dtxsid, cid)\n",
    "    );\n",
    "    \"\"\"\n",
    ")\n",
    "\n",
    "res = con.execute(create_tables)"
   ]
  },
  {
   "cell_type": "markdown",
   "metadata": {},
   "source": [
    "## Generate table of binary structural representations\n",
    "\n",
    "- Take the list of EPA InChI(Key)s and DSSTox substance IDs, convert each InChI into a RDKit `Mol` object. Then convert each `Mol` into its binary representation. Put this into a PGSQL database table.\n",
    "\n",
    "- Then update the table to create RDKit `mol` objects in a new column, using the binary representations and the `mol_from_pkl` function.\n",
    "\n",
    "- This binary thing is a necessary intermediate step because there is no `mol_from_inchi` method in the PGSQL RDKit extension, there is only `mol_from_smiles`. (Otherwise we could go straight from InChI to molecules in the SQL table.)\n",
    "\n",
    "### Notes\n",
    "\n",
    "- The 720K rows seems to be too much to process in memory all at once, so we go through the file lazily in chunks.\n",
    "\n",
    "- RDKit will fail to create many of the molecules from InChI because of very specific errors. The number of molecules we have in the end will probably be less than 720K.\n",
    "\n",
    "- This will take a while and use lots of CPU and memory."
   ]
  },
  {
   "cell_type": "code",
   "execution_count": 4,
   "metadata": {},
   "outputs": [
    {
     "name": "stdout",
     "output_type": "stream",
     "text": [
      "9996 molecules created, 4 errors\n",
      "9985 molecules created, 15 errors\n",
      "9994 molecules created, 6 errors\n",
      "9995 molecules created, 5 errors\n",
      "9995 molecules created, 5 errors\n",
      "9993 molecules created, 7 errors\n",
      "9997 molecules created, 3 errors\n",
      "9989 molecules created, 11 errors\n",
      "9996 molecules created, 4 errors\n",
      "9993 molecules created, 7 errors\n",
      "9989 molecules created, 11 errors\n",
      "9993 molecules created, 7 errors\n",
      "9992 molecules created, 8 errors\n",
      "9988 molecules created, 12 errors\n",
      "10000 molecules created, 0 errors\n",
      "10000 molecules created, 0 errors\n",
      "9998 molecules created, 2 errors\n",
      "9996 molecules created, 4 errors\n",
      "9994 molecules created, 6 errors\n",
      "9993 molecules created, 7 errors\n",
      "9998 molecules created, 2 errors\n",
      "10000 molecules created, 0 errors\n",
      "10000 molecules created, 0 errors\n",
      "10000 molecules created, 0 errors\n",
      "10000 molecules created, 0 errors\n",
      "9999 molecules created, 1 errors\n",
      "9998 molecules created, 2 errors\n",
      "9996 molecules created, 4 errors\n",
      "9990 molecules created, 10 errors\n",
      "9998 molecules created, 2 errors\n",
      "9998 molecules created, 2 errors\n",
      "9992 molecules created, 8 errors\n",
      "9996 molecules created, 4 errors\n",
      "9995 molecules created, 5 errors\n",
      "9992 molecules created, 8 errors\n",
      "9998 molecules created, 2 errors\n",
      "9998 molecules created, 2 errors\n",
      "9997 molecules created, 3 errors\n",
      "9994 molecules created, 6 errors\n",
      "10000 molecules created, 0 errors\n",
      "9995 molecules created, 5 errors\n",
      "9996 molecules created, 4 errors\n",
      "10000 molecules created, 0 errors\n",
      "9993 molecules created, 7 errors\n",
      "9995 molecules created, 5 errors\n",
      "9998 molecules created, 2 errors\n",
      "9999 molecules created, 1 errors\n",
      "9997 molecules created, 3 errors\n",
      "9998 molecules created, 2 errors\n",
      "9986 molecules created, 14 errors\n",
      "9999 molecules created, 1 errors\n",
      "9999 molecules created, 1 errors\n",
      "9996 molecules created, 4 errors\n",
      "10000 molecules created, 0 errors\n",
      "10000 molecules created, 0 errors\n",
      "9995 molecules created, 5 errors\n",
      "9993 molecules created, 7 errors\n",
      "9998 molecules created, 2 errors\n",
      "9991 molecules created, 9 errors\n",
      "10000 molecules created, 0 errors\n",
      "9991 molecules created, 9 errors\n",
      "9994 molecules created, 6 errors\n",
      "9989 molecules created, 11 errors\n",
      "9987 molecules created, 13 errors\n",
      "9987 molecules created, 13 errors\n",
      "9995 molecules created, 5 errors\n",
      "9992 molecules created, 8 errors\n",
      "9990 molecules created, 10 errors\n",
      "9991 molecules created, 9 errors\n",
      "9992 molecules created, 8 errors\n",
      "9991 molecules created, 9 errors\n",
      "9989 molecules created, 11 errors\n",
      "Total: 719631 molecules created, 365 errors\n"
     ]
    }
   ],
   "source": [
    "dtypes = {'dtxsid': types.Text,\n",
    "          'inchi': types.Text,\n",
    "          'inchikey': types.Text,\n",
    "          'bin': types.Binary}\n",
    "\n",
    "ninput = 719996\n",
    "ncreated = 0\n",
    "chunk = 10000\n",
    "\n",
    "dtx = pd.read_table(DTX_STRUCT, names=['dtxsid', 'inchi', 'inchikey'],\n",
    "                    chunksize=chunk, low_memory=True)\n",
    "\n",
    "for df in dtx:\n",
    "    df['mol'] = df.inchi.apply(Chem.MolFromInchi)\n",
    "    df.dropna(inplace=True)\n",
    "    n = len(df)\n",
    "    ncreated += n\n",
    "    print('{0} molecules created, {1} errors'.format(n, chunk - n))\n",
    "    df['bin'] = df.mol.apply(lambda m: m.ToBinary())\n",
    "    df.drop('mol', axis=1, inplace=True)\n",
    "    df.to_sql('dsstox', con, if_exists='append', index=False, chunksize=65536, dtype=dtypes)\n",
    "\n",
    "print('Total: {0} molecules created, {1} errors'.format(ncreated, ninput - ncreated))"
   ]
  },
  {
   "cell_type": "markdown",
   "metadata": {},
   "source": [
    "### Generate `mol`-type column"
   ]
  },
  {
   "cell_type": "code",
   "execution_count": 5,
   "metadata": {},
   "outputs": [
    {
     "name": "stdout",
     "output_type": "stream",
     "text": [
      "719631 rows changed\n"
     ]
    }
   ],
   "source": [
    "update_molecules = text(\n",
    "    \"\"\"\n",
    "    ALTER TABLE dsstox ADD COLUMN molecule mol;\n",
    "    \n",
    "    UPDATE dsstox SET molecule = mol_from_pkl(bin);\n",
    "    \"\"\"\n",
    ")\n",
    "res = con.execute(update_molecules)\n",
    "print(res.rowcount, 'rows changed')"
   ]
  },
  {
   "cell_type": "code",
   "execution_count": 6,
   "metadata": {},
   "outputs": [],
   "source": [
    "# Check results.\n",
    "try:\n",
    "    assert res.rowcount == ncreated\n",
    "except AssertionError:\n",
    "    print('Wrong number of molecules!')    "
   ]
  },
  {
   "cell_type": "code",
   "execution_count": 7,
   "metadata": {
    "collapsed": true
   },
   "outputs": [],
   "source": [
    "tidy_molecules = text(\n",
    "    \"\"\"\n",
    "    ALTER TABLE dsstox ALTER COLUMN molecule SET NOT NULL;\n",
    "    \n",
    "    ALTER TABLE dsstox DROP COLUMN bin;\n",
    "    \"\"\"\n",
    ")\n",
    "res = con.execute(tidy_molecules)"
   ]
  },
  {
   "cell_type": "code",
   "execution_count": 8,
   "metadata": {
    "scrolled": false
   },
   "outputs": [
    {
     "data": {
      "text/plain": [
       "[('DTXSID8051382', 'InChI=1S/Li.2H2O/h;2*1H2/q+1;;/p-1', 'GLXDVVHUTZTUQK-UHFFFAOYSA-M', 'O.[Li+].[OH-]'),\n",
       " ('DTXSID5058301', 'InChI=1S/Ag.O', 'OTCVAHKKMMUFAY-UHFFFAOYSA-N', '[Ag].[O]'),\n",
       " ('DTXSID4065739', 'InChI=1S/Pb/i1+3', 'WABPQHHGFIMREM-AKLPVKDBSA-N', '[210Pb]'),\n",
       " ('DTXSID8066630', 'InChI=1S/Hg.Se', 'YQMLDSWXEQOSPP-UHFFFAOYSA-N', '[Hg].[Se]'),\n",
       " ('DTXSID9067437', 'InChI=1S/Sb.Tl', 'YJLNSAVOCPBJTN-UHFFFAOYSA-N', '[Sb].[Tl]')]"
      ]
     },
     "execution_count": 8,
     "metadata": {},
     "output_type": "execute_result"
    }
   ],
   "source": [
    "# Check that the table contains expected data... \n",
    "cmd = text('select * from dsstox limit 5;')\n",
    "con.execute(cmd).fetchall()"
   ]
  },
  {
   "cell_type": "markdown",
   "metadata": {},
   "source": [
    "## Create DataFrame of DTXSIDs for which we have molecules\n",
    "\n",
    "This will be used to avoid violations of foreign key constraints..."
   ]
  },
  {
   "cell_type": "code",
   "execution_count": 9,
   "metadata": {
    "collapsed": true
   },
   "outputs": [],
   "source": [
    "ids = pd.read_sql(\"SELECT dtxsid FROM dsstox\", con)"
   ]
  },
  {
   "cell_type": "markdown",
   "metadata": {},
   "source": [
    "## Import external ID mappings: DTXSID to CASRN, CID\n",
    "\n",
    "### Load DTXSID:CASRN mappings\n",
    "\n",
    "Note that these are all 1:1 mappings."
   ]
  },
  {
   "cell_type": "code",
   "execution_count": 10,
   "metadata": {
    "scrolled": false
   },
   "outputs": [
    {
     "name": "stdout",
     "output_type": "stream",
     "text": [
      "753398 DTXSID:CASRN mappings in data source\n"
     ]
    }
   ],
   "source": [
    "dtx_cas_data = pd.read_excel(DTX_CASRNS)\n",
    "cas_cols = ['casrn', 'dtxsid', 'name']\n",
    "dtx_cas_data.columns = cas_cols\n",
    "print(len(dtx_cas_data), 'DTXSID:CASRN mappings in data source')"
   ]
  },
  {
   "cell_type": "code",
   "execution_count": 11,
   "metadata": {},
   "outputs": [
    {
     "name": "stdout",
     "output_type": "stream",
     "text": [
      "719631 DTXSID:CASRN mappings available to add to database\n"
     ]
    }
   ],
   "source": [
    "# Filter mappings to include only DTXSIDs for which we already have a molecule.\n",
    "dtx_cas_data = dtx_cas_data.loc[dtx_cas_data['dtxsid'].isin(ids['dtxsid'])]\n",
    "print(len(dtx_cas_data), 'DTXSID:CASRN mappings available to add to database')"
   ]
  },
  {
   "cell_type": "code",
   "execution_count": 12,
   "metadata": {},
   "outputs": [],
   "source": [
    "dtypes_cas = dict(zip(cas_cols, 3*[types.Text]))\n",
    "dtx_cas_data.to_sql('dtx_casrn', con, if_exists='append', index=False, chunksize=65536, dtype=dtypes_cas)"
   ]
  },
  {
   "cell_type": "code",
   "execution_count": 13,
   "metadata": {},
   "outputs": [
    {
     "data": {
      "text/plain": [
       "[('26148-68-5', 'DTXSID7020001', 'A-alpha-C'),\n",
       " ('107-29-9', 'DTXSID2020004', 'Acetaldehyde oxime'),\n",
       " ('60-35-5', 'DTXSID7020005', 'Acetamide'),\n",
       " ('103-90-2', 'DTXSID2020006', 'Acetaminophen'),\n",
       " ('968-81-0', 'DTXSID7020007', 'Acetohexamide')]"
      ]
     },
     "execution_count": 13,
     "metadata": {},
     "output_type": "execute_result"
    }
   ],
   "source": [
    "# Check that the table contains expected data... \n",
    "cmd = text('select * from dtx_casrn limit 5;')\n",
    "con.execute(cmd).fetchall()"
   ]
  },
  {
   "cell_type": "code",
   "execution_count": 14,
   "metadata": {},
   "outputs": [
    {
     "name": "stdout",
     "output_type": "stream",
     "text": [
      "719631 DTXSID-CASRN mappings added to database\n"
     ]
    }
   ],
   "source": [
    "nrows = con.execute(text('select count(*) from dtx_casrn;')).scalar()\n",
    "print(nrows, 'DTXSID-CASRN mappings added to database')"
   ]
  },
  {
   "cell_type": "markdown",
   "metadata": {},
   "source": [
    "### Load DTXSID:CID mappings\n",
    "\n",
    "Each DTXSID is mapped onto one CID but non-uniquely (some share the same CID). Dropping SIDs entirely, to simplify the database."
   ]
  },
  {
   "cell_type": "code",
   "execution_count": 15,
   "metadata": {},
   "outputs": [],
   "source": [
    "dtx_cid_data = pd.read_table(DTX_CIDS, dtype=str)\n",
    "dtx_cid_data.drop('SID', axis=1, inplace=True)\n",
    "dtx_cid_data.drop_duplicates(inplace=True)  # Just to be safe"
   ]
  },
  {
   "cell_type": "code",
   "execution_count": 16,
   "metadata": {},
   "outputs": [
    {
     "name": "stdout",
     "output_type": "stream",
     "text": [
      "735563 DTXSID-CID mappings in data source\n"
     ]
    }
   ],
   "source": [
    "cid_cols = ['cid', 'dtxsid']\n",
    "dtx_cid_data.columns = cid_cols\n",
    "print(len(dtx_cid_data), 'DTXSID-CID mappings in data source')"
   ]
  },
  {
   "cell_type": "code",
   "execution_count": 17,
   "metadata": {},
   "outputs": [
    {
     "name": "stdout",
     "output_type": "stream",
     "text": [
      "717020 DTXSID-CID mappings available to add to database\n"
     ]
    }
   ],
   "source": [
    "# Filter mappings to include only DTXSIDs for which we already have a molecule.\n",
    "dtx_cid_data = dtx_cid_data.loc[dtx_cid_data['dtxsid'].isin(ids['dtxsid'])]\n",
    "print(len(dtx_cid_data), 'DTXSID-CID mappings available to add to database')"
   ]
  },
  {
   "cell_type": "code",
   "execution_count": 18,
   "metadata": {
    "scrolled": true
   },
   "outputs": [],
   "source": [
    "dtypes_cid = dict(zip(cid_cols, 2*[types.Text]))\n",
    "dtx_cid_data.to_sql('dtx_cid', con, if_exists='append', index=False, chunksize=65536, dtype=dtypes_cid)"
   ]
  },
  {
   "cell_type": "code",
   "execution_count": 19,
   "metadata": {
    "scrolled": false
   },
   "outputs": [
    {
     "data": {
      "text/plain": [
       "[('25234023', 'DTXSID80873077'),\n",
       " ('139784', 'DTXSID90873068'),\n",
       " ('53316381', 'DTXSID40873033'),\n",
       " ('60196405', 'DTXSID80873032'),\n",
       " ('5282796', 'DTXSID60873030')]"
      ]
     },
     "execution_count": 19,
     "metadata": {},
     "output_type": "execute_result"
    }
   ],
   "source": [
    "# Check that the table contains expected data... \n",
    "cmd = text('select * from dtx_cid limit 5;')\n",
    "con.execute(cmd).fetchall()"
   ]
  },
  {
   "cell_type": "code",
   "execution_count": 20,
   "metadata": {},
   "outputs": [
    {
     "name": "stdout",
     "output_type": "stream",
     "text": [
      "717020 DTXSID-CID mappings added to database\n"
     ]
    }
   ],
   "source": [
    "nrows = con.execute(text('select count(*) from dtx_cid;')).scalar()\n",
    "print(nrows, 'DTXSID-CID mappings added to database')"
   ]
  },
  {
   "cell_type": "markdown",
   "metadata": {},
   "source": [
    "## Create view of all molecules and IDs"
   ]
  },
  {
   "cell_type": "code",
   "execution_count": 21,
   "metadata": {},
   "outputs": [
    {
     "name": "stdout",
     "output_type": "stream",
     "text": [
      "719631\n"
     ]
    }
   ],
   "source": [
    "create_view = text(\n",
    "    \"\"\"\n",
    "    CREATE MATERIALIZED VIEW compounds\n",
    "    AS SELECT\n",
    "        dsstox.dtxsid,\n",
    "        dsstox.inchi,\n",
    "        dsstox.inchikey,\n",
    "        dsstox.molecule,\n",
    "        dtx_cid.cid,\n",
    "        dtx_casrn.casrn,\n",
    "        dtx_casrn.name\n",
    "    FROM dsstox\n",
    "    LEFT OUTER JOIN dtx_cid ON dtx_cid.dtxsid = dsstox.dtxsid\n",
    "    LEFT OUTER JOIN dtx_casrn ON dtx_casrn.dtxsid = dsstox.dtxsid;\n",
    "    \"\"\"\n",
    ")\n",
    "res = con.execute(create_view)\n",
    "print(res.rowcount)"
   ]
  },
  {
   "cell_type": "code",
   "execution_count": 22,
   "metadata": {},
   "outputs": [
    {
     "data": {
      "text/plain": [
       "2611"
      ]
     },
     "execution_count": 22,
     "metadata": {},
     "output_type": "execute_result"
    }
   ],
   "source": [
    "con.execute(text('SELECT COUNT(*) FROM compounds where cid is null;')).scalar()"
   ]
  },
  {
   "cell_type": "code",
   "execution_count": 23,
   "metadata": {},
   "outputs": [
    {
     "data": {
      "text/plain": [
       "0"
      ]
     },
     "execution_count": 23,
     "metadata": {},
     "output_type": "execute_result"
    }
   ],
   "source": [
    "con.execute(text('SELECT COUNT(*) FROM compounds where casrn is null;')).scalar()"
   ]
  },
  {
   "cell_type": "code",
   "execution_count": 24,
   "metadata": {
    "scrolled": false
   },
   "outputs": [
    {
     "data": {
      "text/plain": [
       "[('DTXSID90873068', 'InChI=1S/C14H22O/c1-5-10(3)12-7-13(11(4)6-2)9-14(15)8-12/h7-11,15H,5-6H2,1-4H3', 'PFBHMJJMZWUEAI-UHFFFAOYSA-N', 'CCC(C)c1cc(O)cc(C(C)CC)c1', '139784', '14556-13-9', '3,5-Bis(1-methylpropyl)phenol'),\n",
       " ('DTXSID80873032', 'InChI=1S/C22H21Cl2F3N2O.ClH/c23-17-7-6-16(22(25,26)27)19(24)18(17)21(30)28-20(14-4-2-1-3-5-14)15-12-29-10-8-13(15)9-11-29;/h1-7,13,15,20H,8-12H2,(H,28,30);1H/t15-,20-;/m1./s1', 'QVUNQDRANLXLAJ-FOWJKZASSA-N', 'Cl.OC(=N[C@H](c1ccccc1)[C@@H]1CN2CCC1CC2)c1c(Cl)ccc(C(F)(F)F)c1Cl', '60196405', '1508278-73-6', 'N-[(S)-[(3S)-1-Azabicyclo[2.2.2]octan-3-yl](phenyl)methyl]-2,6-dichloro-3-(trifluoromethyl)benzamide-hydrogen chloride (1:1)'),\n",
       " ('DTXSID10872997', 'InChI=1S/C8H16/c1-3-5-7-8-6-4-2/h7-8H,3-6H2,1-2H3/b8-7+', 'IRUCBBFNLDIMIK-BQYQJAHWSA-N', 'CCC/C=C/CCC', '5357253', '14850-23-8', '(4E)-4-Octene'),\n",
       " ('DTXSID30872994', 'InChI=1S/C8H16/c1-3-5-7-8-6-4-2/h3,5H,4,6-8H2,1-2H3/b5-3+', 'ILPBINAXDRFYPL-HWKANZROSA-N', 'C/C=C/CCCCC', '5364448', '13389-42-9', '(2E)-2-Octene'),\n",
       " ('DTXSID30872979', 'InChI=1S/C8H12N2O3/c1-3-4(2)5-6(11)9-8(13)10-7(5)12/h4-5H,3H2,1-2H3,(H2,9,10,11,12,13)', 'JIHUPMYFIGUZLS-UHFFFAOYSA-N', 'CCC(C)C1C(O)=NC(=O)N=C1O', '228281', '73256-34-5', '5-(Butan-2-yl)pyrimidine-2,4,6(1H,3H,5H)-trione')]"
      ]
     },
     "execution_count": 24,
     "metadata": {},
     "output_type": "execute_result"
    }
   ],
   "source": [
    "# Check that the table contains expected data... \n",
    "cmd = text('select * from compounds limit 5;')\n",
    "con.execute(cmd).fetchall()"
   ]
  },
  {
   "cell_type": "markdown",
   "metadata": {},
   "source": [
    "## Create the index\n",
    "\n",
    "Create an index on molecular structures using the GiST-powered RDKit extension. This is what enables substructure searching in SQL.\n",
    "\n",
    "It takes a while..."
   ]
  },
  {
   "cell_type": "code",
   "execution_count": 25,
   "metadata": {},
   "outputs": [],
   "source": [
    "cmd = text('CREATE INDEX molidx ON compounds USING gist(molecule);')\n",
    "res = con.execute(cmd)"
   ]
  }
 ],
 "metadata": {
  "anaconda-cloud": {},
  "kernelspec": {
   "display_name": "Python 3",
   "language": "python",
   "name": "python3"
  },
  "language_info": {
   "codemirror_mode": {
    "name": "ipython",
    "version": 3
   },
   "file_extension": ".py",
   "mimetype": "text/x-python",
   "name": "python",
   "nbconvert_exporter": "python",
   "pygments_lexer": "ipython3",
   "version": "3.5.3"
  }
 },
 "nbformat": 4,
 "nbformat_minor": 1
}
