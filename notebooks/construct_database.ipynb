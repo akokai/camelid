{
 "cells": [
  {
   "cell_type": "markdown",
   "metadata": {},
   "source": [
    "# Chemical database initialization\n",
    "\n",
    "### Goal\n",
    "\n",
    "Bootstrap a chemical database with ~700,000 structures from the US EPA CompTox Dashboard's public dataset.\n",
    "\n",
    "Set up the database so that it can be used for substructure searching via the [RDKit PostgreSQL database cartridge](http://www.rdkit.org/docs/Cartridge.html). Also include CASRNs and PubChem CIDs as much as possible.\n",
    "\n",
    "\n",
    "### Data sources\n",
    "\n",
    "`dsstox_20160701.tsv`\n",
    "  - Downloaded from: https://comptox.epa.gov/dashboard/downloads (zip filename: DSSTox_Mapping_20160701.zip)\n",
    "  - Date: 2016-07-01 (file generated); 2016-12-14 (posted on EPA website)\n",
    "  - Accessed: 2017-01-05\n",
    "  - \"The DSSTOX mapping file contains mappings between the DSSTox substance identifier (DTXSID) and the associated InChI String and InChI Key.\"\n",
    "\n",
    "`Dsstox_CAS_number_name.xlsx`\n",
    "  - Downloaded from: https://comptox.epa.gov/dashboard/downloads\n",
    "  - Date: 2016-11-14\n",
    "  - Accessed: 2017-01-05\n",
    "  - \"The DSSTox Identifiers file is in Excel format and includes the CAS Number, DSSTox substance identifier (DTXSID) and the Preferred Name.\"\n",
    "\n",
    "`PubChem_DTXSID_mapping_file.txt`\n",
    "  - Downloaded from: https://comptox.epa.gov/dashboard/downloads\n",
    "  - Date: 2016-11-14\n",
    "  - Accessed: 2017-01-05\n",
    "  - \"The DSSTox to PubChem Identifiers mapping file is in TXT format and includes the PubChem SID, PubChem CID and DSSTox substance identifier (DTXSID).\"\n",
    "\n",
    "\n",
    "### Notes on software dependencies\n",
    "\n",
    "Requires:\n",
    "- a running instance of PostgreSQL with the RDKit cartridge installed ([instructions](https://github.com/rdkit/rdkit/blob/master/Docs/Book/Install.md));\n",
    "- Python packages and dependencies: rdkit, sqlalchemy, psycopg2, pandas.\n",
    "\n",
    "## Imports, database connection, and file locations"
   ]
  },
  {
   "cell_type": "code",
   "execution_count": 1,
   "metadata": {
    "collapsed": false
   },
   "outputs": [],
   "source": [
    "from os.path import join as pjoin\n",
    "import pandas as pd\n",
    "from pandas import DataFrame, Series\n",
    "from rdkit import Chem\n",
    "from rdkit.Chem import AllChem\n",
    "from sqlalchemy import create_engine, types\n",
    "from sqlalchemy.sql import text"
   ]
  },
  {
   "cell_type": "markdown",
   "metadata": {},
   "source": [
    "**Change any of the following lines as appropriate for your system.**"
   ]
  },
  {
   "cell_type": "code",
   "execution_count": 2,
   "metadata": {
    "collapsed": false
   },
   "outputs": [],
   "source": [
    "conn = create_engine('postgresql://akokai@localhost/chmdata')\n",
    "\n",
    "EPA_DATA_PATH = '/opt/akokai/data/EPA/'\n",
    "\n",
    "DTX_STRUCT = pjoin(EPA_DATA_PATH, 'dsstox_20160701.tsv')\n",
    "DTX_CASRNS = pjoin(EPA_DATA_PATH, 'Dsstox_CAS_number_name.xlsx')\n",
    "DTX_CIDS = pjoin(EPA_DATA_PATH, 'PubChem_DTXSID_mapping_file.txt')"
   ]
  },
  {
   "cell_type": "markdown",
   "metadata": {},
   "source": [
    "## Generate database table of structural representations\n",
    "\n",
    "- Taking the list of EPA InChI(Key)s and DSSTox substance IDs, convert each InChI into a RDKit `Mol` object. Then convert each `Mol` into its binary representation.\n",
    "- Create a big table in PostgreSQL that adds a binary molecule-object column to the original EPA dataset. In other words, a table with columns `(dtxsid, inchi, inchikey, bin)`.\n",
    "  - This is a necessary intermediate step because there is no `mol_from_inchi` method in the PGSQL RDKit extension, but there is a `mol_from_pkl` that builds molecules out of binary representations. Otherwise we could go straight from InChI to molecules in the SQL table.\n",
    "  - The 720K rows seems to be too much to process in memory all at once, so I am going through the file lazily in chunks.\n",
    "\n",
    "### Notes\n",
    "- Use all-lowercase column names to avoid SQL mix-ups.\n",
    "- RDKit will fail to create many of the molecules from InChI because of very specific errors. The number of molecules we have in the end will probably be less than 700K."
   ]
  },
  {
   "cell_type": "code",
   "execution_count": 3,
   "metadata": {
    "collapsed": false
   },
   "outputs": [],
   "source": [
    "# To be able to re-run this code from scratch, first drop the table if it already exists:\n",
    "# !psql chmdata -c 'drop table dtx;'"
   ]
  },
  {
   "cell_type": "markdown",
   "metadata": {},
   "source": [
    "This will take a while and use lots of CPU and memory..."
   ]
  },
  {
   "cell_type": "code",
   "execution_count": 6,
   "metadata": {
    "collapsed": false
   },
   "outputs": [
    {
     "name": "stdout",
     "output_type": "stream",
     "text": [
      "9996 molecules created, 4 errors\n",
      "9985 molecules created, 15 errors\n",
      "9994 molecules created, 6 errors\n",
      "9995 molecules created, 5 errors\n",
      "9995 molecules created, 5 errors\n",
      "9993 molecules created, 7 errors\n",
      "9997 molecules created, 3 errors\n",
      "9989 molecules created, 11 errors\n",
      "9996 molecules created, 4 errors\n",
      "9993 molecules created, 7 errors\n",
      "9989 molecules created, 11 errors\n",
      "9993 molecules created, 7 errors\n",
      "9992 molecules created, 8 errors\n",
      "9988 molecules created, 12 errors\n",
      "10000 molecules created, 0 errors\n",
      "10000 molecules created, 0 errors\n",
      "9998 molecules created, 2 errors\n",
      "9996 molecules created, 4 errors\n",
      "9994 molecules created, 6 errors\n",
      "9993 molecules created, 7 errors\n",
      "9998 molecules created, 2 errors\n",
      "10000 molecules created, 0 errors\n",
      "10000 molecules created, 0 errors\n",
      "10000 molecules created, 0 errors\n",
      "10000 molecules created, 0 errors\n",
      "9999 molecules created, 1 errors\n",
      "9998 molecules created, 2 errors\n",
      "9996 molecules created, 4 errors\n",
      "9990 molecules created, 10 errors\n",
      "9998 molecules created, 2 errors\n",
      "9998 molecules created, 2 errors\n",
      "9992 molecules created, 8 errors\n",
      "9996 molecules created, 4 errors\n",
      "9995 molecules created, 5 errors\n",
      "9992 molecules created, 8 errors\n",
      "9998 molecules created, 2 errors\n",
      "9998 molecules created, 2 errors\n",
      "9997 molecules created, 3 errors\n",
      "9994 molecules created, 6 errors\n",
      "10000 molecules created, 0 errors\n",
      "9995 molecules created, 5 errors\n",
      "9996 molecules created, 4 errors\n",
      "10000 molecules created, 0 errors\n",
      "9993 molecules created, 7 errors\n",
      "9995 molecules created, 5 errors\n",
      "9998 molecules created, 2 errors\n",
      "9999 molecules created, 1 errors\n",
      "9997 molecules created, 3 errors\n",
      "9998 molecules created, 2 errors\n",
      "9986 molecules created, 14 errors\n",
      "9999 molecules created, 1 errors\n",
      "9999 molecules created, 1 errors\n",
      "9996 molecules created, 4 errors\n",
      "10000 molecules created, 0 errors\n",
      "10000 molecules created, 0 errors\n",
      "9995 molecules created, 5 errors\n",
      "9993 molecules created, 7 errors\n",
      "9998 molecules created, 2 errors\n",
      "9991 molecules created, 9 errors\n",
      "10000 molecules created, 0 errors\n",
      "9991 molecules created, 9 errors\n",
      "9994 molecules created, 6 errors\n",
      "9989 molecules created, 11 errors\n",
      "9987 molecules created, 13 errors\n",
      "9987 molecules created, 13 errors\n",
      "9995 molecules created, 5 errors\n",
      "9992 molecules created, 8 errors\n",
      "9990 molecules created, 10 errors\n",
      "9991 molecules created, 9 errors\n",
      "9992 molecules created, 8 errors\n",
      "9991 molecules created, 9 errors\n",
      "9989 molecules created, 11 errors\n",
      "Total: 719631 molecules created, 365 errors\n"
     ]
    }
   ],
   "source": [
    "dtypes = {'dtxsid': types.String,\n",
    "          'inchi': types.String,\n",
    "          'inchikey': types.String,\n",
    "          'bin': types.Binary}\n",
    "\n",
    "ninput = 719996\n",
    "ncreated = 0\n",
    "chunk = 10000\n",
    "\n",
    "dtx = pd.read_table(DTX_STRUCT, names=['dtxsid', 'inchi', 'inchikey'],\n",
    "                    chunksize=chunk, low_memory=True)\n",
    "\n",
    "for df in dtx:\n",
    "    df['mol'] = df.inchi.apply(Chem.MolFromInchi)\n",
    "    df.dropna(inplace=True)\n",
    "    n = len(df)\n",
    "    ncreated += n\n",
    "    print('{0} molecules created, {1} errors'.format(n, chunk - n))\n",
    "    df['bin'] = df.mol.apply(lambda m: m.ToBinary())\n",
    "    df.drop('mol', axis=1, inplace=True)\n",
    "    df.to_sql('dtx', conn, if_exists='append', index=False, chunksize=65536, dtype=dtypes)\n",
    "\n",
    "print('Total: {0} molecules created, {1} errors'.format(ncreated, ninput - ncreated))"
   ]
  },
  {
   "cell_type": "markdown",
   "metadata": {},
   "source": [
    "### Generate `mol`-type column\n",
    "\n",
    "Create a new table with columns `(dtxsid, inchi, inchikey, molecule)` where the last column contains RDKit `mol`-type structures."
   ]
  },
  {
   "cell_type": "code",
   "execution_count": 3,
   "metadata": {
    "collapsed": false
   },
   "outputs": [
    {
     "name": "stdout",
     "output_type": "stream",
     "text": [
      "DROP TABLE\r\n"
     ]
    }
   ],
   "source": [
    "# To be able to re-run the code below, first drop the table:\n",
    "# !psql chmdata1 -c 'drop table chem;'"
   ]
  },
  {
   "cell_type": "code",
   "execution_count": 4,
   "metadata": {
    "collapsed": false
   },
   "outputs": [
    {
     "name": "stdout",
     "output_type": "stream",
     "text": [
      "719631 rows created\n"
     ]
    }
   ],
   "source": [
    "cmd = text(\n",
    "    '''create table chem\n",
    "       as select dtxsid, inchi, inchikey, mol_from_pkl(bin) molecule from dtx;''')\n",
    "res = conn.execute(cmd)\n",
    "print(res.rowcount, 'rows created')"
   ]
  },
  {
   "cell_type": "markdown",
   "metadata": {},
   "source": [
    "### Check results"
   ]
  },
  {
   "cell_type": "code",
   "execution_count": 10,
   "metadata": {
    "collapsed": false
   },
   "outputs": [],
   "source": [
    "assert res.rowcount == ncreated"
   ]
  },
  {
   "cell_type": "code",
   "execution_count": 5,
   "metadata": {
    "collapsed": false,
    "scrolled": true
   },
   "outputs": [
    {
     "data": {
      "text/plain": [
       "[('DTXSID7020001', 'InChI=1S/C11H9N3/c12-10-6-5-8-7-3-1-2-4-9(7)13-11(8)14-10/h1-6H,(H3,12,13,14)', 'FJTNLJLPLJDTRM-UHFFFAOYSA-N', 'N=c1ccc2c([nH]1)[nH]c1ccccc12'),\n",
       " ('DTXSID5039224', 'InChI=1S/C2H4O/c1-2-3/h2H,1H3', 'IKHGUXGNUITLKF-UHFFFAOYSA-N', 'CC=O'),\n",
       " ('DTXSID50872971', 'InChI=1S/C4H8N2O/c1-3-5-6(2)4-7/h3-4H,1-2H3/b5-3+', 'IMAGWKUTFZRWSB-HWKANZROSA-N', 'C/C=N/N(C)C=O'),\n",
       " ('DTXSID2020004', 'InChI=1S/C2H5NO/c1-2-3-4/h2,4H,1H3/b3-2+', 'FZENGILVLUJGJX-NSCUHMNNSA-N', 'C/C=N/O'),\n",
       " ('DTXSID7020005', 'InChI=1S/C2H5NO/c1-2(3)4/h1H3,(H2,3,4)', 'DLFVBJFMPXGRIB-UHFFFAOYSA-N', 'CC(=N)O')]"
      ]
     },
     "execution_count": 5,
     "metadata": {},
     "output_type": "execute_result"
    }
   ],
   "source": [
    "# Check that the table contains expected data... \n",
    "cmd = text('select * from chem limit 5;')\n",
    "conn.execute(cmd).fetchall()"
   ]
  },
  {
   "cell_type": "markdown",
   "metadata": {},
   "source": [
    "## Import external ID mappings: DTXSID to CASRN, CID\n",
    "\n",
    "### Load DTXSID:CASRN mappings\n",
    "\n",
    "Note that these are all 1:1 mappings. Using pandas here as an easy way to read in the Excel file."
   ]
  },
  {
   "cell_type": "code",
   "execution_count": 12,
   "metadata": {
    "collapsed": false,
    "scrolled": true
   },
   "outputs": [
    {
     "name": "stdout",
     "output_type": "stream",
     "text": [
      "753398 DTXSID:CASRN mappings\n"
     ]
    }
   ],
   "source": [
    "dtx_cas = pd.read_excel(DTX_CASRNS)\n",
    "cas_cols = ['casrn', 'dtxsid', 'name']\n",
    "dtx_cas.columns = cas_cols\n",
    "print(len(dtx_cas), 'DTXSID:CASRN mappings')"
   ]
  },
  {
   "cell_type": "code",
   "execution_count": 13,
   "metadata": {
    "collapsed": true
   },
   "outputs": [],
   "source": [
    "dtypes_cas = dict(zip(cas_cols, 3*[types.String]))\n",
    "dtx_cas.to_sql('dtx_cas', conn, if_exists='replace', index=False, chunksize=65536, dtype=dtypes_cas)"
   ]
  },
  {
   "cell_type": "code",
   "execution_count": 14,
   "metadata": {
    "collapsed": false
   },
   "outputs": [
    {
     "data": {
      "text/plain": [
       "[('26148-68-5', 'DTXSID7020001', 'A-alpha-C'),\n",
       " ('107-29-9', 'DTXSID2020004', 'Acetaldehyde oxime'),\n",
       " ('60-35-5', 'DTXSID7020005', 'Acetamide'),\n",
       " ('103-90-2', 'DTXSID2020006', 'Acetaminophen'),\n",
       " ('968-81-0', 'DTXSID7020007', 'Acetohexamide')]"
      ]
     },
     "execution_count": 14,
     "metadata": {},
     "output_type": "execute_result"
    }
   ],
   "source": [
    "# Check that the table contains expected data... \n",
    "cmd = text('select * from dtx_cas limit 5;')\n",
    "conn.execute(cmd).fetchall()"
   ]
  },
  {
   "cell_type": "markdown",
   "metadata": {},
   "source": [
    "### Load DTXSID:CID mappings\n",
    "\n",
    "Each DTXSID is mapped onto one CID but non-uniquely (some share the same CID). Joining tables by DTXSID should ensure that the proper mapping is maintained (see: `ID mapping inspection.ipynb`).\n",
    "\n",
    "**Change the file path in the SQL `copy...` statement below to the appropriate path for your system.**"
   ]
  },
  {
   "cell_type": "code",
   "execution_count": null,
   "metadata": {
    "collapsed": false
   },
   "outputs": [],
   "source": [
    "# To be able to re-run the code below, first drop the table:\n",
    "# !psql chmdata1 -c 'drop table dtx_pubchem;'"
   ]
  },
  {
   "cell_type": "code",
   "execution_count": 13,
   "metadata": {
    "collapsed": false,
    "scrolled": true
   },
   "outputs": [
    {
     "name": "stdout",
     "output_type": "stream",
     "text": [
      "735563\n"
     ]
    }
   ],
   "source": [
    "cmd = text('''\n",
    "    create table dtx_pubchem (sid text, cid text, dtxsid text);\n",
    "    copy dtx_pubchem from '/opt/akokai/data/EPA/PubChem_DTXSID_mapping_file.txt'\n",
    "    with (format csv, delimiter '\\t', header);''')\n",
    "res = conn.execute(cmd)\n",
    "print(res.rowcount)"
   ]
  },
  {
   "cell_type": "code",
   "execution_count": 14,
   "metadata": {
    "collapsed": false,
    "scrolled": false
   },
   "outputs": [
    {
     "data": {
      "text/plain": [
       "[('316388891', '20404', 'DTXSID30873143'),\n",
       " ('316388890', '10142816', 'DTXSID70873142'),\n",
       " ('316388889', '50742127', 'DTXSID40873139'),\n",
       " ('316388888', '19073841', 'DTXSID20873137'),\n",
       " ('316388887', '11505215', 'DTXSID00873135')]"
      ]
     },
     "execution_count": 14,
     "metadata": {},
     "output_type": "execute_result"
    }
   ],
   "source": [
    "# Check that the table contains expected data... \n",
    "cmd = text('select * from dtx_pubchem limit 5;')\n",
    "conn.execute(cmd).fetchall()"
   ]
  },
  {
   "cell_type": "markdown",
   "metadata": {},
   "source": [
    "### Merge external IDs with table of molecular structures (join by DTXSID)"
   ]
  },
  {
   "cell_type": "code",
   "execution_count": 9,
   "metadata": {
    "collapsed": false
   },
   "outputs": [
    {
     "name": "stdout",
     "output_type": "stream",
     "text": [
      "719631\n"
     ]
    }
   ],
   "source": [
    "cmd = text('''\n",
    "    create table cpds\n",
    "    as select chem.dtxsid, dtx_pubchem.cid, dtx_cas.casrn, dtx_cas.name,\n",
    "           chem.inchikey, chem.inchi, chem.molecule\n",
    "    from chem\n",
    "    left outer join dtx_pubchem on dtx_pubchem.dtxsid = chem.dtxsid\n",
    "    left outer join dtx_cas on dtx_cas.dtxsid = chem.dtxsid;''')\n",
    "res = conn.execute(cmd)\n",
    "print(res.rowcount)"
   ]
  },
  {
   "cell_type": "code",
   "execution_count": 10,
   "metadata": {
    "collapsed": false,
    "scrolled": false
   },
   "outputs": [
    {
     "data": {
      "text/plain": [
       "[('DTXSID7020001', '62805', '26148-68-5', 'A-alpha-C', 'FJTNLJLPLJDTRM-UHFFFAOYSA-N', 'InChI=1S/C11H9N3/c12-10-6-5-8-7-3-1-2-4-9(7)13-11(8)14-10/h1-6H,(H3,12,13,14)', 'N=c1ccc2c([nH]1)[nH]c1ccccc12'),\n",
       " ('DTXSID5039224', '177', '75-07-0', 'Acetaldehyde', 'IKHGUXGNUITLKF-UHFFFAOYSA-N', 'InChI=1S/C2H4O/c1-2-3/h2H,1H3', 'CC=O'),\n",
       " ('DTXSID50872971', '9548611', '61748-21-8', \"N'-[(1E)-Ethylidene]-N-methylformohydrazide\", 'IMAGWKUTFZRWSB-HWKANZROSA-N', 'InChI=1S/C4H8N2O/c1-3-5-6(2)4-7/h3-4H,1-2H3/b5-3+', 'C/C=N/N(C)C=O'),\n",
       " ('DTXSID2020004', '5324279', '107-29-9', 'Acetaldehyde oxime', 'FZENGILVLUJGJX-NSCUHMNNSA-N', 'InChI=1S/C2H5NO/c1-2-3-4/h2,4H,1H3/b3-2+', 'C/C=N/O'),\n",
       " ('DTXSID7020005', '178', '60-35-5', 'Acetamide', 'DLFVBJFMPXGRIB-UHFFFAOYSA-N', 'InChI=1S/C2H5NO/c1-2(3)4/h1H3,(H2,3,4)', 'CC(=N)O')]"
      ]
     },
     "execution_count": 10,
     "metadata": {},
     "output_type": "execute_result"
    }
   ],
   "source": [
    "# Check that the table contains expected data... \n",
    "cmd = text('select * from cpds limit 5;')\n",
    "conn.execute(cmd).fetchall()"
   ]
  },
  {
   "cell_type": "markdown",
   "metadata": {},
   "source": [
    "## Create the index\n",
    "\n",
    "Index the table on the structures using the GiST-powered RDKit extension. (This is what enables substructure searching in SQL.)\n",
    "\n",
    "**Make sure you are creating the index on the right table.**\n",
    "\n",
    "It takes a while..."
   ]
  },
  {
   "cell_type": "code",
   "execution_count": 11,
   "metadata": {
    "collapsed": false
   },
   "outputs": [],
   "source": [
    "cmd = text('create index molidx on cpds using gist(molecule);')\n",
    "res = conn.execute(cmd)"
   ]
  }
 ],
 "metadata": {
  "anaconda-cloud": {},
  "kernelspec": {
   "display_name": "Python 3",
   "language": "python",
   "name": "python3"
  },
  "language_info": {
   "codemirror_mode": {
    "name": "ipython",
    "version": 3
   },
   "file_extension": ".py",
   "mimetype": "text/x-python",
   "name": "python",
   "nbconvert_exporter": "python",
   "pygments_lexer": "ipython3",
   "version": "3.5.2"
  }
 },
 "nbformat": 4,
 "nbformat_minor": 1
}
