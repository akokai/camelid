{
 "cells": [
  {
   "cell_type": "markdown",
   "metadata": {},
   "source": [
    "# Chemical database initialization\n",
    "\n",
    "## Goal\n",
    "\n",
    "Bootstrap a chemical database with ~700,000 structures from the US EPA CompTox Dashboard's public dataset.\n",
    "\n",
    "Set up the database so that it can be used for substructure searching via the [RDKit PostgreSQL database cartridge](http://www.rdkit.org/docs/Cartridge.html).\n",
    "\n",
    "\n",
    "## Data source\n",
    "\n",
    "`dsstox_20160701.tsv` - *Mapping file of InChIStrings, InChIKeys and DTXSIDs for the EPA CompTox Dashboard,* [available on Figshare](https://figshare.com/articles/Mapping_file_of_InChIStrings_InChIKeys_and_DTXSIDs_for_the_EPA_CompTox_Dashboard/3578313), published 12.08.2016 by Antony Williams. \n",
    "- Date: 2016-07-01\n",
    "- License: CC0\n",
    "- Columns: DTXSID (US EPA internal ID), InChI, InChIKey\n",
    "\n",
    "\n",
    "## Notes on software dependencies\n",
    "\n",
    "Requires:\n",
    "- a running instance of PostgreSQL with the RDKit cartridge installed;\n",
    "- Python packages and dependencies: rdkit, sqlalchemy, psycopg2, pandas."
   ]
  },
  {
   "cell_type": "code",
   "execution_count": null,
   "metadata": {
    "collapsed": false
   },
   "outputs": [],
   "source": [
    "import pandas as pd\n",
    "import csv\n",
    "from pandas import DataFrame, Series\n",
    "from rdkit import Chem\n",
    "from rdkit.Chem import AllChem  #, Draw\n",
    "# Needs psycopg2 installed\n",
    "from sqlalchemy import create_engine, types, Table, Column, MetaData\n",
    "from sqlalchemy.sql import select, text"
   ]
  },
  {
   "cell_type": "markdown",
   "metadata": {},
   "source": [
    "# Generate database table of structural representations\n",
    "\n",
    "- Taking the list of EPA InChI(Key)s and DSSTox substance IDs, convert each InChI into a RDKit `Mol` object. Then convert each `Mol` into its binary representation (for reading into PostgreSQL).\n",
    "- Create a big file that adds a binary molecule-object column to the original EPA dataset. Read that file into PostgreSQL as a table.\n",
    "    - There is no `mol_from_inchi` method in the PGSQL RDKit extension, otherwise we could do this all in one SQL command.\n",
    "    - The 720K rows seems to be too much to process in memory all at once, so I am going through the file lazily in chunks.\n",
    "\n",
    "### Gotchas\n",
    "- Use all-lowercase column names to avoid SQL mix-ups.\n",
    "- RDKit will fail to create many of the molecules from InChI because of very specific errors. The number of molecules we have in the end will probably be less than 700K."
   ]
  },
  {
   "cell_type": "code",
   "execution_count": null,
   "metadata": {
    "collapsed": true
   },
   "outputs": [],
   "source": [
    "DTX_DATA = '/opt/akokai/data/EPA/dsstox-20160701.tsv'"
   ]
  },
  {
   "cell_type": "code",
   "execution_count": null,
   "metadata": {
    "collapsed": false
   },
   "outputs": [],
   "source": [
    "!echo \"DSSTOX dataset length: $(wc -l /opt/akokai/data/EPA/dsstox-20160701.tsv)\""
   ]
  },
  {
   "cell_type": "code",
   "execution_count": null,
   "metadata": {
    "collapsed": false
   },
   "outputs": [],
   "source": [
    "# To be able to re-run this code from scratch, first drop the table if it already exists:\n",
    "!psql chmdata -c 'drop table dtx;'"
   ]
  },
  {
   "cell_type": "code",
   "execution_count": null,
   "metadata": {
    "collapsed": false
   },
   "outputs": [],
   "source": [
    "conn = create_engine('postgresql://akokai@localhost/chmdata')"
   ]
  },
  {
   "cell_type": "code",
   "execution_count": null,
   "metadata": {
    "collapsed": false
   },
   "outputs": [],
   "source": [
    "dtypes = {'dtxsid': types.String,\n",
    "          'inchi': types.String,\n",
    "          'inchikey': types.String,\n",
    "          'bin': types.Binary}\n",
    "\n",
    "dtx = pd.read_table(DTX_DATA, names=['dtxsid', 'inchi', 'inchikey'],\n",
    "                    chunksize=7200, low_memory=True)\n",
    "\n",
    "for chunk in dtx:\n",
    "    chunk['mol'] = chunk.inchi.apply(Chem.MolFromInchi)\n",
    "    chunk.dropna(inplace=True)\n",
    "    print(len(chunk), 'molecules created,' 7200 - len(chunk), 'errors')\n",
    "    chunk['bin'] = chunk.mol.apply(lambda m: m.ToBinary())\n",
    "    chunk.drop('mol', axis=1, inplace=True)\n",
    "    chunk.to_sql('dtx', conn, if_exists='append', index=False, chunksize=65536, dtype=dtypes)\n"
   ]
  },
  {
   "cell_type": "code",
   "execution_count": null,
   "metadata": {
    "collapsed": false
   },
   "outputs": [],
   "source": [
    "\n",
    "with open(DTX_DATA, 'r', newline='') as epa:\n",
    "    \n",
    "    while True:\n",
    "        lines = [epa.readline() for x in range(7200)]\n",
    "        if not lines:\n",
    "            break\n",
    "        \n",
    "        reader = csv.reader(lines, delimiter='\\t')\n",
    "        rows = [row for row in reader]\n",
    "        df = DataFrame(rows, columns=['dtxsid', 'inchi', 'inchikey'])\n",
    "        df['mols'] = dtx.inchi.apply(Chem.MolFromInchi)\n",
    "        df.dropna(inplace=True)\n",
    "        print(len(df), 'molecules created')\n",
    "        df['bin'] = df.mols.apply(lambda m: m.ToBinary())\n",
    "        df.drop('mols', axis=1, inplace=True)\n",
    "        # dtx.to_sql('epa', conn, if_exists='append', index=False, chunksize=65536, dtype=dtypes)\n",
    "\n",
    "        # Because testing:\n",
    "        break\n",
    "\n",
    "df.head()"
   ]
  },
  {
   "cell_type": "markdown",
   "metadata": {},
   "source": [
    "### Just make sure it's there...\n",
    "Can delete these cells after table creation & reflection are known to work."
   ]
  },
  {
   "cell_type": "code",
   "execution_count": null,
   "metadata": {
    "collapsed": false
   },
   "outputs": [],
   "source": [
    "# Reflect this table in an SQLAlchemy object.\n",
    "meta_dtx = MetaData()\n",
    "dtx = Table('dtx', meta_epa, autoload=True, autoload_with=conn)"
   ]
  },
  {
   "cell_type": "code",
   "execution_count": null,
   "metadata": {
    "collapsed": false
   },
   "outputs": [],
   "source": [
    "[c.name for c in epa.columns]"
   ]
  },
  {
   "cell_type": "markdown",
   "metadata": {},
   "source": [
    "# Generate `mol`-type column and index structures\n",
    "\n",
    "Create a new table with `(dtxsid, inchi, ..., molecule)` and index the molecules using the GiST-powered RDKit extension. This is what enables substructure searching in SQL."
   ]
  },
  {
   "cell_type": "code",
   "execution_count": null,
   "metadata": {
    "collapsed": false
   },
   "outputs": [],
   "source": [
    "# To be able to re-run the code below, first drop the table:\n",
    "!psql chmdata -c 'drop table chem;'"
   ]
  },
  {
   "cell_type": "code",
   "execution_count": null,
   "metadata": {
    "collapsed": false
   },
   "outputs": [],
   "source": [
    "cmd = text(\n",
    "    '''create table chem\n",
    "       as select dtxsid, inchi, inchikey, mol_from_pkl(bin) molecule from epa;''')\n",
    "res = conn.execute(cmd)"
   ]
  },
  {
   "cell_type": "code",
   "execution_count": null,
   "metadata": {
    "collapsed": false,
    "scrolled": true
   },
   "outputs": [],
   "source": [
    "# Test to see if that worked... YES!\n",
    "cmd = text('select * from chem limit 5;')\n",
    "conn.execute(cmd).fetchall()"
   ]
  },
  {
   "cell_type": "code",
   "execution_count": null,
   "metadata": {
    "collapsed": false
   },
   "outputs": [],
   "source": [
    "# Check to see column names.\n",
    "meta_chem = MetaData()\n",
    "chem = Table('chem', meta_chem, autoload=True, autoload_with=conn)\n",
    "[c.name for c in chem.columns]"
   ]
  },
  {
   "cell_type": "code",
   "execution_count": null,
   "metadata": {
    "collapsed": true
   },
   "outputs": [],
   "source": [
    "# Hopefully this works if it produces no errors...\n",
    "cmd = text('create index molidx on chem using gist(molecule);')\n",
    "res = conn.execute(cmd)"
   ]
  },
  {
   "cell_type": "markdown",
   "metadata": {},
   "source": [
    "# Generate PubChem CIDs for the set of compounds\n",
    "\n",
    "It will help to have some 'known' ID to integrate results into the CML. This dataset has no CASRN column. Let's try to find CIDs for each InChIKey using the [PubChem ID exchange](https://pubchem.ncbi.nlm.nih.gov/idexchange/idexchange.cgi).\n",
    "- Note: Could try matching by full InChI string, but it is way slower."
   ]
  },
  {
   "cell_type": "code",
   "execution_count": null,
   "metadata": {
    "collapsed": false
   },
   "outputs": [],
   "source": [
    "!echo \"EPA dataset length: $(wc -l /opt/akokai/data/EPA/dsstox-20160701.tsv)\""
   ]
  },
  {
   "cell_type": "markdown",
   "metadata": {},
   "source": [
    "Extract the **InChIKeys**, and split the resulting file into two files with less than 500K lines each (required for ID exchange service)."
   ]
  },
  {
   "cell_type": "code",
   "execution_count": null,
   "metadata": {
    "collapsed": true
   },
   "outputs": [],
   "source": [
    "!cat /opt/akokai/data/EPA/dsstox-20160701.tsv | awk -F '\\t' '{print $3}' > /opt/akokai/data/EPA/dsstox-inchikey.txt\n",
    "!split -l 360000 /opt/akokai/data/EPA/dsstox-inchikey.txt /opt/akokai/data/EPA/dsstox-inchikey- --additional-suffix .txt"
   ]
  },
  {
   "cell_type": "code",
   "execution_count": null,
   "metadata": {
    "collapsed": false,
    "scrolled": true
   },
   "outputs": [],
   "source": [
    "CIDS_FILES = ['/opt/akokai/data/EPA/dsstox-cid-inchikey-1.txt',\n",
    "              '/opt/akokai/data/EPA/dsstox-cid-inchikey-2.txt']\n",
    "\n",
    "cids = pd.concat([pd.read_table(f, names=['inchikey', 'cid'], dtype=str)\n",
    "                  for f in CIDS_FILES])\n",
    "cids.dropna(inplace=True)\n",
    "print('InChIKey-CID mappings:', len(cids))\n",
    "cids.head()"
   ]
  },
  {
   "cell_type": "code",
   "execution_count": null,
   "metadata": {
    "collapsed": false
   },
   "outputs": [],
   "source": [
    "import matplotlib\n",
    "%matplotlib inline\n",
    "multi = cids.groupby('inchikey')['cid'].count()\n",
    "multi.hist()"
   ]
  },
  {
   "cell_type": "code",
   "execution_count": null,
   "metadata": {
    "collapsed": false
   },
   "outputs": [],
   "source": [
    "multi.head()"
   ]
  },
  {
   "cell_type": "code",
   "execution_count": null,
   "metadata": {
    "collapsed": true
   },
   "outputs": [],
   "source": [
    "cids['multi'] = cids['inchikey'].apply(lambda i: multi[i])"
   ]
  },
  {
   "cell_type": "code",
   "execution_count": null,
   "metadata": {
    "collapsed": false,
    "scrolled": true
   },
   "outputs": [],
   "source": [
    "len(cids[cids.multi == 1])"
   ]
  }
 ],
 "metadata": {
  "anaconda-cloud": {},
  "kernelspec": {
   "display_name": "Python [conda env:cmldev]",
   "language": "python",
   "name": "conda-env-cmldev-py"
  },
  "language_info": {
   "codemirror_mode": {
    "name": "ipython",
    "version": 3
   },
   "file_extension": ".py",
   "mimetype": "text/x-python",
   "name": "python",
   "nbconvert_exporter": "python",
   "pygments_lexer": "ipython3",
   "version": "3.5.2"
  }
 },
 "nbformat": 4,
 "nbformat_minor": 1
}
