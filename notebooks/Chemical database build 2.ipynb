{
 "cells": [
  {
   "cell_type": "markdown",
   "metadata": {},
   "source": [
    "# Chemical database initialization 2: CIDs\n",
    "\n",
    "## Goal\n",
    "\n",
    "Generate PubChem CIDs for the set of structures that were added to the database in the previous notebook. Create a table relating US EPA DTXSID, **CID**, InChIKey, InChI, and molecule objects.\n",
    "\n",
    "## Approach\n",
    "Try to find CIDs for each InChIKey using the [PubChem ID exchange](https://pubchem.ncbi.nlm.nih.gov/idexchange/idexchange.cgi). (Could also try matching by full InChI string, but it appears to be much slower.) Select the 1:1 correspondences, then use SQL to do an inner join of `(inchkey, cid)` and `(inchikey, ..., molecule)`.\n",
    "\n",
    "## Notes on software dependencies\n",
    "\n",
    "Requires:\n",
    "- a running instance of PostgreSQL with the RDKit cartridge installed;\n",
    "  - and the database generated in the previous notebook;\n",
    "- Python packages and dependencies: rdkit, sqlalchemy, psycopg2, pandas."
   ]
  },
  {
   "cell_type": "code",
   "execution_count": 1,
   "metadata": {
    "collapsed": false
   },
   "outputs": [],
   "source": [
    "import pandas as pd\n",
    "import csv\n",
    "from pandas import DataFrame, Series\n",
    "from rdkit import Chem\n",
    "from rdkit.Chem import AllChem\n",
    "from sqlalchemy import create_engine, types\n",
    "from sqlalchemy.sql import text"
   ]
  },
  {
   "cell_type": "markdown",
   "metadata": {},
   "source": [
    "## Find 1:1 mappings of InChIKeys to CIDs\n",
    "\n",
    "### Prepare files to upload to PubChem ID exchange\n",
    "\n",
    "Extract the **InChIKeys**, and split the resulting file into two files with less than 500K lines each (required for ID exchange service)."
   ]
  },
  {
   "cell_type": "code",
   "execution_count": 2,
   "metadata": {
    "collapsed": true
   },
   "outputs": [],
   "source": [
    "!cat /opt/akokai/data/EPA/dsstox-20160701.tsv | awk -F '\\t' '{print $3}' > /opt/akokai/data/EPA/dsstox-inchikey.txt\n",
    "!split -l 360000 /opt/akokai/data/EPA/dsstox-inchikey.txt /opt/akokai/data/EPA/dsstox-inchikey- --additional-suffix .txt"
   ]
  },
  {
   "cell_type": "markdown",
   "metadata": {},
   "source": [
    "After running ID conversion...\n",
    "\n",
    "### Create table of InChIKey:CID mappings"
   ]
  },
  {
   "cell_type": "code",
   "execution_count": 3,
   "metadata": {
    "collapsed": false,
    "scrolled": true
   },
   "outputs": [
    {
     "name": "stdout",
     "output_type": "stream",
     "text": [
      "InChIKey-CID mappings: 731405\n"
     ]
    },
    {
     "data": {
      "text/html": [
       "<div>\n",
       "<table border=\"1\" class=\"dataframe\">\n",
       "  <thead>\n",
       "    <tr style=\"text-align: right;\">\n",
       "      <th></th>\n",
       "      <th>inchikey</th>\n",
       "      <th>cid</th>\n",
       "    </tr>\n",
       "  </thead>\n",
       "  <tbody>\n",
       "    <tr>\n",
       "      <th>0</th>\n",
       "      <td>FJTNLJLPLJDTRM-UHFFFAOYSA-N</td>\n",
       "      <td>62805</td>\n",
       "    </tr>\n",
       "    <tr>\n",
       "      <th>1</th>\n",
       "      <td>IKHGUXGNUITLKF-UHFFFAOYSA-N</td>\n",
       "      <td>177</td>\n",
       "    </tr>\n",
       "    <tr>\n",
       "      <th>2</th>\n",
       "      <td>IMAGWKUTFZRWSB-HWKANZROSA-N</td>\n",
       "      <td>9548611</td>\n",
       "    </tr>\n",
       "    <tr>\n",
       "      <th>3</th>\n",
       "      <td>FZENGILVLUJGJX-NSCUHMNNSA-N</td>\n",
       "      <td>5324279</td>\n",
       "    </tr>\n",
       "    <tr>\n",
       "      <th>4</th>\n",
       "      <td>DLFVBJFMPXGRIB-UHFFFAOYSA-N</td>\n",
       "      <td>178</td>\n",
       "    </tr>\n",
       "  </tbody>\n",
       "</table>\n",
       "</div>"
      ],
      "text/plain": [
       "                      inchikey      cid\n",
       "0  FJTNLJLPLJDTRM-UHFFFAOYSA-N    62805\n",
       "1  IKHGUXGNUITLKF-UHFFFAOYSA-N      177\n",
       "2  IMAGWKUTFZRWSB-HWKANZROSA-N  9548611\n",
       "3  FZENGILVLUJGJX-NSCUHMNNSA-N  5324279\n",
       "4  DLFVBJFMPXGRIB-UHFFFAOYSA-N      178"
      ]
     },
     "execution_count": 3,
     "metadata": {},
     "output_type": "execute_result"
    }
   ],
   "source": [
    "CIDS_FILES = ['/opt/akokai/data/EPA/dsstox-cid-inchikey-1.txt',\n",
    "              '/opt/akokai/data/EPA/dsstox-cid-inchikey-2.txt']\n",
    "\n",
    "cids = pd.concat([pd.read_table(f, names=['inchikey', 'cid'], dtype=str)\n",
    "                  for f in CIDS_FILES])\n",
    "cids.dropna(inplace=True)\n",
    "print('InChIKey-CID mappings:', len(cids))\n",
    "cids.head()"
   ]
  },
  {
   "cell_type": "markdown",
   "metadata": {},
   "source": [
    "### Keep only 1:1 mappings\n",
    "\n",
    "Most of the results are 1:1 mappings... for now at least, it's easier to just work with those."
   ]
  },
  {
   "cell_type": "code",
   "execution_count": 4,
   "metadata": {
    "collapsed": false
   },
   "outputs": [],
   "source": [
    "# import matplotlib\n",
    "# %matplotlib inline\n",
    "multi = cids.groupby('inchikey')['cid'].count()\n",
    "# multi.hist()"
   ]
  },
  {
   "cell_type": "code",
   "execution_count": 5,
   "metadata": {
    "collapsed": false
   },
   "outputs": [
    {
     "name": "stdout",
     "output_type": "stream",
     "text": [
      "689963 1:1 InChIKey:CID mappings\n"
     ]
    },
    {
     "data": {
      "text/html": [
       "<div>\n",
       "<table border=\"1\" class=\"dataframe\">\n",
       "  <thead>\n",
       "    <tr style=\"text-align: right;\">\n",
       "      <th></th>\n",
       "      <th>inchikey</th>\n",
       "      <th>cid</th>\n",
       "    </tr>\n",
       "  </thead>\n",
       "  <tbody>\n",
       "    <tr>\n",
       "      <th>0</th>\n",
       "      <td>FJTNLJLPLJDTRM-UHFFFAOYSA-N</td>\n",
       "      <td>62805</td>\n",
       "    </tr>\n",
       "    <tr>\n",
       "      <th>1</th>\n",
       "      <td>IKHGUXGNUITLKF-UHFFFAOYSA-N</td>\n",
       "      <td>177</td>\n",
       "    </tr>\n",
       "    <tr>\n",
       "      <th>2</th>\n",
       "      <td>IMAGWKUTFZRWSB-HWKANZROSA-N</td>\n",
       "      <td>9548611</td>\n",
       "    </tr>\n",
       "    <tr>\n",
       "      <th>3</th>\n",
       "      <td>FZENGILVLUJGJX-NSCUHMNNSA-N</td>\n",
       "      <td>5324279</td>\n",
       "    </tr>\n",
       "    <tr>\n",
       "      <th>4</th>\n",
       "      <td>DLFVBJFMPXGRIB-UHFFFAOYSA-N</td>\n",
       "      <td>178</td>\n",
       "    </tr>\n",
       "  </tbody>\n",
       "</table>\n",
       "</div>"
      ],
      "text/plain": [
       "                      inchikey      cid\n",
       "0  FJTNLJLPLJDTRM-UHFFFAOYSA-N    62805\n",
       "1  IKHGUXGNUITLKF-UHFFFAOYSA-N      177\n",
       "2  IMAGWKUTFZRWSB-HWKANZROSA-N  9548611\n",
       "3  FZENGILVLUJGJX-NSCUHMNNSA-N  5324279\n",
       "4  DLFVBJFMPXGRIB-UHFFFAOYSA-N      178"
      ]
     },
     "execution_count": 5,
     "metadata": {},
     "output_type": "execute_result"
    }
   ],
   "source": [
    "cids['multi'] = cids['inchikey'].apply(lambda i: multi[i])\n",
    "cids = cids[cids['multi'] == 1].drop('multi', axis=1)\n",
    "print(len(cids), '1:1 InChIKey:CID mappings')\n",
    "cids.head()"
   ]
  },
  {
   "cell_type": "code",
   "execution_count": 6,
   "metadata": {
    "collapsed": true
   },
   "outputs": [],
   "source": [
    "conn = create_engine('postgresql://akokai@localhost/chmdata')"
   ]
  },
  {
   "cell_type": "code",
   "execution_count": 7,
   "metadata": {
    "collapsed": false
   },
   "outputs": [
    {
     "name": "stdout",
     "output_type": "stream",
     "text": [
      "DROP TABLE\r\n"
     ]
    }
   ],
   "source": [
    "# To be able to re-run this code from scratch, first drop the table if it already exists:\n",
    "!psql chmdata -c 'drop table cids;'"
   ]
  },
  {
   "cell_type": "code",
   "execution_count": 8,
   "metadata": {
    "collapsed": true
   },
   "outputs": [],
   "source": [
    "dtypes = {'inchikey': types.String, 'cid': types.Integer}\n",
    "cids.to_sql('cids', conn, if_exists='fail', index=False, chunksize=65536, dtype=dtypes)"
   ]
  },
  {
   "cell_type": "code",
   "execution_count": 9,
   "metadata": {
    "collapsed": false
   },
   "outputs": [
    {
     "data": {
      "text/plain": [
       "[('FJTNLJLPLJDTRM-UHFFFAOYSA-N', 62805),\n",
       " ('IKHGUXGNUITLKF-UHFFFAOYSA-N', 177),\n",
       " ('IMAGWKUTFZRWSB-HWKANZROSA-N', 9548611),\n",
       " ('FZENGILVLUJGJX-NSCUHMNNSA-N', 5324279),\n",
       " ('DLFVBJFMPXGRIB-UHFFFAOYSA-N', 178)]"
      ]
     },
     "execution_count": 9,
     "metadata": {},
     "output_type": "execute_result"
    }
   ],
   "source": [
    "# Check that the table contains expected data... \n",
    "cmd = text('select * from cids limit 5;')\n",
    "conn.execute(cmd).fetchall()"
   ]
  },
  {
   "cell_type": "markdown",
   "metadata": {},
   "source": [
    "## Join CIDs table into table of molecular structures\n",
    "\n",
    "Inner join on `inchikey` column of tables `chem` (previous notebook, contains molecular structures) and `cids`."
   ]
  },
  {
   "cell_type": "code",
   "execution_count": 10,
   "metadata": {
    "collapsed": false
   },
   "outputs": [
    {
     "name": "stdout",
     "output_type": "stream",
     "text": [
      "DROP TABLE\r\n"
     ]
    }
   ],
   "source": [
    "# To be able to re-run this code from scratch, first drop the table if it already exists:\n",
    "!psql chmdata -c 'drop table cpds;'"
   ]
  },
  {
   "cell_type": "code",
   "execution_count": 11,
   "metadata": {
    "collapsed": false
   },
   "outputs": [
    {
     "name": "stdout",
     "output_type": "stream",
     "text": [
      "689629\n"
     ]
    }
   ],
   "source": [
    "cmd = text(\n",
    "    '''create table cpds\n",
    "       as select chem.dtxsid, cids.cid, chem.inchikey, chem.inchi, chem.molecule\n",
    "       from chem, cids\n",
    "       where chem.inchikey = cids.inchikey;''')\n",
    "res = conn.execute(cmd)\n",
    "print(res.rowcount)"
   ]
  },
  {
   "cell_type": "markdown",
   "metadata": {},
   "source": [
    "## Recreate the molecular structure index on the new table\n",
    "\n",
    "This takes a while."
   ]
  },
  {
   "cell_type": "code",
   "execution_count": 12,
   "metadata": {
    "collapsed": true
   },
   "outputs": [],
   "source": [
    "cmd = text('create index cpdidx on cpds using gist(molecule);')\n",
    "res = conn.execute(cmd)"
   ]
  }
 ],
 "metadata": {
  "anaconda-cloud": {},
  "kernelspec": {
   "display_name": "Python [conda env:cmldev]",
   "language": "python",
   "name": "conda-env-cmldev-py"
  },
  "language_info": {
   "codemirror_mode": {
    "name": "ipython",
    "version": 3
   },
   "file_extension": ".py",
   "mimetype": "text/x-python",
   "name": "python",
   "nbconvert_exporter": "python",
   "pygments_lexer": "ipython3",
   "version": "3.5.2"
  }
 },
 "nbformat": 4,
 "nbformat_minor": 1
}
